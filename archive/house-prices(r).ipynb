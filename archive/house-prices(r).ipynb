{
 "cells": [
  {
   "cell_type": "markdown",
   "id": "e17ffdfb-33c7-4686-bc0a-e97679a90632",
   "metadata": {},
   "source": [
    "# House Prices - Advanced Regression Techniques\n",
    "Predict sales prices and practice feature engineering, RFs, and gradient boosting\n",
    "\n",
    "**Author:** Lingsong Zeng<br>\n",
    "**Date:** 12/31/2024"
   ]
  },
  {
   "cell_type": "markdown",
   "id": "d1510720-f784-4af2-8a6f-c17454232afd",
   "metadata": {},
   "source": [
    "## Table of Contents\n",
    "\n",
    "1. [Introduction](#Introduction)\n",
    "2. [EDA](#EDA)\n",
    "3. [Feature Engineering](#Feature-Engineering)\n",
    "4. [Preprocessing](#Preprocessing)\n",
    "5. [Modeling](#Modeling)   \n",
    "    - [kNN](#kNN)\n",
    "    - [SVM](#SVM)\n",
    "    - [Linear Regression](#Linear-Regression)\n",
    "    - [Lasso](#Lasso)\n",
    "    - [Ridge](#Ridge)\n",
    "    - [ElasticNet](#ElasticNet)\n",
    "    - [Decision Tree](#Decision-Tree)\n",
    "    - [Bagging](#Bagging)\n",
    "    - [Random Forest](#Random-Forest)\n",
    "    - [XGBoost](#XGBoost)\n",
    "    - [LightGBM](#LightGBM)\n",
    "    - [Stacking](#Stacking)\n",
    "6. [References](#References)"
   ]
  },
  {
   "cell_type": "markdown",
   "id": "2dab37bf-7d75-4765-b999-263d7bf55dc8",
   "metadata": {},
   "source": [
    "## Introduction\n",
    "\n",
    "### Overview\n",
    "\n",
    "> This competition runs indefinitely with a rolling leaderboard. [Learn more](https://www.kaggle.com/docs/competitions#getting-started)\n",
    "\n",
    "### Description\n",
    "\n",
    "![](https://storage.googleapis.com/kaggle-media/competitions/House%20Prices/kaggle_5407_media_housesbanner.png)\n",
    "\n",
    "Ask a home buyer to describe their dream house, and they probably won't begin with the height of the basement ceiling or the proximity to an east-west railroad. But this playground competition's dataset proves that much more influences price negotiations than the number of bedrooms or a white-picket fence.\n",
    "\n",
    "With 79 explanatory variables describing (almost) every aspect of residential homes in Ames, Iowa, this competition challenges you to predict the final price of each home.\n",
    "\n",
    "### Practice Skills\n",
    "\n",
    "- Creative feature engineering \n",
    "- Advanced regression techniques like random forest and gradient boosting\n",
    "\n",
    "### Acknowledgments\n",
    "\n",
    "The [Ames Housing dataset](https://www.amstat.org/publications/jse/v19n3/decock.pdf) was compiled by Dean De Cock for use in data science education. It's an incredible alternative for data scientists looking for a modernized and expanded version of the often cited Boston Housing dataset. \n",
    "\n",
    "Photo by [Tom Thain](https://unsplash.com/@tthfilms) on Unsplash.\n",
    "\n",
    "### Evaluation\n",
    "\n",
    "#### Goal\n",
    "\n",
    "It is my job to predict the sales price for each house. For each Id in the test set, predict the value of the `SalePrice` variable. \n",
    "\n",
    "#### Metric\n",
    "\n",
    "Submissions are evaluated on [Root-Mean-Squared-Error (RMSE)](https://en.wikipedia.org/wiki/Root_mean_square_deviation) between the logarithm of the predicted value and the logarithm of the observed sales price. (Taking logs means that errors in predicting expensive houses and cheap houses will affect the result equally.)"
   ]
  },
  {
   "cell_type": "code",
   "execution_count": 1,
   "id": "29ebcfa5-eaa9-480d-9906-3f698eb500f8",
   "metadata": {},
   "outputs": [
    {
     "name": "stderr",
     "output_type": "stream",
     "text": [
      "\n",
      "Attaching package: 'dplyr'\n",
      "\n",
      "\n",
      "The following objects are masked from 'package:stats':\n",
      "\n",
      "    filter, lag\n",
      "\n",
      "\n",
      "The following objects are masked from 'package:base':\n",
      "\n",
      "    intersect, setdiff, setequal, union\n",
      "\n",
      "\n"
     ]
    }
   ],
   "source": [
    "library(readr)\n",
    "library(dplyr)"
   ]
  },
  {
   "cell_type": "markdown",
   "id": "8ed02f06-7eb7-488e-a95f-78f5f41a420f",
   "metadata": {},
   "source": [
    "## Preprocessing"
   ]
  },
  {
   "cell_type": "code",
   "execution_count": 3,
   "id": "2fae5b77-c03f-49b5-9efe-9f76446edc7a",
   "metadata": {},
   "outputs": [
    {
     "name": "stderr",
     "output_type": "stream",
     "text": [
      "\u001b[1mRows: \u001b[22m\u001b[34m1460\u001b[39m \u001b[1mColumns: \u001b[22m\u001b[34m81\u001b[39m\n",
      "\u001b[36m──\u001b[39m \u001b[1mColumn specification\u001b[22m \u001b[36m────────────────────────────────────────────────────────────────────────────────────────────────\u001b[39m\n",
      "\u001b[1mDelimiter:\u001b[22m \",\"\n",
      "\u001b[31mchr\u001b[39m (43): MSZoning, Street, Alley, LotShape, LandContour, Utilities, LotConf...\n",
      "\u001b[32mdbl\u001b[39m (38): Id, MSSubClass, LotFrontage, LotArea, OverallQual, OverallCond, Ye...\n",
      "\n",
      "\u001b[36mℹ\u001b[39m Use `spec()` to retrieve the full column specification for this data.\n",
      "\u001b[36mℹ\u001b[39m Specify the column types or set `show_col_types = FALSE` to quiet this message.\n",
      "\u001b[1mRows: \u001b[22m\u001b[34m1459\u001b[39m \u001b[1mColumns: \u001b[22m\u001b[34m80\u001b[39m\n",
      "\u001b[36m──\u001b[39m \u001b[1mColumn specification\u001b[22m \u001b[36m────────────────────────────────────────────────────────────────────────────────────────────────\u001b[39m\n",
      "\u001b[1mDelimiter:\u001b[22m \",\"\n",
      "\u001b[31mchr\u001b[39m (43): MSZoning, Street, Alley, LotShape, LandContour, Utilities, LotConf...\n",
      "\u001b[32mdbl\u001b[39m (37): Id, MSSubClass, LotFrontage, LotArea, OverallQual, OverallCond, Ye...\n",
      "\n",
      "\u001b[36mℹ\u001b[39m Use `spec()` to retrieve the full column specification for this data.\n",
      "\u001b[36mℹ\u001b[39m Specify the column types or set `show_col_types = FALSE` to quiet this message.\n"
     ]
    }
   ],
   "source": [
    "# Construct file paths\n",
    "train_path <- file.path(\"data\", \"house-prices\", \"raw\", \"train.csv\")\n",
    "test_path <- file.path(\"data\", \"house-prices\", \"raw\", \"test.csv\")\n",
    "\n",
    "# Read data\n",
    "train <- read_csv(train_path)\n",
    "test <- read_csv(test_path)\n",
    "\n",
    "# Extract the Id column\n",
    "Id <- test$Id\n",
    "\n",
    "# Remove the Id column\n",
    "train <- train %>% select(-Id)\n",
    "test <- test %>% select(-Id)"
   ]
  }
 ],
 "metadata": {
  "kernelspec": {
   "display_name": "R",
   "language": "R",
   "name": "ir"
  },
  "language_info": {
   "codemirror_mode": "r",
   "file_extension": ".r",
   "mimetype": "text/x-r-source",
   "name": "R",
   "pygments_lexer": "r",
   "version": "4.4.1"
  }
 },
 "nbformat": 4,
 "nbformat_minor": 5
}
