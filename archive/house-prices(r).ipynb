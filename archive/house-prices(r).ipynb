{
 "cells": [
  {
   "cell_type": "markdown",
   "id": "e17ffdfb-33c7-4686-bc0a-e97679a90632",
   "metadata": {},
   "source": [
    "# House Prices (R)\n",
    "\n",
    "## Advanced Regression Techniques\n",
    "\n",
    "Predict sales prices and practice feature engineering, RFs, and gradient boosting\n",
    "\n",
    "**Author:** Lingsong Zeng<br>\n",
    "**Date:** 04/20/2020"
   ]
  },
  {
   "cell_type": "markdown",
   "id": "d1510720-f784-4af2-8a6f-c17454232afd",
   "metadata": {},
   "source": [
    "## Table of Contents\n",
    "\n",
    "1. [Introduction](#Introduction)\n",
    "2. [Data](#Data)\n",
    "3. [EDA](#EDA)\n",
    "4. [Feature Engineering](#Feature-Engineering)\n",
    "5. [Preprocessing](#Preprocessing)\n",
    "6. [Modeling](#Modeling)   \n",
    "    - [kNN](#kNN)\n",
    "    - [SVM](#SVM)\n",
    "    - [Linear Regression](#Linear-Regression)\n",
    "    - [Lasso](#Lasso)\n",
    "    - [Ridge](#Ridge)\n",
    "    - [ElasticNet](#ElasticNet)\n",
    "    - [Decision Tree](#Decision-Tree)\n",
    "    - [Bagging](#Bagging)\n",
    "    - [Random Forest](#Random-Forest)\n",
    "    - [XGBoost](#XGBoost)\n",
    "    - [LightGBM](#LightGBM)\n",
    "    - [Stacking](#Stacking)\n",
    "7. [References](#References)"
   ]
  },
  {
   "cell_type": "markdown",
   "id": "2dab37bf-7d75-4765-b999-263d7bf55dc8",
   "metadata": {},
   "source": [
    "## Introduction\n",
    "\n",
    "### Overview\n",
    "\n",
    "> This competition runs indefinitely with a rolling leaderboard. [Learn more](https://www.kaggle.com/docs/competitions#getting-started)\n",
    "\n",
    "### Description\n",
    "\n",
    "![](https://storage.googleapis.com/kaggle-media/competitions/House%20Prices/kaggle_5407_media_housesbanner.png)\n",
    "\n",
    "Ask a home buyer to describe their dream house, and they probably won't begin with the height of the basement ceiling or the proximity to an east-west railroad. But this playground competition's dataset proves that much more influences price negotiations than the number of bedrooms or a white-picket fence.\n",
    "\n",
    "With 79 explanatory variables describing (almost) every aspect of residential homes in Ames, Iowa, this competition challenges you to predict the final price of each home.\n",
    "\n",
    "### Practice Skills\n",
    "\n",
    "- Creative feature engineering \n",
    "- Advanced regression techniques like random forest and gradient boosting\n",
    "\n",
    "### Acknowledgments\n",
    "\n",
    "The [Ames Housing dataset](https://www.amstat.org/publications/jse/v19n3/decock.pdf) was compiled by Dean De Cock for use in data science education. It's an incredible alternative for data scientists looking for a modernized and expanded version of the often cited Boston Housing dataset. \n",
    "\n",
    "Photo by [Tom Thain](https://unsplash.com/@tthfilms) on Unsplash.\n",
    "\n",
    "### Evaluation\n",
    "\n",
    "#### Goal\n",
    "\n",
    "It is my job to predict the sales price for each house. For each Id in the test set, predict the value of the `SalePrice` variable. \n",
    "\n",
    "#### Metric\n",
    "\n",
    "Submissions are evaluated on [Root-Mean-Squared-Error (RMSE)](https://en.wikipedia.org/wiki/Root_mean_square_deviation) between the logarithm of the predicted value and the logarithm of the observed sales price. (Taking logs means that errors in predicting expensive houses and cheap houses will affect the result equally.)"
   ]
  },
  {
   "cell_type": "code",
   "execution_count": 1,
   "id": "29ebcfa5-eaa9-480d-9906-3f698eb500f8",
   "metadata": {
    "kernelspec": {
     "display_name": "R",
     "language": "R",
     "name": "ir"
    }
   },
   "outputs": [
    {
     "name": "stderr",
     "output_type": "stream",
     "text": [
      "\n",
      "Attaching package: 'dplyr'\n",
      "\n",
      "\n",
      "The following objects are masked from 'package:stats':\n",
      "\n",
      "    filter, lag\n",
      "\n",
      "\n",
      "The following objects are masked from 'package:base':\n",
      "\n",
      "    intersect, setdiff, setequal, union\n",
      "\n",
      "\n",
      "\n",
      "Attaching package: 'scales'\n",
      "\n",
      "\n",
      "The following object is masked from 'package:readr':\n",
      "\n",
      "    col_factor\n",
      "\n",
      "\n",
      "Warning message:\n",
      "\"package 'VIM' was built under R version 4.4.2\"\n",
      "Loading required package: colorspace\n",
      "\n",
      "Loading required package: grid\n",
      "\n",
      "VIM is ready to use.\n",
      "\n",
      "\n",
      "Suggestions and bug-reports can be submitted at: https://github.com/statistikat/VIM/issues\n",
      "\n",
      "\n",
      "Attaching package: 'VIM'\n",
      "\n",
      "\n",
      "The following object is masked from 'package:datasets':\n",
      "\n",
      "    sleep\n",
      "\n",
      "\n",
      "Loading required package: carData\n",
      "\n",
      "\n",
      "Attaching package: 'car'\n",
      "\n",
      "\n",
      "The following object is masked from 'package:dplyr':\n",
      "\n",
      "    recode\n",
      "\n",
      "\n",
      "Warning message:\n",
      "\"package 'caret' was built under R version 4.4.2\"\n",
      "Loading required package: lattice\n",
      "\n",
      "Warning message:\n",
      "\"package 'e1071' was built under R version 4.4.2\"\n",
      "\n",
      "Attaching package: 'e1071'\n",
      "\n",
      "\n",
      "The following objects are masked from 'package:moments':\n",
      "\n",
      "    kurtosis, moment, skewness\n",
      "\n",
      "\n",
      "\n",
      "Attaching package: 'kernlab'\n",
      "\n",
      "\n",
      "The following object is masked from 'package:scales':\n",
      "\n",
      "    alpha\n",
      "\n",
      "\n",
      "The following object is masked from 'package:ggplot2':\n",
      "\n",
      "    alpha\n",
      "\n",
      "\n",
      "Warning message:\n",
      "\"package 'glmnet' was built under R version 4.4.2\"\n",
      "Loading required package: Matrix\n",
      "\n",
      "\n",
      "Attaching package: 'Matrix'\n",
      "\n",
      "\n",
      "The following objects are masked from 'package:tidyr':\n",
      "\n",
      "    expand, pack, unpack\n",
      "\n",
      "\n",
      "Loaded glmnet 4.1-8\n",
      "\n",
      "Warning message:\n",
      "\"package 'rpart.plot' was built under R version 4.4.2\"\n",
      "Warning message:\n",
      "\"package 'randomForest' was built under R version 4.4.2\"\n",
      "randomForest 4.7-1.2\n",
      "\n",
      "Type rfNews() to see new features/changes/bug fixes.\n",
      "\n",
      "\n",
      "Attaching package: 'randomForest'\n",
      "\n",
      "\n",
      "The following object is masked from 'package:ggplot2':\n",
      "\n",
      "    margin\n",
      "\n",
      "\n",
      "The following object is masked from 'package:dplyr':\n",
      "\n",
      "    combine\n",
      "\n",
      "\n",
      "Warning message:\n",
      "\"package 'xgboost' was built under R version 4.4.2\"\n",
      "\n",
      "Attaching package: 'xgboost'\n",
      "\n",
      "\n",
      "The following object is masked from 'package:dplyr':\n",
      "\n",
      "    slice\n",
      "\n",
      "\n"
     ]
    }
   ],
   "source": [
    "library(readr)\n",
    "library(dplyr)\n",
    "library(tidyr)\n",
    "library(ggplot2)\n",
    "library(moments)\n",
    "library(scales)\n",
    "library(VIM)      # kNN imputation\n",
    "library(car)\n",
    "library(caret)\n",
    "library(e1071)    # SVM\n",
    "library(kernlab)  # SVM\n",
    "library(glmnet)\n",
    "library(rpart)       # Decision Tree package\n",
    "library(rpart.plot)  # For visualizing the tree\n",
    "library(randomForest)  # Random Forest for Bagging\n",
    "library(xgboost)  # Core XGBoost package"
   ]
  },
  {
   "cell_type": "code",
   "execution_count": 2,
   "id": "0b11bfdc-6e1f-4d61-bafd-a1de61f4c201",
   "metadata": {},
   "outputs": [],
   "source": [
    "options(repr.plot.width = 10, repr.plot.height = 8)"
   ]
  },
  {
   "cell_type": "markdown",
   "id": "8ed02f06-7eb7-488e-a95f-78f5f41a420f",
   "metadata": {},
   "source": [
    "## Data\n",
    "\n",
    "### File descriptions\n",
    "\n",
    "- `train.csv` - the training set\n",
    "- `test.csv` - the test set\n",
    "- `data_description.txt` - full description of each column, originally prepared by Dean De Cock but lightly edited to match the column names used here\n",
    "- `sample_submission.csv` - a benchmark submission from a linear regression on year and month of sale, lot square footage, and number of bedrooms"
   ]
  },
  {
   "cell_type": "code",
   "execution_count": 3,
   "id": "2fae5b77-c03f-49b5-9efe-9f76446edc7a",
   "metadata": {},
   "outputs": [
    {
     "name": "stderr",
     "output_type": "stream",
     "text": [
      "\u001b[1mRows: \u001b[22m\u001b[34m1460\u001b[39m \u001b[1mColumns: \u001b[22m\u001b[34m81\u001b[39m\n",
      "\u001b[36m──\u001b[39m \u001b[1mColumn specification\u001b[22m \u001b[36m────────────────────────────────────────────────────────────────────────────────────────────────\u001b[39m\n",
      "\u001b[1mDelimiter:\u001b[22m \",\"\n",
      "\u001b[31mchr\u001b[39m (43): MSZoning, Street, Alley, LotShape, LandContour, Utilities, LotConf...\n",
      "\u001b[32mdbl\u001b[39m (38): Id, MSSubClass, LotFrontage, LotArea, OverallQual, OverallCond, Ye...\n",
      "\n",
      "\u001b[36mℹ\u001b[39m Use `spec()` to retrieve the full column specification for this data.\n",
      "\u001b[36mℹ\u001b[39m Specify the column types or set `show_col_types = FALSE` to quiet this message.\n",
      "\u001b[1mRows: \u001b[22m\u001b[34m1459\u001b[39m \u001b[1mColumns: \u001b[22m\u001b[34m80\u001b[39m\n",
      "\u001b[36m──\u001b[39m \u001b[1mColumn specification\u001b[22m \u001b[36m────────────────────────────────────────────────────────────────────────────────────────────────\u001b[39m\n",
      "\u001b[1mDelimiter:\u001b[22m \",\"\n",
      "\u001b[31mchr\u001b[39m (43): MSZoning, Street, Alley, LotShape, LandContour, Utilities, LotConf...\n",
      "\u001b[32mdbl\u001b[39m (37): Id, MSSubClass, LotFrontage, LotArea, OverallQual, OverallCond, Ye...\n",
      "\n",
      "\u001b[36mℹ\u001b[39m Use `spec()` to retrieve the full column specification for this data.\n",
      "\u001b[36mℹ\u001b[39m Specify the column types or set `show_col_types = FALSE` to quiet this message.\n"
     ]
    }
   ],
   "source": [
    "# Construct file paths\n",
    "train_path <- file.path(\"data\", \"house-prices\", \"raw\", \"train.csv\")\n",
    "test_path <- file.path(\"data\", \"house-prices\", \"raw\", \"test.csv\")\n",
    "\n",
    "# Read data\n",
    "train <- read_csv(train_path)\n",
    "test <- read_csv(test_path)\n",
    "\n",
    "# Extract the Id column\n",
    "Id <- test$Id\n",
    "\n",
    "# Remove the Id column\n",
    "train <- train %>% select(-Id)\n",
    "test <- test %>% select(-Id)"
   ]
  },
  {
   "cell_type": "markdown",
   "id": "0cf926c8-e029-4c7e-a8d7-9a37d67a1789",
   "metadata": {},
   "source": [
    "Here we using `file.path` , the dynamic path generation, instead of using hard-coded paths is aiming to provide better compatibility across different platforms.\n",
    "\n",
    "Different operating systems use different path separators (e.g. Windows uses `\\`, while Linux and macOS use `/`). `file.path` automatically chooses the correct separator based on the operating system.\n",
    "\n",
    "The size of the training dataset and the test dataset are roughly the same. The test dataset has one less column than the training dataset, which is our target column `SalePrice`."
   ]
  },
  {
   "cell_type": "code",
   "execution_count": 4,
   "id": "9459ac91-8c77-4ad6-92ea-cf70ab590979",
   "metadata": {},
   "outputs": [
    {
     "name": "stdout",
     "output_type": "stream",
     "text": [
      "Rows: 1,460\n",
      "Columns: 80\n",
      "$ MSSubClass    \u001b[3m\u001b[90m<dbl>\u001b[39m\u001b[23m 60, 20, 60, 70, 60, 50, 20, 60, 50, 190, 20, 60, 20, 20,…\n",
      "$ MSZoning      \u001b[3m\u001b[90m<chr>\u001b[39m\u001b[23m \"RL\", \"RL\", \"RL\", \"RL\", \"RL\", \"RL\", \"RL\", \"RL\", \"RM\", \"R…\n",
      "$ LotFrontage   \u001b[3m\u001b[90m<dbl>\u001b[39m\u001b[23m 65, 80, 68, 60, 84, 85, 75, NA, 51, 50, 70, 85, NA, 91, …\n",
      "$ LotArea       \u001b[3m\u001b[90m<dbl>\u001b[39m\u001b[23m 8450, 9600, 11250, 9550, 14260, 14115, 10084, 10382, 612…\n",
      "$ Street        \u001b[3m\u001b[90m<chr>\u001b[39m\u001b[23m \"Pave\", \"Pave\", \"Pave\", \"Pave\", \"Pave\", \"Pave\", \"Pave\", …\n",
      "$ Alley         \u001b[3m\u001b[90m<chr>\u001b[39m\u001b[23m NA, NA, NA, NA, NA, NA, NA, NA, NA, NA, NA, NA, NA, NA, …\n",
      "$ LotShape      \u001b[3m\u001b[90m<chr>\u001b[39m\u001b[23m \"Reg\", \"Reg\", \"IR1\", \"IR1\", \"IR1\", \"IR1\", \"Reg\", \"IR1\", …\n",
      "$ LandContour   \u001b[3m\u001b[90m<chr>\u001b[39m\u001b[23m \"Lvl\", \"Lvl\", \"Lvl\", \"Lvl\", \"Lvl\", \"Lvl\", \"Lvl\", \"Lvl\", …\n",
      "$ Utilities     \u001b[3m\u001b[90m<chr>\u001b[39m\u001b[23m \"AllPub\", \"AllPub\", \"AllPub\", \"AllPub\", \"AllPub\", \"AllPu…\n",
      "$ LotConfig     \u001b[3m\u001b[90m<chr>\u001b[39m\u001b[23m \"Inside\", \"FR2\", \"Inside\", \"Corner\", \"FR2\", \"Inside\", \"I…\n",
      "$ LandSlope     \u001b[3m\u001b[90m<chr>\u001b[39m\u001b[23m \"Gtl\", \"Gtl\", \"Gtl\", \"Gtl\", \"Gtl\", \"Gtl\", \"Gtl\", \"Gtl\", …\n",
      "$ Neighborhood  \u001b[3m\u001b[90m<chr>\u001b[39m\u001b[23m \"CollgCr\", \"Veenker\", \"CollgCr\", \"Crawfor\", \"NoRidge\", \"…\n",
      "$ Condition1    \u001b[3m\u001b[90m<chr>\u001b[39m\u001b[23m \"Norm\", \"Feedr\", \"Norm\", \"Norm\", \"Norm\", \"Norm\", \"Norm\",…\n",
      "$ Condition2    \u001b[3m\u001b[90m<chr>\u001b[39m\u001b[23m \"Norm\", \"Norm\", \"Norm\", \"Norm\", \"Norm\", \"Norm\", \"Norm\", …\n",
      "$ BldgType      \u001b[3m\u001b[90m<chr>\u001b[39m\u001b[23m \"1Fam\", \"1Fam\", \"1Fam\", \"1Fam\", \"1Fam\", \"1Fam\", \"1Fam\", …\n",
      "$ HouseStyle    \u001b[3m\u001b[90m<chr>\u001b[39m\u001b[23m \"2Story\", \"1Story\", \"2Story\", \"2Story\", \"2Story\", \"1.5Fi…\n",
      "$ OverallQual   \u001b[3m\u001b[90m<dbl>\u001b[39m\u001b[23m 7, 6, 7, 7, 8, 5, 8, 7, 7, 5, 5, 9, 5, 7, 6, 7, 6, 4, 5,…\n",
      "$ OverallCond   \u001b[3m\u001b[90m<dbl>\u001b[39m\u001b[23m 5, 8, 5, 5, 5, 5, 5, 6, 5, 6, 5, 5, 6, 5, 5, 8, 7, 5, 5,…\n",
      "$ YearBuilt     \u001b[3m\u001b[90m<dbl>\u001b[39m\u001b[23m 2003, 1976, 2001, 1915, 2000, 1993, 2004, 1973, 1931, 19…\n",
      "$ YearRemodAdd  \u001b[3m\u001b[90m<dbl>\u001b[39m\u001b[23m 2003, 1976, 2002, 1970, 2000, 1995, 2005, 1973, 1950, 19…\n",
      "$ RoofStyle     \u001b[3m\u001b[90m<chr>\u001b[39m\u001b[23m \"Gable\", \"Gable\", \"Gable\", \"Gable\", \"Gable\", \"Gable\", \"G…\n",
      "$ RoofMatl      \u001b[3m\u001b[90m<chr>\u001b[39m\u001b[23m \"CompShg\", \"CompShg\", \"CompShg\", \"CompShg\", \"CompShg\", \"…\n",
      "$ Exterior1st   \u001b[3m\u001b[90m<chr>\u001b[39m\u001b[23m \"VinylSd\", \"MetalSd\", \"VinylSd\", \"Wd Sdng\", \"VinylSd\", \"…\n",
      "$ Exterior2nd   \u001b[3m\u001b[90m<chr>\u001b[39m\u001b[23m \"VinylSd\", \"MetalSd\", \"VinylSd\", \"Wd Shng\", \"VinylSd\", \"…\n",
      "$ MasVnrType    \u001b[3m\u001b[90m<chr>\u001b[39m\u001b[23m \"BrkFace\", \"None\", \"BrkFace\", \"None\", \"BrkFace\", \"None\",…\n",
      "$ MasVnrArea    \u001b[3m\u001b[90m<dbl>\u001b[39m\u001b[23m 196, 0, 162, 0, 350, 0, 186, 240, 0, 0, 0, 286, 0, 306, …\n",
      "$ ExterQual     \u001b[3m\u001b[90m<chr>\u001b[39m\u001b[23m \"Gd\", \"TA\", \"Gd\", \"TA\", \"Gd\", \"TA\", \"Gd\", \"TA\", \"TA\", \"T…\n",
      "$ ExterCond     \u001b[3m\u001b[90m<chr>\u001b[39m\u001b[23m \"TA\", \"TA\", \"TA\", \"TA\", \"TA\", \"TA\", \"TA\", \"TA\", \"TA\", \"T…\n",
      "$ Foundation    \u001b[3m\u001b[90m<chr>\u001b[39m\u001b[23m \"PConc\", \"CBlock\", \"PConc\", \"BrkTil\", \"PConc\", \"Wood\", \"…\n",
      "$ BsmtQual      \u001b[3m\u001b[90m<chr>\u001b[39m\u001b[23m \"Gd\", \"Gd\", \"Gd\", \"TA\", \"Gd\", \"Gd\", \"Ex\", \"Gd\", \"TA\", \"T…\n",
      "$ BsmtCond      \u001b[3m\u001b[90m<chr>\u001b[39m\u001b[23m \"TA\", \"TA\", \"TA\", \"Gd\", \"TA\", \"TA\", \"TA\", \"TA\", \"TA\", \"T…\n",
      "$ BsmtExposure  \u001b[3m\u001b[90m<chr>\u001b[39m\u001b[23m \"No\", \"Gd\", \"Mn\", \"No\", \"Av\", \"No\", \"Av\", \"Mn\", \"No\", \"N…\n",
      "$ BsmtFinType1  \u001b[3m\u001b[90m<chr>\u001b[39m\u001b[23m \"GLQ\", \"ALQ\", \"GLQ\", \"ALQ\", \"GLQ\", \"GLQ\", \"GLQ\", \"ALQ\", …\n",
      "$ BsmtFinSF1    \u001b[3m\u001b[90m<dbl>\u001b[39m\u001b[23m 706, 978, 486, 216, 655, 732, 1369, 859, 0, 851, 906, 99…\n",
      "$ BsmtFinType2  \u001b[3m\u001b[90m<chr>\u001b[39m\u001b[23m \"Unf\", \"Unf\", \"Unf\", \"Unf\", \"Unf\", \"Unf\", \"Unf\", \"BLQ\", …\n",
      "$ BsmtFinSF2    \u001b[3m\u001b[90m<dbl>\u001b[39m\u001b[23m 0, 0, 0, 0, 0, 0, 0, 32, 0, 0, 0, 0, 0, 0, 0, 0, 0, 0, 0…\n",
      "$ BsmtUnfSF     \u001b[3m\u001b[90m<dbl>\u001b[39m\u001b[23m 150, 284, 434, 540, 490, 64, 317, 216, 952, 140, 134, 17…\n",
      "$ TotalBsmtSF   \u001b[3m\u001b[90m<dbl>\u001b[39m\u001b[23m 856, 1262, 920, 756, 1145, 796, 1686, 1107, 952, 991, 10…\n",
      "$ Heating       \u001b[3m\u001b[90m<chr>\u001b[39m\u001b[23m \"GasA\", \"GasA\", \"GasA\", \"GasA\", \"GasA\", \"GasA\", \"GasA\", …\n",
      "$ HeatingQC     \u001b[3m\u001b[90m<chr>\u001b[39m\u001b[23m \"Ex\", \"Ex\", \"Ex\", \"Gd\", \"Ex\", \"Ex\", \"Ex\", \"Ex\", \"Gd\", \"E…\n",
      "$ CentralAir    \u001b[3m\u001b[90m<chr>\u001b[39m\u001b[23m \"Y\", \"Y\", \"Y\", \"Y\", \"Y\", \"Y\", \"Y\", \"Y\", \"Y\", \"Y\", \"Y\", \"…\n",
      "$ Electrical    \u001b[3m\u001b[90m<chr>\u001b[39m\u001b[23m \"SBrkr\", \"SBrkr\", \"SBrkr\", \"SBrkr\", \"SBrkr\", \"SBrkr\", \"S…\n",
      "$ `1stFlrSF`    \u001b[3m\u001b[90m<dbl>\u001b[39m\u001b[23m 856, 1262, 920, 961, 1145, 796, 1694, 1107, 1022, 1077, …\n",
      "$ `2ndFlrSF`    \u001b[3m\u001b[90m<dbl>\u001b[39m\u001b[23m 854, 0, 866, 756, 1053, 566, 0, 983, 752, 0, 0, 1142, 0,…\n",
      "$ LowQualFinSF  \u001b[3m\u001b[90m<dbl>\u001b[39m\u001b[23m 0, 0, 0, 0, 0, 0, 0, 0, 0, 0, 0, 0, 0, 0, 0, 0, 0, 0, 0,…\n",
      "$ GrLivArea     \u001b[3m\u001b[90m<dbl>\u001b[39m\u001b[23m 1710, 1262, 1786, 1717, 2198, 1362, 1694, 2090, 1774, 10…\n",
      "$ BsmtFullBath  \u001b[3m\u001b[90m<dbl>\u001b[39m\u001b[23m 1, 0, 1, 1, 1, 1, 1, 1, 0, 1, 1, 1, 1, 0, 1, 0, 1, 0, 1,…\n",
      "$ BsmtHalfBath  \u001b[3m\u001b[90m<dbl>\u001b[39m\u001b[23m 0, 1, 0, 0, 0, 0, 0, 0, 0, 0, 0, 0, 0, 0, 0, 0, 0, 0, 0,…\n",
      "$ FullBath      \u001b[3m\u001b[90m<dbl>\u001b[39m\u001b[23m 2, 2, 2, 1, 2, 1, 2, 2, 2, 1, 1, 3, 1, 2, 1, 1, 1, 2, 1,…\n",
      "$ HalfBath      \u001b[3m\u001b[90m<dbl>\u001b[39m\u001b[23m 1, 0, 1, 0, 1, 1, 0, 1, 0, 0, 0, 0, 0, 0, 1, 0, 0, 0, 1,…\n",
      "$ BedroomAbvGr  \u001b[3m\u001b[90m<dbl>\u001b[39m\u001b[23m 3, 3, 3, 3, 4, 1, 3, 3, 2, 2, 3, 4, 2, 3, 2, 2, 2, 2, 3,…\n",
      "$ KitchenAbvGr  \u001b[3m\u001b[90m<dbl>\u001b[39m\u001b[23m 1, 1, 1, 1, 1, 1, 1, 1, 2, 2, 1, 1, 1, 1, 1, 1, 1, 2, 1,…\n",
      "$ KitchenQual   \u001b[3m\u001b[90m<chr>\u001b[39m\u001b[23m \"Gd\", \"TA\", \"Gd\", \"Gd\", \"Gd\", \"TA\", \"Gd\", \"TA\", \"TA\", \"T…\n",
      "$ TotRmsAbvGrd  \u001b[3m\u001b[90m<dbl>\u001b[39m\u001b[23m 8, 6, 6, 7, 9, 5, 7, 7, 8, 5, 5, 11, 4, 7, 5, 5, 5, 6, 6…\n",
      "$ Functional    \u001b[3m\u001b[90m<chr>\u001b[39m\u001b[23m \"Typ\", \"Typ\", \"Typ\", \"Typ\", \"Typ\", \"Typ\", \"Typ\", \"Typ\", …\n",
      "$ Fireplaces    \u001b[3m\u001b[90m<dbl>\u001b[39m\u001b[23m 0, 1, 1, 1, 1, 0, 1, 2, 2, 2, 0, 2, 0, 1, 1, 0, 1, 0, 0,…\n",
      "$ FireplaceQu   \u001b[3m\u001b[90m<chr>\u001b[39m\u001b[23m NA, \"TA\", \"TA\", \"Gd\", \"TA\", NA, \"Gd\", \"TA\", \"TA\", \"TA\", …\n",
      "$ GarageType    \u001b[3m\u001b[90m<chr>\u001b[39m\u001b[23m \"Attchd\", \"Attchd\", \"Attchd\", \"Detchd\", \"Attchd\", \"Attch…\n",
      "$ GarageYrBlt   \u001b[3m\u001b[90m<dbl>\u001b[39m\u001b[23m 2003, 1976, 2001, 1998, 2000, 1993, 2004, 1973, 1931, 19…\n",
      "$ GarageFinish  \u001b[3m\u001b[90m<chr>\u001b[39m\u001b[23m \"RFn\", \"RFn\", \"RFn\", \"Unf\", \"RFn\", \"Unf\", \"RFn\", \"RFn\", …\n",
      "$ GarageCars    \u001b[3m\u001b[90m<dbl>\u001b[39m\u001b[23m 2, 2, 2, 3, 3, 2, 2, 2, 2, 1, 1, 3, 1, 3, 1, 2, 2, 2, 2,…\n",
      "$ GarageArea    \u001b[3m\u001b[90m<dbl>\u001b[39m\u001b[23m 548, 460, 608, 642, 836, 480, 636, 484, 468, 205, 384, 7…\n",
      "$ GarageQual    \u001b[3m\u001b[90m<chr>\u001b[39m\u001b[23m \"TA\", \"TA\", \"TA\", \"TA\", \"TA\", \"TA\", \"TA\", \"TA\", \"Fa\", \"G…\n",
      "$ GarageCond    \u001b[3m\u001b[90m<chr>\u001b[39m\u001b[23m \"TA\", \"TA\", \"TA\", \"TA\", \"TA\", \"TA\", \"TA\", \"TA\", \"TA\", \"T…\n",
      "$ PavedDrive    \u001b[3m\u001b[90m<chr>\u001b[39m\u001b[23m \"Y\", \"Y\", \"Y\", \"Y\", \"Y\", \"Y\", \"Y\", \"Y\", \"Y\", \"Y\", \"Y\", \"…\n",
      "$ WoodDeckSF    \u001b[3m\u001b[90m<dbl>\u001b[39m\u001b[23m 0, 298, 0, 0, 192, 40, 255, 235, 90, 0, 0, 147, 140, 160…\n",
      "$ OpenPorchSF   \u001b[3m\u001b[90m<dbl>\u001b[39m\u001b[23m 61, 0, 42, 35, 84, 30, 57, 204, 0, 4, 0, 21, 0, 33, 213,…\n",
      "$ EnclosedPorch \u001b[3m\u001b[90m<dbl>\u001b[39m\u001b[23m 0, 0, 0, 272, 0, 0, 0, 228, 205, 0, 0, 0, 0, 0, 176, 0, …\n",
      "$ `3SsnPorch`   \u001b[3m\u001b[90m<dbl>\u001b[39m\u001b[23m 0, 0, 0, 0, 0, 320, 0, 0, 0, 0, 0, 0, 0, 0, 0, 0, 0, 0, …\n",
      "$ ScreenPorch   \u001b[3m\u001b[90m<dbl>\u001b[39m\u001b[23m 0, 0, 0, 0, 0, 0, 0, 0, 0, 0, 0, 0, 176, 0, 0, 0, 0, 0, …\n",
      "$ PoolArea      \u001b[3m\u001b[90m<dbl>\u001b[39m\u001b[23m 0, 0, 0, 0, 0, 0, 0, 0, 0, 0, 0, 0, 0, 0, 0, 0, 0, 0, 0,…\n",
      "$ PoolQC        \u001b[3m\u001b[90m<chr>\u001b[39m\u001b[23m NA, NA, NA, NA, NA, NA, NA, NA, NA, NA, NA, NA, NA, NA, …\n",
      "$ Fence         \u001b[3m\u001b[90m<chr>\u001b[39m\u001b[23m NA, NA, NA, NA, NA, \"MnPrv\", NA, NA, NA, NA, NA, NA, NA,…\n",
      "$ MiscFeature   \u001b[3m\u001b[90m<chr>\u001b[39m\u001b[23m NA, NA, NA, NA, NA, \"Shed\", NA, \"Shed\", NA, NA, NA, NA, …\n",
      "$ MiscVal       \u001b[3m\u001b[90m<dbl>\u001b[39m\u001b[23m 0, 0, 0, 0, 0, 700, 0, 350, 0, 0, 0, 0, 0, 0, 0, 0, 700,…\n",
      "$ MoSold        \u001b[3m\u001b[90m<dbl>\u001b[39m\u001b[23m 2, 5, 9, 2, 12, 10, 8, 11, 4, 1, 2, 7, 9, 8, 5, 7, 3, 10…\n",
      "$ YrSold        \u001b[3m\u001b[90m<dbl>\u001b[39m\u001b[23m 2008, 2007, 2008, 2006, 2008, 2009, 2007, 2009, 2008, 20…\n",
      "$ SaleType      \u001b[3m\u001b[90m<chr>\u001b[39m\u001b[23m \"WD\", \"WD\", \"WD\", \"WD\", \"WD\", \"WD\", \"WD\", \"WD\", \"WD\", \"W…\n",
      "$ SaleCondition \u001b[3m\u001b[90m<chr>\u001b[39m\u001b[23m \"Normal\", \"Normal\", \"Normal\", \"Abnorml\", \"Normal\", \"Norm…\n",
      "$ SalePrice     \u001b[3m\u001b[90m<dbl>\u001b[39m\u001b[23m 208500, 181500, 223500, 140000, 250000, 143000, 307000, …\n"
     ]
    }
   ],
   "source": [
    "glimpse(train)"
   ]
  },
  {
   "cell_type": "markdown",
   "id": "d3495d31-f2fc-46bf-b98c-c09d625b9607",
   "metadata": {},
   "source": [
    "Because we will use all features for modeling later, we need to convert all features in chr format to factor format. Therefore, we now need to filter out categorical features and numerical features separately."
   ]
  },
  {
   "cell_type": "code",
   "execution_count": 5,
   "id": "d6e05412-e89b-4451-aa06-93cfdf1b5d7a",
   "metadata": {},
   "outputs": [],
   "source": [
    "categorical_features <- c(\n",
    "    'MSSubClass', 'MSZoning', 'Street', 'Alley', 'LotShape', 'LandContour',\n",
    "    'Utilities', 'LotConfig', 'LandSlope', 'Neighborhood', 'Condition1', \n",
    "    'Condition2', 'BldgType', 'HouseStyle', 'RoofStyle', 'RoofMatl', \n",
    "    'Exterior1st', 'Exterior2nd', 'MasVnrType', 'ExterQual', 'ExterCond', \n",
    "    'Foundation', 'BsmtQual', 'BsmtCond', 'BsmtExposure', 'BsmtFinType1', \n",
    "    'BsmtFinType2', 'Heating', 'HeatingQC', 'CentralAir', 'Electrical', \n",
    "    'KitchenQual', 'Functional', 'FireplaceQu', 'GarageType', 'GarageFinish', \n",
    "    'GarageQual', 'GarageCond', 'PavedDrive', 'PoolQC', 'Fence', 'MiscFeature', \n",
    "    'SaleType', 'SaleCondition', 'OverallQual', 'OverallCond'\n",
    ")\n",
    "\n",
    "numerical_features <- c(\n",
    "    'LotFrontage', 'LotArea', 'YearBuilt', 'YearRemodAdd', 'MasVnrArea',\n",
    "    'BsmtFinSF1', 'BsmtFinSF2', 'BsmtUnfSF', 'TotalBsmtSF', '1stFlrSF',\n",
    "    '2ndFlrSF', 'LowQualFinSF', 'GrLivArea', 'BsmtFullBath', 'BsmtHalfBath',\n",
    "    'FullBath', 'HalfBath', 'BedroomAbvGr', 'KitchenAbvGr', 'TotRmsAbvGrd',\n",
    "    'Fireplaces', 'GarageYrBlt', 'GarageCars', 'GarageArea', 'WoodDeckSF',\n",
    "    'OpenPorchSF', 'EnclosedPorch', '3SsnPorch', 'ScreenPorch', 'PoolArea',\n",
    "    'MiscVal', 'MoSold', 'YrSold'\n",
    ")"
   ]
  },
  {
   "cell_type": "markdown",
   "id": "4519b33b-e24c-4bd8-91d5-5191f00eb030",
   "metadata": {},
   "source": [
    "For `categorical_features` and `numerical_features`, the reason we cannot directly select features with values of `int64` or `float64`, because some features such as `MSSubClass`:\n",
    "\n",
    "```plaintext\n",
    "MSSubClass: Identifies the type of dwelling involved in the sale.\t\n",
    "\n",
    "        20\t1-STORY 1946 & NEWER ALL STYLES\n",
    "        30\t1-STORY 1945 & OLDER\n",
    "        40\t1-STORY W/FINISHED ATTIC ALL AGES\n",
    "        45\t1-1/2 STORY - UNFINISHED ALL AGES\n",
    "        50\t1-1/2 STORY FINISHED ALL AGES\n",
    "        60\t2-STORY 1946 & NEWER\n",
    "        70\t2-STORY 1945 & OLDER\n",
    "        75\t2-1/2 STORY ALL AGES\n",
    "        80\tSPLIT OR MULTI-LEVEL\n",
    "        85\tSPLIT FOYER\n",
    "        90\tDUPLEX - ALL STYLES AND AGES\n",
    "       120\t1-STORY PUD (Planned Unit Development) - 1946 & NEWER\n",
    "       150\t1-1/2 STORY PUD - ALL AGES\n",
    "       160\t2-STORY PUD - 1946 & NEWER\n",
    "       180\tPUD - MULTILEVEL - INCL SPLIT LEV/FOYER\n",
    "       190\t2 FAMILY CONVERSION - ALL STYLES AND AGES\n",
    "```\n",
    "\n",
    "Its value is `int64` format, but it is actually a categorical feature. Therefore, here I manually distinguish all `categorical_features` and `numerical_features` according to the description in `data_description.txt`."
   ]
  },
  {
   "cell_type": "code",
   "execution_count": 6,
   "id": "e5b78ca1-30bf-4e90-8032-b7bd410cb3f9",
   "metadata": {},
   "outputs": [
    {
     "name": "stdout",
     "output_type": "stream",
     "text": [
      "Rows: 1,460\n",
      "Columns: 80\n",
      "$ MSSubClass    \u001b[3m\u001b[90m<fct>\u001b[39m\u001b[23m 60, 20, 60, 70, 60, 50, 20, 60, 50, 190, 20, 60, 20, 20,…\n",
      "$ MSZoning      \u001b[3m\u001b[90m<fct>\u001b[39m\u001b[23m RL, RL, RL, RL, RL, RL, RL, RL, RM, RL, RL, RL, RL, RL, …\n",
      "$ LotFrontage   \u001b[3m\u001b[90m<dbl>\u001b[39m\u001b[23m 65, 80, 68, 60, 84, 85, 75, NA, 51, 50, 70, 85, NA, 91, …\n",
      "$ LotArea       \u001b[3m\u001b[90m<dbl>\u001b[39m\u001b[23m 8450, 9600, 11250, 9550, 14260, 14115, 10084, 10382, 612…\n",
      "$ Street        \u001b[3m\u001b[90m<fct>\u001b[39m\u001b[23m Pave, Pave, Pave, Pave, Pave, Pave, Pave, Pave, Pave, Pa…\n",
      "$ Alley         \u001b[3m\u001b[90m<fct>\u001b[39m\u001b[23m NA, NA, NA, NA, NA, NA, NA, NA, NA, NA, NA, NA, NA, NA, …\n",
      "$ LotShape      \u001b[3m\u001b[90m<fct>\u001b[39m\u001b[23m Reg, Reg, IR1, IR1, IR1, IR1, Reg, IR1, Reg, Reg, Reg, I…\n",
      "$ LandContour   \u001b[3m\u001b[90m<fct>\u001b[39m\u001b[23m Lvl, Lvl, Lvl, Lvl, Lvl, Lvl, Lvl, Lvl, Lvl, Lvl, Lvl, L…\n",
      "$ Utilities     \u001b[3m\u001b[90m<fct>\u001b[39m\u001b[23m AllPub, AllPub, AllPub, AllPub, AllPub, AllPub, AllPub, …\n",
      "$ LotConfig     \u001b[3m\u001b[90m<fct>\u001b[39m\u001b[23m Inside, FR2, Inside, Corner, FR2, Inside, Inside, Corner…\n",
      "$ LandSlope     \u001b[3m\u001b[90m<fct>\u001b[39m\u001b[23m Gtl, Gtl, Gtl, Gtl, Gtl, Gtl, Gtl, Gtl, Gtl, Gtl, Gtl, G…\n",
      "$ Neighborhood  \u001b[3m\u001b[90m<fct>\u001b[39m\u001b[23m CollgCr, Veenker, CollgCr, Crawfor, NoRidge, Mitchel, So…\n",
      "$ Condition1    \u001b[3m\u001b[90m<fct>\u001b[39m\u001b[23m Norm, Feedr, Norm, Norm, Norm, Norm, Norm, PosN, Artery,…\n",
      "$ Condition2    \u001b[3m\u001b[90m<fct>\u001b[39m\u001b[23m Norm, Norm, Norm, Norm, Norm, Norm, Norm, Norm, Norm, Ar…\n",
      "$ BldgType      \u001b[3m\u001b[90m<fct>\u001b[39m\u001b[23m 1Fam, 1Fam, 1Fam, 1Fam, 1Fam, 1Fam, 1Fam, 1Fam, 1Fam, 2f…\n",
      "$ HouseStyle    \u001b[3m\u001b[90m<fct>\u001b[39m\u001b[23m 2Story, 1Story, 2Story, 2Story, 2Story, 1.5Fin, 1Story, …\n",
      "$ OverallQual   \u001b[3m\u001b[90m<fct>\u001b[39m\u001b[23m 7, 6, 7, 7, 8, 5, 8, 7, 7, 5, 5, 9, 5, 7, 6, 7, 6, 4, 5,…\n",
      "$ OverallCond   \u001b[3m\u001b[90m<fct>\u001b[39m\u001b[23m 5, 8, 5, 5, 5, 5, 5, 6, 5, 6, 5, 5, 6, 5, 5, 8, 7, 5, 5,…\n",
      "$ YearBuilt     \u001b[3m\u001b[90m<dbl>\u001b[39m\u001b[23m 2003, 1976, 2001, 1915, 2000, 1993, 2004, 1973, 1931, 19…\n",
      "$ YearRemodAdd  \u001b[3m\u001b[90m<dbl>\u001b[39m\u001b[23m 2003, 1976, 2002, 1970, 2000, 1995, 2005, 1973, 1950, 19…\n",
      "$ RoofStyle     \u001b[3m\u001b[90m<fct>\u001b[39m\u001b[23m Gable, Gable, Gable, Gable, Gable, Gable, Gable, Gable, …\n",
      "$ RoofMatl      \u001b[3m\u001b[90m<fct>\u001b[39m\u001b[23m CompShg, CompShg, CompShg, CompShg, CompShg, CompShg, Co…\n",
      "$ Exterior1st   \u001b[3m\u001b[90m<fct>\u001b[39m\u001b[23m VinylSd, MetalSd, VinylSd, Wd Sdng, VinylSd, VinylSd, Vi…\n",
      "$ Exterior2nd   \u001b[3m\u001b[90m<fct>\u001b[39m\u001b[23m VinylSd, MetalSd, VinylSd, Wd Shng, VinylSd, VinylSd, Vi…\n",
      "$ MasVnrType    \u001b[3m\u001b[90m<fct>\u001b[39m\u001b[23m BrkFace, None, BrkFace, None, BrkFace, None, Stone, Ston…\n",
      "$ MasVnrArea    \u001b[3m\u001b[90m<dbl>\u001b[39m\u001b[23m 196, 0, 162, 0, 350, 0, 186, 240, 0, 0, 0, 286, 0, 306, …\n",
      "$ ExterQual     \u001b[3m\u001b[90m<fct>\u001b[39m\u001b[23m Gd, TA, Gd, TA, Gd, TA, Gd, TA, TA, TA, TA, Ex, TA, Gd, …\n",
      "$ ExterCond     \u001b[3m\u001b[90m<fct>\u001b[39m\u001b[23m TA, TA, TA, TA, TA, TA, TA, TA, TA, TA, TA, TA, TA, TA, …\n",
      "$ Foundation    \u001b[3m\u001b[90m<fct>\u001b[39m\u001b[23m PConc, CBlock, PConc, BrkTil, PConc, Wood, PConc, CBlock…\n",
      "$ BsmtQual      \u001b[3m\u001b[90m<fct>\u001b[39m\u001b[23m Gd, Gd, Gd, TA, Gd, Gd, Ex, Gd, TA, TA, TA, Ex, TA, Gd, …\n",
      "$ BsmtCond      \u001b[3m\u001b[90m<fct>\u001b[39m\u001b[23m TA, TA, TA, Gd, TA, TA, TA, TA, TA, TA, TA, TA, TA, TA, …\n",
      "$ BsmtExposure  \u001b[3m\u001b[90m<fct>\u001b[39m\u001b[23m No, Gd, Mn, No, Av, No, Av, Mn, No, No, No, No, No, Av, …\n",
      "$ BsmtFinType1  \u001b[3m\u001b[90m<fct>\u001b[39m\u001b[23m GLQ, ALQ, GLQ, ALQ, GLQ, GLQ, GLQ, ALQ, Unf, GLQ, Rec, G…\n",
      "$ BsmtFinSF1    \u001b[3m\u001b[90m<dbl>\u001b[39m\u001b[23m 706, 978, 486, 216, 655, 732, 1369, 859, 0, 851, 906, 99…\n",
      "$ BsmtFinType2  \u001b[3m\u001b[90m<fct>\u001b[39m\u001b[23m Unf, Unf, Unf, Unf, Unf, Unf, Unf, BLQ, Unf, Unf, Unf, U…\n",
      "$ BsmtFinSF2    \u001b[3m\u001b[90m<dbl>\u001b[39m\u001b[23m 0, 0, 0, 0, 0, 0, 0, 32, 0, 0, 0, 0, 0, 0, 0, 0, 0, 0, 0…\n",
      "$ BsmtUnfSF     \u001b[3m\u001b[90m<dbl>\u001b[39m\u001b[23m 150, 284, 434, 540, 490, 64, 317, 216, 952, 140, 134, 17…\n",
      "$ TotalBsmtSF   \u001b[3m\u001b[90m<dbl>\u001b[39m\u001b[23m 856, 1262, 920, 756, 1145, 796, 1686, 1107, 952, 991, 10…\n",
      "$ Heating       \u001b[3m\u001b[90m<fct>\u001b[39m\u001b[23m GasA, GasA, GasA, GasA, GasA, GasA, GasA, GasA, GasA, Ga…\n",
      "$ HeatingQC     \u001b[3m\u001b[90m<fct>\u001b[39m\u001b[23m Ex, Ex, Ex, Gd, Ex, Ex, Ex, Ex, Gd, Ex, Ex, Ex, TA, Ex, …\n",
      "$ CentralAir    \u001b[3m\u001b[90m<fct>\u001b[39m\u001b[23m Y, Y, Y, Y, Y, Y, Y, Y, Y, Y, Y, Y, Y, Y, Y, Y, Y, Y, Y,…\n",
      "$ Electrical    \u001b[3m\u001b[90m<fct>\u001b[39m\u001b[23m SBrkr, SBrkr, SBrkr, SBrkr, SBrkr, SBrkr, SBrkr, SBrkr, …\n",
      "$ `1stFlrSF`    \u001b[3m\u001b[90m<dbl>\u001b[39m\u001b[23m 856, 1262, 920, 961, 1145, 796, 1694, 1107, 1022, 1077, …\n",
      "$ `2ndFlrSF`    \u001b[3m\u001b[90m<dbl>\u001b[39m\u001b[23m 854, 0, 866, 756, 1053, 566, 0, 983, 752, 0, 0, 1142, 0,…\n",
      "$ LowQualFinSF  \u001b[3m\u001b[90m<dbl>\u001b[39m\u001b[23m 0, 0, 0, 0, 0, 0, 0, 0, 0, 0, 0, 0, 0, 0, 0, 0, 0, 0, 0,…\n",
      "$ GrLivArea     \u001b[3m\u001b[90m<dbl>\u001b[39m\u001b[23m 1710, 1262, 1786, 1717, 2198, 1362, 1694, 2090, 1774, 10…\n",
      "$ BsmtFullBath  \u001b[3m\u001b[90m<dbl>\u001b[39m\u001b[23m 1, 0, 1, 1, 1, 1, 1, 1, 0, 1, 1, 1, 1, 0, 1, 0, 1, 0, 1,…\n",
      "$ BsmtHalfBath  \u001b[3m\u001b[90m<dbl>\u001b[39m\u001b[23m 0, 1, 0, 0, 0, 0, 0, 0, 0, 0, 0, 0, 0, 0, 0, 0, 0, 0, 0,…\n",
      "$ FullBath      \u001b[3m\u001b[90m<dbl>\u001b[39m\u001b[23m 2, 2, 2, 1, 2, 1, 2, 2, 2, 1, 1, 3, 1, 2, 1, 1, 1, 2, 1,…\n",
      "$ HalfBath      \u001b[3m\u001b[90m<dbl>\u001b[39m\u001b[23m 1, 0, 1, 0, 1, 1, 0, 1, 0, 0, 0, 0, 0, 0, 1, 0, 0, 0, 1,…\n",
      "$ BedroomAbvGr  \u001b[3m\u001b[90m<dbl>\u001b[39m\u001b[23m 3, 3, 3, 3, 4, 1, 3, 3, 2, 2, 3, 4, 2, 3, 2, 2, 2, 2, 3,…\n",
      "$ KitchenAbvGr  \u001b[3m\u001b[90m<dbl>\u001b[39m\u001b[23m 1, 1, 1, 1, 1, 1, 1, 1, 2, 2, 1, 1, 1, 1, 1, 1, 1, 2, 1,…\n",
      "$ KitchenQual   \u001b[3m\u001b[90m<fct>\u001b[39m\u001b[23m Gd, TA, Gd, Gd, Gd, TA, Gd, TA, TA, TA, TA, Ex, TA, Gd, …\n",
      "$ TotRmsAbvGrd  \u001b[3m\u001b[90m<dbl>\u001b[39m\u001b[23m 8, 6, 6, 7, 9, 5, 7, 7, 8, 5, 5, 11, 4, 7, 5, 5, 5, 6, 6…\n",
      "$ Functional    \u001b[3m\u001b[90m<fct>\u001b[39m\u001b[23m Typ, Typ, Typ, Typ, Typ, Typ, Typ, Typ, Min1, Typ, Typ, …\n",
      "$ Fireplaces    \u001b[3m\u001b[90m<dbl>\u001b[39m\u001b[23m 0, 1, 1, 1, 1, 0, 1, 2, 2, 2, 0, 2, 0, 1, 1, 0, 1, 0, 0,…\n",
      "$ FireplaceQu   \u001b[3m\u001b[90m<fct>\u001b[39m\u001b[23m NA, TA, TA, Gd, TA, NA, Gd, TA, TA, TA, NA, Gd, NA, Gd, …\n",
      "$ GarageType    \u001b[3m\u001b[90m<fct>\u001b[39m\u001b[23m Attchd, Attchd, Attchd, Detchd, Attchd, Attchd, Attchd, …\n",
      "$ GarageYrBlt   \u001b[3m\u001b[90m<dbl>\u001b[39m\u001b[23m 2003, 1976, 2001, 1998, 2000, 1993, 2004, 1973, 1931, 19…\n",
      "$ GarageFinish  \u001b[3m\u001b[90m<fct>\u001b[39m\u001b[23m RFn, RFn, RFn, Unf, RFn, Unf, RFn, RFn, Unf, RFn, Unf, F…\n",
      "$ GarageCars    \u001b[3m\u001b[90m<dbl>\u001b[39m\u001b[23m 2, 2, 2, 3, 3, 2, 2, 2, 2, 1, 1, 3, 1, 3, 1, 2, 2, 2, 2,…\n",
      "$ GarageArea    \u001b[3m\u001b[90m<dbl>\u001b[39m\u001b[23m 548, 460, 608, 642, 836, 480, 636, 484, 468, 205, 384, 7…\n",
      "$ GarageQual    \u001b[3m\u001b[90m<fct>\u001b[39m\u001b[23m TA, TA, TA, TA, TA, TA, TA, TA, Fa, Gd, TA, TA, TA, TA, …\n",
      "$ GarageCond    \u001b[3m\u001b[90m<fct>\u001b[39m\u001b[23m TA, TA, TA, TA, TA, TA, TA, TA, TA, TA, TA, TA, TA, TA, …\n",
      "$ PavedDrive    \u001b[3m\u001b[90m<fct>\u001b[39m\u001b[23m Y, Y, Y, Y, Y, Y, Y, Y, Y, Y, Y, Y, Y, Y, Y, Y, Y, Y, Y,…\n",
      "$ WoodDeckSF    \u001b[3m\u001b[90m<dbl>\u001b[39m\u001b[23m 0, 298, 0, 0, 192, 40, 255, 235, 90, 0, 0, 147, 140, 160…\n",
      "$ OpenPorchSF   \u001b[3m\u001b[90m<dbl>\u001b[39m\u001b[23m 61, 0, 42, 35, 84, 30, 57, 204, 0, 4, 0, 21, 0, 33, 213,…\n",
      "$ EnclosedPorch \u001b[3m\u001b[90m<dbl>\u001b[39m\u001b[23m 0, 0, 0, 272, 0, 0, 0, 228, 205, 0, 0, 0, 0, 0, 176, 0, …\n",
      "$ `3SsnPorch`   \u001b[3m\u001b[90m<dbl>\u001b[39m\u001b[23m 0, 0, 0, 0, 0, 320, 0, 0, 0, 0, 0, 0, 0, 0, 0, 0, 0, 0, …\n",
      "$ ScreenPorch   \u001b[3m\u001b[90m<dbl>\u001b[39m\u001b[23m 0, 0, 0, 0, 0, 0, 0, 0, 0, 0, 0, 0, 176, 0, 0, 0, 0, 0, …\n",
      "$ PoolArea      \u001b[3m\u001b[90m<dbl>\u001b[39m\u001b[23m 0, 0, 0, 0, 0, 0, 0, 0, 0, 0, 0, 0, 0, 0, 0, 0, 0, 0, 0,…\n",
      "$ PoolQC        \u001b[3m\u001b[90m<fct>\u001b[39m\u001b[23m NA, NA, NA, NA, NA, NA, NA, NA, NA, NA, NA, NA, NA, NA, …\n",
      "$ Fence         \u001b[3m\u001b[90m<fct>\u001b[39m\u001b[23m NA, NA, NA, NA, NA, MnPrv, NA, NA, NA, NA, NA, NA, NA, N…\n",
      "$ MiscFeature   \u001b[3m\u001b[90m<fct>\u001b[39m\u001b[23m NA, NA, NA, NA, NA, Shed, NA, Shed, NA, NA, NA, NA, NA, …\n",
      "$ MiscVal       \u001b[3m\u001b[90m<dbl>\u001b[39m\u001b[23m 0, 0, 0, 0, 0, 700, 0, 350, 0, 0, 0, 0, 0, 0, 0, 0, 700,…\n",
      "$ MoSold        \u001b[3m\u001b[90m<dbl>\u001b[39m\u001b[23m 2, 5, 9, 2, 12, 10, 8, 11, 4, 1, 2, 7, 9, 8, 5, 7, 3, 10…\n",
      "$ YrSold        \u001b[3m\u001b[90m<dbl>\u001b[39m\u001b[23m 2008, 2007, 2008, 2006, 2008, 2009, 2007, 2009, 2008, 20…\n",
      "$ SaleType      \u001b[3m\u001b[90m<fct>\u001b[39m\u001b[23m WD, WD, WD, WD, WD, WD, WD, WD, WD, WD, WD, New, WD, New…\n",
      "$ SaleCondition \u001b[3m\u001b[90m<fct>\u001b[39m\u001b[23m Normal, Normal, Normal, Abnorml, Normal, Normal, Normal,…\n",
      "$ SalePrice     \u001b[3m\u001b[90m<dbl>\u001b[39m\u001b[23m 208500, 181500, 223500, 140000, 250000, 143000, 307000, …\n"
     ]
    }
   ],
   "source": [
    "# Convert all categorical features to factor\n",
    "train <- train %>%\n",
    "  mutate(across(all_of(categorical_features), as.factor))\n",
    "\n",
    "test <- test %>%\n",
    "  mutate(across(all_of(categorical_features), as.factor))\n",
    "\n",
    "glimpse(train)"
   ]
  },
  {
   "cell_type": "code",
   "execution_count": 7,
   "id": "25d9f6d2-f929-4996-9d11-02ba5a531ca0",
   "metadata": {},
   "outputs": [],
   "source": [
    "# Define the variables where NA means \"None\"\n",
    "none_features <- c(\n",
    "  \"Alley\", \"BsmtQual\", \"BsmtCond\", \"BsmtExposure\",\n",
    "  \"BsmtFinType1\", \"BsmtFinType2\", \"FireplaceQu\", \"GarageType\",\n",
    "  \"GarageFinish\", \"GarageQual\", \"GarageCond\", \"PoolQC\",\n",
    "  \"Fence\", \"MiscFeature\"\n",
    ")"
   ]
  },
  {
   "cell_type": "markdown",
   "id": "d0e27e62-168f-4b25-887d-1fa05a18b186",
   "metadata": {},
   "source": [
    "According to the description in `data_description.txt`, `NA` in some features does not mean Missing Value, but means that the observation does not have the feature, such as `Alley`:\n",
    "\n",
    "```plaintext\n",
    "Alley: Type of alley access to property\n",
    "\n",
    "       Grvl\tGravel\n",
    "       Pave\tPaved\n",
    "       NA \tNo alley access\n",
    "```\n",
    "\n",
    "Therefore, the missing value filling treatment of these features should be different. I filtered out all similar features here to prepare for the missing value filling in the subsequent preprocessing."
   ]
  },
  {
   "cell_type": "code",
   "execution_count": 8,
   "id": "f1ac8732-b8bd-4d91-9776-aa66290408dd",
   "metadata": {},
   "outputs": [
    {
     "data": {
      "text/plain": [
       "  Alley      BsmtQual   BsmtCond    BsmtExposure BsmtFinType1 BsmtFinType2\n",
       " None:1369   None: 37   None:  37   None: 38     None: 37     None:  38   \n",
       " Grvl:  50   Ex  :121   Fa  :  45   Av  :221     ALQ :220     ALQ :  19   \n",
       " Pave:  41   Fa  : 35   Gd  :  65   Gd  :134     BLQ :148     BLQ :  33   \n",
       "             Gd  :618   Po  :   2   Mn  :114     GLQ :418     GLQ :  14   \n",
       "             TA  :649   TA  :1311   No  :953     LwQ : 74     LwQ :  46   \n",
       "                                                 Rec :133     Rec :  54   \n",
       "                                                 Unf :430     Unf :1256   \n",
       " FireplaceQu   GarageType  GarageFinish GarageQual  GarageCond   PoolQC    \n",
       " None:690    None   : 81   None: 81     None:  81   None:  81   None:1453  \n",
       " Ex  : 24    2Types :  6   Fin :352     Ex  :   3   Ex  :   2   Ex  :   2  \n",
       " Fa  : 33    Attchd :870   RFn :422     Fa  :  48   Fa  :  35   Fa  :   2  \n",
       " Gd  :380    Basment: 19   Unf :605     Gd  :  14   Gd  :   9   Gd  :   3  \n",
       " Po  : 20    BuiltIn: 88                Po  :   3   Po  :   7              \n",
       " TA  :313    CarPort:  9                TA  :1311   TA  :1326              \n",
       "             Detchd :387                                                   \n",
       "   Fence      MiscFeature\n",
       " None :1179   None:1406  \n",
       " GdPrv:  59   Gar2:   2  \n",
       " GdWo :  54   Othr:   2  \n",
       " MnPrv: 157   Shed:  49  \n",
       " MnWw :  11   TenC:   1  \n",
       "                         \n",
       "                         "
      ]
     },
     "metadata": {},
     "output_type": "display_data"
    }
   ],
   "source": [
    "# Replace NA with \"None\" and ensure \"None\" is the lowest factor level\n",
    "train <- train %>%\n",
    "  mutate(\n",
    "    across(all_of(none_features), \n",
    "    ~ factor(\n",
    "        replace_na(as.character(.), \"None\"),  # fill NA by \"None\"\n",
    "        levels = c(\"None\", sort(unique(as.character(na.omit(.)))))  # redefine factor levels\n",
    "      )\n",
    "    )\n",
    "  )\n",
    "\n",
    "test <- test %>%\n",
    "  mutate(\n",
    "    across(\n",
    "      all_of(none_features), \n",
    "      ~ factor(\n",
    "          replace_na(as.character(.), \"None\"),  \n",
    "          levels = c(\"None\", sort(unique(as.character(na.omit(.)))))\n",
    "      )\n",
    "    )\n",
    "  )\n",
    "\n",
    "\n",
    "# Verify the changes\n",
    "summary(train[none_features])"
   ]
  },
  {
   "cell_type": "code",
   "execution_count": 9,
   "id": "04ac0c34-115f-4475-a993-fc2a51410918",
   "metadata": {},
   "outputs": [],
   "source": [
    "ordinal_features <- c(\n",
    "    \"MSSubClass\", \"OverallQual\", \"OverallCond\", \"LotShape\", \"LandSlope\",\n",
    "    \"ExterQual\", \"ExterCond\", \"BsmtQual\", \"BsmtCond\", \"BsmtExposure\",\n",
    "    \"BsmtFinType1\", \"BsmtFinType2\", \"HeatingQC\", \"KitchenQual\",\n",
    "    \"Functional\", \"FireplaceQu\", \"GarageFinish\", \"GarageQual\", \"GarageCond\",\n",
    "    \"PavedDrive\", \"PoolQC\", \"Fence\"\n",
    ")\n",
    "\n",
    "nominal_features <- c(\n",
    "    \"MSZoning\", \"Street\", \"Alley\", \"LandContour\", \"Utilities\", \"LotConfig\",\n",
    "    \"Neighborhood\", \"Condition1\", \"Condition2\", \"BldgType\", \"HouseStyle\",\n",
    "    \"RoofStyle\", \"RoofMatl\", \"Exterior1st\", \"Exterior2nd\", \"MasVnrType\",\n",
    "    \"Foundation\", \"Heating\", \"CentralAir\", \"Electrical\", \"GarageType\",\n",
    "    \"MiscFeature\", \"SaleType\", \"SaleCondition\"\n",
    ")"
   ]
  },
  {
   "cell_type": "markdown",
   "id": "c0215c57-6b7f-409d-85b7-fccee827835c",
   "metadata": {},
   "source": [
    "Similarly, I also distinguish between `ordinal_features` and `nominal_features` here to facilitate subsequent preprocessing. The main difference between them is whether the variable values are ordered. The following are examples of an ordinal feature and a nominal feature respectively.\n",
    "\n",
    "```plaintext\n",
    "ExterQual: Evaluates the quality of the material on the exterior \n",
    "\t\t\n",
    "       Ex\tExcellent\n",
    "       Gd\tGood\n",
    "       TA\tAverage/Typical\n",
    "       Fa\tFair\n",
    "       Po\tPoor\n",
    "\n",
    "MSZoning: Identifies the general zoning classification of the sale.\n",
    "\t\t\n",
    "       A\tAgriculture\n",
    "       C\tCommercial\n",
    "       FV\tFloating Village Residential\n",
    "       I\tIndustrial\n",
    "       RH\tResidential High Density\n",
    "       RL\tResidential Low Density\n",
    "       RP\tResidential Low Density Park \n",
    "       RM\tResidential Medium Density\n",
    "```\n",
    "\n",
    "In the following preprocessing, ordinal features will be applied with Label Encoding, while nominal features will be applied with One-Hot Encoding."
   ]
  },
  {
   "cell_type": "markdown",
   "id": "e942e3a9-1e32-4477-9ab7-7e9ead4738d9",
   "metadata": {},
   "source": [
    "## EDA"
   ]
  },
  {
   "cell_type": "code",
   "execution_count": 10,
   "id": "7562e8fb-142e-418d-99b1-9cfdc4a470c8",
   "metadata": {},
   "outputs": [
    {
     "data": {
      "text/plain": [
       "   Min. 1st Qu.  Median    Mean 3rd Qu.    Max. \n",
       "  34900  129975  163000  180921  214000  755000 "
      ]
     },
     "metadata": {},
     "output_type": "display_data"
    }
   ],
   "source": [
    "summary(train$SalePrice)"
   ]
  },
  {
   "cell_type": "code",
   "execution_count": 11,
   "id": "19dfef0d-9f59-462b-aad1-7f9c0633582f",
   "metadata": {},
   "outputs": [
    {
     "data": {
      "image/png": "[encoded data removed]",
      "text/plain": [
       "plot without title"
      ]
     },
     "metadata": {
      "image/png": {
       "height": 480,
       "width": 600
      }
     },
     "output_type": "display_data"
    }
   ],
   "source": [
    "# Create a tibble with SalePrice\n",
    "train %>%\n",
    "  ggplot(aes(x = SalePrice)) +\n",
    "  geom_histogram(aes(fill = after_stat(count)), bins = 30, color = \"black\", alpha = 0.8) +\n",
    "  scale_fill_viridis_c(name = \"SalePrice\", option = \"plasma\") +\n",
    "  geom_vline(\n",
    "    aes(xintercept = mean(SalePrice, na.rm = TRUE)), \n",
    "    linetype = \"dashed\", linewidth = 1.2, color = \"red\"\n",
    "  ) +\n",
    "  scale_x_continuous(labels = comma_format()) +  # not use scientific notation\n",
    "  labs(\n",
    "    x = \"SalePrice\", \n",
    "    y = \"Count\",\n",
    "    title = \"SalePrice Distribution\",\n",
    "    caption = \"Histogram with Adjusted Density Plot\"\n",
    "  ) +\n",
    "  theme_minimal(base_size = 14)"
   ]
  },
  {
   "cell_type": "code",
   "execution_count": 12,
   "id": "500a848b-afe1-427d-b321-635670d749eb",
   "metadata": {},
   "outputs": [
    {
     "name": "stdout",
     "output_type": "stream",
     "text": [
      "Skewness of SalePrice: 1.879009 \n",
      "Kurtosis of SalePrice: 6.496789 \n"
     ]
    }
   ],
   "source": [
    "# Calculate skewness and kurtosis\n",
    "skewness_value <- skewness(train$SalePrice, na.rm = TRUE)\n",
    "kurtosis_value <- kurtosis(train$SalePrice, na.rm = TRUE)\n",
    "\n",
    "# Print skewness and kurtosis\n",
    "cat(\"Skewness of SalePrice:\", skewness_value, \"\\n\")\n",
    "cat(\"Kurtosis of SalePrice:\", kurtosis_value, \"\\n\")"
   ]
  },
  {
   "cell_type": "markdown",
   "id": "97fc2ec9-85eb-4120-afc5-87240d6dde08",
   "metadata": {},
   "source": [
    "From the histogram and the calculated value of skewness (1.88), we can see that the distribution of `SalePrice` is right-skewed. This may have a negative impact on the training of the model. So we need a log transformation for `SalePrice`."
   ]
  },
  {
   "cell_type": "code",
   "execution_count": 13,
   "id": "0f2cf71a-62b0-401c-b33a-1a53d6c35150",
   "metadata": {},
   "outputs": [],
   "source": [
    "# Log transformation of SalePrice\n",
    "train <- train %>%\n",
    "  mutate(SalePrice_log = log(SalePrice))"
   ]
  },
  {
   "cell_type": "code",
   "execution_count": 14,
   "id": "751fbb78-4761-4a3e-9a53-22d1a4c7bbaf",
   "metadata": {},
   "outputs": [
    {
     "data": {
      "image/png": "[encoded data removed]",
      "text/plain": [
       "plot without title"
      ]
     },
     "metadata": {
      "image/png": {
       "height": 480,
       "width": 600
      }
     },
     "output_type": "display_data"
    }
   ],
   "source": [
    "# Plot the distribution of log-transformed SalePrice\n",
    "ggplot(train, aes(x = SalePrice_log)) +\n",
    "  geom_histogram(aes(fill = after_stat(count)), bins = 30, color = \"black\", alpha = 0.8) +\n",
    "  scale_fill_viridis_c(name = \"Log SalePrice\", option = \"plasma\") +\n",
    "  geom_vline(\n",
    "    aes(xintercept = mean(SalePrice_log, na.rm = TRUE)), \n",
    "    linetype = \"dashed\", linewidth = 1.2, color = \"red\"\n",
    "  ) +\n",
    "  scale_x_continuous(labels = comma_format()) +  # not use scientific notation\n",
    "  labs(\n",
    "    x = \"Log(SalePrice)\", \n",
    "    y = \"Count\",\n",
    "    title = \"Log-Transformed SalePrice Distribution\",\n",
    "    caption = \"Histogram of Log-Transformed SalePrice\"\n",
    "  ) +\n",
    "  theme_minimal(base_size = 14)"
   ]
  },
  {
   "cell_type": "code",
   "execution_count": 15,
   "id": "8ebf93ae-55e3-47d2-8387-1299039e8bc7",
   "metadata": {},
   "outputs": [
    {
     "name": "stdout",
     "output_type": "stream",
     "text": [
      "Log-Transformed SalePrice_log Skewness: 0.1210859 \n",
      "Log-Transformed SalePrice_log Kurtosis: 0.7974482 \n"
     ]
    }
   ],
   "source": [
    "# Calculate skewness and kurtosis for log-transformed SalePrice\n",
    "skewness_log <- skewness(train$SalePrice_log, na.rm = TRUE)\n",
    "kurtosis_log <- kurtosis(train$SalePrice_log, na.rm = TRUE)\n",
    "\n",
    "# Print skewness and kurtosis\n",
    "cat(\"Log-Transformed SalePrice_log Skewness:\", skewness_log, \"\\n\")\n",
    "cat(\"Log-Transformed SalePrice_log Kurtosis:\", kurtosis_log, \"\\n\")"
   ]
  },
  {
   "cell_type": "markdown",
   "id": "8ff0f135-5909-482b-8aaf-4d21a6db5ad1",
   "metadata": {},
   "source": [
    "From the charts and statistics, we can see that after logarithmic transformation, the distribution of `SalePrice` is closer to normal distribution."
   ]
  },
  {
   "cell_type": "code",
   "execution_count": 16,
   "id": "51a951f9-7af8-4e15-a5b9-991ae0ae4f93",
   "metadata": {},
   "outputs": [],
   "source": [
    "# Remove the original SalePrice column\n",
    "train <- train %>% select(-SalePrice)"
   ]
  },
  {
   "cell_type": "markdown",
   "id": "82e7813c-67a1-401e-a878-38146f9616bb",
   "metadata": {},
   "source": [
    "The following is the distribution of the remaining numerical features:"
   ]
  },
  {
   "cell_type": "code",
   "execution_count": 17,
   "id": "a2bae9b3-19c4-408b-acc9-749ad51aa181",
   "metadata": {},
   "outputs": [
    {
     "data": {
      "image/png": "[encoded data removed]",
      "text/plain": [
       "plot without title"
      ]
     },
     "metadata": {
      "image/png": {
       "height": 900,
       "width": 900
      }
     },
     "output_type": "display_data"
    }
   ],
   "source": [
    "options(repr.plot.width = 15, repr.plot.height = 15)\n",
    "\n",
    "# Convert train dataset to long format and remove NA/Inf values\n",
    "train %>%\n",
    "  select(all_of(numerical_features)) %>%\n",
    "  pivot_longer(cols = everything(), names_to = \"Feature\", values_to = \"Value\") %>%\n",
    "  filter(!is.na(Value) & is.finite(Value)) %>%  # Remove NA and Inf values\n",
    "\n",
    "# Plot histograms for all numerical features\n",
    "ggplot(aes(x = Value)) +\n",
    "  geom_histogram(bins = 10, fill = \"blue\", color = \"black\", alpha = 0.7) +\n",
    "  facet_wrap(~ Feature, scales = \"free\") +  # Free scales to adjust for different ranges\n",
    "  labs(title = \"Distribution of Numerical Features\", x = \"Value\", y = \"Count\") +\n",
    "  theme_minimal(base_size = 14)"
   ]
  },
  {
   "cell_type": "markdown",
   "id": "392a2934-5678-46f4-aec4-ca7674ab7d59",
   "metadata": {},
   "source": [
    "## Feature Engineering"
   ]
  },
  {
   "cell_type": "code",
   "execution_count": 18,
   "id": "4fdf9c12-fdb0-402d-83bd-74aa020573b8",
   "metadata": {},
   "outputs": [],
   "source": [
    "# Function to add features\n",
    "add_features <- function(data, create_interactions = TRUE, create_base_features = TRUE) {\n",
    "  # Create a new dataframe to store features\n",
    "  new_features <- data.frame(row.names = rownames(data))\n",
    "  \n",
    "  # Base features\n",
    "  if (create_base_features) {\n",
    "    new_features$HouseAge <- data$YrSold - data$YearBuilt\n",
    "    new_features$RemodelAge <- data$YrSold - data$YearRemodAdd\n",
    "    new_features$TotalSF <- data$`1stFlrSF` + data$`2ndFlrSF` + data$TotalBsmtSF\n",
    "  }\n",
    "  \n",
    "  # Merge new features into the original dataset\n",
    "  data <- cbind(data, new_features)\n",
    "  return(data)\n",
    "}"
   ]
  },
  {
   "cell_type": "code",
   "execution_count": 19,
   "id": "28462ba9-0613-4eca-a952-ed464d1d7447",
   "metadata": {},
   "outputs": [],
   "source": [
    "# Apply feature engineering to train and test datasets\n",
    "train <- add_features(train)\n",
    "test <- add_features(test)\n",
    "\n",
    "# Define new features\n",
    "new_features <- c(\"HouseAge\", \"RemodelAge\", \"TotalSF\")\n",
    "\n",
    "# Update numerical_features list\n",
    "numerical_features <- c(numerical_features, new_features)"
   ]
  },
  {
   "cell_type": "code",
   "execution_count": 20,
   "id": "4bf88eea-7356-4472-b8ec-2eab751d969c",
   "metadata": {},
   "outputs": [
    {
     "data": {
      "image/png": "[encoded data removed]",
      "text/plain": [
       "plot without title"
      ]
     },
     "metadata": {
      "image/png": {
       "height": 240,
       "width": 720
      }
     },
     "output_type": "display_data"
    }
   ],
   "source": [
    "options(repr.plot.width = 12, repr.plot.height = 4)\n",
    "\n",
    "# Plot histograms for new features\n",
    "train %>%\n",
    "  select(all_of(new_features)) %>%\n",
    "  pivot_longer(cols = everything(), names_to = \"Feature\", values_to = \"Value\") %>%\n",
    "  ggplot(aes(x = Value)) +\n",
    "  geom_histogram(bins = 10, fill = \"blue\", color = \"black\", alpha = 0.7) +\n",
    "  facet_wrap(~ Feature, scales = \"free\") +  \n",
    "  labs(title = \"Distribution of Newly Created Features\", x = \"Value\", y = \"Count\") +\n",
    "  theme_minimal(base_size = 14)"
   ]
  },
  {
   "cell_type": "markdown",
   "id": "c2c32137-6e9a-4b2c-999a-cb2eae85ae9d",
   "metadata": {},
   "source": [
    "## Preprocessing\n",
    "\n",
    "### Handling Missing Values"
   ]
  },
  {
   "cell_type": "code",
   "execution_count": 21,
   "id": "4c22941c-21cc-48e8-8200-02ee1a6fb2d0",
   "metadata": {},
   "outputs": [
    {
     "name": "stdout",
     "output_type": "stream",
     "text": [
      "Missing Values in Train Dataset:\n",
      "            na_count\n",
      "LotFrontage      259\n",
      "GarageYrBlt       81\n",
      "MasVnrType         8\n",
      "MasVnrArea         8\n",
      "Electrical         1\n",
      "\n",
      "Missing Values in Test Dataset:\n",
      "             na_count\n",
      "LotFrontage       227\n",
      "GarageYrBlt        78\n",
      "MasVnrType         16\n",
      "MasVnrArea         15\n",
      "MSZoning            4\n",
      "Utilities           2\n",
      "BsmtFullBath        2\n",
      "BsmtHalfBath        2\n",
      "Functional          2\n",
      "Exterior1st         1\n",
      "Exterior2nd         1\n",
      "BsmtFinSF1          1\n",
      "BsmtFinSF2          1\n",
      "BsmtUnfSF           1\n",
      "TotalBsmtSF         1\n",
      "KitchenQual         1\n",
      "GarageCars          1\n",
      "GarageArea          1\n",
      "SaleType            1\n",
      "TotalSF             1\n"
     ]
    }
   ],
   "source": [
    "# Function to find columns with NA\n",
    "check_na <- function(data) {\n",
    "  na_count <- colSums(is.na(data))\n",
    "  na_count <- sort(na_count[na_count > 0], decreasing = TRUE)  # Only keep columns with NA\n",
    "  return(as.data.frame(na_count))\n",
    "}\n",
    "\n",
    "# Check missing values in train and test\n",
    "na_train <- check_na(train)\n",
    "na_test <- check_na(test)\n",
    "\n",
    "# Print missing value summary\n",
    "cat(\"Missing Values in Train Dataset:\\n\")\n",
    "print(na_train)\n",
    "\n",
    "cat(\"\\nMissing Values in Test Dataset:\\n\")\n",
    "print(na_test)"
   ]
  },
  {
   "cell_type": "markdown",
   "id": "b7fd3744-ddea-4514-aceb-d031500ab801",
   "metadata": {},
   "source": [
    "`NA` for these variables means the structure does not exist and should be filled with 0:\n",
    "\n",
    "- `GarageYrBlt` (year garage was built)\n",
    "- `MasVnrArea` (brick facing area)\n",
    "- `BsmtFinSF1`, `BsmtFinSF2`, `BsmtUnfSF` (basement area)\n",
    "- `TotalBsmtSF` (total basement area)\n",
    "- `GarageCars` (number of garage spaces)\n",
    "- `GarageArea` (garage area)\n",
    "- `TotalSF` (total area, usually equal to `1stFlrSF` + `2ndFlrSF` + `TotalBsmtSF`)"
   ]
  },
  {
   "cell_type": "code",
   "execution_count": 22,
   "id": "4208098a-34ea-4c47-b987-bb00f74b842f",
   "metadata": {},
   "outputs": [],
   "source": [
    "zero_fill_features <- c(\"GarageYrBlt\", \"MasVnrArea\", \"BsmtFinSF1\", \n",
    "                        \"BsmtFinSF2\", \"BsmtUnfSF\", \"TotalBsmtSF\", \n",
    "                        \"GarageCars\", \"GarageArea\", \"TotalSF\")\n",
    "\n",
    "train[zero_fill_features] <- lapply(train[zero_fill_features], function(x) replace(x, is.na(x), 0))\n",
    "test[zero_fill_features] <- lapply(test[zero_fill_features], function(x) replace(x, is.na(x), 0))"
   ]
  },
  {
   "cell_type": "markdown",
   "id": "441207ee-2875-4fae-9bc8-e7d155d7dc56",
   "metadata": {},
   "source": [
    "`NA` for these variables may be missing data entries and should be filled with the most common category (Mode):\n",
    "\n",
    "- `MasVnrType` (brickwork finish type)\n",
    "- `Electrical` (electrical system)\n",
    "- `MSZoning` (land zoning)\n",
    "- `Utilities` (public facilities)\n",
    "- `Functional` (house function)\n",
    "- `Exterior1st`, `Exterior2nd` (exterior wall material)\n",
    "- `KitchenQual` (kitchen quality)\n",
    "- `SaleType` (sale type)"
   ]
  },
  {
   "cell_type": "code",
   "execution_count": 23,
   "id": "d771d120-cc31-4159-9125-e74e89c441ad",
   "metadata": {},
   "outputs": [],
   "source": [
    "mode_fill_features <- c(\"MasVnrType\", \"Electrical\", \"MSZoning\", \n",
    "                        \"Utilities\", \"Functional\", \"Exterior1st\", \n",
    "                        \"Exterior2nd\", \"KitchenQual\", \"SaleType\")\n",
    "\n",
    "fill_mode <- function(x) {\n",
    "  mode_value <- names(sort(table(x), decreasing = TRUE))[1]  # get mode\n",
    "  replace(x, is.na(x), mode_value)\n",
    "}\n",
    "\n",
    "train[mode_fill_features] <- lapply(train[mode_fill_features], fill_mode)\n",
    "test[mode_fill_features] <- lapply(test[mode_fill_features], fill_mode)"
   ]
  },
  {
   "cell_type": "markdown",
   "id": "1ec89e25-0b4b-4d46-a838-7fbe4e2b3e0b",
   "metadata": {},
   "source": [
    "`NA` values for these variables may be missing values, and filling the median value can reduce the impact of outliers:\n",
    "\n",
    "- `LotFrontage` (street frontage length)"
   ]
  },
  {
   "cell_type": "code",
   "execution_count": 24,
   "id": "7052ce63-1291-4c4e-9a80-48a01d256576",
   "metadata": {},
   "outputs": [],
   "source": [
    "train <- train %>%\n",
    "  group_by(Neighborhood) %>%\n",
    "  mutate(LotFrontage = ifelse(is.na(LotFrontage), median(LotFrontage, na.rm = TRUE), LotFrontage)) %>%\n",
    "  ungroup()\n",
    "\n",
    "test <- test %>%\n",
    "  group_by(Neighborhood) %>%\n",
    "  mutate(LotFrontage = ifelse(is.na(LotFrontage), median(LotFrontage, na.rm = TRUE), LotFrontage)) %>%\n",
    "  ungroup()"
   ]
  },
  {
   "cell_type": "markdown",
   "id": "f3013f55-18ee-411f-8101-6e18492c11be",
   "metadata": {},
   "source": [
    "Filled with 0 or 1 (integer feature)\n",
    "\n",
    "- `BsmtFullBath`, `BsmtHalfBath` (basement bathrooms)\n",
    "\n",
    "If there is no basement, the number of bathrooms should be 0."
   ]
  },
  {
   "cell_type": "code",
   "execution_count": 25,
   "id": "b61514c2-6326-43da-bf4a-066a12d0cb14",
   "metadata": {},
   "outputs": [],
   "source": [
    "bath_fill_features <- c(\"BsmtFullBath\", \"BsmtHalfBath\")\n",
    "\n",
    "train[bath_fill_features] <- lapply(train[bath_fill_features], function(x) replace(x, is.na(x), 0))\n",
    "test[bath_fill_features] <- lapply(test[bath_fill_features], function(x) replace(x, is.na(x), 0))"
   ]
  },
  {
   "cell_type": "markdown",
   "id": "64defb13-fd9c-4cd6-833c-002a65f16a15",
   "metadata": {},
   "source": [
    "Recheck `NA`"
   ]
  },
  {
   "cell_type": "code",
   "execution_count": 26,
   "id": "ed2975e1-dee5-4421-bd81-d6c650f8f52d",
   "metadata": {},
   "outputs": [
    {
     "name": "stdout",
     "output_type": "stream",
     "text": [
      "After processing, missing values in Train Dataset:\n",
      "[1] na_count\n",
      "<0 rows> (or 0-length row.names)\n",
      "\n",
      "After processing, missing values in Test Dataset:\n",
      "[1] na_count\n",
      "<0 rows> (or 0-length row.names)\n"
     ]
    }
   ],
   "source": [
    "na_train_after <- check_na(train)\n",
    "na_test_after <- check_na(test)\n",
    "\n",
    "cat(\"After processing, missing values in Train Dataset:\\n\")\n",
    "print(na_train_after)\n",
    "\n",
    "cat(\"\\nAfter processing, missing values in Test Dataset:\\n\")\n",
    "print(na_test_after)"
   ]
  },
  {
   "cell_type": "markdown",
   "id": "620b88e4-73f1-406e-8dd3-7d583d250179",
   "metadata": {},
   "source": [
    "### Encoding"
   ]
  },
  {
   "cell_type": "code",
   "execution_count": 27,
   "id": "e40d49c3-580b-4867-a24f-430a789b28dc",
   "metadata": {},
   "outputs": [
    {
     "name": "stdout",
     "output_type": "stream",
     "text": [
      "'data.frame':\t1460 obs. of  337 variables:\n",
      " $ LotFrontage          : num  65 80 68 60 84 85 75 80 51 50 ...\n",
      " $ LotArea              : num  8450 9600 11250 9550 14260 ...\n",
      " $ YearBuilt            : num  2003 1976 2001 1915 2000 ...\n",
      " $ YearRemodAdd         : num  2003 1976 2002 1970 2000 ...\n",
      " $ MasVnrArea           : num  196 0 162 0 350 0 186 240 0 0 ...\n",
      " $ BsmtFinSF1           : num  706 978 486 216 655 ...\n",
      " $ BsmtFinSF2           : num  0 0 0 0 0 0 0 32 0 0 ...\n",
      " $ BsmtUnfSF            : num  150 284 434 540 490 64 317 216 952 140 ...\n",
      " $ TotalBsmtSF          : num  856 1262 920 756 1145 ...\n",
      " $ 1stFlrSF             : num  856 1262 920 961 1145 ...\n",
      " $ 2ndFlrSF             : num  854 0 866 756 1053 ...\n",
      " $ LowQualFinSF         : num  0 0 0 0 0 0 0 0 0 0 ...\n",
      " $ GrLivArea            : num  1710 1262 1786 1717 2198 ...\n",
      " $ BsmtFullBath         : num  1 0 1 1 1 1 1 1 0 1 ...\n",
      " $ BsmtHalfBath         : num  0 1 0 0 0 0 0 0 0 0 ...\n",
      " $ FullBath             : num  2 2 2 1 2 1 2 2 2 1 ...\n",
      " $ HalfBath             : num  1 0 1 0 1 1 0 1 0 0 ...\n",
      " $ BedroomAbvGr         : num  3 3 3 3 4 1 3 3 2 2 ...\n",
      " $ KitchenAbvGr         : num  1 1 1 1 1 1 1 1 2 2 ...\n",
      " $ TotRmsAbvGrd         : num  8 6 6 7 9 5 7 7 8 5 ...\n",
      " $ Fireplaces           : num  0 1 1 1 1 0 1 2 2 2 ...\n",
      " $ GarageYrBlt          : num  2003 1976 2001 1998 2000 ...\n",
      " $ GarageCars           : num  2 2 2 3 3 2 2 2 2 1 ...\n",
      " $ GarageArea           : num  548 460 608 642 836 480 636 484 468 205 ...\n",
      " $ WoodDeckSF           : num  0 298 0 0 192 40 255 235 90 0 ...\n",
      " $ OpenPorchSF          : num  61 0 42 35 84 30 57 204 0 4 ...\n",
      " $ EnclosedPorch        : num  0 0 0 272 0 0 0 228 205 0 ...\n",
      " $ 3SsnPorch            : num  0 0 0 0 0 320 0 0 0 0 ...\n",
      " $ ScreenPorch          : num  0 0 0 0 0 0 0 0 0 0 ...\n",
      " $ PoolArea             : num  0 0 0 0 0 0 0 0 0 0 ...\n",
      " $ MiscVal              : num  0 0 0 0 0 700 0 350 0 0 ...\n",
      " $ MoSold               : num  2 5 9 2 12 10 8 11 4 1 ...\n",
      " $ YrSold               : num  2008 2007 2008 2006 2008 ...\n",
      " $ HouseAge             : num  5 31 7 91 8 16 3 36 77 69 ...\n",
      " $ RemodelAge           : num  5 31 6 36 8 14 2 36 58 58 ...\n",
      " $ TotalSF              : num  2566 2524 2706 2473 3343 ...\n",
      " $ MSSubClass.20        : num  0 1 0 0 0 0 1 0 0 0 ...\n",
      " $ MSSubClass.30        : num  0 0 0 0 0 0 0 0 0 0 ...\n",
      " $ MSSubClass.40        : num  0 0 0 0 0 0 0 0 0 0 ...\n",
      " $ MSSubClass.45        : num  0 0 0 0 0 0 0 0 0 0 ...\n",
      " $ MSSubClass.50        : num  0 0 0 0 0 1 0 0 1 0 ...\n",
      " $ MSSubClass.60        : num  1 0 1 0 1 0 0 1 0 0 ...\n",
      " $ MSSubClass.70        : num  0 0 0 1 0 0 0 0 0 0 ...\n",
      " $ MSSubClass.75        : num  0 0 0 0 0 0 0 0 0 0 ...\n",
      " $ MSSubClass.80        : num  0 0 0 0 0 0 0 0 0 0 ...\n",
      " $ MSSubClass.85        : num  0 0 0 0 0 0 0 0 0 0 ...\n",
      " $ MSSubClass.90        : num  0 0 0 0 0 0 0 0 0 0 ...\n",
      " $ MSSubClass.120       : num  0 0 0 0 0 0 0 0 0 0 ...\n",
      " $ MSSubClass.160       : num  0 0 0 0 0 0 0 0 0 0 ...\n",
      " $ MSSubClass.180       : num  0 0 0 0 0 0 0 0 0 0 ...\n",
      " $ MSSubClass.190       : num  0 0 0 0 0 0 0 0 0 1 ...\n",
      " $ MSZoning.C (all)     : num  0 0 0 0 0 0 0 0 0 0 ...\n",
      " $ MSZoning.FV          : num  0 0 0 0 0 0 0 0 0 0 ...\n",
      " $ MSZoning.RH          : num  0 0 0 0 0 0 0 0 0 0 ...\n",
      " $ MSZoning.RL          : num  1 1 1 1 1 1 1 1 0 1 ...\n",
      " $ MSZoning.RM          : num  0 0 0 0 0 0 0 0 1 0 ...\n",
      " $ Street.Grvl          : num  0 0 0 0 0 0 0 0 0 0 ...\n",
      " $ Street.Pave          : num  1 1 1 1 1 1 1 1 1 1 ...\n",
      " $ Alley.None           : num  1 1 1 1 1 1 1 1 1 1 ...\n",
      " $ Alley.Grvl           : num  0 0 0 0 0 0 0 0 0 0 ...\n",
      " $ Alley.Pave           : num  0 0 0 0 0 0 0 0 0 0 ...\n",
      " $ LotShape.IR1         : num  0 0 1 1 1 1 0 1 0 0 ...\n",
      " $ LotShape.IR2         : num  0 0 0 0 0 0 0 0 0 0 ...\n",
      " $ LotShape.IR3         : num  0 0 0 0 0 0 0 0 0 0 ...\n",
      " $ LotShape.Reg         : num  1 1 0 0 0 0 1 0 1 1 ...\n",
      " $ LandContour.Bnk      : num  0 0 0 0 0 0 0 0 0 0 ...\n",
      " $ LandContour.HLS      : num  0 0 0 0 0 0 0 0 0 0 ...\n",
      " $ LandContour.Low      : num  0 0 0 0 0 0 0 0 0 0 ...\n",
      " $ LandContour.Lvl      : num  1 1 1 1 1 1 1 1 1 1 ...\n",
      " $ Utilities.AllPub     : num  1 1 1 1 1 1 1 1 1 1 ...\n",
      " $ Utilities.NoSeWa     : num  0 0 0 0 0 0 0 0 0 0 ...\n",
      " $ LotConfig.Corner     : num  0 0 0 1 0 0 0 1 0 1 ...\n",
      " $ LotConfig.CulDSac    : num  0 0 0 0 0 0 0 0 0 0 ...\n",
      " $ LotConfig.FR2        : num  0 1 0 0 1 0 0 0 0 0 ...\n",
      " $ LotConfig.FR3        : num  0 0 0 0 0 0 0 0 0 0 ...\n",
      " $ LotConfig.Inside     : num  1 0 1 0 0 1 1 0 1 0 ...\n",
      " $ LandSlope.Gtl        : num  1 1 1 1 1 1 1 1 1 1 ...\n",
      " $ LandSlope.Mod        : num  0 0 0 0 0 0 0 0 0 0 ...\n",
      " $ LandSlope.Sev        : num  0 0 0 0 0 0 0 0 0 0 ...\n",
      " $ Neighborhood.Blmngtn : num  0 0 0 0 0 0 0 0 0 0 ...\n",
      " $ Neighborhood.Blueste : num  0 0 0 0 0 0 0 0 0 0 ...\n",
      " $ Neighborhood.BrDale  : num  0 0 0 0 0 0 0 0 0 0 ...\n",
      " $ Neighborhood.BrkSide : num  0 0 0 0 0 0 0 0 0 1 ...\n",
      " $ Neighborhood.ClearCr : num  0 0 0 0 0 0 0 0 0 0 ...\n",
      " $ Neighborhood.CollgCr : num  1 0 1 0 0 0 0 0 0 0 ...\n",
      " $ Neighborhood.Crawfor : num  0 0 0 1 0 0 0 0 0 0 ...\n",
      " $ Neighborhood.Edwards : num  0 0 0 0 0 0 0 0 0 0 ...\n",
      " $ Neighborhood.Gilbert : num  0 0 0 0 0 0 0 0 0 0 ...\n",
      " $ Neighborhood.IDOTRR  : num  0 0 0 0 0 0 0 0 0 0 ...\n",
      " $ Neighborhood.MeadowV : num  0 0 0 0 0 0 0 0 0 0 ...\n",
      " $ Neighborhood.Mitchel : num  0 0 0 0 0 1 0 0 0 0 ...\n",
      " $ Neighborhood.NAmes   : num  0 0 0 0 0 0 0 0 0 0 ...\n",
      " $ Neighborhood.NoRidge : num  0 0 0 0 1 0 0 0 0 0 ...\n",
      " $ Neighborhood.NPkVill : num  0 0 0 0 0 0 0 0 0 0 ...\n",
      " $ Neighborhood.NridgHt : num  0 0 0 0 0 0 0 0 0 0 ...\n",
      " $ Neighborhood.NWAmes  : num  0 0 0 0 0 0 0 1 0 0 ...\n",
      " $ Neighborhood.OldTown : num  0 0 0 0 0 0 0 0 1 0 ...\n",
      " $ Neighborhood.Sawyer  : num  0 0 0 0 0 0 0 0 0 0 ...\n",
      " $ Neighborhood.SawyerW : num  0 0 0 0 0 0 0 0 0 0 ...\n",
      "  [list output truncated]\n"
     ]
    }
   ],
   "source": [
    "# Ensure test dataset has the same factor levels as train\n",
    "for (col in categorical_features) {\n",
    "  if (col %in% names(test)) {\n",
    "    test[[col]] <- factor(test[[col]], levels = levels(train[[col]])) \n",
    "  }\n",
    "}\n",
    "\n",
    "# Apply One-Hot Encoding using predefined categorical_features\n",
    "ohe <- dummyVars(~ ., data = train[, categorical_features])\n",
    "\n",
    "# Apply transformation to train and test sets\n",
    "train_ohe <- predict(ohe, train)\n",
    "test_ohe <- predict(ohe, test)\n",
    "\n",
    "# Merge transformed categorical features with numerical features\n",
    "train <- cbind(train[, numerical_features], train_ohe, SalePrice_log = train$SalePrice_log)\n",
    "test <- cbind(test[, numerical_features], test_ohe)\n",
    "\n",
    "# Ensure all variables are numeric\n",
    "str(train)"
   ]
  },
  {
   "cell_type": "markdown",
   "id": "42014321-b3d8-4438-b127-84e82abf8ef5",
   "metadata": {},
   "source": [
    "### Normalize Data (Standard Scaling)"
   ]
  },
  {
   "cell_type": "code",
   "execution_count": 28,
   "id": "63eb713b-0b36-47d2-a609-968a18642a30",
   "metadata": {},
   "outputs": [
    {
     "data": {
      "text/plain": [
       "  LotFrontage           LotArea          YearBuilt         YearRemodAdd    \n",
       " Min.   :-2.193290   Min.   :-0.9234   Min.   :-3.28670   Min.   :-1.6888  \n",
       " 1st Qu.:-0.454694   1st Qu.:-0.2969   1st Qu.:-0.57173   1st Qu.:-0.8654  \n",
       " Median :-0.008901   Median :-0.1040   Median : 0.05735   Median : 0.4424  \n",
       " Mean   : 0.000000   Mean   : 0.0000   Mean   : 0.00000   Mean   : 0.0000  \n",
       " 3rd Qu.: 0.436893   3rd Qu.: 0.1087   3rd Qu.: 0.95131   3rd Qu.: 0.9268  \n",
       " Max.   :10.823886   Max.   :20.5112   Max.   : 1.28240   Max.   : 1.2174  \n",
       "   MasVnrArea        BsmtFinSF1        BsmtFinSF2        BsmtUnfSF      \n",
       " Min.   :-0.5706   Min.   :-0.9727   Min.   :-0.2886   Min.   :-1.2837  \n",
       " 1st Qu.:-0.5706   1st Qu.:-0.9727   1st Qu.:-0.2886   1st Qu.:-0.7791  \n",
       " Median :-0.5706   Median :-0.1319   Median :-0.2886   Median :-0.2031  \n",
       " Mean   : 0.0000   Mean   : 0.0000   Mean   : 0.0000   Mean   : 0.0000  \n",
       " 3rd Qu.: 0.3383   3rd Qu.: 0.5889   3rd Qu.:-0.2886   3rd Qu.: 0.5449  \n",
       " Max.   : 8.2824   Max.   :11.4018   Max.   : 8.8486   Max.   : 4.0029  \n",
       "  TotalBsmtSF         1stFlrSF          2ndFlrSF        LowQualFinSF    \n",
       " Min.   :-2.4103   Min.   :-2.1434   Min.   :-0.7949   Min.   :-0.1202  \n",
       " 1st Qu.:-0.5965   1st Qu.:-0.7259   1st Qu.:-0.7949   1st Qu.:-0.1202  \n",
       " Median :-0.1503   Median :-0.1956   Median :-0.7949   Median :-0.1202  \n",
       " Mean   : 0.0000   Mean   : 0.0000   Mean   : 0.0000   Mean   : 0.0000  \n",
       " 3rd Qu.: 0.5489   3rd Qu.: 0.5914   3rd Qu.: 0.8728   3rd Qu.:-0.1202  \n",
       " Max.   :11.5170   Max.   : 9.1296   Max.   : 3.9356   Max.   :11.6438  \n",
       "   GrLivArea         BsmtFullBath      BsmtHalfBath       FullBath      \n",
       " Min.   :-2.24835   Min.   :-0.8197   Min.   :-0.241   Min.   :-2.8408  \n",
       " 1st Qu.:-0.73450   1st Qu.:-0.8197   1st Qu.:-0.241   1st Qu.:-1.0257  \n",
       " Median :-0.09794   Median :-0.8197   Median :-0.241   Median : 0.7895  \n",
       " Mean   : 0.00000   Mean   : 0.0000   Mean   : 0.000   Mean   : 0.0000  \n",
       " 3rd Qu.: 0.49723   3rd Qu.: 1.1074   3rd Qu.:-0.241   3rd Qu.: 0.7895  \n",
       " Max.   : 7.85288   Max.   : 4.9617   Max.   : 8.136   Max.   : 2.6046  \n",
       "    HalfBath        BedroomAbvGr      KitchenAbvGr      TotRmsAbvGrd    \n",
       " Min.   :-0.7614   Min.   :-3.5137   Min.   :-4.7499   Min.   :-2.7795  \n",
       " 1st Qu.:-0.7614   1st Qu.:-1.0621   1st Qu.:-0.2114   1st Qu.:-0.9338  \n",
       " Median :-0.7614   Median : 0.1637   Median :-0.2114   Median :-0.3186  \n",
       " Mean   : 0.0000   Mean   : 0.0000   Mean   : 0.0000   Mean   : 0.0000  \n",
       " 3rd Qu.: 1.2272   3rd Qu.: 0.1637   3rd Qu.:-0.2114   3rd Qu.: 0.2967  \n",
       " Max.   : 3.2157   Max.   : 6.2928   Max.   : 8.8656   Max.   : 4.6033  \n",
       "   Fireplaces       GarageYrBlt        GarageCars        GarageArea      \n",
       " Min.   :-0.9509   Min.   :-4.1189   Min.   :-2.3646   Min.   :-2.21220  \n",
       " 1st Qu.:-0.9509   1st Qu.: 0.1967   1st Qu.:-1.0265   1st Qu.:-0.64769  \n",
       " Median : 0.6003   Median : 0.2386   Median : 0.3116   Median : 0.03283  \n",
       " Mean   : 0.0000   Mean   : 0.0000   Mean   : 0.0000   Mean   : 0.00000  \n",
       " 3rd Qu.: 0.6003   3rd Qu.: 0.2915   3rd Qu.: 0.3116   3rd Qu.: 0.48184  \n",
       " Max.   : 3.7027   Max.   : 0.3114   Max.   : 2.9879   Max.   : 4.42001  \n",
       "   WoodDeckSF       OpenPorchSF      EnclosedPorch       3SsnPorch      \n",
       " Min.   :-0.7519   Min.   :-0.7042   Min.   :-0.3592   Min.   :-0.1163  \n",
       " 1st Qu.:-0.7519   1st Qu.:-0.7042   1st Qu.:-0.3592   1st Qu.:-0.1163  \n",
       " Median :-0.7519   Median :-0.3269   Median :-0.3592   Median :-0.1163  \n",
       " Mean   : 0.0000   Mean   : 0.0000   Mean   : 0.0000   Mean   : 0.0000  \n",
       " 3rd Qu.: 0.5884   3rd Qu.: 0.3221   3rd Qu.:-0.3592   3rd Qu.:-0.1163  \n",
       " Max.   : 6.0855   Max.   : 7.5516   Max.   : 8.6723   Max.   :17.2113  \n",
       "  ScreenPorch         PoolArea           MiscVal             MoSold       \n",
       " Min.   :-0.2701   Min.   :-0.06867   Min.   :-0.08766   Min.   :-1.9684  \n",
       " 1st Qu.:-0.2701   1st Qu.:-0.06867   1st Qu.:-0.08766   1st Qu.:-0.4889  \n",
       " Median :-0.2701   Median :-0.06867   Median :-0.08766   Median :-0.1191  \n",
       " Mean   : 0.0000   Mean   : 0.00000   Mean   : 0.00000   Mean   : 0.0000  \n",
       " 3rd Qu.:-0.2701   3rd Qu.:-0.06867   3rd Qu.:-0.08766   3rd Qu.: 0.6207  \n",
       " Max.   : 8.3386   Max.   :18.29991   Max.   :31.15459   Max.   : 2.1002  \n",
       "     YrSold           HouseAge          RemodelAge         TotalSF       \n",
       " Min.   :-1.3672   Min.   :-1.20819   Min.   :-1.1603   Min.   :-2.7175  \n",
       " 1st Qu.:-0.6142   1st Qu.:-0.94373   1st Qu.:-0.9181   1st Qu.:-0.6785  \n",
       " Median : 0.1387   Median :-0.05117   Median :-0.4336   Median :-0.1132  \n",
       " Mean   : 0.0000   Mean   : 0.00000   Mean   : 0.0000   Mean   : 0.0000  \n",
       " 3rd Qu.: 0.8917   3rd Qu.: 0.57693   3rd Qu.: 0.8745   3rd Qu.: 0.5318  \n",
       " Max.   : 1.6446   Max.   : 3.28765   Max.   : 1.7950   Max.   :11.1778  "
      ]
     },
     "metadata": {},
     "output_type": "display_data"
    }
   ],
   "source": [
    "# Apply Standard Scaling (Z-score normalization)\n",
    "scaler <- preProcess(train[, numerical_features], method = c(\"center\", \"scale\"))\n",
    "\n",
    "# Normalize train and test datasets\n",
    "train[, numerical_features] <- predict(scaler, train[, numerical_features])\n",
    "test[, numerical_features] <- predict(scaler, test[, numerical_features])\n",
    "\n",
    "# Check summary to confirm scaling\n",
    "summary(train[, numerical_features])"
   ]
  },
  {
   "cell_type": "markdown",
   "id": "91d2de84-e45b-4e8a-af89-593d91a509e5",
   "metadata": {},
   "source": [
    "## Modeling"
   ]
  },
  {
   "cell_type": "markdown",
   "id": "317c02bd-812a-434f-a196-57fed67aca6b",
   "metadata": {},
   "source": [
    "### kNN"
   ]
  },
  {
   "cell_type": "code",
   "execution_count": 29,
   "id": "0257362e-f5a1-4ab1-aac8-d5046679c438",
   "metadata": {},
   "outputs": [],
   "source": [
    "# Define training control\n",
    "control <- trainControl(method = \"cv\", number = 5)\n",
    "\n",
    "# Train KNN model (search for best k from 3 to 20)\n",
    "set.seed(123)\n",
    "knn_model <- train(SalePrice_log ~ ., \n",
    "                   data = train, \n",
    "                   method = \"knn\", \n",
    "                   trControl = control, \n",
    "                   tuneGrid = expand.grid(k = seq(2, 20, by = 1)))  "
   ]
  },
  {
   "cell_type": "code",
   "execution_count": 30,
   "id": "a6c044b4-82d3-49a8-bdec-e68f07acc7fd",
   "metadata": {},
   "outputs": [
    {
     "data": {
      "text/plain": [
       "k-Nearest Neighbors \n",
       "\n",
       "1460 samples\n",
       " 336 predictor\n",
       "\n",
       "No pre-processing\n",
       "Resampling: Cross-Validated (5 fold) \n",
       "Summary of sample sizes: 1169, 1169, 1167, 1168, 1167 \n",
       "Resampling results across tuning parameters:\n",
       "\n",
       "  k   RMSE       Rsquared   MAE      \n",
       "   2  0.1845686  0.7900069  0.1276179\n",
       "   3  0.1817196  0.7983125  0.1230549\n",
       "   4  0.1792032  0.8048398  0.1211112\n",
       "   5  0.1774886  0.8093004  0.1202619\n",
       "   6  0.1758587  0.8133593  0.1193890\n",
       "   7  0.1756505  0.8148392  0.1200586\n",
       "   8  0.1755424  0.8161537  0.1199109\n",
       "   9  0.1751004  0.8183383  0.1195764\n",
       "  10  0.1743246  0.8207036  0.1192279\n",
       "  11  0.1738102  0.8230655  0.1188269\n",
       "  12  0.1732819  0.8249960  0.1188608\n",
       "  13  0.1733773  0.8248139  0.1191312\n",
       "  14  0.1733588  0.8257621  0.1195074\n",
       "  15  0.1733005  0.8260253  0.1194859\n",
       "  16  0.1735761  0.8261160  0.1197313\n",
       "  17  0.1740310  0.8254902  0.1197519\n",
       "  18  0.1740578  0.8256934  0.1201630\n",
       "  19  0.1739952  0.8268467  0.1202297\n",
       "  20  0.1741199  0.8273405  0.1204882\n",
       "\n",
       "RMSE was used to select the optimal model using the smallest value.\n",
       "The final value used for the model was k = 12."
      ]
     },
     "metadata": {},
     "output_type": "display_data"
    }
   ],
   "source": [
    "knn_model"
   ]
  },
  {
   "cell_type": "code",
   "execution_count": 31,
   "id": "f93b756d-e5df-4756-a89a-c770cf2f56de",
   "metadata": {},
   "outputs": [
    {
     "data": {
      "image/png": "[encoded data removed]",
      "text/plain": [
       "plot without title"
      ]
     },
     "metadata": {
      "image/png": {
       "height": 480,
       "width": 720
      }
     },
     "output_type": "display_data"
    }
   ],
   "source": [
    "options(repr.plot.width = 12, repr.plot.height = 8)\n",
    "plot(knn_model)"
   ]
  },
  {
   "cell_type": "markdown",
   "id": "4dfb4cbe-2353-49cd-aaf9-7322030410e2",
   "metadata": {},
   "source": [
    "### SVM"
   ]
  },
  {
   "cell_type": "code",
   "execution_count": 32,
   "id": "c3a34e50-2ae5-4e6c-8ecc-f73259aa3bad",
   "metadata": {},
   "outputs": [
    {
     "name": "stderr",
     "output_type": "stream",
     "text": [
      "Warning message in .local(x, ...):\n",
      "\"Variable(s) `' constant. Cannot scale data.\"\n",
      "Warning message in .local(x, ...):\n",
      "\"Variable(s) `' constant. Cannot scale data.\"\n",
      "Warning message in .local(x, ...):\n",
      "\"Variable(s) `' constant. Cannot scale data.\"\n",
      "Warning message in .local(x, ...):\n",
      "\"Variable(s) `' constant. Cannot scale data.\"\n",
      "Warning message in .local(x, ...):\n",
      "\"Variable(s) `' constant. Cannot scale data.\"\n",
      "Warning message in .local(x, ...):\n",
      "\"Variable(s) `' constant. Cannot scale data.\"\n",
      "Warning message in .local(x, ...):\n",
      "\"Variable(s) `' constant. Cannot scale data.\"\n",
      "Warning message in .local(x, ...):\n",
      "\"Variable(s) `' constant. Cannot scale data.\"\n",
      "Warning message in .local(x, ...):\n",
      "\"Variable(s) `' constant. Cannot scale data.\"\n",
      "Warning message in .local(x, ...):\n",
      "\"Variable(s) `' constant. Cannot scale data.\"\n",
      "Warning message in .local(x, ...):\n",
      "\"Variable(s) `' constant. Cannot scale data.\"\n",
      "Warning message in .local(x, ...):\n",
      "\"Variable(s) `' constant. Cannot scale data.\"\n",
      "Warning message in .local(x, ...):\n",
      "\"Variable(s) `' constant. Cannot scale data.\"\n",
      "Warning message in .local(x, ...):\n",
      "\"Variable(s) `' constant. Cannot scale data.\"\n",
      "Warning message in .local(x, ...):\n",
      "\"Variable(s) `' constant. Cannot scale data.\"\n",
      "Warning message in .local(x, ...):\n",
      "\"Variable(s) `' constant. Cannot scale data.\"\n",
      "Warning message in .local(x, ...):\n",
      "\"Variable(s) `' constant. Cannot scale data.\"\n",
      "Warning message in .local(x, ...):\n",
      "\"Variable(s) `' constant. Cannot scale data.\"\n",
      "Warning message in .local(x, ...):\n",
      "\"Variable(s) `' constant. Cannot scale data.\"\n",
      "Warning message in .local(x, ...):\n",
      "\"Variable(s) `' constant. Cannot scale data.\"\n",
      "Warning message in .local(x, ...):\n",
      "\"Variable(s) `' constant. Cannot scale data.\"\n",
      "Warning message in .local(x, ...):\n",
      "\"Variable(s) `' constant. Cannot scale data.\"\n",
      "Warning message in .local(x, ...):\n",
      "\"Variable(s) `' constant. Cannot scale data.\"\n",
      "Warning message in .local(x, ...):\n",
      "\"Variable(s) `' constant. Cannot scale data.\"\n",
      "Warning message in .local(x, ...):\n",
      "\"Variable(s) `' constant. Cannot scale data.\"\n"
     ]
    }
   ],
   "source": [
    "# Train SVM model with radial basis function (RBF) kernel\n",
    "set.seed(123)\n",
    "svm_model <- train(SalePrice_log ~ ., \n",
    "                   data = train, \n",
    "                   method = \"svmRadial\", \n",
    "                   trControl = control, \n",
    "                   tuneLength = 5)  # Automatically searches for best parameters"
   ]
  },
  {
   "cell_type": "code",
   "execution_count": 33,
   "id": "1258757d-284c-45c1-9368-36d406b43e1f",
   "metadata": {},
   "outputs": [
    {
     "data": {
      "text/plain": [
       "Support Vector Machines with Radial Basis Function Kernel \n",
       "\n",
       "1460 samples\n",
       " 336 predictor\n",
       "\n",
       "No pre-processing\n",
       "Resampling: Cross-Validated (5 fold) \n",
       "Summary of sample sizes: 1169, 1169, 1167, 1168, 1167 \n",
       "Resampling results across tuning parameters:\n",
       "\n",
       "  C     RMSE       Rsquared   MAE       \n",
       "  0.25  0.1400580  0.8793136  0.09348299\n",
       "  0.50  0.1332413  0.8900571  0.08837307\n",
       "  1.00  0.1290501  0.8962326  0.08551372\n",
       "  2.00  0.1262895  0.9005448  0.08413747\n",
       "  4.00  0.1250289  0.9023650  0.08437091\n",
       "\n",
       "Tuning parameter 'sigma' was held constant at a value of 0.002345221\n",
       "RMSE was used to select the optimal model using the smallest value.\n",
       "The final values used for the model were sigma = 0.002345221 and C = 4."
      ]
     },
     "metadata": {},
     "output_type": "display_data"
    }
   ],
   "source": [
    "svm_model"
   ]
  },
  {
   "cell_type": "code",
   "execution_count": 34,
   "id": "d9329bc4-0454-43dd-9a1f-7314c8e1b988",
   "metadata": {},
   "outputs": [
    {
     "data": {
      "image/png": "[encoded data removed]",
      "text/plain": [
       "plot without title"
      ]
     },
     "metadata": {
      "image/png": {
       "height": 480,
       "width": 720
      }
     },
     "output_type": "display_data"
    }
   ],
   "source": [
    "plot(svm_model)"
   ]
  },
  {
   "cell_type": "markdown",
   "id": "bd280981-a54a-496e-a452-09db2642c2ef",
   "metadata": {},
   "source": [
    "### Linear Regression"
   ]
  },
  {
   "cell_type": "code",
   "execution_count": 35,
   "id": "a2cac029-6835-4c20-9852-a3dcaf1ab1cf",
   "metadata": {},
   "outputs": [
    {
     "name": "stderr",
     "output_type": "stream",
     "text": [
      "Warning message in predict.lm(modelFit, newdata):\n",
      "\"prediction from rank-deficient fit; attr(*, \"non-estim\") has doubtful cases\"\n",
      "Warning message in predict.lm(modelFit, newdata):\n",
      "\"prediction from rank-deficient fit; attr(*, \"non-estim\") has doubtful cases\"\n",
      "Warning message in predict.lm(modelFit, newdata):\n",
      "\"prediction from rank-deficient fit; attr(*, \"non-estim\") has doubtful cases\"\n",
      "Warning message in predict.lm(modelFit, newdata):\n",
      "\"prediction from rank-deficient fit; attr(*, \"non-estim\") has doubtful cases\"\n",
      "Warning message in predict.lm(modelFit, newdata):\n",
      "\"prediction from rank-deficient fit; attr(*, \"non-estim\") has doubtful cases\"\n"
     ]
    }
   ],
   "source": [
    "# Train Linear Regression model\n",
    "set.seed(123)\n",
    "lr_model <- train(SalePrice_log ~ ., \n",
    "                  data = train, \n",
    "                  method = \"lm\", \n",
    "                  trControl = control)"
   ]
  },
  {
   "cell_type": "code",
   "execution_count": 36,
   "id": "d54bc3fa-ea19-41d6-a871-9dc6feae779f",
   "metadata": {},
   "outputs": [
    {
     "data": {
      "text/plain": [
       "Linear Regression \n",
       "\n",
       "1460 samples\n",
       " 336 predictor\n",
       "\n",
       "No pre-processing\n",
       "Resampling: Cross-Validated (5 fold) \n",
       "Summary of sample sizes: 1169, 1169, 1167, 1168, 1167 \n",
       "Resampling results:\n",
       "\n",
       "  RMSE       Rsquared   MAE       \n",
       "  0.1662427  0.8343093  0.09405306\n",
       "\n",
       "Tuning parameter 'intercept' was held constant at a value of TRUE"
      ]
     },
     "metadata": {},
     "output_type": "display_data"
    }
   ],
   "source": [
    "lr_model"
   ]
  },
  {
   "cell_type": "markdown",
   "id": "e205cd9e-c884-4882-99e4-8a79284b6556",
   "metadata": {},
   "source": [
    "### Lasso"
   ]
  },
  {
   "cell_type": "code",
   "execution_count": 37,
   "id": "08086610-e637-4fb5-8494-9006919ebcad",
   "metadata": {},
   "outputs": [],
   "source": [
    "# Convert train and test to matrices for glmnet\n",
    "x_train <- as.matrix(train[, numerical_features])\n",
    "y_train <- train$SalePrice_log\n",
    "x_test <- as.matrix(test[, numerical_features])"
   ]
  },
  {
   "cell_type": "code",
   "execution_count": 38,
   "id": "a614da4e-4ecd-40be-b53b-13d40c244c2d",
   "metadata": {},
   "outputs": [],
   "source": [
    "# Train Lasso Regression (alpha = 1)\n",
    "set.seed(123)\n",
    "lasso_model <- cv.glmnet(x_train, y_train, alpha = 1)"
   ]
  },
  {
   "cell_type": "code",
   "execution_count": 39,
   "id": "a8b92d2f-14d0-49f4-a706-abba42a45769",
   "metadata": {},
   "outputs": [
    {
     "data": {
      "text/plain": [
       "\n",
       "Call:  cv.glmnet(x = x_train, y = y_train, alpha = 1) \n",
       "\n",
       "Measure: Mean-Squared Error \n",
       "\n",
       "     Lambda Index Measure       SE Nonzero\n",
       "min 0.00568    44 0.03272 0.006926      24\n",
       "1se 0.04829    21 0.03901 0.005492       7"
      ]
     },
     "metadata": {},
     "output_type": "display_data"
    }
   ],
   "source": [
    "lasso_model"
   ]
  },
  {
   "cell_type": "code",
   "execution_count": 40,
   "id": "f1cf445e-6893-41d0-b988-e92bd68784ba",
   "metadata": {},
   "outputs": [
    {
     "data": {
      "image/png": "[encoded data removed]",
      "text/plain": [
       "plot without title"
      ]
     },
     "metadata": {
      "image/png": {
       "height": 480,
       "width": 720
      }
     },
     "output_type": "display_data"
    }
   ],
   "source": [
    "plot(lasso_model)"
   ]
  },
  {
   "cell_type": "markdown",
   "id": "bb970bb7-c6f7-49f0-914c-3949b6c90e41",
   "metadata": {},
   "source": [
    "### Ridge"
   ]
  },
  {
   "cell_type": "code",
   "execution_count": 41,
   "id": "e528db65-11f7-4a79-9070-6c751fa6a104",
   "metadata": {},
   "outputs": [],
   "source": [
    "# Train Ridge Regression (alpha = 0)\n",
    "set.seed(123)\n",
    "ridge_model <- cv.glmnet(x_train, y_train, alpha = 0)"
   ]
  },
  {
   "cell_type": "code",
   "execution_count": 42,
   "id": "28e410df-4788-4b67-9cb3-4f5b5937fae7",
   "metadata": {},
   "outputs": [
    {
     "data": {
      "text/plain": [
       "\n",
       "Call:  cv.glmnet(x = x_train, y = y_train, alpha = 0) \n",
       "\n",
       "Measure: Mean-Squared Error \n",
       "\n",
       "    Lambda Index Measure       SE Nonzero\n",
       "min 0.1375    84 0.03218 0.006231      36\n",
       "1se 0.8840    64 0.03831 0.004226      36"
      ]
     },
     "metadata": {},
     "output_type": "display_data"
    }
   ],
   "source": [
    "ridge_model"
   ]
  },
  {
   "cell_type": "code",
   "execution_count": 43,
   "id": "14f83abc-277a-4d33-b484-8c4b0050ee8b",
   "metadata": {},
   "outputs": [
    {
     "data": {
      "image/png": "[encoded data removed]",
      "text/plain": [
       "plot without title"
      ]
     },
     "metadata": {
      "image/png": {
       "height": 480,
       "width": 720
      }
     },
     "output_type": "display_data"
    }
   ],
   "source": [
    "plot(ridge_model)"
   ]
  },
  {
   "cell_type": "markdown",
   "id": "62a7673b-b422-4b31-b73d-2f1f5f57e3d4",
   "metadata": {},
   "source": [
    "### ElasticNet"
   ]
  },
  {
   "cell_type": "code",
   "execution_count": 44,
   "id": "bafeffe6-a6dd-495b-b37b-0cb7f9ee5c01",
   "metadata": {},
   "outputs": [],
   "source": [
    "# Train Elastic Net (alpha = 0.5)\n",
    "set.seed(123)\n",
    "elastic_model <- cv.glmnet(x_train, y_train, alpha = 0.5)"
   ]
  },
  {
   "cell_type": "code",
   "execution_count": 45,
   "id": "171364d1-e72f-45e8-86fd-dc33431e6f8e",
   "metadata": {},
   "outputs": [
    {
     "data": {
      "text/plain": [
       "\n",
       "Call:  cv.glmnet(x = x_train, y = y_train, alpha = 0.5) \n",
       "\n",
       "Measure: Mean-Squared Error \n",
       "\n",
       "     Lambda Index Measure       SE Nonzero\n",
       "min 0.01247    43 0.03261 0.006788      26\n",
       "1se 0.08799    22 0.03871 0.005006      11"
      ]
     },
     "metadata": {},
     "output_type": "display_data"
    }
   ],
   "source": [
    "elastic_model"
   ]
  },
  {
   "cell_type": "code",
   "execution_count": 46,
   "id": "1bc8ec38-b1d4-436c-9fd3-f03b1c042973",
   "metadata": {},
   "outputs": [
    {
     "data": {
      "image/png": "[encoded data removed]",
      "text/plain": [
       "plot without title"
      ]
     },
     "metadata": {
      "image/png": {
       "height": 480,
       "width": 720
      }
     },
     "output_type": "display_data"
    }
   ],
   "source": [
    "plot(elastic_model)"
   ]
  },
  {
   "cell_type": "markdown",
   "id": "d867ce99-aaa5-41d0-ba27-29fcdc72442c",
   "metadata": {},
   "source": [
    "### Decision Tree"
   ]
  },
  {
   "cell_type": "code",
   "execution_count": 47,
   "id": "2b0f4672-3338-4800-bf3d-70f26d11f8f3",
   "metadata": {},
   "outputs": [
    {
     "name": "stderr",
     "output_type": "stream",
     "text": [
      "Warning message in nominalTrainWorkflow(x = x, y = y, wts = weights, info = trainInfo, :\n",
      "\"There were missing values in resampled performance measures.\"\n"
     ]
    }
   ],
   "source": [
    "# Ensure all features are included in the model\n",
    "feature_names <- setdiff(names(train), c(\"Id\", \"SalePrice\"))\n",
    "\n",
    "# Train Decision Tree\n",
    "set.seed(123)\n",
    "dt_model <- train(\n",
    "  x = train[, feature_names], \n",
    "  y = train$SalePrice_log, \n",
    "  method = \"rpart\", \n",
    "  trControl = trainControl(method = \"cv\", number = 5),\n",
    "  tuneLength = 10\n",
    ")"
   ]
  },
  {
   "cell_type": "code",
   "execution_count": 48,
   "id": "47296ad3-d502-4c57-8223-a432077f7678",
   "metadata": {},
   "outputs": [
    {
     "data": {
      "text/plain": [
       "CART \n",
       "\n",
       "1460 samples\n",
       " 337 predictor\n",
       "\n",
       "No pre-processing\n",
       "Resampling: Cross-Validated (5 fold) \n",
       "Summary of sample sizes: 1169, 1169, 1167, 1168, 1167 \n",
       "Resampling results across tuning parameters:\n",
       "\n",
       "  cp           RMSE        Rsquared   MAE       \n",
       "  0.004123256  0.07073209  0.9686293  0.05436392\n",
       "  0.005264440  0.07425451  0.9656958  0.05690558\n",
       "  0.008289932  0.08013962  0.9603042  0.06132646\n",
       "  0.020787158  0.09946534  0.9381319  0.07938158\n",
       "  0.022259562  0.11308238  0.9195754  0.09419376\n",
       "  0.024627884  0.13180918  0.8911292  0.10581696\n",
       "  0.027539374  0.14621217  0.8661460  0.11297063\n",
       "  0.125213917  0.18400717  0.7822614  0.13835935\n",
       "  0.132022391  0.23497255  0.6537036  0.17884794\n",
       "  0.604412897  0.34101599  0.5841747  0.26478954\n",
       "\n",
       "RMSE was used to select the optimal model using the smallest value.\n",
       "The final value used for the model was cp = 0.004123256."
      ]
     },
     "metadata": {},
     "output_type": "display_data"
    }
   ],
   "source": [
    "dt_model"
   ]
  },
  {
   "cell_type": "code",
   "execution_count": 49,
   "id": "83870d47-51d5-4924-bde1-a5b5db954142",
   "metadata": {},
   "outputs": [
    {
     "data": {
      "image/png": "[encoded data removed]",
      "text/plain": [
       "plot without title"
      ]
     },
     "metadata": {
      "image/png": {
       "height": 480,
       "width": 720
      }
     },
     "output_type": "display_data"
    }
   ],
   "source": [
    "plot(dt_model)"
   ]
  },
  {
   "cell_type": "markdown",
   "id": "1cc354fe-cd7c-4df1-8f13-8624494b695b",
   "metadata": {},
   "source": [
    "### Bagging"
   ]
  },
  {
   "cell_type": "code",
   "execution_count": 50,
   "id": "2d882e57-afe5-40cc-b3b9-3f37a01dd8a9",
   "metadata": {},
   "outputs": [],
   "source": [
    "# Ensure all features are included in the model\n",
    "feature_names <- setdiff(names(train), c(\"Id\", \"SalePrice\"))\n",
    "\n",
    "# Train Bagging model (explicit feature selection)\n",
    "set.seed(123)\n",
    "bagging_model <- train(\n",
    "  x = train[, feature_names], \n",
    "  y = train$SalePrice_log, \n",
    "  method = \"treebag\", \n",
    "  trControl = trainControl(method = \"cv\", number = 5)\n",
    ")"
   ]
  },
  {
   "cell_type": "code",
   "execution_count": 51,
   "id": "31e6ecd4-0644-4d60-8034-d0c1fc03a107",
   "metadata": {},
   "outputs": [
    {
     "data": {
      "text/plain": [
       "Bagged CART \n",
       "\n",
       "1460 samples\n",
       " 337 predictor\n",
       "\n",
       "No pre-processing\n",
       "Resampling: Cross-Validated (5 fold) \n",
       "Summary of sample sizes: 1169, 1169, 1167, 1168, 1167 \n",
       "Resampling results:\n",
       "\n",
       "  RMSE        Rsquared  MAE       \n",
       "  0.05952973  0.978507  0.04010522\n"
      ]
     },
     "metadata": {},
     "output_type": "display_data"
    }
   ],
   "source": [
    "bagging_model"
   ]
  },
  {
   "cell_type": "markdown",
   "id": "403758a0-dffb-4c25-8937-6930ca71ef52",
   "metadata": {},
   "source": [
    "### Random Forest"
   ]
  },
  {
   "cell_type": "code",
   "execution_count": 52,
   "id": "a2db2d23-203d-414a-84d1-3d7e8c43a91e",
   "metadata": {},
   "outputs": [],
   "source": [
    "# Train Random Forest model\n",
    "set.seed(123)\n",
    "rf_model <- train(SalePrice_log ~ ., \n",
    "                  data = train, \n",
    "                  method = \"rf\", \n",
    "                  trControl = control,\n",
    "                  tuneGrid = expand.grid(mtry = seq(3, floor(sqrt(ncol(train) - 1)), 2)), \n",
    "                  ntree = 500)  # Optimize mtry and use 500 trees"
   ]
  },
  {
   "cell_type": "code",
   "execution_count": 53,
   "id": "43e0dde8-bbf4-4d32-8a07-17d4c81ddac1",
   "metadata": {},
   "outputs": [
    {
     "data": {
      "text/plain": [
       "Random Forest \n",
       "\n",
       "1460 samples\n",
       " 336 predictor\n",
       "\n",
       "No pre-processing\n",
       "Resampling: Cross-Validated (5 fold) \n",
       "Summary of sample sizes: 1169, 1169, 1167, 1168, 1167 \n",
       "Resampling results across tuning parameters:\n",
       "\n",
       "  mtry  RMSE       Rsquared   MAE       \n",
       "   3    0.1925098  0.8343472  0.13232173\n",
       "   5    0.1675364  0.8586295  0.11228565\n",
       "   7    0.1588777  0.8668822  0.10547821\n",
       "   9    0.1527855  0.8735186  0.10111837\n",
       "  11    0.1501170  0.8758326  0.09898017\n",
       "  13    0.1484744  0.8771772  0.09755836\n",
       "  15    0.1467841  0.8788165  0.09687788\n",
       "  17    0.1455728  0.8795109  0.09601605\n",
       "\n",
       "RMSE was used to select the optimal model using the smallest value.\n",
       "The final value used for the model was mtry = 17."
      ]
     },
     "metadata": {},
     "output_type": "display_data"
    }
   ],
   "source": [
    "rf_model"
   ]
  },
  {
   "cell_type": "code",
   "execution_count": 54,
   "id": "9503c106-2c73-47e7-b9ae-3f5acaf2fa41",
   "metadata": {},
   "outputs": [
    {
     "data": {
      "image/png": "[encoded data removed]",
      "text/plain": [
       "plot without title"
      ]
     },
     "metadata": {
      "image/png": {
       "height": 480,
       "width": 720
      }
     },
     "output_type": "display_data"
    }
   ],
   "source": [
    "plot(rf_model)"
   ]
  },
  {
   "cell_type": "markdown",
   "id": "b8d1e84e-c684-47c7-8b76-0b8461af41a6",
   "metadata": {},
   "source": [
    "### XGBoost"
   ]
  },
  {
   "cell_type": "code",
   "execution_count": 55,
   "id": "335a72a4-5806-4f3f-8e39-7456bf72f0f1",
   "metadata": {},
   "outputs": [
    {
     "name": "stdout",
     "output_type": "stream",
     "text": [
      "[1]\ttrain-rmse:10.955906+0.006319\ttest-rmse:10.955914+0.027053 \n",
      "Multiple eval metrics are present. Will use test_rmse for early stopping.\n",
      "Will train until test_rmse hasn't improved in 20 rounds.\n",
      "\n",
      "[2]\ttrain-rmse:10.409415+0.006180\ttest-rmse:10.409422+0.027204 \n",
      "[3]\ttrain-rmse:9.890327+0.005956\ttest-rmse:9.890333+0.027426 \n",
      "[4]\ttrain-rmse:9.397029+0.005689\ttest-rmse:9.397033+0.027701 \n",
      "[5]\ttrain-rmse:8.928634+0.005263\ttest-rmse:8.928637+0.028144 \n",
      "[6]\ttrain-rmse:8.483707+0.005180\ttest-rmse:8.483707+0.028224 \n",
      "[7]\ttrain-rmse:8.061160+0.004857\ttest-rmse:8.061159+0.028549 \n",
      "[8]\ttrain-rmse:7.659444+0.004582\ttest-rmse:7.659663+0.028553 \n",
      "[9]\ttrain-rmse:7.277962+0.004365\ttest-rmse:7.278175+0.028455 \n",
      "[10]\ttrain-rmse:6.915648+0.004193\ttest-rmse:6.916309+0.028504 \n",
      "[11]\ttrain-rmse:6.571441+0.004101\ttest-rmse:6.572028+0.028034 \n",
      "[12]\ttrain-rmse:6.244302+0.003866\ttest-rmse:6.244799+0.027293 \n",
      "[13]\ttrain-rmse:5.933583+0.003644\ttest-rmse:5.934007+0.027001 \n",
      "[14]\ttrain-rmse:5.638300+0.003609\ttest-rmse:5.638459+0.026768 \n",
      "[15]\ttrain-rmse:5.357697+0.003477\ttest-rmse:5.357941+0.026571 \n",
      "[16]\ttrain-rmse:5.091280+0.003207\ttest-rmse:5.091920+0.026897 \n",
      "[17]\ttrain-rmse:4.838109+0.003182\ttest-rmse:4.838678+0.026351 \n",
      "[18]\ttrain-rmse:4.597795+0.003113\ttest-rmse:4.598454+0.026238 \n",
      "[19]\ttrain-rmse:4.369210+0.002926\ttest-rmse:4.369592+0.025729 \n",
      "[20]\ttrain-rmse:4.152234+0.002691\ttest-rmse:4.152451+0.025582 \n",
      "[21]\ttrain-rmse:3.945866+0.002642\ttest-rmse:3.946165+0.025491 \n",
      "[22]\ttrain-rmse:3.749956+0.002487\ttest-rmse:3.750256+0.025562 \n",
      "[23]\ttrain-rmse:3.563707+0.002341\ttest-rmse:3.564102+0.025597 \n",
      "[24]\ttrain-rmse:3.386690+0.002291\ttest-rmse:3.387289+0.025202 \n",
      "[25]\ttrain-rmse:3.218735+0.002298\ttest-rmse:3.219267+0.024731 \n",
      "[26]\ttrain-rmse:3.059184+0.002272\ttest-rmse:3.059426+0.024200 \n",
      "[27]\ttrain-rmse:2.907595+0.002075\ttest-rmse:2.907866+0.023845 \n",
      "[28]\ttrain-rmse:2.763432+0.001837\ttest-rmse:2.763466+0.023471 \n",
      "[29]\ttrain-rmse:2.626677+0.001916\ttest-rmse:2.626775+0.023190 \n",
      "[30]\ttrain-rmse:2.496832+0.001713\ttest-rmse:2.496776+0.022824 \n",
      "[31]\ttrain-rmse:2.373308+0.001781\ttest-rmse:2.373075+0.022484 \n",
      "[32]\ttrain-rmse:2.256007+0.001655\ttest-rmse:2.255706+0.022215 \n",
      "[33]\ttrain-rmse:2.144637+0.001612\ttest-rmse:2.144419+0.021699 \n",
      "[34]\ttrain-rmse:2.038665+0.001534\ttest-rmse:2.038414+0.021223 \n",
      "[35]\ttrain-rmse:1.938060+0.001623\ttest-rmse:1.937776+0.020571 \n",
      "[36]\ttrain-rmse:1.842532+0.001428\ttest-rmse:1.842298+0.020337 \n",
      "[37]\ttrain-rmse:1.751905+0.001416\ttest-rmse:1.751602+0.020146 \n",
      "[38]\ttrain-rmse:1.665773+0.001356\ttest-rmse:1.665612+0.019682 \n",
      "[39]\ttrain-rmse:1.583990+0.001256\ttest-rmse:1.583799+0.019342 \n",
      "[40]\ttrain-rmse:1.506275+0.001134\ttest-rmse:1.506169+0.019086 \n",
      "[41]\ttrain-rmse:1.432536+0.000987\ttest-rmse:1.432533+0.018718 \n",
      "[42]\ttrain-rmse:1.362432+0.000937\ttest-rmse:1.362449+0.018384 \n",
      "[43]\ttrain-rmse:1.295792+0.000968\ttest-rmse:1.295879+0.018033 \n",
      "[44]\ttrain-rmse:1.232476+0.000937\ttest-rmse:1.232731+0.017462 \n",
      "[45]\ttrain-rmse:1.172381+0.000959\ttest-rmse:1.172770+0.016909 \n",
      "[46]\ttrain-rmse:1.115253+0.000939\ttest-rmse:1.115881+0.016344 \n",
      "[47]\ttrain-rmse:1.061087+0.000778\ttest-rmse:1.061869+0.015921 \n",
      "[48]\ttrain-rmse:1.009625+0.000799\ttest-rmse:1.010507+0.015478 \n",
      "[49]\ttrain-rmse:0.960757+0.000707\ttest-rmse:0.961746+0.015278 \n",
      "[50]\ttrain-rmse:0.914334+0.000675\ttest-rmse:0.915748+0.014888 \n",
      "[51]\ttrain-rmse:0.870248+0.000545\ttest-rmse:0.871964+0.014524 \n",
      "[52]\ttrain-rmse:0.828469+0.000578\ttest-rmse:0.830544+0.014096 \n",
      "[53]\ttrain-rmse:0.788743+0.000568\ttest-rmse:0.791320+0.013622 \n",
      "[54]\ttrain-rmse:0.750995+0.000473\ttest-rmse:0.754068+0.013307 \n",
      "[55]\ttrain-rmse:0.715158+0.000410\ttest-rmse:0.718889+0.012879 \n",
      "[56]\ttrain-rmse:0.681238+0.000434\ttest-rmse:0.685309+0.012686 \n",
      "[57]\ttrain-rmse:0.648915+0.000495\ttest-rmse:0.653689+0.012360 \n",
      "[58]\ttrain-rmse:0.618297+0.000500\ttest-rmse:0.623832+0.011970 \n",
      "[59]\ttrain-rmse:0.589329+0.000493\ttest-rmse:0.595626+0.011794 \n",
      "[60]\ttrain-rmse:0.561663+0.000404\ttest-rmse:0.568529+0.011688 \n",
      "[61]\ttrain-rmse:0.535468+0.000541\ttest-rmse:0.543067+0.011197 \n",
      "[62]\ttrain-rmse:0.510684+0.000557\ttest-rmse:0.519031+0.011014 \n",
      "[63]\ttrain-rmse:0.487062+0.000561\ttest-rmse:0.496214+0.010655 \n",
      "[64]\ttrain-rmse:0.464626+0.000474\ttest-rmse:0.474586+0.010222 \n",
      "[65]\ttrain-rmse:0.443388+0.000413\ttest-rmse:0.453988+0.010040 \n",
      "[66]\ttrain-rmse:0.423198+0.000420\ttest-rmse:0.434655+0.009861 \n",
      "[67]\ttrain-rmse:0.404039+0.000401\ttest-rmse:0.416342+0.009980 \n",
      "[68]\ttrain-rmse:0.385907+0.000445\ttest-rmse:0.398922+0.009738 \n",
      "[69]\ttrain-rmse:0.368706+0.000472\ttest-rmse:0.382596+0.009614 \n",
      "[70]\ttrain-rmse:0.352301+0.000519\ttest-rmse:0.367226+0.009472 \n",
      "[71]\ttrain-rmse:0.336813+0.000478\ttest-rmse:0.352825+0.009373 \n",
      "[72]\ttrain-rmse:0.322142+0.000525\ttest-rmse:0.339234+0.009293 \n",
      "[73]\ttrain-rmse:0.308241+0.000593\ttest-rmse:0.326516+0.009298 \n",
      "[74]\ttrain-rmse:0.295051+0.000613\ttest-rmse:0.314416+0.009383 \n",
      "[75]\ttrain-rmse:0.282582+0.000550\ttest-rmse:0.303005+0.009380 \n",
      "[76]\ttrain-rmse:0.270806+0.000496\ttest-rmse:0.292307+0.009390 \n",
      "[77]\ttrain-rmse:0.259599+0.000510\ttest-rmse:0.282323+0.009240 \n",
      "[78]\ttrain-rmse:0.249028+0.000619\ttest-rmse:0.272956+0.008965 \n",
      "[79]\ttrain-rmse:0.238995+0.000608\ttest-rmse:0.264318+0.008721 \n",
      "[80]\ttrain-rmse:0.229495+0.000656\ttest-rmse:0.256215+0.008794 \n",
      "[81]\ttrain-rmse:0.220518+0.000601\ttest-rmse:0.248403+0.008793 \n",
      "[82]\ttrain-rmse:0.212027+0.000655\ttest-rmse:0.241287+0.009015 \n",
      "[83]\ttrain-rmse:0.204034+0.000674\ttest-rmse:0.234449+0.009096 \n",
      "[84]\ttrain-rmse:0.196502+0.000631\ttest-rmse:0.228128+0.009047 \n",
      "[85]\ttrain-rmse:0.189323+0.000560\ttest-rmse:0.222338+0.009151 \n",
      "[86]\ttrain-rmse:0.182635+0.000642\ttest-rmse:0.217131+0.009183 \n",
      "[87]\ttrain-rmse:0.176194+0.000613\ttest-rmse:0.212127+0.009298 \n",
      "[88]\ttrain-rmse:0.170225+0.000644\ttest-rmse:0.207536+0.009222 \n",
      "[89]\ttrain-rmse:0.164547+0.000714\ttest-rmse:0.203248+0.009217 \n",
      "[90]\ttrain-rmse:0.159145+0.000748\ttest-rmse:0.199319+0.009295 \n",
      "[91]\ttrain-rmse:0.154065+0.000768\ttest-rmse:0.195509+0.009191 \n",
      "[92]\ttrain-rmse:0.149335+0.000810\ttest-rmse:0.191898+0.009174 \n",
      "[93]\ttrain-rmse:0.144879+0.000828\ttest-rmse:0.188833+0.009206 \n",
      "[94]\ttrain-rmse:0.140655+0.000847\ttest-rmse:0.185881+0.009237 \n",
      "[95]\ttrain-rmse:0.136737+0.000883\ttest-rmse:0.183150+0.009276 \n",
      "[96]\ttrain-rmse:0.133063+0.000954\ttest-rmse:0.180638+0.009348 \n",
      "[97]\ttrain-rmse:0.129653+0.000993\ttest-rmse:0.178230+0.009500 \n",
      "[98]\ttrain-rmse:0.126258+0.001076\ttest-rmse:0.176129+0.009722 \n",
      "[99]\ttrain-rmse:0.123188+0.001139\ttest-rmse:0.174222+0.009795 \n",
      "[100]\ttrain-rmse:0.120244+0.001221\ttest-rmse:0.172390+0.009816 \n",
      "[101]\ttrain-rmse:0.117514+0.001357\ttest-rmse:0.170757+0.009702 \n",
      "[102]\ttrain-rmse:0.114877+0.001310\ttest-rmse:0.169212+0.009657 \n",
      "[103]\ttrain-rmse:0.112520+0.001438\ttest-rmse:0.167883+0.009725 \n",
      "[104]\ttrain-rmse:0.110219+0.001441\ttest-rmse:0.166562+0.009771 \n",
      "[105]\ttrain-rmse:0.108070+0.001513\ttest-rmse:0.165470+0.009816 \n",
      "[106]\ttrain-rmse:0.106115+0.001549\ttest-rmse:0.164351+0.009858 \n",
      "[107]\ttrain-rmse:0.104289+0.001556\ttest-rmse:0.163363+0.009938 \n",
      "[108]\ttrain-rmse:0.102543+0.001655\ttest-rmse:0.162459+0.009996 \n",
      "[109]\ttrain-rmse:0.100909+0.001651\ttest-rmse:0.161698+0.010077 \n",
      "[110]\ttrain-rmse:0.099281+0.001688\ttest-rmse:0.160902+0.010031 \n",
      "[111]\ttrain-rmse:0.097817+0.001597\ttest-rmse:0.160258+0.010060 \n",
      "[112]\ttrain-rmse:0.096462+0.001632\ttest-rmse:0.159627+0.010049 \n",
      "[113]\ttrain-rmse:0.095111+0.001541\ttest-rmse:0.158999+0.010055 \n",
      "[114]\ttrain-rmse:0.093777+0.001540\ttest-rmse:0.158365+0.009987 \n",
      "[115]\ttrain-rmse:0.092716+0.001579\ttest-rmse:0.157829+0.009944 \n",
      "[116]\ttrain-rmse:0.091620+0.001607\ttest-rmse:0.157270+0.010021 \n",
      "[117]\ttrain-rmse:0.090580+0.001662\ttest-rmse:0.156918+0.010024 \n",
      "[118]\ttrain-rmse:0.089457+0.001710\ttest-rmse:0.156538+0.009993 \n",
      "[119]\ttrain-rmse:0.088562+0.001816\ttest-rmse:0.156230+0.010003 \n",
      "[120]\ttrain-rmse:0.087667+0.001765\ttest-rmse:0.155869+0.009995 \n",
      "[121]\ttrain-rmse:0.086833+0.001803\ttest-rmse:0.155594+0.010012 \n",
      "[122]\ttrain-rmse:0.085979+0.001725\ttest-rmse:0.155267+0.010026 \n",
      "[123]\ttrain-rmse:0.085271+0.001742\ttest-rmse:0.155050+0.010093 \n",
      "[124]\ttrain-rmse:0.084403+0.001634\ttest-rmse:0.154770+0.010055 \n",
      "[125]\ttrain-rmse:0.083632+0.001599\ttest-rmse:0.154498+0.010089 \n",
      "[126]\ttrain-rmse:0.082972+0.001689\ttest-rmse:0.154349+0.010131 \n",
      "[127]\ttrain-rmse:0.082212+0.001758\ttest-rmse:0.154158+0.010110 \n",
      "[128]\ttrain-rmse:0.081603+0.001821\ttest-rmse:0.153947+0.010104 \n",
      "[129]\ttrain-rmse:0.081047+0.001861\ttest-rmse:0.153818+0.010111 \n",
      "[130]\ttrain-rmse:0.080539+0.001835\ttest-rmse:0.153630+0.010230 \n",
      "[131]\ttrain-rmse:0.079987+0.001848\ttest-rmse:0.153473+0.010230 \n",
      "[132]\ttrain-rmse:0.079346+0.001898\ttest-rmse:0.153263+0.010233 \n",
      "[133]\ttrain-rmse:0.078796+0.001907\ttest-rmse:0.153136+0.010211 \n",
      "[134]\ttrain-rmse:0.078328+0.001855\ttest-rmse:0.153020+0.010345 \n",
      "[135]\ttrain-rmse:0.077733+0.001898\ttest-rmse:0.152934+0.010327 \n",
      "[136]\ttrain-rmse:0.077310+0.001873\ttest-rmse:0.152782+0.010396 \n",
      "[137]\ttrain-rmse:0.076797+0.001951\ttest-rmse:0.152779+0.010497 \n",
      "[138]\ttrain-rmse:0.076276+0.001939\ttest-rmse:0.152661+0.010501 \n",
      "[139]\ttrain-rmse:0.075895+0.001967\ttest-rmse:0.152612+0.010518 \n",
      "[140]\ttrain-rmse:0.075439+0.001949\ttest-rmse:0.152544+0.010581 \n",
      "[141]\ttrain-rmse:0.075026+0.001968\ttest-rmse:0.152481+0.010596 \n",
      "[142]\ttrain-rmse:0.074491+0.001915\ttest-rmse:0.152473+0.010584 \n",
      "[143]\ttrain-rmse:0.074087+0.001976\ttest-rmse:0.152374+0.010490 \n",
      "[144]\ttrain-rmse:0.073624+0.001950\ttest-rmse:0.152306+0.010508 \n",
      "[145]\ttrain-rmse:0.073190+0.001929\ttest-rmse:0.152190+0.010520 \n",
      "[146]\ttrain-rmse:0.072831+0.001910\ttest-rmse:0.152118+0.010502 \n",
      "[147]\ttrain-rmse:0.072491+0.001931\ttest-rmse:0.152118+0.010461 \n",
      "[148]\ttrain-rmse:0.072099+0.002076\ttest-rmse:0.152115+0.010455 \n",
      "[149]\ttrain-rmse:0.071723+0.002010\ttest-rmse:0.152057+0.010513 \n",
      "[150]\ttrain-rmse:0.071329+0.001962\ttest-rmse:0.152010+0.010539 \n",
      "[151]\ttrain-rmse:0.070939+0.001934\ttest-rmse:0.151953+0.010570 \n",
      "[152]\ttrain-rmse:0.070639+0.001924\ttest-rmse:0.151924+0.010615 \n",
      "[153]\ttrain-rmse:0.070240+0.001788\ttest-rmse:0.151915+0.010609 \n",
      "[154]\ttrain-rmse:0.069846+0.001803\ttest-rmse:0.151822+0.010588 \n",
      "[155]\ttrain-rmse:0.069394+0.001770\ttest-rmse:0.151890+0.010653 \n",
      "[156]\ttrain-rmse:0.068983+0.001752\ttest-rmse:0.151865+0.010607 \n",
      "[157]\ttrain-rmse:0.068682+0.001698\ttest-rmse:0.151798+0.010605 \n",
      "[158]\ttrain-rmse:0.068337+0.001763\ttest-rmse:0.151764+0.010546 \n",
      "[159]\ttrain-rmse:0.067994+0.001725\ttest-rmse:0.151804+0.010596 \n",
      "[160]\ttrain-rmse:0.067688+0.001747\ttest-rmse:0.151803+0.010569 \n",
      "[161]\ttrain-rmse:0.067318+0.001842\ttest-rmse:0.151725+0.010542 \n",
      "[162]\ttrain-rmse:0.066905+0.001869\ttest-rmse:0.151722+0.010594 \n",
      "[163]\ttrain-rmse:0.066553+0.001957\ttest-rmse:0.151706+0.010646 \n",
      "[164]\ttrain-rmse:0.066196+0.001884\ttest-rmse:0.151678+0.010618 \n",
      "[165]\ttrain-rmse:0.065920+0.001764\ttest-rmse:0.151639+0.010602 \n",
      "[166]\ttrain-rmse:0.065623+0.001788\ttest-rmse:0.151590+0.010630 \n",
      "[167]\ttrain-rmse:0.065250+0.001869\ttest-rmse:0.151552+0.010688 \n",
      "[168]\ttrain-rmse:0.064875+0.001951\ttest-rmse:0.151545+0.010638 \n",
      "[169]\ttrain-rmse:0.064607+0.001977\ttest-rmse:0.151560+0.010620 \n",
      "[170]\ttrain-rmse:0.064256+0.001866\ttest-rmse:0.151489+0.010675 \n",
      "[171]\ttrain-rmse:0.063863+0.001852\ttest-rmse:0.151501+0.010647 \n",
      "[172]\ttrain-rmse:0.063573+0.001920\ttest-rmse:0.151442+0.010634 \n",
      "[173]\ttrain-rmse:0.063056+0.001862\ttest-rmse:0.151435+0.010615 \n",
      "[174]\ttrain-rmse:0.062737+0.001826\ttest-rmse:0.151468+0.010616 \n",
      "[175]\ttrain-rmse:0.062425+0.001899\ttest-rmse:0.151447+0.010634 \n",
      "[176]\ttrain-rmse:0.062149+0.001891\ttest-rmse:0.151401+0.010608 \n",
      "[177]\ttrain-rmse:0.061813+0.001943\ttest-rmse:0.151379+0.010642 \n",
      "[178]\ttrain-rmse:0.061509+0.001941\ttest-rmse:0.151400+0.010601 \n",
      "[179]\ttrain-rmse:0.061188+0.001963\ttest-rmse:0.151365+0.010559 \n",
      "[180]\ttrain-rmse:0.060936+0.001990\ttest-rmse:0.151356+0.010592 \n",
      "[181]\ttrain-rmse:0.060603+0.002044\ttest-rmse:0.151354+0.010647 \n",
      "[182]\ttrain-rmse:0.060330+0.002015\ttest-rmse:0.151316+0.010637 \n",
      "[183]\ttrain-rmse:0.059977+0.002060\ttest-rmse:0.151283+0.010644 \n",
      "[184]\ttrain-rmse:0.059716+0.002099\ttest-rmse:0.151266+0.010669 \n",
      "[185]\ttrain-rmse:0.059386+0.002142\ttest-rmse:0.151307+0.010657 \n",
      "[186]\ttrain-rmse:0.059064+0.002047\ttest-rmse:0.151264+0.010719 \n",
      "[187]\ttrain-rmse:0.058750+0.002084\ttest-rmse:0.151263+0.010703 \n",
      "[188]\ttrain-rmse:0.058371+0.002025\ttest-rmse:0.151252+0.010666 \n",
      "[189]\ttrain-rmse:0.058030+0.001996\ttest-rmse:0.151239+0.010721 \n",
      "[190]\ttrain-rmse:0.057701+0.002109\ttest-rmse:0.151226+0.010710 \n",
      "[191]\ttrain-rmse:0.057418+0.002038\ttest-rmse:0.151195+0.010728 \n",
      "[192]\ttrain-rmse:0.057040+0.001984\ttest-rmse:0.151223+0.010678 \n",
      "[193]\ttrain-rmse:0.056744+0.001960\ttest-rmse:0.151210+0.010668 \n",
      "[194]\ttrain-rmse:0.056496+0.001953\ttest-rmse:0.151220+0.010674 \n",
      "[195]\ttrain-rmse:0.056140+0.001987\ttest-rmse:0.151195+0.010702 \n",
      "[196]\ttrain-rmse:0.055921+0.001938\ttest-rmse:0.151154+0.010737 \n",
      "[197]\ttrain-rmse:0.055683+0.001946\ttest-rmse:0.151139+0.010741 \n",
      "[198]\ttrain-rmse:0.055441+0.001862\ttest-rmse:0.151149+0.010730 \n",
      "[199]\ttrain-rmse:0.055106+0.001757\ttest-rmse:0.151169+0.010711 \n",
      "[200]\ttrain-rmse:0.054746+0.001793\ttest-rmse:0.151190+0.010727 \n",
      "[201]\ttrain-rmse:0.054446+0.001726\ttest-rmse:0.151132+0.010801 \n",
      "[202]\ttrain-rmse:0.054123+0.001800\ttest-rmse:0.151149+0.010825 \n",
      "[203]\ttrain-rmse:0.053872+0.001840\ttest-rmse:0.151139+0.010840 \n",
      "[204]\ttrain-rmse:0.053588+0.001846\ttest-rmse:0.151185+0.010832 \n",
      "[205]\ttrain-rmse:0.053367+0.001906\ttest-rmse:0.151182+0.010855 \n",
      "[206]\ttrain-rmse:0.053043+0.001834\ttest-rmse:0.151155+0.010898 \n",
      "[207]\ttrain-rmse:0.052691+0.001846\ttest-rmse:0.151154+0.010886 \n",
      "[208]\ttrain-rmse:0.052428+0.001837\ttest-rmse:0.151117+0.010933 \n",
      "[209]\ttrain-rmse:0.052112+0.001787\ttest-rmse:0.151158+0.010948 \n",
      "[210]\ttrain-rmse:0.051945+0.001826\ttest-rmse:0.151162+0.010950 \n",
      "[211]\ttrain-rmse:0.051743+0.001878\ttest-rmse:0.151167+0.010992 \n",
      "[212]\ttrain-rmse:0.051496+0.001897\ttest-rmse:0.151176+0.010978 \n",
      "[213]\ttrain-rmse:0.051150+0.001831\ttest-rmse:0.151198+0.011000 \n",
      "[214]\ttrain-rmse:0.050857+0.001818\ttest-rmse:0.151249+0.011031 \n",
      "[215]\ttrain-rmse:0.050603+0.001840\ttest-rmse:0.151272+0.011006 \n",
      "[216]\ttrain-rmse:0.050351+0.001838\ttest-rmse:0.151233+0.010988 \n",
      "[217]\ttrain-rmse:0.050089+0.001856\ttest-rmse:0.151232+0.011013 \n",
      "[218]\ttrain-rmse:0.049844+0.001921\ttest-rmse:0.151258+0.010978 \n",
      "[219]\ttrain-rmse:0.049576+0.001888\ttest-rmse:0.151282+0.010938 \n",
      "[220]\ttrain-rmse:0.049273+0.001845\ttest-rmse:0.151293+0.010909 \n",
      "[221]\ttrain-rmse:0.048983+0.001823\ttest-rmse:0.151309+0.010946 \n",
      "[222]\ttrain-rmse:0.048707+0.001779\ttest-rmse:0.151288+0.010945 \n",
      "[223]\ttrain-rmse:0.048450+0.001807\ttest-rmse:0.151254+0.010941 \n",
      "[224]\ttrain-rmse:0.048204+0.001802\ttest-rmse:0.151269+0.010950 \n",
      "[225]\ttrain-rmse:0.048010+0.001848\ttest-rmse:0.151283+0.010942 \n",
      "[226]\ttrain-rmse:0.047737+0.001862\ttest-rmse:0.151278+0.010960 \n",
      "[227]\ttrain-rmse:0.047570+0.001845\ttest-rmse:0.151295+0.010980 \n",
      "[228]\ttrain-rmse:0.047396+0.001840\ttest-rmse:0.151291+0.011009 \n",
      "Stopping. Best iteration:\n",
      "[208]\ttrain-rmse:0.052428+0.001837\ttest-rmse:0.151117+0.010933\n",
      "\n",
      "Best nrounds: 208 \n"
     ]
    }
   ],
   "source": [
    "# Define XGBoost parameters\n",
    "params <- list(\n",
    "  objective = \"reg:squarederror\",  # Regression task\n",
    "  eval_metric = \"rmse\",            # Root Mean Squared Error\n",
    "  eta = 0.05,                      # Learning rate\n",
    "  max_depth = 6,                   # Tree depth\n",
    "  subsample = 0.8,                 # Row sampling\n",
    "  colsample_bytree = 0.8           # Feature sampling\n",
    ")\n",
    "\n",
    "# Convert data to XGBoost format\n",
    "dtrain <- xgb.DMatrix(data = x_train, label = y_train)\n",
    "dtest <- xgb.DMatrix(data = x_test)\n",
    "\n",
    "# Use cross-validation to determine `nrounds`\n",
    "set.seed(123)\n",
    "cv_results <- xgb.cv(\n",
    "  params = params,\n",
    "  data = dtrain,\n",
    "  nrounds = 500,  # Start with a reasonable upper bound\n",
    "  nfold = 5,  # 5-fold cross-validation\n",
    "  early_stopping_rounds = 20,  # Stop if no improvement\n",
    "  verbose = TRUE\n",
    ")\n",
    "\n",
    "# Extract best `nrounds`\n",
    "best_nrounds <- cv_results$best_iteration\n",
    "cat(\"Best nrounds:\", best_nrounds, \"\\n\")\n",
    "\n",
    "# Train final model with best `nrounds`\n",
    "xgb_model <- xgb.train(\n",
    "  params = params,\n",
    "  data = dtrain,\n",
    "  nrounds = best_nrounds,\n",
    "  verbose = 1\n",
    ")"
   ]
  },
  {
   "cell_type": "markdown",
   "id": "1cb79034-55ec-429e-9f27-103b4e3f1eeb",
   "metadata": {},
   "source": [
    "## References\n",
    "\n",
    "- Kaggle Competition: https://www.kaggle.com/competitions/house-prices-advanced-regression-techniques/overview\n",
    "- Dataset Description: https://www.kaggle.com/competitions/house-prices-advanced-regression-techniques/data"
   ]
  }
 ],
 "metadata": {
  "kernelspec": {
   "display_name": "R",
   "language": "R",
   "name": "ir"
  },
  "language_info": {
   "codemirror_mode": "r",
   "file_extension": ".r",
   "mimetype": "text/x-r-source",
   "name": "R",
   "pygments_lexer": "r",
   "version": "4.4.1"
  }
 },
 "nbformat": 4,
 "nbformat_minor": 5
}
