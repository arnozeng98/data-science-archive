{
 "cells": [
  {
   "cell_type": "markdown",
   "id": "b53eaad7-6912-4883-aa64-a9c15e8b369f",
   "metadata": {},
   "source": [
    "# House Prices (Python)\n",
    "\n",
    "## Advanced Regression Techniques\n",
    "Predict sales prices and practice feature engineering, RFs, and gradient boosting\n",
    "\n",
    "**Author:** Lingsong Zeng<br>\n",
    "**Date:** 12/31/2024"
   ]
  },
  {
   "cell_type": "markdown",
   "id": "1120c632-1154-4cec-be9f-39119822806e",
   "metadata": {},
   "source": [
    "## Table of Contents\n",
    "\n",
    "1. [Introduction](#Introduction)\n",
    "2. [Data](#Data)\n",
    "3. [EDA](#EDA)\n",
    "4. [Feature Engineering](#Feature-Engineering)\n",
    "5. [Preprocessing](#Preprocessing)\n",
    "6. [Modeling](#Modeling)   \n",
    "    - [kNN](#kNN)\n",
    "    - [SVM](#SVM)\n",
    "    - [Linear Regression](#Linear-Regression)\n",
    "    - [Lasso](#Lasso)\n",
    "    - [Ridge](#Ridge)\n",
    "    - [ElasticNet](#ElasticNet)\n",
    "    - [Decision Tree](#Decision-Tree)\n",
    "    - [Bagging](#Bagging)\n",
    "    - [Random Forest](#Random-Forest)\n",
    "    - [XGBoost](#XGBoost)\n",
    "    - [LightGBM](#LightGBM)\n",
    "    - [Stacking](#Stacking)\n",
    "7. [References](#References)"
   ]
  },
  {
   "attachments": {},
   "cell_type": "markdown",
   "id": "11996b33-ad5c-4c09-b7c9-6bae7b5987c9",
   "metadata": {},
   "source": [
    "## Introduction\n",
    "\n",
    "### Overview\n",
    "\n",
    "> This competition runs indefinitely with a rolling leaderboard. [Learn more](https://www.kaggle.com/docs/competitions#getting-started)\n",
    "\n",
    "### Description\n",
    "\n",
    "![](https://storage.googleapis.com/kaggle-media/competitions/House%20Prices/kaggle_5407_media_housesbanner.png)\n",
    "\n",
    "Ask a home buyer to describe their dream house, and they probably won't begin with the height of the basement ceiling or the proximity to an east-west railroad. But this playground competition's dataset proves that much more influences price negotiations than the number of bedrooms or a white-picket fence.\n",
    "\n",
    "With 79 explanatory variables describing (almost) every aspect of residential homes in Ames, Iowa, this competition challenges you to predict the final price of each home.\n",
    "\n",
    "### Practice Skills\n",
    "\n",
    "- Creative feature engineering \n",
    "- Advanced regression techniques like random forest and gradient boosting\n",
    "\n",
    "### Acknowledgments\n",
    "\n",
    "The [Ames Housing dataset](https://www.amstat.org/publications/jse/v19n3/decock.pdf) was compiled by Dean De Cock for use in data science education. It's an incredible alternative for data scientists looking for a modernized and expanded version of the often cited Boston Housing dataset. \n",
    "\n",
    "Photo by [Tom Thain](https://unsplash.com/@tthfilms) on Unsplash.\n",
    "\n",
    "### Evaluation\n",
    "\n",
    "#### Goal\n",
    "\n",
    "It is my job to predict the sales price for each house. For each Id in the test set, predict the value of the `SalePrice` variable. \n",
    "\n",
    "#### Metric\n",
    "\n",
    "Submissions are evaluated on [Root-Mean-Squared-Error (RMSE)](https://en.wikipedia.org/wiki/Root_mean_square_deviation) between the logarithm of the predicted value and the logarithm of the observed sales price. (Taking logs means that errors in predicting expensive houses and cheap houses will affect the result equally.)"
   ]
  },
  {
   "cell_type": "code",
   "execution_count": 1,
   "id": "6725b737-1b4e-4941-b30b-edc88af7e332",
   "metadata": {},
   "outputs": [],
   "source": [
    "# Import required libraries\n",
    "import os\n",
    "import numpy as np\n",
    "import pandas as pd\n",
    "import seaborn as sns\n",
    "import matplotlib.pyplot as plt\n",
    "from sklearn.metrics import root_mean_squared_error\n",
    "from sklearn.experimental import enable_iterative_imputer  # noqa\n",
    "from sklearn.impute import IterativeImputer\n",
    "from sklearn.preprocessing import StandardScaler\n",
    "from sklearn.model_selection import RepeatedKFold, GridSearchCV, RandomizedSearchCV\n",
    "from sklearn.neighbors import KNeighborsRegressor\n",
    "from sklearn.svm import SVR\n",
    "from sklearn.linear_model import LinearRegression, Lasso, Ridge, ElasticNet\n",
    "from sklearn.tree import DecisionTreeRegressor\n",
    "from xgboost import XGBRegressor, DMatrix\n",
    "from lightgbm import LGBMRegressor\n",
    "from sklearn.ensemble import RandomForestRegressor, BaggingRegressor, StackingRegressor"
   ]
  },
  {
   "cell_type": "markdown",
   "id": "6b1b3b0c-03f1-4b6d-9cbb-c7dd1cd86cad",
   "metadata": {},
   "source": [
    "## Data\n",
    "\n",
    "### File descriptions\n",
    "\n",
    "- `train.csv` - the training set\n",
    "- `test.csv` - the test set\n",
    "- `data_description.txt` - full description of each column, originally prepared by Dean De Cock but lightly edited to match the column names used here\n",
    "- `sample_submission.csv` - a benchmark submission from a linear regression on year and month of sale, lot square footage, and number of bedrooms"
   ]
  },
  {
   "cell_type": "code",
   "execution_count": 2,
   "id": "62480edf-6288-421d-8f8d-938f2cf5d9e2",
   "metadata": {},
   "outputs": [],
   "source": [
    "# Define paths for train and test datasets\n",
    "train_path = os.path.join('data', 'house-prices', 'raw', 'train.csv')\n",
    "test_path = os.path.join('data', 'house-prices', 'raw', 'test.csv')\n",
    "\n",
    "# Load datasets\n",
    "train = pd.read_csv(train_path)\n",
    "test = pd.read_csv(test_path)"
   ]
  },
  {
   "cell_type": "markdown",
   "id": "cf61a7d6-2432-4569-a95e-dc6ec934ada7",
   "metadata": {},
   "source": [
    "Here we using `os.path.join` , the dynamic path generation, instead of using hard-coded paths is aiming to provide better compatibility across different platforms.\n",
    "\n",
    "Different operating systems use different path separators (e.g. Windows uses `\\`, while Linux and macOS use `/`). `os.path.join` automatically chooses the correct separator based on the operating system."
   ]
  },
  {
   "cell_type": "code",
   "execution_count": 3,
   "id": "c653a6e5-b459-40ce-a1f6-9c313e1d64a0",
   "metadata": {},
   "outputs": [
    {
     "name": "stdout",
     "output_type": "stream",
     "text": [
      "Train dataset shape: (1460, 81)\n",
      "Test  dataset shape: (1459, 80)\n"
     ]
    }
   ],
   "source": [
    "# Basic dataset overview\n",
    "print(\"Train dataset shape:\", train.shape)\n",
    "print(\"Test  dataset shape:\", test.shape)"
   ]
  },
  {
   "cell_type": "markdown",
   "id": "be1b985c-f0e2-4b9e-b4cf-559a63bcf172",
   "metadata": {},
   "source": [
    "The size of the training dataset and the test dataset are roughly the same. The test dataset has one less column than the training dataset, which is our target column `SalePrice`."
   ]
  },
  {
   "cell_type": "code",
   "execution_count": 4,
   "id": "544e0bdc-2e61-404d-95d9-c8d738856bde",
   "metadata": {},
   "outputs": [
    {
     "name": "stdout",
     "output_type": "stream",
     "text": [
      "<class 'pandas.core.frame.DataFrame'>\n",
      "RangeIndex: 1460 entries, 0 to 1459\n",
      "Data columns (total 81 columns):\n",
      " #   Column         Non-Null Count  Dtype  \n",
      "---  ------         --------------  -----  \n",
      " 0   Id             1460 non-null   int64  \n",
      " 1   MSSubClass     1460 non-null   int64  \n",
      " 2   MSZoning       1460 non-null   object \n",
      " 3   LotFrontage    1201 non-null   float64\n",
      " 4   LotArea        1460 non-null   int64  \n",
      " 5   Street         1460 non-null   object \n",
      " 6   Alley          91 non-null     object \n",
      " 7   LotShape       1460 non-null   object \n",
      " 8   LandContour    1460 non-null   object \n",
      " 9   Utilities      1460 non-null   object \n",
      " 10  LotConfig      1460 non-null   object \n",
      " 11  LandSlope      1460 non-null   object \n",
      " 12  Neighborhood   1460 non-null   object \n",
      " 13  Condition1     1460 non-null   object \n",
      " 14  Condition2     1460 non-null   object \n",
      " 15  BldgType       1460 non-null   object \n",
      " 16  HouseStyle     1460 non-null   object \n",
      " 17  OverallQual    1460 non-null   int64  \n",
      " 18  OverallCond    1460 non-null   int64  \n",
      " 19  YearBuilt      1460 non-null   int64  \n",
      " 20  YearRemodAdd   1460 non-null   int64  \n",
      " 21  RoofStyle      1460 non-null   object \n",
      " 22  RoofMatl       1460 non-null   object \n",
      " 23  Exterior1st    1460 non-null   object \n",
      " 24  Exterior2nd    1460 non-null   object \n",
      " 25  MasVnrType     588 non-null    object \n",
      " 26  MasVnrArea     1452 non-null   float64\n",
      " 27  ExterQual      1460 non-null   object \n",
      " 28  ExterCond      1460 non-null   object \n",
      " 29  Foundation     1460 non-null   object \n",
      " 30  BsmtQual       1423 non-null   object \n",
      " 31  BsmtCond       1423 non-null   object \n",
      " 32  BsmtExposure   1422 non-null   object \n",
      " 33  BsmtFinType1   1423 non-null   object \n",
      " 34  BsmtFinSF1     1460 non-null   int64  \n",
      " 35  BsmtFinType2   1422 non-null   object \n",
      " 36  BsmtFinSF2     1460 non-null   int64  \n",
      " 37  BsmtUnfSF      1460 non-null   int64  \n",
      " 38  TotalBsmtSF    1460 non-null   int64  \n",
      " 39  Heating        1460 non-null   object \n",
      " 40  HeatingQC      1460 non-null   object \n",
      " 41  CentralAir     1460 non-null   object \n",
      " 42  Electrical     1459 non-null   object \n",
      " 43  1stFlrSF       1460 non-null   int64  \n",
      " 44  2ndFlrSF       1460 non-null   int64  \n",
      " 45  LowQualFinSF   1460 non-null   int64  \n",
      " 46  GrLivArea      1460 non-null   int64  \n",
      " 47  BsmtFullBath   1460 non-null   int64  \n",
      " 48  BsmtHalfBath   1460 non-null   int64  \n",
      " 49  FullBath       1460 non-null   int64  \n",
      " 50  HalfBath       1460 non-null   int64  \n",
      " 51  BedroomAbvGr   1460 non-null   int64  \n",
      " 52  KitchenAbvGr   1460 non-null   int64  \n",
      " 53  KitchenQual    1460 non-null   object \n",
      " 54  TotRmsAbvGrd   1460 non-null   int64  \n",
      " 55  Functional     1460 non-null   object \n",
      " 56  Fireplaces     1460 non-null   int64  \n",
      " 57  FireplaceQu    770 non-null    object \n",
      " 58  GarageType     1379 non-null   object \n",
      " 59  GarageYrBlt    1379 non-null   float64\n",
      " 60  GarageFinish   1379 non-null   object \n",
      " 61  GarageCars     1460 non-null   int64  \n",
      " 62  GarageArea     1460 non-null   int64  \n",
      " 63  GarageQual     1379 non-null   object \n",
      " 64  GarageCond     1379 non-null   object \n",
      " 65  PavedDrive     1460 non-null   object \n",
      " 66  WoodDeckSF     1460 non-null   int64  \n",
      " 67  OpenPorchSF    1460 non-null   int64  \n",
      " 68  EnclosedPorch  1460 non-null   int64  \n",
      " 69  3SsnPorch      1460 non-null   int64  \n",
      " 70  ScreenPorch    1460 non-null   int64  \n",
      " 71  PoolArea       1460 non-null   int64  \n",
      " 72  PoolQC         7 non-null      object \n",
      " 73  Fence          281 non-null    object \n",
      " 74  MiscFeature    54 non-null     object \n",
      " 75  MiscVal        1460 non-null   int64  \n",
      " 76  MoSold         1460 non-null   int64  \n",
      " 77  YrSold         1460 non-null   int64  \n",
      " 78  SaleType       1460 non-null   object \n",
      " 79  SaleCondition  1460 non-null   object \n",
      " 80  SalePrice      1460 non-null   int64  \n",
      "dtypes: float64(3), int64(35), object(43)\n",
      "memory usage: 924.0+ KB\n"
     ]
    }
   ],
   "source": [
    "train.info()"
   ]
  },
  {
   "cell_type": "code",
   "execution_count": 5,
   "id": "57681295-360d-4291-8e5b-af56a9a122e2",
   "metadata": {},
   "outputs": [],
   "source": [
    "categorical_features = [\n",
    "    'MSSubClass', 'MSZoning', 'Street', 'Alley', 'LotShape', 'LandContour',\n",
    "    'Utilities', 'LotConfig', 'LandSlope', 'Neighborhood', 'Condition1', \n",
    "    'Condition2', 'BldgType', 'HouseStyle', 'RoofStyle', 'RoofMatl', \n",
    "    'Exterior1st', 'Exterior2nd', 'MasVnrType', 'ExterQual', 'ExterCond', \n",
    "    'Foundation', 'BsmtQual', 'BsmtCond', 'BsmtExposure', 'BsmtFinType1', \n",
    "    'BsmtFinType2', 'Heating', 'HeatingQC', 'CentralAir', 'Electrical', \n",
    "    'KitchenQual', 'Functional', 'FireplaceQu', 'GarageType', 'GarageFinish', \n",
    "    'GarageQual', 'GarageCond', 'PavedDrive', 'PoolQC', 'Fence', 'MiscFeature', \n",
    "    'SaleType', 'SaleCondition', 'OverallQual', 'OverallCond'\n",
    "]\n",
    "\n",
    "numerical_features = [\n",
    "    'LotFrontage', 'LotArea', 'YearBuilt', 'YearRemodAdd', 'MasVnrArea',\n",
    "    'BsmtFinSF1', 'BsmtFinSF2', 'BsmtUnfSF', 'TotalBsmtSF', '1stFlrSF',\n",
    "    '2ndFlrSF', 'LowQualFinSF', 'GrLivArea', 'BsmtFullBath', 'BsmtHalfBath',\n",
    "    'FullBath', 'HalfBath', 'BedroomAbvGr', 'KitchenAbvGr', 'TotRmsAbvGrd',\n",
    "    'Fireplaces', 'GarageYrBlt', 'GarageCars', 'GarageArea', 'WoodDeckSF',\n",
    "    'OpenPorchSF', 'EnclosedPorch', '3SsnPorch', 'ScreenPorch', 'PoolArea',\n",
    "    'MiscVal', 'MoSold', 'YrSold'\n",
    "]"
   ]
  },
  {
   "cell_type": "markdown",
   "id": "7cedddda-3dfb-4c51-b4b9-598dbcd19714",
   "metadata": {},
   "source": [
    "For `categorical_features` and `numerical_features`, the reason we cannot directly select features with values of `int64` or `float64`, because some features such as `MSSubClass`:\n",
    "\n",
    "```plaintext\n",
    "MSSubClass: Identifies the type of dwelling involved in the sale.\t\n",
    "\n",
    "        20\t1-STORY 1946 & NEWER ALL STYLES\n",
    "        30\t1-STORY 1945 & OLDER\n",
    "        40\t1-STORY W/FINISHED ATTIC ALL AGES\n",
    "        45\t1-1/2 STORY - UNFINISHED ALL AGES\n",
    "        50\t1-1/2 STORY FINISHED ALL AGES\n",
    "        60\t2-STORY 1946 & NEWER\n",
    "        70\t2-STORY 1945 & OLDER\n",
    "        75\t2-1/2 STORY ALL AGES\n",
    "        80\tSPLIT OR MULTI-LEVEL\n",
    "        85\tSPLIT FOYER\n",
    "        90\tDUPLEX - ALL STYLES AND AGES\n",
    "       120\t1-STORY PUD (Planned Unit Development) - 1946 & NEWER\n",
    "       150\t1-1/2 STORY PUD - ALL AGES\n",
    "       160\t2-STORY PUD - 1946 & NEWER\n",
    "       180\tPUD - MULTILEVEL - INCL SPLIT LEV/FOYER\n",
    "       190\t2 FAMILY CONVERSION - ALL STYLES AND AGES\n",
    "```\n",
    "\n",
    "Its value is `int64` format, but it is actually a categorical feature. Therefore, here I manually distinguish all `categorical_features` and `numerical_features` according to the description in `data_description.txt`."
   ]
  },
  {
   "cell_type": "code",
   "execution_count": 6,
   "id": "8b6bd994-2e48-4c3a-9aa8-de27207a9925",
   "metadata": {},
   "outputs": [],
   "source": [
    "none_features = {\n",
    "    'Alley': 'NoAlley',\n",
    "    'BsmtQual': 'NoBsmt',\n",
    "    'BsmtCond': 'NoBsmt',\n",
    "    'BsmtExposure': 'NoBsmt',\n",
    "    'BsmtFinType1': 'NoBsmt',\n",
    "    'BsmtFinType2': 'NoBsmt',\n",
    "    'FireplaceQu': 'NoFireplace',\n",
    "    'GarageType': 'NoGarage',\n",
    "    'GarageFinish': 'NoGarage',\n",
    "    'GarageQual': 'NoGarage',\n",
    "    'GarageCond': 'NoGarage',\n",
    "    'PoolQC': 'NoPool',\n",
    "    'Fence': 'NoFence',\n",
    "    'MiscFeature': 'NoFeature'\n",
    "}"
   ]
  },
  {
   "cell_type": "markdown",
   "id": "67b773c8-4eff-4388-af04-b0418a03b932",
   "metadata": {},
   "source": [
    "According to the description in `data_description.txt`, `NA` in some features does not mean Missing Value, but means that the observation does not have the feature, such as `Alley`:\n",
    "\n",
    "```plaintext\n",
    "Alley: Type of alley access to property\n",
    "\n",
    "       Grvl\tGravel\n",
    "       Pave\tPaved\n",
    "       NA \tNo alley access\n",
    "```\n",
    "\n",
    "Therefore, the missing value filling treatment of these features should be different. I filtered out all similar features here to prepare for the missing value filling in the subsequent preprocessing."
   ]
  },
  {
   "cell_type": "code",
   "execution_count": 7,
   "id": "e439c3e3-8d5e-4d3e-b4f2-75a302d8ebbd",
   "metadata": {},
   "outputs": [],
   "source": [
    "for feature, value in none_features.items():\n",
    "    train[feature] = train[feature].fillna(value)\n",
    "    test[feature] = test[feature].fillna(value)"
   ]
  },
  {
   "cell_type": "code",
   "execution_count": 8,
   "id": "99bf962e-2fd5-486b-9461-7cbcd5d69969",
   "metadata": {},
   "outputs": [],
   "source": [
    "ordinal_features = [\n",
    "    \"MSSubClass\", \"OverallQual\", \"OverallCond\", \"LotShape\", \"LandSlope\",\n",
    "    \"ExterQual\", \"ExterCond\", \"BsmtQual\", \"BsmtCond\", \"BsmtExposure\",\n",
    "    \"BsmtFinType1\", \"BsmtFinType2\", \"HeatingQC\", \"KitchenQual\",\n",
    "    \"Functional\", \"FireplaceQu\", \"GarageFinish\", \"GarageQual\", \"GarageCond\",\n",
    "    \"PavedDrive\", \"PoolQC\", \"Fence\"\n",
    "]\n",
    "\n",
    "nominal_features = [\n",
    "    \"MSZoning\", \"Street\", \"Alley\", \"LandContour\", \"Utilities\", \"LotConfig\",\n",
    "    \"Neighborhood\", \"Condition1\", \"Condition2\", \"BldgType\", \"HouseStyle\",\n",
    "    \"RoofStyle\", \"RoofMatl\", \"Exterior1st\", \"Exterior2nd\", \"MasVnrType\",\n",
    "    \"Foundation\", \"Heating\", \"CentralAir\", \"Electrical\", \"GarageType\",\n",
    "    \"MiscFeature\", \"SaleType\", \"SaleCondition\"\n",
    "]"
   ]
  },
  {
   "cell_type": "markdown",
   "id": "797b8807-a58b-4ad8-a513-fd36f8eb0133",
   "metadata": {},
   "source": [
    "Similarly, I also distinguish between `ordinal_features` and `nominal_features` here to facilitate subsequent preprocessing. The main difference between them is whether the variable values are ordered. The following are examples of an ordinal feature and a nominal feature respectively.\n",
    "\n",
    "```plaintext\n",
    "ExterQual: Evaluates the quality of the material on the exterior \n",
    "\t\t\n",
    "       Ex\tExcellent\n",
    "       Gd\tGood\n",
    "       TA\tAverage/Typical\n",
    "       Fa\tFair\n",
    "       Po\tPoor\n",
    "\n",
    "MSZoning: Identifies the general zoning classification of the sale.\n",
    "\t\t\n",
    "       A\tAgriculture\n",
    "       C\tCommercial\n",
    "       FV\tFloating Village Residential\n",
    "       I\tIndustrial\n",
    "       RH\tResidential High Density\n",
    "       RL\tResidential Low Density\n",
    "       RP\tResidential Low Density Park \n",
    "       RM\tResidential Medium Density\n",
    "```\n",
    "\n",
    "In the following preprocessing, ordinal features will be applied with Label Encoding, while nominal features will be applied with One-Hot Encoding."
   ]
  },
  {
   "cell_type": "markdown",
   "id": "db4eb499-83ce-4ea4-b6c3-50c67824737b",
   "metadata": {},
   "source": [
    "## EDA"
   ]
  },
  {
   "cell_type": "code",
   "execution_count": 9,
   "id": "ee9635fc-058f-40de-b299-f168c6b9552d",
   "metadata": {},
   "outputs": [
    {
     "name": "stdout",
     "output_type": "stream",
     "text": [
      "count      1460.000000\n",
      "mean     180921.195890\n",
      "std       79442.502883\n",
      "min       34900.000000\n",
      "25%      129975.000000\n",
      "50%      163000.000000\n",
      "75%      214000.000000\n",
      "max      755000.000000\n",
      "Name: SalePrice, dtype: float64\n"
     ]
    }
   ],
   "source": [
    "# Summary statistics for SalePrice\n",
    "print(train['SalePrice'].describe())"
   ]
  },
  {
   "cell_type": "code",
   "execution_count": 10,
   "id": "f2cb2740-89db-4faf-9427-93f92e3d4d48",
   "metadata": {},
   "outputs": [
    {
     "data": {
      "image/png": "[encoded data removed]",
      "text/plain": [
       "<Figure size 640x480 with 1 Axes>"
      ]
     },
     "metadata": {},
     "output_type": "display_data"
    },
    {
     "name": "stdout",
     "output_type": "stream",
     "text": [
      "Skewness of SalePrice: 1.8828757597682129\n",
      "Kurtosis of SalePrice: 6.536281860064529\n"
     ]
    }
   ],
   "source": [
    "# Plot the distribution of SalePrice\n",
    "sns.histplot(train['SalePrice'], bins=20, kde=True)\n",
    "plt.title('SalePrice Distribution')\n",
    "plt.show()\n",
    "\n",
    "# Check skewness and kurtosis of SalePrice\n",
    "print(\"Skewness of SalePrice:\", train['SalePrice'].skew())\n",
    "print(\"Kurtosis of SalePrice:\", train['SalePrice'].kurt())"
   ]
  },
  {
   "cell_type": "markdown",
   "id": "c6a85cd4-28a9-48bd-96a7-186c7b9d8380",
   "metadata": {},
   "source": [
    "From the histogram and the calculated value of skewness (1.88), we can see that the distribution of `SalePrice` is right-skewed. This may have a negative impact on the training of the model. So we need a log transformation for `SalePrice`."
   ]
  },
  {
   "cell_type": "code",
   "execution_count": 11,
   "id": "75b05982-ca05-42de-bc7b-2314db781c40",
   "metadata": {},
   "outputs": [],
   "source": [
    "train['LogSalePrice'] = np.log1p(train['SalePrice'])"
   ]
  },
  {
   "cell_type": "markdown",
   "id": "5a1fd8ee-7eb9-4398-83a6-d95c77d7bae4",
   "metadata": {},
   "source": [
    "We use `np.log1p()` instead of `np.log()` to handle zero values, since `log(0)` does not exist. `np.log1p()` is a shorthand for `log(x+1)` and ensures that the target value is non-negative."
   ]
  },
  {
   "cell_type": "code",
   "execution_count": 12,
   "id": "63cf4a92-c9b7-4bf0-8931-f0e78171a0f3",
   "metadata": {},
   "outputs": [
    {
     "data": {
      "image/png": "[encoded data removed]",
      "text/plain": [
       "<Figure size 640x480 with 1 Axes>"
      ]
     },
     "metadata": {},
     "output_type": "display_data"
    },
    {
     "name": "stdout",
     "output_type": "stream",
     "text": [
      "Skewness of (Log-Transformed) SalePrice: 0.12134661989685333\n",
      "Kurtosis of (Log-Transformed) SalePrice: 0.809519155707878\n"
     ]
    }
   ],
   "source": [
    "sns.histplot(train['LogSalePrice'], bins=20, kde=True)\n",
    "plt.title(\"Log-Transformed SalePrice Distribution\")\n",
    "plt.show()\n",
    "\n",
    "print(\"Skewness of (Log-Transformed) SalePrice:\", train['LogSalePrice'].skew())\n",
    "print(\"Kurtosis of (Log-Transformed) SalePrice:\", train['LogSalePrice'].kurt())"
   ]
  },
  {
   "cell_type": "markdown",
   "id": "0f166870-03b0-4cbd-b14c-f1224092a3c4",
   "metadata": {},
   "source": [
    "From the charts and statistics, we can see that after logarithmic transformation, the distribution of `SalePrice` is closer to normal distribution."
   ]
  },
  {
   "cell_type": "markdown",
   "id": "41f8503d-ce7e-4735-a05e-9f3d9bbb96d6",
   "metadata": {},
   "source": [
    "The following is the distribution of the remaining numerical features:"
   ]
  },
  {
   "cell_type": "code",
   "execution_count": 13,
   "id": "df302021-9298-42e2-aa89-25bb4c9d64db",
   "metadata": {},
   "outputs": [
    {
     "data": {
      "image/png": "[encoded data removed]",
      "text/plain": [
       "<Figure size 1500x1500 with 36 Axes>"
      ]
     },
     "metadata": {},
     "output_type": "display_data"
    }
   ],
   "source": [
    "train[numerical_features].hist(figsize=(15, 15), bins=10, xlabelsize=8, ylabelsize=8);"
   ]
  },
  {
   "cell_type": "markdown",
   "id": "7a7fa82c-55ff-4375-94b8-f1ed73f271e5",
   "metadata": {},
   "source": [
    "## Feature Engineering"
   ]
  },
  {
   "cell_type": "code",
   "execution_count": 14,
   "id": "11a5b5b1-d482-46cc-bee6-fd4713a14c71",
   "metadata": {},
   "outputs": [],
   "source": [
    "def add_features(data, create_interactions=True, create_base_features=True):\n",
    "    \"\"\"\n",
    "    Add new features to the dataset.\n",
    "    \n",
    "    Parameters:\n",
    "    - data: DataFrame, the input data.\n",
    "    - create_interactions: bool, whether to create interaction and polynomial features.\n",
    "    - create_base_features: bool, whether to create base features like `HouseAge`.\n",
    "    \n",
    "    Returns:\n",
    "    - DataFrame with new features added.\n",
    "    \"\"\"\n",
    "    # Create a DataFrame to store new features\n",
    "    new_features = pd.DataFrame(index=data.index)\n",
    "    \n",
    "    # Base features\n",
    "    if create_base_features:\n",
    "        new_features['HouseAge'] = data['YrSold'] - data['YearBuilt']\n",
    "        new_features['RemodelAge'] = data['YrSold'] - data['YearRemodAdd']\n",
    "        new_features['TotalSF'] = data['1stFlrSF'] + data['2ndFlrSF'] + data['TotalBsmtSF']\n",
    "    \n",
    "    # Interaction and polynomial features\n",
    "    if create_interactions:\n",
    "        new_features['GrLivArea_OverallQual'] = data['GrLivArea'] * data['OverallQual']\n",
    "        new_features['GrLivArea^2'] = data['GrLivArea'] ** 2\n",
    "        new_features['OverallQual^2'] = data['OverallQual'] ** 2\n",
    "    \n",
    "    # Add the new features to the original dataset\n",
    "    data = pd.concat([data, new_features], axis=1)\n",
    "    return data"
   ]
  },
  {
   "cell_type": "code",
   "execution_count": 15,
   "id": "d1aee2e9-d4e1-4b27-bae2-774f7559876c",
   "metadata": {},
   "outputs": [],
   "source": [
    "train = add_features(train)\n",
    "test = add_features(test)"
   ]
  },
  {
   "cell_type": "code",
   "execution_count": 16,
   "id": "e9b75ffa-0b21-4f63-895b-d3fd1fc7296d",
   "metadata": {},
   "outputs": [],
   "source": [
    "new_features = [\n",
    "    'HouseAge', 'RemodelAge', 'TotalSF', \n",
    "    'GrLivArea_OverallQual', 'GrLivArea^2', 'OverallQual^2'\n",
    "]\n",
    "numerical_features.extend(new_features)"
   ]
  },
  {
   "cell_type": "code",
   "execution_count": 17,
   "id": "356b849c-b818-4c51-894f-80dac8d940c3",
   "metadata": {},
   "outputs": [
    {
     "data": {
      "image/png": "[encoded data removed]",
      "text/plain": [
       "<Figure size 800x800 with 6 Axes>"
      ]
     },
     "metadata": {},
     "output_type": "display_data"
    }
   ],
   "source": [
    "train[new_features].hist(figsize=(8, 8), bins=10, xlabelsize=8, ylabelsize=8);"
   ]
  },
  {
   "cell_type": "markdown",
   "id": "62ccf817-4581-433d-a5ab-39cbeeab37cb",
   "metadata": {},
   "source": [
    "## Preprocessing"
   ]
  },
  {
   "cell_type": "code",
   "execution_count": 18,
   "id": "b872ea12-8a39-488d-817c-3cc48a5d44b7",
   "metadata": {},
   "outputs": [],
   "source": [
    "test_ids = test['Id']\n",
    "X_train = train.drop(columns=['Id', 'SalePrice', 'LogSalePrice'])\n",
    "y_train = train['LogSalePrice']\n",
    "X_test = test.drop(columns=['Id'])"
   ]
  },
  {
   "cell_type": "markdown",
   "id": "d581cdea-b0c5-4573-8adc-5e9e80364ca9",
   "metadata": {},
   "source": [
    "Here we drop the extra columns and set the log transformed `SalePrice` as `y`. We also save the `Id` of the test set, which will be used when submitting to Kaggle later. (The standard submission format is shown in `sample_submission.csv`)"
   ]
  },
  {
   "cell_type": "code",
   "execution_count": 19,
   "id": "97382245-be57-4a2f-b015-28182339adb5",
   "metadata": {},
   "outputs": [],
   "source": [
    "ordinal_mappings = {\n",
    "    \"MSSubClass\": {\n",
    "        20: 1, 30: 2, 40: 3, 45: 4, 50: 5,\n",
    "        60: 6, 70: 7, 75: 8, 80: 9, 85: 10,\n",
    "        90: 11, 120: 12, 150: 13, 160: 14,\n",
    "        180: 15, 190: 16\n",
    "    },\n",
    "    \"LotShape\": {\"Reg\": 3, \"IR1\": 2, \"IR2\": 1, \"IR3\": 0},\n",
    "    \"LandSlope\": {\"Gtl\": 2, \"Mod\": 1, \"Sev\": 0},\n",
    "    \"ExterQual\": {\"Ex\": 4, \"Gd\": 3, \"TA\": 2, \"Fa\": 1, \"Po\": 0},\n",
    "    \"ExterCond\": {\"Ex\": 4, \"Gd\": 3, \"TA\": 2, \"Fa\": 1, \"Po\": 0},\n",
    "    \"BsmtQual\": {\"Ex\": 5, \"Gd\": 4, \"TA\": 3, \"Fa\": 2, \"Po\": 1, \"NoBsmt\": 0},\n",
    "    \"BsmtCond\": {\"Ex\": 5, \"Gd\": 4, \"TA\": 3, \"Fa\": 2, \"Po\": 1, \"NoBsmt\": 0},\n",
    "    \"BsmtExposure\": {\"Gd\": 4, \"Av\": 3, \"Mn\": 2, \"No\": 1, \"NoBsmt\": 0},\n",
    "    \"BsmtFinType1\": {\"GLQ\": 6, \"ALQ\": 5, \"BLQ\": 4, \"Rec\": 3, \"LwQ\": 2, \"Unf\": 1, \"NoBsmt\": 0},\n",
    "    \"BsmtFinType2\": {\"GLQ\": 6, \"ALQ\": 5, \"BLQ\": 4, \"Rec\": 3, \"LwQ\": 2, \"Unf\": 1, \"NoBsmt\": 0},\n",
    "    \"HeatingQC\": {\"Ex\": 4, \"Gd\": 3, \"TA\": 2, \"Fa\": 1, \"Po\": 0},\n",
    "    \"KitchenQual\": {\"Ex\": 4, \"Gd\": 3, \"TA\": 2, \"Fa\": 1, \"Po\": 0},\n",
    "    \"Functional\": {\n",
    "        \"Typ\": 7, \"Min1\": 6, \"Min2\": 5, \"Mod\": 4,\n",
    "        \"Maj1\": 3, \"Maj2\": 2, \"Sev\": 1, \"Sal\": 0\n",
    "    },\n",
    "    \"FireplaceQu\": {\"Ex\": 5, \"Gd\": 4, \"TA\": 3, \"Fa\": 2, \"Po\": 1, \"NoFireplace\": 0},\n",
    "    \"GarageFinish\": {\"Fin\": 3, \"RFn\": 2, \"Unf\": 1, \"NoGarage\": 0},\n",
    "    \"GarageQual\": {\"Ex\": 5, \"Gd\": 4, \"TA\": 3, \"Fa\": 2, \"Po\": 1, \"NoGarage\": 0},\n",
    "    \"GarageCond\": {\"Ex\": 5, \"Gd\": 4, \"TA\": 3, \"Fa\": 2, \"Po\": 1, \"NoGarage\": 0},\n",
    "    \"PavedDrive\": {\"Y\": 2, \"P\": 1, \"N\": 0},\n",
    "    \"PoolQC\": {\"Ex\": 4, \"Gd\": 3, \"TA\": 2, \"Fa\": 1, \"NoPool\": 0},\n",
    "    \"Fence\": {\"GdPrv\": 4, \"MnPrv\": 3, \"GdWo\": 2, \"MnWw\": 1, \"NoFence\": 0},\n",
    "    \"MiscFeature\": {\"Gar2\": 4, \"Shed\": 3, \"TenC\": 2, \"Othr\": 1, \"NoFeature\": 0},\n",
    "    \"Alley\": {\"Grvl\": 2, \"Pave\": 1, \"NoAlley\": 0},\n",
    "    \"OverallQual\": {i: i for i in range(1, 11)},  # 1-10\n",
    "    \"OverallCond\": {i: i for i in range(1, 11)}   # 1-10\n",
    "}"
   ]
  },
  {
   "cell_type": "markdown",
   "id": "c5505376-5501-4823-a593-3e85ce2af39e",
   "metadata": {},
   "source": [
    "`LabelEncoder` may encode `Ex` as 0 and `Po` as 4, which completely reverses the actual meaning. This is due to `LabelEncoder` assigns values in alphabetical order of categories, which can lead to incorrect assumptions about the order (e.g., A > B > C). Hence, in order to avoid this, we created this `ordinal_mappings`."
   ]
  },
  {
   "cell_type": "code",
   "execution_count": 20,
   "id": "bb81b159-bb48-47f7-acc5-7b42bdb4c45a",
   "metadata": {},
   "outputs": [],
   "source": [
    "for feature in categorical_features:\n",
    "\n",
    "    # assign type as category\n",
    "    X_train[feature] = X_train[feature].astype(\"category\")\n",
    "    X_test[feature] = X_test[feature].astype(\"category\")\n",
    "\n",
    "    # label encoding\n",
    "    if feature in ordinal_mappings:\n",
    "        X_train[feature] = X_train[feature].map(ordinal_mappings[feature])\n",
    "        X_test[feature] = X_test[feature].map(ordinal_mappings[feature])\n",
    "\n",
    "\n",
    "original_columns = set(X_train.columns)\n",
    "\n",
    "# one-hot encoding\n",
    "X_train = pd.get_dummies(X_train, columns=nominal_features, dummy_na=True)\n",
    "X_test = pd.get_dummies(X_test, columns=nominal_features, dummy_na=True)\n",
    "\n",
    "# align train and test\n",
    "X_train, X_test = X_train.align(X_test, join='outer', axis=1)\n",
    "new_columns = list(set(X_train.columns) - original_columns)\n",
    "\n",
    "# Fill missing values with 0\n",
    "X_train[new_columns] = X_train[new_columns].fillna(0)\n",
    "X_test[new_columns] = X_test[new_columns].fillna(0)"
   ]
  },
  {
   "cell_type": "code",
   "execution_count": 21,
   "id": "8ca2003c-3432-4e5e-a420-5ec3d3241adf",
   "metadata": {},
   "outputs": [],
   "source": [
    "# Define the Iterative Imputer with Random Forest Regressor\n",
    "iter_imputer = IterativeImputer(\n",
    "    estimator=RandomForestRegressor(\n",
    "        n_estimators=100,  # Number of trees\n",
    "        n_jobs=-1,         # Use all available cores\n",
    "        random_state=42\n",
    "    ),\n",
    "    max_iter=10,\n",
    "    random_state=42\n",
    ")\n",
    "\n",
    "# Fit and transform the train and test\n",
    "X_train_full = iter_imputer.fit_transform(X_train)\n",
    "X_test_full = iter_imputer.transform(X_test)"
   ]
  },
  {
   "cell_type": "code",
   "execution_count": 22,
   "id": "69c11849-0a69-47eb-b3c9-c9f83c1de785",
   "metadata": {},
   "outputs": [],
   "source": [
    "X_train_full = pd.DataFrame(X_train_full, columns=X_train.columns, index=X_train.index)\n",
    "X_test_full = pd.DataFrame(X_test_full, columns=X_test.columns, index=X_test.index)"
   ]
  },
  {
   "cell_type": "code",
   "execution_count": 23,
   "id": "6bf27a13-c687-465f-b116-8c6538c20170",
   "metadata": {},
   "outputs": [],
   "source": [
    "scaler = StandardScaler()\n",
    "X_train_full[numerical_features] = scaler.fit_transform(X_train_full[numerical_features])\n",
    "X_test_full[numerical_features] = scaler.transform(X_test_full[numerical_features])"
   ]
  },
  {
   "cell_type": "markdown",
   "id": "e97b2a27-4ee2-4aa1-a9a3-71b76ef7d090",
   "metadata": {},
   "source": [
    "Split training data for single validation, `RepeatedKFold` can better evaluate the stability of the model than `train_test_split`, especially for small datasets."
   ]
  },
  {
   "cell_type": "code",
   "execution_count": 24,
   "id": "ca503dcf-0234-4467-af78-5015f9df27c8",
   "metadata": {},
   "outputs": [],
   "source": [
    "rkf = RepeatedKFold(n_splits=5, n_repeats=10, random_state=42)\n",
    "for train_idx, valid_idx in rkf.split(X_train_full, y_train):\n",
    "    X_train_split, X_valid_split = X_train_full.iloc[train_idx], X_train_full.iloc[valid_idx]\n",
    "    y_train_split, y_valid_split = y_train.iloc[train_idx], y_train.iloc[valid_idx]\n",
    "    break  # Only return the first split for simplicity"
   ]
  },
  {
   "cell_type": "markdown",
   "id": "59c5df8b-3cf8-4e85-be6f-968a5198e069",
   "metadata": {},
   "source": [
    "## Modeling"
   ]
  },
  {
   "cell_type": "code",
   "execution_count": 25,
   "id": "9e4f64e2-f4aa-4746-abe3-1067c979981d",
   "metadata": {},
   "outputs": [],
   "source": [
    "def save_submission(model, X_test, test_ids, filename='submission.csv'):\n",
    "    \"\"\"\n",
    "    Generate predictions using the provided model and save them to a CSV file.\n",
    "    \n",
    "    Parameters:\n",
    "    - model: Trained model that implements the `predict` method.\n",
    "    - X_test: ndarray or DataFrame, the test dataset containing the features.\n",
    "    - test_ids: array-like, unique identifiers for the test samples.\n",
    "    - filename: str, name of the output submission file. Default is 'submission.csv'.\n",
    "    \n",
    "    The function predicts the target variable on the test set, applies an exponential\n",
    "    transformation to reverse log-transformation (if applied during training), and saves\n",
    "    the predictions along with the test IDs to a CSV file.\n",
    "    \"\"\"\n",
    "    predictions = np.expm1(model.predict(X_test)) # inverse log-transform\n",
    "    output_path = os.path.join('data', 'house-prices', 'processed(py)', filename)\n",
    "    submission = pd.DataFrame({\n",
    "        'Id': test_ids,\n",
    "        'SalePrice': predictions\n",
    "    })\n",
    "    submission.to_csv(output_path, index=False)\n",
    "    print(f\"Submission file saved to: {output_path}\")"
   ]
  },
  {
   "cell_type": "markdown",
   "id": "08f34e4c-f96c-4e6f-9592-3aedea3c5db6",
   "metadata": {},
   "source": [
    "### kNN"
   ]
  },
  {
   "cell_type": "code",
   "execution_count": 26,
   "id": "9f76d862-e0de-43a1-a364-6ee5acb82449",
   "metadata": {},
   "outputs": [],
   "source": [
    "def train_knn(X_train, y_train):\n",
    "    # Define the kNN model\n",
    "    knn = KNeighborsRegressor()\n",
    "\n",
    "    # Set up hyperparameter grid for tuning\n",
    "    param_grid = {\n",
    "        'n_neighbors': range(1, 11), # 1-10\n",
    "        'weights': ['uniform', 'distance'],\n",
    "        'p': [1, 2]  # Manhattan distance (p=1)\n",
    "    }                # Euclidean distance (p=2)\n",
    "\n",
    "    # Use GridSearchCV to find the best hyperparameters\n",
    "    grid_search = GridSearchCV(\n",
    "        estimator=knn,\n",
    "        param_grid=param_grid,\n",
    "        scoring='neg_root_mean_squared_error',\n",
    "        cv=5,       # 5-fold cross-validation\n",
    "        verbose=1,\n",
    "        n_jobs=-1   # Use all available cores\n",
    "    )\n",
    "\n",
    "    # Fit the grid search to the training data\n",
    "    grid_search.fit(X_train, y_train)\n",
    "\n",
    "    # Print the best parameters and RMSE\n",
    "    print(\"Best parameters:\", grid_search.best_params_)\n",
    "    print(\"Best RMSE:\", -grid_search.best_score_)\n",
    "\n",
    "    # Use the best model to predict on the test set\n",
    "    return grid_search.best_estimator_"
   ]
  },
  {
   "cell_type": "code",
   "execution_count": 27,
   "id": "a97d4afe-aedd-4f39-88f8-4f7fdacbb011",
   "metadata": {},
   "outputs": [
    {
     "name": "stdout",
     "output_type": "stream",
     "text": [
      "Fitting 5 folds for each of 40 candidates, totalling 200 fits\n",
      "Best parameters: {'n_neighbors': 8, 'p': 1, 'weights': 'distance'}\n",
      "Best RMSE: 0.15161816222293886\n"
     ]
    }
   ],
   "source": [
    "knn_model = train_knn(X_train_split, y_train_split)"
   ]
  },
  {
   "cell_type": "code",
   "execution_count": 28,
   "id": "d6fff36f-cc07-4f74-b33c-498d8195cfd9",
   "metadata": {},
   "outputs": [
    {
     "name": "stdout",
     "output_type": "stream",
     "text": [
      "Validation RMSE (kNN): 0.17032522997840102\n"
     ]
    }
   ],
   "source": [
    "knn_valid_pred = knn_model.predict(X_valid_split)\n",
    "knn_valid_rmse = root_mean_squared_error(y_valid_split, knn_valid_pred)\n",
    "print(f\"Validation RMSE (kNN): {knn_valid_rmse}\")"
   ]
  },
  {
   "cell_type": "code",
   "execution_count": 29,
   "id": "420cfcb9-a002-42bb-be8a-6d953e3c65f7",
   "metadata": {},
   "outputs": [
    {
     "name": "stdout",
     "output_type": "stream",
     "text": [
      "Submission file saved to: data\\house-prices\\processed(py)\\knn.csv\n"
     ]
    }
   ],
   "source": [
    "save_submission(knn_model, X_test_full, test_ids, 'knn.csv')"
   ]
  },
  {
   "cell_type": "markdown",
   "id": "014999a7-07e2-404e-9a20-558dd7dfdf9e",
   "metadata": {},
   "source": [
    "### SVM"
   ]
  },
  {
   "cell_type": "code",
   "execution_count": 30,
   "id": "14f5fe29-e826-4ede-94d2-dc6d6da23bb8",
   "metadata": {},
   "outputs": [],
   "source": [
    "def train_svm(X_train, y_train):\n",
    "    # Define the SVM model\n",
    "    svm_model = SVR()\n",
    "\n",
    "    # Set up hyperparameter grid for tuning\n",
    "    param_grid = {\n",
    "        'C': [0.1, 1, 10],      # Regularization strength\n",
    "        'epsilon': [0.01, 0.1], # Epsilon-insensitive loss\n",
    "        'kernel': ['linear', 'rbf'],       # Kernel types\n",
    "        'gamma': ['scale', 'auto']\n",
    "    }\n",
    "\n",
    "    # Use GridSearchCV to find the best hyperparameters\n",
    "    grid_search = GridSearchCV(\n",
    "        estimator=svm_model,\n",
    "        param_grid=param_grid,\n",
    "        scoring='neg_root_mean_squared_error', # minimize RMSE\n",
    "        cv=5,       # 5-fold cross-validation\n",
    "        verbose=1,\n",
    "        n_jobs=-1   # use all available cores\n",
    "    )\n",
    "\n",
    "    # Fit the grid search to the training data\n",
    "    grid_search.fit(X_train, y_train)\n",
    "\n",
    "    # Print the best parameters and RMSE\n",
    "    print(\"Best parameters:\", grid_search.best_params_)\n",
    "    print(\"Best RMSE:\", -grid_search.best_score_)\n",
    "\n",
    "    # Use the best model to predict on the test set\n",
    "    return grid_search.best_estimator_"
   ]
  },
  {
   "cell_type": "code",
   "execution_count": 31,
   "id": "2a3c2fec-b182-491c-adc3-7dae989bcce1",
   "metadata": {},
   "outputs": [
    {
     "name": "stdout",
     "output_type": "stream",
     "text": [
      "Fitting 5 folds for each of 24 candidates, totalling 120 fits\n",
      "Best parameters: {'C': 1, 'epsilon': 0.01, 'gamma': 'scale', 'kernel': 'rbf'}\n",
      "Best RMSE: 0.11875760276477298\n"
     ]
    }
   ],
   "source": [
    "svm_model = train_svm(X_train_split, y_train_split)"
   ]
  },
  {
   "cell_type": "code",
   "execution_count": 32,
   "id": "2c2bfcdb-27d0-4a76-81fa-e1aca48e27bf",
   "metadata": {},
   "outputs": [
    {
     "name": "stdout",
     "output_type": "stream",
     "text": [
      "Validation RMSE (SVM): 0.12985131122581856\n"
     ]
    }
   ],
   "source": [
    "svm_valid_pred = svm_model.predict(X_valid_split)\n",
    "svm_valid_rmse = root_mean_squared_error(y_valid_split, svm_valid_pred)\n",
    "print(f\"Validation RMSE (SVM): {svm_valid_rmse}\")"
   ]
  },
  {
   "cell_type": "code",
   "execution_count": 33,
   "id": "098036f9-1dc1-43b9-b2fa-68b133330b01",
   "metadata": {},
   "outputs": [
    {
     "name": "stdout",
     "output_type": "stream",
     "text": [
      "Submission file saved to: data\\house-prices\\processed(py)\\svm.csv\n"
     ]
    }
   ],
   "source": [
    "save_submission(svm_model, X_test_full, test_ids, 'svm.csv')"
   ]
  },
  {
   "cell_type": "markdown",
   "id": "236b3efd-3505-4dfc-8dfc-57cd42064515",
   "metadata": {},
   "source": [
    "### Linear Regression"
   ]
  },
  {
   "cell_type": "code",
   "execution_count": 34,
   "id": "c52729dd-afb3-4b58-bef8-b724332ffe07",
   "metadata": {},
   "outputs": [
    {
     "name": "stdout",
     "output_type": "stream",
     "text": [
      "Validation RMSE (Linear Regression): 108051429.92181346\n"
     ]
    }
   ],
   "source": [
    "linear_model = LinearRegression()\n",
    "linear_model.fit(X_train_split, y_train_split)\n",
    "\n",
    "linear_valid_pred = linear_model.predict(X_valid_split)\n",
    "linear_valid_rmse = root_mean_squared_error(y_valid_split, linear_valid_pred)\n",
    "print(f\"Validation RMSE (Linear Regression): {linear_valid_rmse}\")"
   ]
  },
  {
   "cell_type": "code",
   "execution_count": 35,
   "id": "deab05b3-8e99-4d00-a2f4-bfd1f4edcba6",
   "metadata": {},
   "outputs": [
    {
     "name": "stdout",
     "output_type": "stream",
     "text": [
      "Submission file saved to: data\\house-prices\\processed(py)\\linear_regression.csv\n"
     ]
    },
    {
     "name": "stderr",
     "output_type": "stream",
     "text": [
      "C:\\Users\\ArnoZ\\AppData\\Local\\Temp\\ipykernel_30220\\1089569966.py:15: RuntimeWarning: overflow encountered in expm1\n",
      "  predictions = np.expm1(model.predict(X_test)) # inverse log-transform\n"
     ]
    }
   ],
   "source": [
    "save_submission(linear_model, X_test_full, test_ids, 'linear_regression.csv')"
   ]
  },
  {
   "cell_type": "markdown",
   "id": "63329f30-d773-4937-9cfc-1fedd959cc56",
   "metadata": {},
   "source": [
    "### Lasso"
   ]
  },
  {
   "cell_type": "code",
   "execution_count": 36,
   "id": "c7adb99d-f8c3-42ca-8838-3122217b7547",
   "metadata": {},
   "outputs": [],
   "source": [
    "def train_lasso(X_train, y_train):\n",
    "    # Define the Lasso model\n",
    "    lasso = Lasso(max_iter=10000, random_state=42, warm_start=True)\n",
    "\n",
    "    # Set up hyperparameter grid for tuning\n",
    "    param_grid = {\n",
    "        # More fine-grained alpha values for better regularization strength tuning\n",
    "        'alpha': np.logspace(-4, 2, 30)  # From 0.0001 to 100, 30 evenly spaced values\n",
    "    }\n",
    "\n",
    "    # Use GridSearchCV to find the best hyperparameters\n",
    "    grid_search = GridSearchCV(\n",
    "        estimator=lasso,\n",
    "        param_grid=param_grid,\n",
    "        scoring='neg_root_mean_squared_error', # Minimize RMSE\n",
    "        cv=5,      # 5-fold cross-validation\n",
    "        verbose=1,\n",
    "        n_jobs=-1  # Use all available cores\n",
    "    )\n",
    "\n",
    "    # Fit the grid search to the training data\n",
    "    grid_search.fit(X_train, y_train)\n",
    "\n",
    "    # Print the best parameters and RMSE\n",
    "    print(\"Best parameters (Lasso):\", grid_search.best_params_)\n",
    "    print(\"Best RMSE (Lasso):\", -grid_search.best_score_)\n",
    "\n",
    "    # Return the best Ridge model\n",
    "    return grid_search.best_estimator_"
   ]
  },
  {
   "cell_type": "code",
   "execution_count": 37,
   "id": "1f5cb806-b732-4742-ba73-ec10cf23ab1a",
   "metadata": {},
   "outputs": [
    {
     "name": "stdout",
     "output_type": "stream",
     "text": [
      "Fitting 5 folds for each of 30 candidates, totalling 150 fits\n",
      "Best parameters (Lasso): {'alpha': np.float64(0.0006723357536499335)}\n",
      "Best RMSE (Lasso): 0.12663467044628274\n"
     ]
    }
   ],
   "source": [
    "lasso_model = train_lasso(X_train_split, y_train_split)"
   ]
  },
  {
   "cell_type": "code",
   "execution_count": 38,
   "id": "dfc2c7c9-2f17-44aa-b776-3fa8c9398728",
   "metadata": {},
   "outputs": [
    {
     "name": "stdout",
     "output_type": "stream",
     "text": [
      "Validation RMSE (Lasso): 0.1338938110142784\n"
     ]
    }
   ],
   "source": [
    "lasso_valid_pred = lasso_model.predict(X_valid_split)\n",
    "lasso_valid_rmse = root_mean_squared_error(y_valid_split, lasso_valid_pred)\n",
    "print(f\"Validation RMSE (Lasso): {lasso_valid_rmse}\")"
   ]
  },
  {
   "cell_type": "code",
   "execution_count": 39,
   "id": "e2169eb1-6f88-4f65-ae11-a19cc6ed050c",
   "metadata": {},
   "outputs": [
    {
     "name": "stdout",
     "output_type": "stream",
     "text": [
      "Submission file saved to: data\\house-prices\\processed(py)\\lasso.csv\n"
     ]
    }
   ],
   "source": [
    "save_submission(lasso_model, X_test_full, test_ids, 'lasso.csv')"
   ]
  },
  {
   "cell_type": "markdown",
   "id": "9c7cce33-1ce0-480e-bdaa-271389dbd555",
   "metadata": {},
   "source": [
    "### Ridge"
   ]
  },
  {
   "cell_type": "code",
   "execution_count": 40,
   "id": "c2fc8b50-57e6-4593-841a-d6333b0b7569",
   "metadata": {},
   "outputs": [],
   "source": [
    "def train_ridge(X_train, y_train):\n",
    "    # Define the Ridge model\n",
    "    ridge = Ridge(max_iter=10000, random_state=42)\n",
    "\n",
    "    # Set up hyperparameter grid for tuning\n",
    "    param_grid = {\n",
    "        'alpha': np.logspace(-3, 3, 13) # from 0.001 to 1000\n",
    "    }\n",
    "\n",
    "    # Use GridSearchCV to find the best hyperparameters\n",
    "    grid_search = GridSearchCV(\n",
    "        estimator=ridge,\n",
    "        param_grid=param_grid,\n",
    "        scoring='neg_root_mean_squared_error', # minimize RMSE\n",
    "        cv=5,      # 5-fold cross-validation\n",
    "        verbose=1,\n",
    "        n_jobs=-1  # Use all available cores\n",
    "    )\n",
    "\n",
    "    # Fit the grid search to the training data\n",
    "    grid_search.fit(X_train, y_train)\n",
    "\n",
    "    # Print the best parameters and RMSE\n",
    "    print(\"Best parameters:\", grid_search.best_params_)\n",
    "    print(\"Best RMSE:\", -grid_search.best_score_)\n",
    "\n",
    "    # Return the best Ridge model\n",
    "    return grid_search.best_estimator_"
   ]
  },
  {
   "cell_type": "code",
   "execution_count": 41,
   "id": "b804e6e7-b7c6-4beb-91e8-d106436b6abf",
   "metadata": {},
   "outputs": [
    {
     "name": "stdout",
     "output_type": "stream",
     "text": [
      "Fitting 5 folds for each of 13 candidates, totalling 65 fits\n",
      "Best parameters: {'alpha': np.float64(3.1622776601683795)}\n",
      "Best RMSE: 0.1278182559275935\n"
     ]
    }
   ],
   "source": [
    "ridge_model = train_ridge(X_train_split, y_train_split)"
   ]
  },
  {
   "cell_type": "code",
   "execution_count": 42,
   "id": "864c00e6-eb7e-4015-8244-e23c501b8cbd",
   "metadata": {},
   "outputs": [
    {
     "name": "stdout",
     "output_type": "stream",
     "text": [
      "Validation RMSE (Ridge): 0.12965845670827755\n"
     ]
    }
   ],
   "source": [
    "ridge_valid_pred = ridge_model.predict(X_valid_split)\n",
    "ridge_valid_rmse = root_mean_squared_error(y_valid_split, ridge_valid_pred)\n",
    "print(f\"Validation RMSE (Ridge): {ridge_valid_rmse}\")"
   ]
  },
  {
   "cell_type": "code",
   "execution_count": 43,
   "id": "0d5a1728-c1c0-42f1-9a4b-0b2c073e8271",
   "metadata": {},
   "outputs": [
    {
     "name": "stdout",
     "output_type": "stream",
     "text": [
      "Submission file saved to: data\\house-prices\\processed(py)\\ridge.csv\n"
     ]
    }
   ],
   "source": [
    "save_submission(ridge_model, X_test_full, test_ids, 'ridge.csv')"
   ]
  },
  {
   "cell_type": "markdown",
   "id": "cf71d459-66f5-445c-906c-582c4cc7c3b6",
   "metadata": {},
   "source": [
    "### ElasticNet"
   ]
  },
  {
   "cell_type": "code",
   "execution_count": 44,
   "id": "134dfa8e-87f4-40da-b96a-3a24db9fba86",
   "metadata": {},
   "outputs": [],
   "source": [
    "def train_elasticnet(X_train, y_train):\n",
    "    # Define the ElasticNet model\n",
    "    elasticnet = ElasticNet(max_iter=10000, random_state=42)\n",
    "\n",
    "    # Set up hyperparameter grid for tuning\n",
    "    param_grid = {\n",
    "        'alpha': np.logspace(-4, 2, 13),      # from 0.0001 to 100\n",
    "        'l1_ratio': np.linspace(0.1, 1.0, 10) # balance between L1 and L2 penalties\n",
    "    }\n",
    "\n",
    "    # Use GridSearchCV to find the best hyperparameters\n",
    "    grid_search = GridSearchCV(\n",
    "        estimator=elasticnet,\n",
    "        param_grid=param_grid,\n",
    "        scoring='neg_root_mean_squared_error',  # minimize RMSE\n",
    "        cv=5,      # 5-fold cross-validation\n",
    "        verbose=1,\n",
    "        n_jobs=-1  # Use all available cores\n",
    "    )\n",
    "\n",
    "    # Fit the grid search to the training data\n",
    "    grid_search.fit(X_train, y_train)\n",
    "\n",
    "    # Print the best parameters and RMSE\n",
    "    print(\"Best parameters:\", grid_search.best_params_)\n",
    "    print(\"Best RMSE:\", -grid_search.best_score_)\n",
    "\n",
    "    # Return the best ElasticNet model\n",
    "    return grid_search.best_estimator_"
   ]
  },
  {
   "cell_type": "code",
   "execution_count": 45,
   "id": "3ef78e9a-a9e7-4938-9c6f-8540f6506cb1",
   "metadata": {},
   "outputs": [
    {
     "name": "stdout",
     "output_type": "stream",
     "text": [
      "Fitting 5 folds for each of 130 candidates, totalling 650 fits\n",
      "Best parameters: {'alpha': np.float64(0.001), 'l1_ratio': np.float64(0.4)}\n",
      "Best RMSE: 0.12578716262255227\n"
     ]
    }
   ],
   "source": [
    "elasticnet_model = train_elasticnet(X_train_split, y_train_split)"
   ]
  },
  {
   "cell_type": "code",
   "execution_count": 46,
   "id": "3639740e-b5e7-4a87-babf-d7cdfd57da56",
   "metadata": {},
   "outputs": [
    {
     "name": "stdout",
     "output_type": "stream",
     "text": [
      "Validation RMSE (Ridge): 0.12972983276620062\n"
     ]
    }
   ],
   "source": [
    "elasticnet_valid_pred = elasticnet_model.predict(X_valid_split)\n",
    "elasticnet_valid_rmse = root_mean_squared_error(y_valid_split, elasticnet_valid_pred)\n",
    "print(f\"Validation RMSE (Ridge): {elasticnet_valid_rmse}\")"
   ]
  },
  {
   "cell_type": "code",
   "execution_count": 47,
   "id": "8ad176fb-bf64-427e-8b8a-ae4b39926681",
   "metadata": {},
   "outputs": [
    {
     "name": "stdout",
     "output_type": "stream",
     "text": [
      "Submission file saved to: data\\house-prices\\processed(py)\\elasticnet.csv\n"
     ]
    }
   ],
   "source": [
    "save_submission(elasticnet_model, X_test_full, test_ids, 'elasticnet.csv')"
   ]
  },
  {
   "cell_type": "markdown",
   "id": "0e34534f-80a8-4f4e-9d6a-42c672d3f842",
   "metadata": {},
   "source": [
    "### Decision Tree"
   ]
  },
  {
   "cell_type": "code",
   "execution_count": 48,
   "id": "b75afcff-eb68-4a18-a6c6-763bde0aacc4",
   "metadata": {},
   "outputs": [],
   "source": [
    "def train_tree(X_train, y_train):\n",
    "    # Define the Decision Tree Regressor\n",
    "    tree = DecisionTreeRegressor(random_state=42)\n",
    "\n",
    "    # Set up hyperparameter grid for tuning\n",
    "    param_grid = {\n",
    "        'max_depth': [3, 5, 7, 10, 15, None],\n",
    "        'min_samples_split': [2, 5, 10, 20, 50],\n",
    "        'min_samples_leaf': [1, 2, 5, 10, 20]\n",
    "    }\n",
    "\n",
    "    # Use GridSearchCV to find the best hyperparameters\n",
    "    grid_search = GridSearchCV(\n",
    "        estimator=tree,\n",
    "        param_grid=param_grid,\n",
    "        scoring='neg_root_mean_squared_error',  # Minimize RMSE\n",
    "        cv=5,      # 5-fold cross-validation\n",
    "        verbose=1,\n",
    "        n_jobs=-1  # Use all available cores\n",
    "    )\n",
    "\n",
    "    # Fit the grid search to the training data\n",
    "    grid_search.fit(X_train, y_train)\n",
    "\n",
    "    # Print the best parameters and RMSE\n",
    "    print(\"Best parameters:\", grid_search.best_params_)\n",
    "    print(\"Best RMSE:\", -grid_search.best_score_)\n",
    "\n",
    "    # Use the best model to predict on the test set\n",
    "    return grid_search.best_estimator_"
   ]
  },
  {
   "cell_type": "code",
   "execution_count": 49,
   "id": "c030bd63-46cb-4d10-ba2a-117c58597981",
   "metadata": {},
   "outputs": [
    {
     "name": "stdout",
     "output_type": "stream",
     "text": [
      "Fitting 5 folds for each of 150 candidates, totalling 750 fits\n",
      "Best parameters: {'max_depth': 10, 'min_samples_leaf': 10, 'min_samples_split': 2}\n",
      "Best RMSE: 0.17498563457387445\n"
     ]
    },
    {
     "name": "stderr",
     "output_type": "stream",
     "text": [
      "C:\\Users\\ArnoZ\\AppData\\Roaming\\Python\\Python312\\site-packages\\numpy\\ma\\core.py:2846: RuntimeWarning: invalid value encountered in cast\n",
      "  _data = np.array(data, dtype=dtype, copy=copy,\n"
     ]
    }
   ],
   "source": [
    "tree_model = train_tree(X_train_split, y_train_split)"
   ]
  },
  {
   "cell_type": "code",
   "execution_count": 50,
   "id": "779fc9f1-283b-4267-add5-70d5a8233ef3",
   "metadata": {},
   "outputs": [
    {
     "name": "stdout",
     "output_type": "stream",
     "text": [
      "Validation RMSE (Tree): 0.12965845670827755\n"
     ]
    }
   ],
   "source": [
    "tree_valid_pred = ridge_model.predict(X_valid_split)\n",
    "tree_valid_rmse = root_mean_squared_error(y_valid_split, tree_valid_pred)\n",
    "print(f\"Validation RMSE (Tree): {tree_valid_rmse}\")"
   ]
  },
  {
   "cell_type": "code",
   "execution_count": 51,
   "id": "eaa4777b-c14a-4a40-9ad3-cb6905d1753e",
   "metadata": {},
   "outputs": [
    {
     "name": "stdout",
     "output_type": "stream",
     "text": [
      "Submission file saved to: data\\house-prices\\processed(py)\\decision_tree.csv\n"
     ]
    }
   ],
   "source": [
    "save_submission(ridge_model, X_test_full, test_ids, 'decision_tree.csv')"
   ]
  },
  {
   "cell_type": "markdown",
   "id": "f96b711c-fa74-453a-9bf2-e4c8a40852e3",
   "metadata": {},
   "source": [
    "### Random Forest"
   ]
  },
  {
   "cell_type": "code",
   "execution_count": 52,
   "id": "3d7731dd-2a2f-484b-85dc-1ac4a98365e4",
   "metadata": {},
   "outputs": [],
   "source": [
    "def train_random_forest(X_train, y_train):\n",
    "    # Define the Random Forest Regressor\n",
    "    rf = RandomForestRegressor(random_state=42)\n",
    "\n",
    "    # Set up hyperparameter grid for tuning\n",
    "    param_grid = {\n",
    "        'n_estimators': [100, 200, 500],  # Number of trees in the forest\n",
    "        'max_depth': [10, 20, None],      # Maximum depth of the tree\n",
    "        'min_samples_split': [2, 5, 10],  # Minimum samples required to split an internal node\n",
    "        'min_samples_leaf': [1, 2, 4],    # Minimum samples required to be at a leaf node\n",
    "        'max_features': ['sqrt', 'log2'], # Number of features to consider at every split\n",
    "        'bootstrap': [True] # Whether bootstrap sampling is used\n",
    "    }\n",
    "\n",
    "    # Use GridSearchCV to find the best hyperparameters\n",
    "    grid_search = GridSearchCV(\n",
    "        estimator=rf,\n",
    "        param_grid=param_grid,\n",
    "        scoring='neg_root_mean_squared_error',  # Minimize RMSE\n",
    "        cv=5,      # 5-fold cross-validation\n",
    "        verbose=1,\n",
    "        n_jobs=-1  # Use all available cores\n",
    "    )\n",
    "\n",
    "    # Fit the grid search to the training data\n",
    "    grid_search.fit(X_train, y_train)\n",
    "\n",
    "    # Print the best parameters and RMSE\n",
    "    print(\"Best parameters:\", grid_search.best_params_)\n",
    "    print(\"Best RMSE:\", -grid_search.best_score_)\n",
    "\n",
    "    # Use the best model to predict on the test set\n",
    "    return grid_search.best_estimator_"
   ]
  },
  {
   "cell_type": "code",
   "execution_count": 53,
   "id": "5f87a557-0a3f-434a-bd44-fc4611432cb9",
   "metadata": {},
   "outputs": [
    {
     "name": "stdout",
     "output_type": "stream",
     "text": [
      "Fitting 5 folds for each of 162 candidates, totalling 810 fits\n",
      "Best parameters: {'bootstrap': True, 'max_depth': None, 'max_features': 'sqrt', 'min_samples_leaf': 1, 'min_samples_split': 2, 'n_estimators': 200}\n",
      "Best RMSE: 0.1352914997113765\n"
     ]
    }
   ],
   "source": [
    "rf_model = train_random_forest(X_train_split, y_train_split)"
   ]
  },
  {
   "cell_type": "code",
   "execution_count": 54,
   "id": "39536b1e-2d12-483b-a190-5f6b4ae487d1",
   "metadata": {},
   "outputs": [
    {
     "name": "stdout",
     "output_type": "stream",
     "text": [
      "Validation RMSE (Random Forest): 0.1484356652188091\n"
     ]
    }
   ],
   "source": [
    "rf_valid_pred = rf_model.predict(X_valid_split)\n",
    "rf_valid_rmse = root_mean_squared_error(y_valid_split, rf_valid_pred)\n",
    "print(f\"Validation RMSE (Random Forest): {rf_valid_rmse}\")"
   ]
  },
  {
   "cell_type": "code",
   "execution_count": 55,
   "id": "a52140f1-8bd6-4bca-a5fe-2a4093c402aa",
   "metadata": {},
   "outputs": [
    {
     "name": "stdout",
     "output_type": "stream",
     "text": [
      "Submission file saved to: data\\house-prices\\processed(py)\\random_forest.csv\n"
     ]
    }
   ],
   "source": [
    "save_submission(rf_model, X_test_full, test_ids, 'random_forest.csv')"
   ]
  },
  {
   "cell_type": "markdown",
   "id": "2894c32e-d6f8-4af3-85c8-c6e8ae44a8c5",
   "metadata": {},
   "source": [
    "### Bagging"
   ]
  },
  {
   "cell_type": "code",
   "execution_count": 56,
   "id": "02bb03bf-bdb5-4ae4-9dff-b3ec343d8166",
   "metadata": {},
   "outputs": [],
   "source": [
    "def train_bagging(X_train, y_train):\n",
    "    # Define the base estimator (weak learner)\n",
    "    base_estimator = DecisionTreeRegressor(random_state=42)\n",
    "\n",
    "    # Define the Bagging Regressor\n",
    "    bagging_model = BaggingRegressor(\n",
    "        estimator=base_estimator,  # Updated parameter name\n",
    "        random_state=42\n",
    "    )\n",
    "\n",
    "    # Set up hyperparameter grid for tuning\n",
    "    param_grid = {\n",
    "        'n_estimators': [10, 50, 100, 200], # Number of base estimators\n",
    "        'max_samples': [0.5, 0.7, 1.0],     # Fraction of samples to draw\n",
    "        'max_features': [0.5, 0.7, 1.0],    # Fraction of features to draw\n",
    "        'estimator__max_depth': [3, 5, 10, None] # Depth of decision trees\n",
    "    }\n",
    "\n",
    "    # Use GridSearchCV to find the best hyperparameters\n",
    "    grid_search = GridSearchCV(\n",
    "        estimator=bagging_model,\n",
    "        param_grid=param_grid,\n",
    "        scoring='neg_root_mean_squared_error',  # Minimize RMSE\n",
    "        cv=5,  # 5-fold cross-validation\n",
    "        verbose=1,\n",
    "        n_jobs=-1  # Use all available cores\n",
    "    )\n",
    "\n",
    "    # Fit the grid search to the training data\n",
    "    grid_search.fit(X_train, y_train)\n",
    "\n",
    "    # Print the best parameters and RMSE\n",
    "    print(\"Best parameters:\", grid_search.best_params_)\n",
    "    print(\"Best RMSE:\", -grid_search.best_score_)\n",
    "\n",
    "    # Use the best model to predict on the test set\n",
    "    return grid_search.best_estimator_"
   ]
  },
  {
   "cell_type": "code",
   "execution_count": 57,
   "id": "2b39e70f-03be-4d21-99c1-4ea3e40b8837",
   "metadata": {},
   "outputs": [
    {
     "name": "stdout",
     "output_type": "stream",
     "text": [
      "Fitting 5 folds for each of 144 candidates, totalling 720 fits\n",
      "Best parameters: {'estimator__max_depth': None, 'max_features': 0.5, 'max_samples': 1.0, 'n_estimators': 200}\n",
      "Best RMSE: 0.13509426431781696\n"
     ]
    }
   ],
   "source": [
    "bag_model = train_bagging(X_train_split, y_train_split)"
   ]
  },
  {
   "cell_type": "code",
   "execution_count": 58,
   "id": "5f687c2a-bb6d-4bd5-81e6-118a0ffd4ee0",
   "metadata": {},
   "outputs": [
    {
     "name": "stdout",
     "output_type": "stream",
     "text": [
      "Validation RMSE (Bagging): 0.14377696858693548\n"
     ]
    }
   ],
   "source": [
    "bag_valid_pred = bag_model.predict(X_valid_split)\n",
    "bag_valid_rmse = root_mean_squared_error(y_valid_split, bag_valid_pred)\n",
    "print(f\"Validation RMSE (Bagging): {bag_valid_rmse}\")"
   ]
  },
  {
   "cell_type": "code",
   "execution_count": 59,
   "id": "2dfee8e3-050e-4778-8ee8-a271c02eaafa",
   "metadata": {},
   "outputs": [
    {
     "name": "stdout",
     "output_type": "stream",
     "text": [
      "Submission file saved to: data\\house-prices\\processed(py)\\bagging.csv\n"
     ]
    }
   ],
   "source": [
    "save_submission(bag_model, X_test_full, test_ids, 'bagging.csv')"
   ]
  },
  {
   "cell_type": "markdown",
   "id": "3bceca96-4043-4001-a9ba-c4bc70099350",
   "metadata": {},
   "source": [
    "### XGBoost"
   ]
  },
  {
   "cell_type": "code",
   "execution_count": 60,
   "id": "6525be8a-cec0-40be-ae5d-a142948d58d1",
   "metadata": {},
   "outputs": [],
   "source": [
    "def train_xgb(X_train, y_train):\n",
    "    # Convert to DMatrix for GPU compatibility\n",
    "    dtrain = DMatrix(X_train, label=y_train)\n",
    "    \n",
    "    # Define the XGBoost Regressor\n",
    "    xgb = XGBRegressor(\n",
    "        objective='reg:squarederror',  # Regression objective\n",
    "        random_state=42,\n",
    "        tree_method = \"hist\",\n",
    "        device = \"cuda\",      # enable gpu\n",
    "        n_jobs=-1  # Use all available cores\n",
    "    )\n",
    "\n",
    "    # Set up hyperparameter grid for tuning\n",
    "    param_grid = {\n",
    "        'n_estimators': [100, 300], # Number of boosting rounds\n",
    "        'learning_rate': [0.05, 0.1, 0.2], # Step size shrinkage\n",
    "        'max_depth': [3, 5, 7],     # Maximum tree depth\n",
    "        'subsample': [0.8, 1.0],    # Fraction of samples used for training each tree\n",
    "        'colsample_bytree': [0.8, 1.0], # Fraction of features used for training each tree\n",
    "        'gamma': [0, 0.1, 0.2, 0.3],    # Minimum loss reduction required to split\n",
    "        'reg_alpha': [0, 0.1, 1, 10],   # L1 regularization\n",
    "        'reg_lambda': [0, 0.1, 1, 10],  # L2 regularization\n",
    "        'min_child_weight': [1, 3, 5, 10] # Minimum child weight\n",
    "    }\n",
    "\n",
    "    # Use GridSearchCV to find the best hyperparameters\n",
    "    grid_search = RandomizedSearchCV(\n",
    "        estimator=xgb,\n",
    "        param_distributions=param_grid,\n",
    "        n_iter=100,\n",
    "        scoring='neg_root_mean_squared_error', # minimize RMSE\n",
    "        cv=5,      # 5-fold cross-validation\n",
    "        verbose=1,\n",
    "        n_jobs=-1  # use all available cores\n",
    "    )\n",
    "\n",
    "    # Fit the grid search to the training data\n",
    "    grid_search.fit(X_train, y_train)\n",
    "\n",
    "    # Print the best parameters and RMSE\n",
    "    print(\"Best parameters:\", grid_search.best_params_)\n",
    "    print(\"Best RMSE:\", -grid_search.best_score_)\n",
    "\n",
    "    # Use the best model to predict on the test set\n",
    "    return grid_search.best_estimator_"
   ]
  },
  {
   "cell_type": "code",
   "execution_count": 61,
   "id": "d2e0342c-2a86-4173-be99-6db49671f265",
   "metadata": {},
   "outputs": [
    {
     "name": "stdout",
     "output_type": "stream",
     "text": [
      "Fitting 5 folds for each of 100 candidates, totalling 500 fits\n",
      "Best parameters: {'subsample': 0.8, 'reg_lambda': 0.1, 'reg_alpha': 0, 'n_estimators': 300, 'min_child_weight': 10, 'max_depth': 5, 'learning_rate': 0.05, 'gamma': 0, 'colsample_bytree': 0.8}\n",
      "Best RMSE: 0.12320914496713031\n"
     ]
    }
   ],
   "source": [
    "xgb_model = train_xgb(X_train_split, y_train_split)"
   ]
  },
  {
   "cell_type": "code",
   "execution_count": 62,
   "id": "a6bca0b8-f453-4770-a1f5-a9881e0b7afc",
   "metadata": {},
   "outputs": [
    {
     "name": "stdout",
     "output_type": "stream",
     "text": [
      "Validation RMSE (XGBoost): 0.14073594419026517\n"
     ]
    },
    {
     "name": "stderr",
     "output_type": "stream",
     "text": [
      "C:\\Users\\ArnoZ\\AppData\\Roaming\\Python\\Python312\\site-packages\\xgboost\\core.py:158: UserWarning: [00:10:02] WARNING: C:\\buildkite-agent\\builds\\buildkite-windows-cpu-autoscaling-group-i-0c55ff5f71b100e98-1\\xgboost\\xgboost-ci-windows\\src\\common\\error_msg.cc:58: Falling back to prediction using DMatrix due to mismatched devices. This might lead to higher memory usage and slower performance. XGBoost is running on: cuda:0, while the input data is on: cpu.\n",
      "Potential solutions:\n",
      "- Use a data structure that matches the device ordinal in the booster.\n",
      "- Set the device for booster before call to inplace_predict.\n",
      "\n",
      "This warning will only be shown once.\n",
      "\n",
      "  warnings.warn(smsg, UserWarning)\n"
     ]
    }
   ],
   "source": [
    "xgb_valid_pred = xgb_model.predict(X_valid_split)\n",
    "xgb_valid_rmse = root_mean_squared_error(y_valid_split, xgb_valid_pred)\n",
    "print(f\"Validation RMSE (XGBoost): {xgb_valid_rmse}\")"
   ]
  },
  {
   "cell_type": "code",
   "execution_count": 63,
   "id": "5ee0d519-28f1-4196-9ef8-a0b20decdbb4",
   "metadata": {},
   "outputs": [
    {
     "name": "stdout",
     "output_type": "stream",
     "text": [
      "Submission file saved to: data\\house-prices\\processed(py)\\xgboost.csv\n"
     ]
    }
   ],
   "source": [
    "save_submission(xgb_model, X_test_full, test_ids, 'xgboost.csv')"
   ]
  },
  {
   "cell_type": "markdown",
   "id": "f9b7a5c2-738d-48b8-a9f9-9fd411875c57",
   "metadata": {},
   "source": [
    "### LightGBM"
   ]
  },
  {
   "cell_type": "code",
   "execution_count": 70,
   "id": "8ca62998-63d3-4a9f-8fc6-3297f0f37f04",
   "metadata": {},
   "outputs": [],
   "source": [
    "def train_lgb(X_train, y_train):\n",
    "    # Define the LightGBM Regressor\n",
    "    lgb = LGBMRegressor(\n",
    "        random_state=42,\n",
    "        boosting_type='gbdt',\n",
    "        device='gpu',\n",
    "        n_jobs=-1  # Use all available cores\n",
    "    )\n",
    "\n",
    "    # Reduced parameter space\n",
    "    param_dist = {\n",
    "        'n_estimators': [100, 300, 500],\n",
    "        'learning_rate': [0.01, 0.05],\n",
    "        'max_depth': [5, 7],\n",
    "        'num_leaves': [31],  # single value for num_leaves\n",
    "        'subsample': [0.8],\n",
    "        'colsample_bytree': [0.8],\n",
    "        'min_child_samples': [10, 20],\n",
    "        'reg_alpha': [0, 0.1],\n",
    "        'reg_lambda': [0, 0.1]\n",
    "    }\n",
    "\n",
    "    random_search = RandomizedSearchCV(\n",
    "        estimator=lgb,\n",
    "        param_distributions=param_dist,\n",
    "        n_iter=10,  # fewer iterations\n",
    "        scoring='neg_root_mean_squared_error',\n",
    "        cv=2,       # fewer folds\n",
    "        verbose=1,\n",
    "        n_jobs=-1,\n",
    "        random_state=42\n",
    "    )\n",
    "\n",
    "    # Fit the grid search to the training data\n",
    "    random_search.fit(X_train, y_train)\n",
    "\n",
    "    # Print the best parameters and RMSE\n",
    "    print(\"Best parameters:\", random_search.best_params_)\n",
    "    print(\"Best RMSE:\", -random_search.best_score_)\n",
    "\n",
    "    # Use the best model to predict on the test set\n",
    "    return random_search.best_estimator_"
   ]
  },
  {
   "cell_type": "code",
   "execution_count": 71,
   "id": "9d0436ac-b18f-4b08-afc4-d6443a1ab17e",
   "metadata": {},
   "outputs": [
    {
     "name": "stdout",
     "output_type": "stream",
     "text": [
      "Fitting 3 folds for each of 20 candidates, totalling 60 fits\n"
     ]
    },
    {
     "ename": "KeyboardInterrupt",
     "evalue": "",
     "output_type": "error",
     "traceback": [
      "\u001b[1;31m---------------------------------------------------------------------------\u001b[0m",
      "\u001b[1;31mKeyboardInterrupt\u001b[0m                         Traceback (most recent call last)",
      "Cell \u001b[1;32mIn[71], line 1\u001b[0m\n\u001b[1;32m----> 1\u001b[0m lgb_model \u001b[38;5;241m=\u001b[39m \u001b[43mtrain_lgb\u001b[49m\u001b[43m(\u001b[49m\u001b[43mX_train_split\u001b[49m\u001b[43m,\u001b[49m\u001b[43m \u001b[49m\u001b[43my_train_split\u001b[49m\u001b[43m)\u001b[49m\n",
      "Cell \u001b[1;32mIn[70], line 36\u001b[0m, in \u001b[0;36mtrain_lgb\u001b[1;34m(X_train, y_train)\u001b[0m\n\u001b[0;32m     24\u001b[0m random_search \u001b[38;5;241m=\u001b[39m RandomizedSearchCV(\n\u001b[0;32m     25\u001b[0m     estimator\u001b[38;5;241m=\u001b[39mlgb,\n\u001b[0;32m     26\u001b[0m     param_distributions\u001b[38;5;241m=\u001b[39mparam_dist,\n\u001b[1;32m   (...)\u001b[0m\n\u001b[0;32m     32\u001b[0m     random_state\u001b[38;5;241m=\u001b[39m\u001b[38;5;241m42\u001b[39m\n\u001b[0;32m     33\u001b[0m )\n\u001b[0;32m     35\u001b[0m \u001b[38;5;66;03m# Fit the grid search to the training data\u001b[39;00m\n\u001b[1;32m---> 36\u001b[0m \u001b[43mrandom_search\u001b[49m\u001b[38;5;241;43m.\u001b[39;49m\u001b[43mfit\u001b[49m\u001b[43m(\u001b[49m\u001b[43mX_train\u001b[49m\u001b[43m,\u001b[49m\u001b[43m \u001b[49m\u001b[43my_train\u001b[49m\u001b[43m)\u001b[49m\n\u001b[0;32m     38\u001b[0m \u001b[38;5;66;03m# Print the best parameters and RMSE\u001b[39;00m\n\u001b[0;32m     39\u001b[0m \u001b[38;5;28mprint\u001b[39m(\u001b[38;5;124m\"\u001b[39m\u001b[38;5;124mBest parameters:\u001b[39m\u001b[38;5;124m\"\u001b[39m, random_search\u001b[38;5;241m.\u001b[39mbest_params_)\n",
      "File \u001b[1;32m~\\AppData\\Roaming\\Python\\Python312\\site-packages\\sklearn\\base.py:1473\u001b[0m, in \u001b[0;36m_fit_context.<locals>.decorator.<locals>.wrapper\u001b[1;34m(estimator, *args, **kwargs)\u001b[0m\n\u001b[0;32m   1466\u001b[0m     estimator\u001b[38;5;241m.\u001b[39m_validate_params()\n\u001b[0;32m   1468\u001b[0m \u001b[38;5;28;01mwith\u001b[39;00m config_context(\n\u001b[0;32m   1469\u001b[0m     skip_parameter_validation\u001b[38;5;241m=\u001b[39m(\n\u001b[0;32m   1470\u001b[0m         prefer_skip_nested_validation \u001b[38;5;129;01mor\u001b[39;00m global_skip_validation\n\u001b[0;32m   1471\u001b[0m     )\n\u001b[0;32m   1472\u001b[0m ):\n\u001b[1;32m-> 1473\u001b[0m     \u001b[38;5;28;01mreturn\u001b[39;00m \u001b[43mfit_method\u001b[49m\u001b[43m(\u001b[49m\u001b[43mestimator\u001b[49m\u001b[43m,\u001b[49m\u001b[43m \u001b[49m\u001b[38;5;241;43m*\u001b[39;49m\u001b[43margs\u001b[49m\u001b[43m,\u001b[49m\u001b[43m \u001b[49m\u001b[38;5;241;43m*\u001b[39;49m\u001b[38;5;241;43m*\u001b[39;49m\u001b[43mkwargs\u001b[49m\u001b[43m)\u001b[49m\n",
      "File \u001b[1;32m~\\AppData\\Roaming\\Python\\Python312\\site-packages\\sklearn\\model_selection\\_search.py:1019\u001b[0m, in \u001b[0;36mBaseSearchCV.fit\u001b[1;34m(self, X, y, **params)\u001b[0m\n\u001b[0;32m   1013\u001b[0m     results \u001b[38;5;241m=\u001b[39m \u001b[38;5;28mself\u001b[39m\u001b[38;5;241m.\u001b[39m_format_results(\n\u001b[0;32m   1014\u001b[0m         all_candidate_params, n_splits, all_out, all_more_results\n\u001b[0;32m   1015\u001b[0m     )\n\u001b[0;32m   1017\u001b[0m     \u001b[38;5;28;01mreturn\u001b[39;00m results\n\u001b[1;32m-> 1019\u001b[0m \u001b[38;5;28;43mself\u001b[39;49m\u001b[38;5;241;43m.\u001b[39;49m\u001b[43m_run_search\u001b[49m\u001b[43m(\u001b[49m\u001b[43mevaluate_candidates\u001b[49m\u001b[43m)\u001b[49m\n\u001b[0;32m   1021\u001b[0m \u001b[38;5;66;03m# multimetric is determined here because in the case of a callable\u001b[39;00m\n\u001b[0;32m   1022\u001b[0m \u001b[38;5;66;03m# self.scoring the return type is only known after calling\u001b[39;00m\n\u001b[0;32m   1023\u001b[0m first_test_score \u001b[38;5;241m=\u001b[39m all_out[\u001b[38;5;241m0\u001b[39m][\u001b[38;5;124m\"\u001b[39m\u001b[38;5;124mtest_scores\u001b[39m\u001b[38;5;124m\"\u001b[39m]\n",
      "File \u001b[1;32m~\\AppData\\Roaming\\Python\\Python312\\site-packages\\sklearn\\model_selection\\_search.py:1960\u001b[0m, in \u001b[0;36mRandomizedSearchCV._run_search\u001b[1;34m(self, evaluate_candidates)\u001b[0m\n\u001b[0;32m   1958\u001b[0m \u001b[38;5;28;01mdef\u001b[39;00m \u001b[38;5;21m_run_search\u001b[39m(\u001b[38;5;28mself\u001b[39m, evaluate_candidates):\n\u001b[0;32m   1959\u001b[0m \u001b[38;5;250m    \u001b[39m\u001b[38;5;124;03m\"\"\"Search n_iter candidates from param_distributions\"\"\"\u001b[39;00m\n\u001b[1;32m-> 1960\u001b[0m     \u001b[43mevaluate_candidates\u001b[49m\u001b[43m(\u001b[49m\n\u001b[0;32m   1961\u001b[0m \u001b[43m        \u001b[49m\u001b[43mParameterSampler\u001b[49m\u001b[43m(\u001b[49m\n\u001b[0;32m   1962\u001b[0m \u001b[43m            \u001b[49m\u001b[38;5;28;43mself\u001b[39;49m\u001b[38;5;241;43m.\u001b[39;49m\u001b[43mparam_distributions\u001b[49m\u001b[43m,\u001b[49m\u001b[43m \u001b[49m\u001b[38;5;28;43mself\u001b[39;49m\u001b[38;5;241;43m.\u001b[39;49m\u001b[43mn_iter\u001b[49m\u001b[43m,\u001b[49m\u001b[43m \u001b[49m\u001b[43mrandom_state\u001b[49m\u001b[38;5;241;43m=\u001b[39;49m\u001b[38;5;28;43mself\u001b[39;49m\u001b[38;5;241;43m.\u001b[39;49m\u001b[43mrandom_state\u001b[49m\n\u001b[0;32m   1963\u001b[0m \u001b[43m        \u001b[49m\u001b[43m)\u001b[49m\n\u001b[0;32m   1964\u001b[0m \u001b[43m    \u001b[49m\u001b[43m)\u001b[49m\n",
      "File \u001b[1;32m~\\AppData\\Roaming\\Python\\Python312\\site-packages\\sklearn\\model_selection\\_search.py:965\u001b[0m, in \u001b[0;36mBaseSearchCV.fit.<locals>.evaluate_candidates\u001b[1;34m(candidate_params, cv, more_results)\u001b[0m\n\u001b[0;32m    957\u001b[0m \u001b[38;5;28;01mif\u001b[39;00m \u001b[38;5;28mself\u001b[39m\u001b[38;5;241m.\u001b[39mverbose \u001b[38;5;241m>\u001b[39m \u001b[38;5;241m0\u001b[39m:\n\u001b[0;32m    958\u001b[0m     \u001b[38;5;28mprint\u001b[39m(\n\u001b[0;32m    959\u001b[0m         \u001b[38;5;124m\"\u001b[39m\u001b[38;5;124mFitting \u001b[39m\u001b[38;5;132;01m{0}\u001b[39;00m\u001b[38;5;124m folds for each of \u001b[39m\u001b[38;5;132;01m{1}\u001b[39;00m\u001b[38;5;124m candidates,\u001b[39m\u001b[38;5;124m\"\u001b[39m\n\u001b[0;32m    960\u001b[0m         \u001b[38;5;124m\"\u001b[39m\u001b[38;5;124m totalling \u001b[39m\u001b[38;5;132;01m{2}\u001b[39;00m\u001b[38;5;124m fits\u001b[39m\u001b[38;5;124m\"\u001b[39m\u001b[38;5;241m.\u001b[39mformat(\n\u001b[0;32m    961\u001b[0m             n_splits, n_candidates, n_candidates \u001b[38;5;241m*\u001b[39m n_splits\n\u001b[0;32m    962\u001b[0m         )\n\u001b[0;32m    963\u001b[0m     )\n\u001b[1;32m--> 965\u001b[0m out \u001b[38;5;241m=\u001b[39m \u001b[43mparallel\u001b[49m\u001b[43m(\u001b[49m\n\u001b[0;32m    966\u001b[0m \u001b[43m    \u001b[49m\u001b[43mdelayed\u001b[49m\u001b[43m(\u001b[49m\u001b[43m_fit_and_score\u001b[49m\u001b[43m)\u001b[49m\u001b[43m(\u001b[49m\n\u001b[0;32m    967\u001b[0m \u001b[43m        \u001b[49m\u001b[43mclone\u001b[49m\u001b[43m(\u001b[49m\u001b[43mbase_estimator\u001b[49m\u001b[43m)\u001b[49m\u001b[43m,\u001b[49m\n\u001b[0;32m    968\u001b[0m \u001b[43m        \u001b[49m\u001b[43mX\u001b[49m\u001b[43m,\u001b[49m\n\u001b[0;32m    969\u001b[0m \u001b[43m        \u001b[49m\u001b[43my\u001b[49m\u001b[43m,\u001b[49m\n\u001b[0;32m    970\u001b[0m \u001b[43m        \u001b[49m\u001b[43mtrain\u001b[49m\u001b[38;5;241;43m=\u001b[39;49m\u001b[43mtrain\u001b[49m\u001b[43m,\u001b[49m\n\u001b[0;32m    971\u001b[0m \u001b[43m        \u001b[49m\u001b[43mtest\u001b[49m\u001b[38;5;241;43m=\u001b[39;49m\u001b[43mtest\u001b[49m\u001b[43m,\u001b[49m\n\u001b[0;32m    972\u001b[0m \u001b[43m        \u001b[49m\u001b[43mparameters\u001b[49m\u001b[38;5;241;43m=\u001b[39;49m\u001b[43mparameters\u001b[49m\u001b[43m,\u001b[49m\n\u001b[0;32m    973\u001b[0m \u001b[43m        \u001b[49m\u001b[43msplit_progress\u001b[49m\u001b[38;5;241;43m=\u001b[39;49m\u001b[43m(\u001b[49m\u001b[43msplit_idx\u001b[49m\u001b[43m,\u001b[49m\u001b[43m \u001b[49m\u001b[43mn_splits\u001b[49m\u001b[43m)\u001b[49m\u001b[43m,\u001b[49m\n\u001b[0;32m    974\u001b[0m \u001b[43m        \u001b[49m\u001b[43mcandidate_progress\u001b[49m\u001b[38;5;241;43m=\u001b[39;49m\u001b[43m(\u001b[49m\u001b[43mcand_idx\u001b[49m\u001b[43m,\u001b[49m\u001b[43m \u001b[49m\u001b[43mn_candidates\u001b[49m\u001b[43m)\u001b[49m\u001b[43m,\u001b[49m\n\u001b[0;32m    975\u001b[0m \u001b[43m        \u001b[49m\u001b[38;5;241;43m*\u001b[39;49m\u001b[38;5;241;43m*\u001b[39;49m\u001b[43mfit_and_score_kwargs\u001b[49m\u001b[43m,\u001b[49m\n\u001b[0;32m    976\u001b[0m \u001b[43m    \u001b[49m\u001b[43m)\u001b[49m\n\u001b[0;32m    977\u001b[0m \u001b[43m    \u001b[49m\u001b[38;5;28;43;01mfor\u001b[39;49;00m\u001b[43m \u001b[49m\u001b[43m(\u001b[49m\u001b[43mcand_idx\u001b[49m\u001b[43m,\u001b[49m\u001b[43m \u001b[49m\u001b[43mparameters\u001b[49m\u001b[43m)\u001b[49m\u001b[43m,\u001b[49m\u001b[43m \u001b[49m\u001b[43m(\u001b[49m\u001b[43msplit_idx\u001b[49m\u001b[43m,\u001b[49m\u001b[43m \u001b[49m\u001b[43m(\u001b[49m\u001b[43mtrain\u001b[49m\u001b[43m,\u001b[49m\u001b[43m \u001b[49m\u001b[43mtest\u001b[49m\u001b[43m)\u001b[49m\u001b[43m)\u001b[49m\u001b[43m \u001b[49m\u001b[38;5;129;43;01min\u001b[39;49;00m\u001b[43m \u001b[49m\u001b[43mproduct\u001b[49m\u001b[43m(\u001b[49m\n\u001b[0;32m    978\u001b[0m \u001b[43m        \u001b[49m\u001b[38;5;28;43menumerate\u001b[39;49m\u001b[43m(\u001b[49m\u001b[43mcandidate_params\u001b[49m\u001b[43m)\u001b[49m\u001b[43m,\u001b[49m\n\u001b[0;32m    979\u001b[0m \u001b[43m        \u001b[49m\u001b[38;5;28;43menumerate\u001b[39;49m\u001b[43m(\u001b[49m\u001b[43mcv\u001b[49m\u001b[38;5;241;43m.\u001b[39;49m\u001b[43msplit\u001b[49m\u001b[43m(\u001b[49m\u001b[43mX\u001b[49m\u001b[43m,\u001b[49m\u001b[43m \u001b[49m\u001b[43my\u001b[49m\u001b[43m,\u001b[49m\u001b[43m \u001b[49m\u001b[38;5;241;43m*\u001b[39;49m\u001b[38;5;241;43m*\u001b[39;49m\u001b[43mrouted_params\u001b[49m\u001b[38;5;241;43m.\u001b[39;49m\u001b[43msplitter\u001b[49m\u001b[38;5;241;43m.\u001b[39;49m\u001b[43msplit\u001b[49m\u001b[43m)\u001b[49m\u001b[43m)\u001b[49m\u001b[43m,\u001b[49m\n\u001b[0;32m    980\u001b[0m \u001b[43m    \u001b[49m\u001b[43m)\u001b[49m\n\u001b[0;32m    981\u001b[0m \u001b[43m\u001b[49m\u001b[43m)\u001b[49m\n\u001b[0;32m    983\u001b[0m \u001b[38;5;28;01mif\u001b[39;00m \u001b[38;5;28mlen\u001b[39m(out) \u001b[38;5;241m<\u001b[39m \u001b[38;5;241m1\u001b[39m:\n\u001b[0;32m    984\u001b[0m     \u001b[38;5;28;01mraise\u001b[39;00m \u001b[38;5;167;01mValueError\u001b[39;00m(\n\u001b[0;32m    985\u001b[0m         \u001b[38;5;124m\"\u001b[39m\u001b[38;5;124mNo fits were performed. \u001b[39m\u001b[38;5;124m\"\u001b[39m\n\u001b[0;32m    986\u001b[0m         \u001b[38;5;124m\"\u001b[39m\u001b[38;5;124mWas the CV iterator empty? \u001b[39m\u001b[38;5;124m\"\u001b[39m\n\u001b[0;32m    987\u001b[0m         \u001b[38;5;124m\"\u001b[39m\u001b[38;5;124mWere there no candidates?\u001b[39m\u001b[38;5;124m\"\u001b[39m\n\u001b[0;32m    988\u001b[0m     )\n",
      "File \u001b[1;32m~\\AppData\\Roaming\\Python\\Python312\\site-packages\\sklearn\\utils\\parallel.py:74\u001b[0m, in \u001b[0;36mParallel.__call__\u001b[1;34m(self, iterable)\u001b[0m\n\u001b[0;32m     69\u001b[0m config \u001b[38;5;241m=\u001b[39m get_config()\n\u001b[0;32m     70\u001b[0m iterable_with_config \u001b[38;5;241m=\u001b[39m (\n\u001b[0;32m     71\u001b[0m     (_with_config(delayed_func, config), args, kwargs)\n\u001b[0;32m     72\u001b[0m     \u001b[38;5;28;01mfor\u001b[39;00m delayed_func, args, kwargs \u001b[38;5;129;01min\u001b[39;00m iterable\n\u001b[0;32m     73\u001b[0m )\n\u001b[1;32m---> 74\u001b[0m \u001b[38;5;28;01mreturn\u001b[39;00m \u001b[38;5;28;43msuper\u001b[39;49m\u001b[43m(\u001b[49m\u001b[43m)\u001b[49m\u001b[38;5;241;43m.\u001b[39;49m\u001b[38;5;21;43m__call__\u001b[39;49m\u001b[43m(\u001b[49m\u001b[43miterable_with_config\u001b[49m\u001b[43m)\u001b[49m\n",
      "File \u001b[1;32m~\\AppData\\Roaming\\Python\\Python312\\site-packages\\joblib\\parallel.py:2007\u001b[0m, in \u001b[0;36mParallel.__call__\u001b[1;34m(self, iterable)\u001b[0m\n\u001b[0;32m   2001\u001b[0m \u001b[38;5;66;03m# The first item from the output is blank, but it makes the interpreter\u001b[39;00m\n\u001b[0;32m   2002\u001b[0m \u001b[38;5;66;03m# progress until it enters the Try/Except block of the generator and\u001b[39;00m\n\u001b[0;32m   2003\u001b[0m \u001b[38;5;66;03m# reaches the first `yield` statement. This starts the asynchronous\u001b[39;00m\n\u001b[0;32m   2004\u001b[0m \u001b[38;5;66;03m# dispatch of the tasks to the workers.\u001b[39;00m\n\u001b[0;32m   2005\u001b[0m \u001b[38;5;28mnext\u001b[39m(output)\n\u001b[1;32m-> 2007\u001b[0m \u001b[38;5;28;01mreturn\u001b[39;00m output \u001b[38;5;28;01mif\u001b[39;00m \u001b[38;5;28mself\u001b[39m\u001b[38;5;241m.\u001b[39mreturn_generator \u001b[38;5;28;01melse\u001b[39;00m \u001b[38;5;28;43mlist\u001b[39;49m\u001b[43m(\u001b[49m\u001b[43moutput\u001b[49m\u001b[43m)\u001b[49m\n",
      "File \u001b[1;32m~\\AppData\\Roaming\\Python\\Python312\\site-packages\\joblib\\parallel.py:1650\u001b[0m, in \u001b[0;36mParallel._get_outputs\u001b[1;34m(self, iterator, pre_dispatch)\u001b[0m\n\u001b[0;32m   1647\u001b[0m     \u001b[38;5;28;01myield\u001b[39;00m\n\u001b[0;32m   1649\u001b[0m     \u001b[38;5;28;01mwith\u001b[39;00m \u001b[38;5;28mself\u001b[39m\u001b[38;5;241m.\u001b[39m_backend\u001b[38;5;241m.\u001b[39mretrieval_context():\n\u001b[1;32m-> 1650\u001b[0m         \u001b[38;5;28;01myield from\u001b[39;00m \u001b[38;5;28mself\u001b[39m\u001b[38;5;241m.\u001b[39m_retrieve()\n\u001b[0;32m   1652\u001b[0m \u001b[38;5;28;01mexcept\u001b[39;00m \u001b[38;5;167;01mGeneratorExit\u001b[39;00m:\n\u001b[0;32m   1653\u001b[0m     \u001b[38;5;66;03m# The generator has been garbage collected before being fully\u001b[39;00m\n\u001b[0;32m   1654\u001b[0m     \u001b[38;5;66;03m# consumed. This aborts the remaining tasks if possible and warn\u001b[39;00m\n\u001b[0;32m   1655\u001b[0m     \u001b[38;5;66;03m# the user if necessary.\u001b[39;00m\n\u001b[0;32m   1656\u001b[0m     \u001b[38;5;28mself\u001b[39m\u001b[38;5;241m.\u001b[39m_exception \u001b[38;5;241m=\u001b[39m \u001b[38;5;28;01mTrue\u001b[39;00m\n",
      "File \u001b[1;32m~\\AppData\\Roaming\\Python\\Python312\\site-packages\\joblib\\parallel.py:1762\u001b[0m, in \u001b[0;36mParallel._retrieve\u001b[1;34m(self)\u001b[0m\n\u001b[0;32m   1757\u001b[0m \u001b[38;5;66;03m# If the next job is not ready for retrieval yet, we just wait for\u001b[39;00m\n\u001b[0;32m   1758\u001b[0m \u001b[38;5;66;03m# async callbacks to progress.\u001b[39;00m\n\u001b[0;32m   1759\u001b[0m \u001b[38;5;28;01mif\u001b[39;00m ((\u001b[38;5;28mlen\u001b[39m(\u001b[38;5;28mself\u001b[39m\u001b[38;5;241m.\u001b[39m_jobs) \u001b[38;5;241m==\u001b[39m \u001b[38;5;241m0\u001b[39m) \u001b[38;5;129;01mor\u001b[39;00m\n\u001b[0;32m   1760\u001b[0m     (\u001b[38;5;28mself\u001b[39m\u001b[38;5;241m.\u001b[39m_jobs[\u001b[38;5;241m0\u001b[39m]\u001b[38;5;241m.\u001b[39mget_status(\n\u001b[0;32m   1761\u001b[0m         timeout\u001b[38;5;241m=\u001b[39m\u001b[38;5;28mself\u001b[39m\u001b[38;5;241m.\u001b[39mtimeout) \u001b[38;5;241m==\u001b[39m TASK_PENDING)):\n\u001b[1;32m-> 1762\u001b[0m     \u001b[43mtime\u001b[49m\u001b[38;5;241;43m.\u001b[39;49m\u001b[43msleep\u001b[49m\u001b[43m(\u001b[49m\u001b[38;5;241;43m0.01\u001b[39;49m\u001b[43m)\u001b[49m\n\u001b[0;32m   1763\u001b[0m     \u001b[38;5;28;01mcontinue\u001b[39;00m\n\u001b[0;32m   1765\u001b[0m \u001b[38;5;66;03m# We need to be careful: the job list can be filling up as\u001b[39;00m\n\u001b[0;32m   1766\u001b[0m \u001b[38;5;66;03m# we empty it and Python list are not thread-safe by\u001b[39;00m\n\u001b[0;32m   1767\u001b[0m \u001b[38;5;66;03m# default hence the use of the lock\u001b[39;00m\n",
      "\u001b[1;31mKeyboardInterrupt\u001b[0m: "
     ]
    }
   ],
   "source": [
    "lgb_model = train_lgb(X_train_split, y_train_split)"
   ]
  },
  {
   "cell_type": "code",
   "execution_count": null,
   "id": "4e4fa5f2-ba1e-4e92-8edb-7e775a59eee3",
   "metadata": {
    "scrolled": true
   },
   "outputs": [],
   "source": [
    "lgb_valid_pred = lgb_model.predict(X_valid_split)\n",
    "lgb_valid_rmse = root_mean_squared_error(y_valid_split, lgb_valid_pred)\n",
    "print(f\"Validation RMSE (LightGBM): {lgb_valid_rmse}\")"
   ]
  },
  {
   "cell_type": "code",
   "execution_count": null,
   "id": "d9777f30-9a29-4bce-b61b-a2d31d234077",
   "metadata": {},
   "outputs": [],
   "source": [
    "save_submission(lgb_model, X_test_full, test_ids, 'lightgbm.csv')"
   ]
  },
  {
   "cell_type": "markdown",
   "id": "5d5b2000-c4e1-4fb6-81a6-d6eceda73502",
   "metadata": {},
   "source": [
    "### Stacking"
   ]
  },
  {
   "cell_type": "markdown",
   "id": "92c08266-634e-48e5-8991-439c7f3b1d97",
   "metadata": {},
   "source": [
    "## Summary\n"
   ]
  },
  {
   "cell_type": "code",
   "execution_count": null,
   "id": "135c50d8-c165-49d3-aa81-d5b9f76ed4be",
   "metadata": {},
   "outputs": [],
   "source": [
    "summary = pd.DataFrame({\n",
    "    'Models': [\n",
    "        'kNN', \n",
    "        'SVM',\n",
    "        'Linear Regression',\n",
    "        'Lasso',\n",
    "        'Ridge',\n",
    "        'ElasticNet',\n",
    "        'Decision Tree',\n",
    "        'Random Forest',\n",
    "        'Bagging',\n",
    "        'XGBoost',\n",
    "        'LightGBM'\n",
    "    ],\n",
    "    'Scores (RMSE)': [\n",
    "        knn_valid_rmse,\n",
    "        svm_valid_rmse,\n",
    "        linear_valid_rmse,\n",
    "        lasso_valid_rmse,\n",
    "        ridge_valid_rmse,\n",
    "        elasticnet_valid_rmse,\n",
    "        tree_valid_rmse,\n",
    "        rf_valid_rmse,\n",
    "        bag_valid_rmse,\n",
    "        xgb_valid_rmse,\n",
    "        lgb_valid_rmse\n",
    "    ]\n",
    "})"
   ]
  },
  {
   "cell_type": "code",
   "execution_count": null,
   "id": "1abe4dfd-e8d3-466d-bcec-1e334dffab39",
   "metadata": {},
   "outputs": [],
   "source": [
    "summary"
   ]
  },
  {
   "cell_type": "markdown",
   "id": "785680e6-6b86-499e-ab75-3cac7173f3fc",
   "metadata": {},
   "source": [
    "## References\n",
    "\n",
    "- Kaggle Competition: https://www.kaggle.com/competitions/house-prices-advanced-regression-techniques/overview\n",
    "- Dataset Description: https://www.kaggle.com/competitions/house-prices-advanced-regression-techniques/data"
   ]
  }
 ],
 "metadata": {
  "kernelspec": {
   "display_name": "Python 3 (ipykernel)",
   "language": "python",
   "name": "python3"
  },
  "language_info": {
   "codemirror_mode": {
    "name": "ipython",
    "version": 3
   },
   "file_extension": ".py",
   "mimetype": "text/x-python",
   "name": "python",
   "nbconvert_exporter": "python",
   "pygments_lexer": "ipython3",
   "version": "3.12.7"
  }
 },
 "nbformat": 4,
 "nbformat_minor": 5
}
