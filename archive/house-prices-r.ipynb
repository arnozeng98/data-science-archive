{
 "cells": [
  {
   "cell_type": "markdown",
   "id": "e17ffdfb-33c7-4686-bc0a-e97679a90632",
   "metadata": {},
   "source": [
    "# House Prices - Advanced Regression Techniques (R)\n",
    "\n",
    "Predict sales prices and practice feature engineering, RFs, and gradient boosting\n",
    "\n",
    "**Author:** Lingsong Zeng<br>\n",
    "**Date:** 04/20/2020"
   ]
  },
  {
   "cell_type": "markdown",
   "id": "2dab37bf-7d75-4765-b999-263d7bf55dc8",
   "metadata": {},
   "source": [
    "## Introduction\n",
    "\n",
    "### Overview\n",
    "\n",
    "> This competition runs indefinitely with a rolling leaderboard. [Learn more](https://www.kaggle.com/docs/competitions#getting-started)\n",
    "\n",
    "### Description\n",
    "\n",
    "![](https://storage.googleapis.com/kaggle-media/competitions/House%20Prices/kaggle_5407_media_housesbanner.png)\n",
    "\n",
    "Ask a home buyer to describe their dream house, and they probably won't begin with the height of the basement ceiling or the proximity to an east-west railroad. But this playground competition's dataset proves that much more influences price negotiations than the number of bedrooms or a white-picket fence.\n",
    "\n",
    "With 79 explanatory variables describing (almost) every aspect of residential homes in Ames, Iowa, this competition challenges you to predict the final price of each home.\n",
    "\n",
    "### Practice Skills\n",
    "\n",
    "- Creative feature engineering \n",
    "- Advanced regression techniques like random forest and gradient boosting\n",
    "\n",
    "### Acknowledgments\n",
    "\n",
    "The [Ames Housing dataset](https://www.amstat.org/publications/jse/v19n3/decock.pdf) was compiled by Dean De Cock for use in data science education. It's an incredible alternative for data scientists looking for a modernized and expanded version of the often cited Boston Housing dataset. \n",
    "\n",
    "Photo by [Tom Thain](https://unsplash.com/@tthfilms) on Unsplash.\n",
    "\n",
    "### Evaluation\n",
    "\n",
    "#### Goal\n",
    "\n",
    "It is my job to predict the sales price for each house. For each Id in the test set, predict the value of the `SalePrice` variable. \n",
    "\n",
    "#### Metric\n",
    "\n",
    "Submissions are evaluated on [Root-Mean-Squared-Error (RMSE)](https://en.wikipedia.org/wiki/Root_mean_square_deviation) between the logarithm of the predicted value and the logarithm of the observed sales price. (Taking logs means that errors in predicting expensive houses and cheap houses will affect the result equally.)"
   ]
  },
  {
   "cell_type": "code",
   "execution_count": 1,
   "id": "29ebcfa5-eaa9-480d-9906-3f698eb500f8",
   "metadata": {
    "vscode": {
     "languageId": "r"
    }
   },
   "outputs": [
    {
     "name": "stderr",
     "output_type": "stream",
     "text": [
      "\n",
      "Attaching package: 'dplyr'\n",
      "\n",
      "\n",
      "The following objects are masked from 'package:stats':\n",
      "\n",
      "    filter, lag\n",
      "\n",
      "\n",
      "The following objects are masked from 'package:base':\n",
      "\n",
      "    intersect, setdiff, setequal, union\n",
      "\n",
      "\n",
      "\n",
      "Attaching package: 'scales'\n",
      "\n",
      "\n",
      "The following object is masked from 'package:readr':\n",
      "\n",
      "    col_factor\n",
      "\n",
      "\n",
      "Loading required package: colorspace\n",
      "\n",
      "Loading required package: grid\n",
      "\n",
      "VIM is ready to use.\n",
      "\n",
      "\n",
      "Suggestions and bug-reports can be submitted at: https://github.com/statistikat/VIM/issues\n",
      "\n",
      "\n",
      "Attaching package: 'VIM'\n",
      "\n",
      "\n",
      "The following object is masked from 'package:datasets':\n",
      "\n",
      "    sleep\n",
      "\n",
      "\n",
      "Loading required package: carData\n",
      "\n",
      "\n",
      "Attaching package: 'car'\n",
      "\n",
      "\n",
      "The following object is masked from 'package:dplyr':\n",
      "\n",
      "    recode\n",
      "\n",
      "\n",
      "Loading required package: lattice\n",
      "\n",
      "\n",
      "Attaching package: 'e1071'\n",
      "\n",
      "\n",
      "The following objects are masked from 'package:moments':\n",
      "\n",
      "    kurtosis, moment, skewness\n",
      "\n",
      "\n",
      "\n",
      "Attaching package: 'kernlab'\n",
      "\n",
      "\n",
      "The following object is masked from 'package:scales':\n",
      "\n",
      "    alpha\n",
      "\n",
      "\n",
      "The following object is masked from 'package:ggplot2':\n",
      "\n",
      "    alpha\n",
      "\n",
      "\n",
      "Loading required package: Matrix\n",
      "\n",
      "\n",
      "Attaching package: 'Matrix'\n",
      "\n",
      "\n",
      "The following objects are masked from 'package:tidyr':\n",
      "\n",
      "    expand, pack, unpack\n",
      "\n",
      "\n",
      "Loaded glmnet 4.1-8\n",
      "\n",
      "randomForest 4.7-1.2\n",
      "\n",
      "Type rfNews() to see new features/changes/bug fixes.\n",
      "\n",
      "\n",
      "Attaching package: 'randomForest'\n",
      "\n",
      "\n",
      "The following object is masked from 'package:ggplot2':\n",
      "\n",
      "    margin\n",
      "\n",
      "\n",
      "The following object is masked from 'package:dplyr':\n",
      "\n",
      "    combine\n",
      "\n",
      "\n",
      "\n",
      "Attaching package: 'xgboost'\n",
      "\n",
      "\n",
      "The following object is masked from 'package:dplyr':\n",
      "\n",
      "    slice\n",
      "\n",
      "\n"
     ]
    }
   ],
   "source": [
    "# Load required packages\n",
    "\n",
    "suppressWarnings({\n",
    "  library(readr)         # Read CSV files\n",
    "  library(dplyr)         # Data manipulation\n",
    "  library(tidyr)         # Data tidying\n",
    "  library(ggplot2)       # Data visualization\n",
    "  library(moments)       # Skewness & kurtosis analysis\n",
    "  library(scales)        # Scaling and formatting plots\n",
    "  library(VIM)           # kNN imputation for missing values\n",
    "  library(car)           # Variance Inflation Factor (VIF) for multicollinearity\n",
    "  library(caret)         # Machine learning framework (model training & tuning)\n",
    "  library(e1071)         # Support Vector Machines (SVM)\n",
    "  library(kernlab)       # Advanced SVM implementation\n",
    "  library(glmnet)        # Lasso, Ridge, and ElasticNet regression\n",
    "  library(rpart)         # Decision Tree modeling\n",
    "  library(rpart.plot)    # Decision Tree visualization\n",
    "  library(randomForest)  # Random Forest (bagging)\n",
    "  library(xgboost)       # Extreme Gradient Boosting (XGBoost)\n",
    "})"
   ]
  },
  {
   "cell_type": "markdown",
   "id": "8ed02f06-7eb7-488e-a95f-78f5f41a420f",
   "metadata": {},
   "source": [
    "## Data\n",
    "\n",
    "### File descriptions\n",
    "\n",
    "- `train.csv` - the training set\n",
    "- `test.csv` - the test set\n",
    "- `data_description.txt` - full description of each column, originally prepared by Dean De Cock but lightly edited to match the column names used here\n",
    "- `sample_submission.csv` - a benchmark submission from a linear regression on year and month of sale, lot square footage, and number of bedrooms"
   ]
  },
  {
   "cell_type": "code",
   "execution_count": 2,
   "id": "2fae5b77-c03f-49b5-9efe-9f76446edc7a",
   "metadata": {
    "vscode": {
     "languageId": "r"
    }
   },
   "outputs": [
    {
     "name": "stderr",
     "output_type": "stream",
     "text": [
      "\u001b[1mRows: \u001b[22m\u001b[34m1460\u001b[39m \u001b[1mColumns: \u001b[22m\u001b[34m81\u001b[39m\n",
      "\u001b[36m──\u001b[39m \u001b[1mColumn specification\u001b[22m \u001b[36m────────────────────────────────────────────────────────────────────────────────────────────────\u001b[39m\n",
      "\u001b[1mDelimiter:\u001b[22m \",\"\n",
      "\u001b[31mchr\u001b[39m (43): MSZoning, Street, Alley, LotShape, LandContour, Utilities, LotConf...\n",
      "\u001b[32mdbl\u001b[39m (38): Id, MSSubClass, LotFrontage, LotArea, OverallQual, OverallCond, Ye...\n",
      "\n",
      "\u001b[36mℹ\u001b[39m Use `spec()` to retrieve the full column specification for this data.\n",
      "\u001b[36mℹ\u001b[39m Specify the column types or set `show_col_types = FALSE` to quiet this message.\n",
      "\u001b[1mRows: \u001b[22m\u001b[34m1459\u001b[39m \u001b[1mColumns: \u001b[22m\u001b[34m80\u001b[39m\n",
      "\u001b[36m──\u001b[39m \u001b[1mColumn specification\u001b[22m \u001b[36m────────────────────────────────────────────────────────────────────────────────────────────────\u001b[39m\n",
      "\u001b[1mDelimiter:\u001b[22m \",\"\n",
      "\u001b[31mchr\u001b[39m (43): MSZoning, Street, Alley, LotShape, LandContour, Utilities, LotConf...\n",
      "\u001b[32mdbl\u001b[39m (37): Id, MSSubClass, LotFrontage, LotArea, OverallQual, OverallCond, Ye...\n",
      "\n",
      "\u001b[36mℹ\u001b[39m Use `spec()` to retrieve the full column specification for this data.\n",
      "\u001b[36mℹ\u001b[39m Specify the column types or set `show_col_types = FALSE` to quiet this message.\n"
     ]
    }
   ],
   "source": [
    "# Construct file paths\n",
    "train_path <- file.path(\"data\", \"house-prices\", \"raw\", \"train.csv\")\n",
    "test_path <- file.path(\"data\", \"house-prices\", \"raw\", \"test.csv\")\n",
    "\n",
    "# Read data\n",
    "train <- read_csv(train_path)\n",
    "test <- read_csv(test_path)\n",
    "\n",
    "# Extract the Id column\n",
    "Id <- test$Id\n",
    "\n",
    "# Remove the Id column\n",
    "train <- train %>% select(-Id)\n",
    "test <- test %>% select(-Id)"
   ]
  },
  {
   "cell_type": "markdown",
   "id": "0cf926c8-e029-4c7e-a8d7-9a37d67a1789",
   "metadata": {},
   "source": [
    "Here we using `file.path` , the dynamic path generation, instead of using hard-coded paths is aiming to provide better compatibility across different platforms.\n",
    "\n",
    "Different operating systems use different path separators (e.g. Windows uses `\\`, while Linux and macOS use `/`). `file.path` automatically chooses the correct separator based on the operating system.\n",
    "\n",
    "The size of the training dataset and the test dataset are roughly the same. The test dataset has one less column than the training dataset, which is our target column `SalePrice`."
   ]
  },
  {
   "cell_type": "code",
   "execution_count": 3,
   "id": "9459ac91-8c77-4ad6-92ea-cf70ab590979",
   "metadata": {
    "vscode": {
     "languageId": "r"
    }
   },
   "outputs": [
    {
     "name": "stdout",
     "output_type": "stream",
     "text": [
      "Rows: 1,460\n",
      "Columns: 80\n",
      "$ MSSubClass    \u001b[3m\u001b[90m<dbl>\u001b[39m\u001b[23m 60, 20, 60, 70, 60, 50, 20, 60, 50, 190, 20, 60, 20, 20,…\n",
      "$ MSZoning      \u001b[3m\u001b[90m<chr>\u001b[39m\u001b[23m \"RL\", \"RL\", \"RL\", \"RL\", \"RL\", \"RL\", \"RL\", \"RL\", \"RM\", \"R…\n",
      "$ LotFrontage   \u001b[3m\u001b[90m<dbl>\u001b[39m\u001b[23m 65, 80, 68, 60, 84, 85, 75, NA, 51, 50, 70, 85, NA, 91, …\n",
      "$ LotArea       \u001b[3m\u001b[90m<dbl>\u001b[39m\u001b[23m 8450, 9600, 11250, 9550, 14260, 14115, 10084, 10382, 612…\n",
      "$ Street        \u001b[3m\u001b[90m<chr>\u001b[39m\u001b[23m \"Pave\", \"Pave\", \"Pave\", \"Pave\", \"Pave\", \"Pave\", \"Pave\", …\n",
      "$ Alley         \u001b[3m\u001b[90m<chr>\u001b[39m\u001b[23m NA, NA, NA, NA, NA, NA, NA, NA, NA, NA, NA, NA, NA, NA, …\n",
      "$ LotShape      \u001b[3m\u001b[90m<chr>\u001b[39m\u001b[23m \"Reg\", \"Reg\", \"IR1\", \"IR1\", \"IR1\", \"IR1\", \"Reg\", \"IR1\", …\n",
      "$ LandContour   \u001b[3m\u001b[90m<chr>\u001b[39m\u001b[23m \"Lvl\", \"Lvl\", \"Lvl\", \"Lvl\", \"Lvl\", \"Lvl\", \"Lvl\", \"Lvl\", …\n",
      "$ Utilities     \u001b[3m\u001b[90m<chr>\u001b[39m\u001b[23m \"AllPub\", \"AllPub\", \"AllPub\", \"AllPub\", \"AllPub\", \"AllPu…\n",
      "$ LotConfig     \u001b[3m\u001b[90m<chr>\u001b[39m\u001b[23m \"Inside\", \"FR2\", \"Inside\", \"Corner\", \"FR2\", \"Inside\", \"I…\n",
      "$ LandSlope     \u001b[3m\u001b[90m<chr>\u001b[39m\u001b[23m \"Gtl\", \"Gtl\", \"Gtl\", \"Gtl\", \"Gtl\", \"Gtl\", \"Gtl\", \"Gtl\", …\n",
      "$ Neighborhood  \u001b[3m\u001b[90m<chr>\u001b[39m\u001b[23m \"CollgCr\", \"Veenker\", \"CollgCr\", \"Crawfor\", \"NoRidge\", \"…\n",
      "$ Condition1    \u001b[3m\u001b[90m<chr>\u001b[39m\u001b[23m \"Norm\", \"Feedr\", \"Norm\", \"Norm\", \"Norm\", \"Norm\", \"Norm\",…\n",
      "$ Condition2    \u001b[3m\u001b[90m<chr>\u001b[39m\u001b[23m \"Norm\", \"Norm\", \"Norm\", \"Norm\", \"Norm\", \"Norm\", \"Norm\", …\n",
      "$ BldgType      \u001b[3m\u001b[90m<chr>\u001b[39m\u001b[23m \"1Fam\", \"1Fam\", \"1Fam\", \"1Fam\", \"1Fam\", \"1Fam\", \"1Fam\", …\n",
      "$ HouseStyle    \u001b[3m\u001b[90m<chr>\u001b[39m\u001b[23m \"2Story\", \"1Story\", \"2Story\", \"2Story\", \"2Story\", \"1.5Fi…\n",
      "$ OverallQual   \u001b[3m\u001b[90m<dbl>\u001b[39m\u001b[23m 7, 6, 7, 7, 8, 5, 8, 7, 7, 5, 5, 9, 5, 7, 6, 7, 6, 4, 5,…\n",
      "$ OverallCond   \u001b[3m\u001b[90m<dbl>\u001b[39m\u001b[23m 5, 8, 5, 5, 5, 5, 5, 6, 5, 6, 5, 5, 6, 5, 5, 8, 7, 5, 5,…\n",
      "$ YearBuilt     \u001b[3m\u001b[90m<dbl>\u001b[39m\u001b[23m 2003, 1976, 2001, 1915, 2000, 1993, 2004, 1973, 1931, 19…\n",
      "$ YearRemodAdd  \u001b[3m\u001b[90m<dbl>\u001b[39m\u001b[23m 2003, 1976, 2002, 1970, 2000, 1995, 2005, 1973, 1950, 19…\n",
      "$ RoofStyle     \u001b[3m\u001b[90m<chr>\u001b[39m\u001b[23m \"Gable\", \"Gable\", \"Gable\", \"Gable\", \"Gable\", \"Gable\", \"G…\n",
      "$ RoofMatl      \u001b[3m\u001b[90m<chr>\u001b[39m\u001b[23m \"CompShg\", \"CompShg\", \"CompShg\", \"CompShg\", \"CompShg\", \"…\n",
      "$ Exterior1st   \u001b[3m\u001b[90m<chr>\u001b[39m\u001b[23m \"VinylSd\", \"MetalSd\", \"VinylSd\", \"Wd Sdng\", \"VinylSd\", \"…\n",
      "$ Exterior2nd   \u001b[3m\u001b[90m<chr>\u001b[39m\u001b[23m \"VinylSd\", \"MetalSd\", \"VinylSd\", \"Wd Shng\", \"VinylSd\", \"…\n",
      "$ MasVnrType    \u001b[3m\u001b[90m<chr>\u001b[39m\u001b[23m \"BrkFace\", \"None\", \"BrkFace\", \"None\", \"BrkFace\", \"None\",…\n",
      "$ MasVnrArea    \u001b[3m\u001b[90m<dbl>\u001b[39m\u001b[23m 196, 0, 162, 0, 350, 0, 186, 240, 0, 0, 0, 286, 0, 306, …\n",
      "$ ExterQual     \u001b[3m\u001b[90m<chr>\u001b[39m\u001b[23m \"Gd\", \"TA\", \"Gd\", \"TA\", \"Gd\", \"TA\", \"Gd\", \"TA\", \"TA\", \"T…\n",
      "$ ExterCond     \u001b[3m\u001b[90m<chr>\u001b[39m\u001b[23m \"TA\", \"TA\", \"TA\", \"TA\", \"TA\", \"TA\", \"TA\", \"TA\", \"TA\", \"T…\n",
      "$ Foundation    \u001b[3m\u001b[90m<chr>\u001b[39m\u001b[23m \"PConc\", \"CBlock\", \"PConc\", \"BrkTil\", \"PConc\", \"Wood\", \"…\n",
      "$ BsmtQual      \u001b[3m\u001b[90m<chr>\u001b[39m\u001b[23m \"Gd\", \"Gd\", \"Gd\", \"TA\", \"Gd\", \"Gd\", \"Ex\", \"Gd\", \"TA\", \"T…\n",
      "$ BsmtCond      \u001b[3m\u001b[90m<chr>\u001b[39m\u001b[23m \"TA\", \"TA\", \"TA\", \"Gd\", \"TA\", \"TA\", \"TA\", \"TA\", \"TA\", \"T…\n",
      "$ BsmtExposure  \u001b[3m\u001b[90m<chr>\u001b[39m\u001b[23m \"No\", \"Gd\", \"Mn\", \"No\", \"Av\", \"No\", \"Av\", \"Mn\", \"No\", \"N…\n",
      "$ BsmtFinType1  \u001b[3m\u001b[90m<chr>\u001b[39m\u001b[23m \"GLQ\", \"ALQ\", \"GLQ\", \"ALQ\", \"GLQ\", \"GLQ\", \"GLQ\", \"ALQ\", …\n",
      "$ BsmtFinSF1    \u001b[3m\u001b[90m<dbl>\u001b[39m\u001b[23m 706, 978, 486, 216, 655, 732, 1369, 859, 0, 851, 906, 99…\n",
      "$ BsmtFinType2  \u001b[3m\u001b[90m<chr>\u001b[39m\u001b[23m \"Unf\", \"Unf\", \"Unf\", \"Unf\", \"Unf\", \"Unf\", \"Unf\", \"BLQ\", …\n",
      "$ BsmtFinSF2    \u001b[3m\u001b[90m<dbl>\u001b[39m\u001b[23m 0, 0, 0, 0, 0, 0, 0, 32, 0, 0, 0, 0, 0, 0, 0, 0, 0, 0, 0…\n",
      "$ BsmtUnfSF     \u001b[3m\u001b[90m<dbl>\u001b[39m\u001b[23m 150, 284, 434, 540, 490, 64, 317, 216, 952, 140, 134, 17…\n",
      "$ TotalBsmtSF   \u001b[3m\u001b[90m<dbl>\u001b[39m\u001b[23m 856, 1262, 920, 756, 1145, 796, 1686, 1107, 952, 991, 10…\n",
      "$ Heating       \u001b[3m\u001b[90m<chr>\u001b[39m\u001b[23m \"GasA\", \"GasA\", \"GasA\", \"GasA\", \"GasA\", \"GasA\", \"GasA\", …\n",
      "$ HeatingQC     \u001b[3m\u001b[90m<chr>\u001b[39m\u001b[23m \"Ex\", \"Ex\", \"Ex\", \"Gd\", \"Ex\", \"Ex\", \"Ex\", \"Ex\", \"Gd\", \"E…\n",
      "$ CentralAir    \u001b[3m\u001b[90m<chr>\u001b[39m\u001b[23m \"Y\", \"Y\", \"Y\", \"Y\", \"Y\", \"Y\", \"Y\", \"Y\", \"Y\", \"Y\", \"Y\", \"…\n",
      "$ Electrical    \u001b[3m\u001b[90m<chr>\u001b[39m\u001b[23m \"SBrkr\", \"SBrkr\", \"SBrkr\", \"SBrkr\", \"SBrkr\", \"SBrkr\", \"S…\n",
      "$ `1stFlrSF`    \u001b[3m\u001b[90m<dbl>\u001b[39m\u001b[23m 856, 1262, 920, 961, 1145, 796, 1694, 1107, 1022, 1077, …\n",
      "$ `2ndFlrSF`    \u001b[3m\u001b[90m<dbl>\u001b[39m\u001b[23m 854, 0, 866, 756, 1053, 566, 0, 983, 752, 0, 0, 1142, 0,…\n",
      "$ LowQualFinSF  \u001b[3m\u001b[90m<dbl>\u001b[39m\u001b[23m 0, 0, 0, 0, 0, 0, 0, 0, 0, 0, 0, 0, 0, 0, 0, 0, 0, 0, 0,…\n",
      "$ GrLivArea     \u001b[3m\u001b[90m<dbl>\u001b[39m\u001b[23m 1710, 1262, 1786, 1717, 2198, 1362, 1694, 2090, 1774, 10…\n",
      "$ BsmtFullBath  \u001b[3m\u001b[90m<dbl>\u001b[39m\u001b[23m 1, 0, 1, 1, 1, 1, 1, 1, 0, 1, 1, 1, 1, 0, 1, 0, 1, 0, 1,…\n",
      "$ BsmtHalfBath  \u001b[3m\u001b[90m<dbl>\u001b[39m\u001b[23m 0, 1, 0, 0, 0, 0, 0, 0, 0, 0, 0, 0, 0, 0, 0, 0, 0, 0, 0,…\n",
      "$ FullBath      \u001b[3m\u001b[90m<dbl>\u001b[39m\u001b[23m 2, 2, 2, 1, 2, 1, 2, 2, 2, 1, 1, 3, 1, 2, 1, 1, 1, 2, 1,…\n",
      "$ HalfBath      \u001b[3m\u001b[90m<dbl>\u001b[39m\u001b[23m 1, 0, 1, 0, 1, 1, 0, 1, 0, 0, 0, 0, 0, 0, 1, 0, 0, 0, 1,…\n",
      "$ BedroomAbvGr  \u001b[3m\u001b[90m<dbl>\u001b[39m\u001b[23m 3, 3, 3, 3, 4, 1, 3, 3, 2, 2, 3, 4, 2, 3, 2, 2, 2, 2, 3,…\n",
      "$ KitchenAbvGr  \u001b[3m\u001b[90m<dbl>\u001b[39m\u001b[23m 1, 1, 1, 1, 1, 1, 1, 1, 2, 2, 1, 1, 1, 1, 1, 1, 1, 2, 1,…\n",
      "$ KitchenQual   \u001b[3m\u001b[90m<chr>\u001b[39m\u001b[23m \"Gd\", \"TA\", \"Gd\", \"Gd\", \"Gd\", \"TA\", \"Gd\", \"TA\", \"TA\", \"T…\n",
      "$ TotRmsAbvGrd  \u001b[3m\u001b[90m<dbl>\u001b[39m\u001b[23m 8, 6, 6, 7, 9, 5, 7, 7, 8, 5, 5, 11, 4, 7, 5, 5, 5, 6, 6…\n",
      "$ Functional    \u001b[3m\u001b[90m<chr>\u001b[39m\u001b[23m \"Typ\", \"Typ\", \"Typ\", \"Typ\", \"Typ\", \"Typ\", \"Typ\", \"Typ\", …\n",
      "$ Fireplaces    \u001b[3m\u001b[90m<dbl>\u001b[39m\u001b[23m 0, 1, 1, 1, 1, 0, 1, 2, 2, 2, 0, 2, 0, 1, 1, 0, 1, 0, 0,…\n",
      "$ FireplaceQu   \u001b[3m\u001b[90m<chr>\u001b[39m\u001b[23m NA, \"TA\", \"TA\", \"Gd\", \"TA\", NA, \"Gd\", \"TA\", \"TA\", \"TA\", …\n",
      "$ GarageType    \u001b[3m\u001b[90m<chr>\u001b[39m\u001b[23m \"Attchd\", \"Attchd\", \"Attchd\", \"Detchd\", \"Attchd\", \"Attch…\n",
      "$ GarageYrBlt   \u001b[3m\u001b[90m<dbl>\u001b[39m\u001b[23m 2003, 1976, 2001, 1998, 2000, 1993, 2004, 1973, 1931, 19…\n",
      "$ GarageFinish  \u001b[3m\u001b[90m<chr>\u001b[39m\u001b[23m \"RFn\", \"RFn\", \"RFn\", \"Unf\", \"RFn\", \"Unf\", \"RFn\", \"RFn\", …\n",
      "$ GarageCars    \u001b[3m\u001b[90m<dbl>\u001b[39m\u001b[23m 2, 2, 2, 3, 3, 2, 2, 2, 2, 1, 1, 3, 1, 3, 1, 2, 2, 2, 2,…\n",
      "$ GarageArea    \u001b[3m\u001b[90m<dbl>\u001b[39m\u001b[23m 548, 460, 608, 642, 836, 480, 636, 484, 468, 205, 384, 7…\n",
      "$ GarageQual    \u001b[3m\u001b[90m<chr>\u001b[39m\u001b[23m \"TA\", \"TA\", \"TA\", \"TA\", \"TA\", \"TA\", \"TA\", \"TA\", \"Fa\", \"G…\n",
      "$ GarageCond    \u001b[3m\u001b[90m<chr>\u001b[39m\u001b[23m \"TA\", \"TA\", \"TA\", \"TA\", \"TA\", \"TA\", \"TA\", \"TA\", \"TA\", \"T…\n",
      "$ PavedDrive    \u001b[3m\u001b[90m<chr>\u001b[39m\u001b[23m \"Y\", \"Y\", \"Y\", \"Y\", \"Y\", \"Y\", \"Y\", \"Y\", \"Y\", \"Y\", \"Y\", \"…\n",
      "$ WoodDeckSF    \u001b[3m\u001b[90m<dbl>\u001b[39m\u001b[23m 0, 298, 0, 0, 192, 40, 255, 235, 90, 0, 0, 147, 140, 160…\n",
      "$ OpenPorchSF   \u001b[3m\u001b[90m<dbl>\u001b[39m\u001b[23m 61, 0, 42, 35, 84, 30, 57, 204, 0, 4, 0, 21, 0, 33, 213,…\n",
      "$ EnclosedPorch \u001b[3m\u001b[90m<dbl>\u001b[39m\u001b[23m 0, 0, 0, 272, 0, 0, 0, 228, 205, 0, 0, 0, 0, 0, 176, 0, …\n",
      "$ `3SsnPorch`   \u001b[3m\u001b[90m<dbl>\u001b[39m\u001b[23m 0, 0, 0, 0, 0, 320, 0, 0, 0, 0, 0, 0, 0, 0, 0, 0, 0, 0, …\n",
      "$ ScreenPorch   \u001b[3m\u001b[90m<dbl>\u001b[39m\u001b[23m 0, 0, 0, 0, 0, 0, 0, 0, 0, 0, 0, 0, 176, 0, 0, 0, 0, 0, …\n",
      "$ PoolArea      \u001b[3m\u001b[90m<dbl>\u001b[39m\u001b[23m 0, 0, 0, 0, 0, 0, 0, 0, 0, 0, 0, 0, 0, 0, 0, 0, 0, 0, 0,…\n",
      "$ PoolQC        \u001b[3m\u001b[90m<chr>\u001b[39m\u001b[23m NA, NA, NA, NA, NA, NA, NA, NA, NA, NA, NA, NA, NA, NA, …\n",
      "$ Fence         \u001b[3m\u001b[90m<chr>\u001b[39m\u001b[23m NA, NA, NA, NA, NA, \"MnPrv\", NA, NA, NA, NA, NA, NA, NA,…\n",
      "$ MiscFeature   \u001b[3m\u001b[90m<chr>\u001b[39m\u001b[23m NA, NA, NA, NA, NA, \"Shed\", NA, \"Shed\", NA, NA, NA, NA, …\n",
      "$ MiscVal       \u001b[3m\u001b[90m<dbl>\u001b[39m\u001b[23m 0, 0, 0, 0, 0, 700, 0, 350, 0, 0, 0, 0, 0, 0, 0, 0, 700,…\n",
      "$ MoSold        \u001b[3m\u001b[90m<dbl>\u001b[39m\u001b[23m 2, 5, 9, 2, 12, 10, 8, 11, 4, 1, 2, 7, 9, 8, 5, 7, 3, 10…\n",
      "$ YrSold        \u001b[3m\u001b[90m<dbl>\u001b[39m\u001b[23m 2008, 2007, 2008, 2006, 2008, 2009, 2007, 2009, 2008, 20…\n",
      "$ SaleType      \u001b[3m\u001b[90m<chr>\u001b[39m\u001b[23m \"WD\", \"WD\", \"WD\", \"WD\", \"WD\", \"WD\", \"WD\", \"WD\", \"WD\", \"W…\n",
      "$ SaleCondition \u001b[3m\u001b[90m<chr>\u001b[39m\u001b[23m \"Normal\", \"Normal\", \"Normal\", \"Abnorml\", \"Normal\", \"Norm…\n",
      "$ SalePrice     \u001b[3m\u001b[90m<dbl>\u001b[39m\u001b[23m 208500, 181500, 223500, 140000, 250000, 143000, 307000, …\n"
     ]
    }
   ],
   "source": [
    "glimpse(train)"
   ]
  },
  {
   "cell_type": "markdown",
   "id": "d3495d31-f2fc-46bf-b98c-c09d625b9607",
   "metadata": {},
   "source": [
    "Because we will use all features for modeling later, we need to convert all features in chr format to factor format. Therefore, we now need to filter out categorical features and numerical features separately."
   ]
  },
  {
   "cell_type": "code",
   "execution_count": 4,
   "id": "d6e05412-e89b-4451-aa06-93cfdf1b5d7a",
   "metadata": {
    "vscode": {
     "languageId": "r"
    }
   },
   "outputs": [],
   "source": [
    "categorical_features <- c(\n",
    "    'MSSubClass', 'MSZoning', 'Street', 'Alley', 'LotShape', 'LandContour',\n",
    "    'Utilities', 'LotConfig', 'LandSlope', 'Neighborhood', 'Condition1', \n",
    "    'Condition2', 'BldgType', 'HouseStyle', 'RoofStyle', 'RoofMatl', \n",
    "    'Exterior1st', 'Exterior2nd', 'MasVnrType', 'ExterQual', 'ExterCond', \n",
    "    'Foundation', 'BsmtQual', 'BsmtCond', 'BsmtExposure', 'BsmtFinType1', \n",
    "    'BsmtFinType2', 'Heating', 'HeatingQC', 'CentralAir', 'Electrical', \n",
    "    'KitchenQual', 'Functional', 'FireplaceQu', 'GarageType', 'GarageFinish', \n",
    "    'GarageQual', 'GarageCond', 'PavedDrive', 'PoolQC', 'Fence', 'MiscFeature', \n",
    "    'SaleType', 'SaleCondition', 'OverallQual', 'OverallCond'\n",
    ")\n",
    "\n",
    "numerical_features <- c(\n",
    "    'LotFrontage', 'LotArea', 'YearBuilt', 'YearRemodAdd', 'MasVnrArea',\n",
    "    'BsmtFinSF1', 'BsmtFinSF2', 'BsmtUnfSF', 'TotalBsmtSF', '1stFlrSF',\n",
    "    '2ndFlrSF', 'LowQualFinSF', 'GrLivArea', 'BsmtFullBath', 'BsmtHalfBath',\n",
    "    'FullBath', 'HalfBath', 'BedroomAbvGr', 'KitchenAbvGr', 'TotRmsAbvGrd',\n",
    "    'Fireplaces', 'GarageYrBlt', 'GarageCars', 'GarageArea', 'WoodDeckSF',\n",
    "    'OpenPorchSF', 'EnclosedPorch', '3SsnPorch', 'ScreenPorch', 'PoolArea',\n",
    "    'MiscVal', 'MoSold', 'YrSold'\n",
    ")"
   ]
  },
  {
   "cell_type": "markdown",
   "id": "4519b33b-e24c-4bd8-91d5-5191f00eb030",
   "metadata": {},
   "source": [
    "For `categorical_features` and `numerical_features`, the reason we cannot directly select features with values of `int64` or `float64`, because some features such as `MSSubClass`:\n",
    "\n",
    "```plaintext\n",
    "MSSubClass: Identifies the type of dwelling involved in the sale.\t\n",
    "\n",
    "        20\t1-STORY 1946 & NEWER ALL STYLES\n",
    "        30\t1-STORY 1945 & OLDER\n",
    "        40\t1-STORY W/FINISHED ATTIC ALL AGES\n",
    "        45\t1-1/2 STORY - UNFINISHED ALL AGES\n",
    "        50\t1-1/2 STORY FINISHED ALL AGES\n",
    "        60\t2-STORY 1946 & NEWER\n",
    "        70\t2-STORY 1945 & OLDER\n",
    "        75\t2-1/2 STORY ALL AGES\n",
    "        80\tSPLIT OR MULTI-LEVEL\n",
    "        85\tSPLIT FOYER\n",
    "        90\tDUPLEX - ALL STYLES AND AGES\n",
    "       120\t1-STORY PUD (Planned Unit Development) - 1946 & NEWER\n",
    "       150\t1-1/2 STORY PUD - ALL AGES\n",
    "       160\t2-STORY PUD - 1946 & NEWER\n",
    "       180\tPUD - MULTILEVEL - INCL SPLIT LEV/FOYER\n",
    "       190\t2 FAMILY CONVERSION - ALL STYLES AND AGES\n",
    "```\n",
    "\n",
    "Its value is `int64` format, but it is actually a categorical feature. Therefore, here I manually distinguish all `categorical_features` and `numerical_features` according to the description in `data_description.txt`."
   ]
  },
  {
   "cell_type": "code",
   "execution_count": 5,
   "id": "e5b78ca1-30bf-4e90-8032-b7bd410cb3f9",
   "metadata": {
    "vscode": {
     "languageId": "r"
    }
   },
   "outputs": [
    {
     "name": "stdout",
     "output_type": "stream",
     "text": [
      "Rows: 1,460\n",
      "Columns: 80\n",
      "$ MSSubClass    \u001b[3m\u001b[90m<fct>\u001b[39m\u001b[23m 60, 20, 60, 70, 60, 50, 20, 60, 50, 190, 20, 60, 20, 20,…\n",
      "$ MSZoning      \u001b[3m\u001b[90m<fct>\u001b[39m\u001b[23m RL, RL, RL, RL, RL, RL, RL, RL, RM, RL, RL, RL, RL, RL, …\n",
      "$ LotFrontage   \u001b[3m\u001b[90m<dbl>\u001b[39m\u001b[23m 65, 80, 68, 60, 84, 85, 75, NA, 51, 50, 70, 85, NA, 91, …\n",
      "$ LotArea       \u001b[3m\u001b[90m<dbl>\u001b[39m\u001b[23m 8450, 9600, 11250, 9550, 14260, 14115, 10084, 10382, 612…\n",
      "$ Street        \u001b[3m\u001b[90m<fct>\u001b[39m\u001b[23m Pave, Pave, Pave, Pave, Pave, Pave, Pave, Pave, Pave, Pa…\n",
      "$ Alley         \u001b[3m\u001b[90m<fct>\u001b[39m\u001b[23m NA, NA, NA, NA, NA, NA, NA, NA, NA, NA, NA, NA, NA, NA, …\n",
      "$ LotShape      \u001b[3m\u001b[90m<fct>\u001b[39m\u001b[23m Reg, Reg, IR1, IR1, IR1, IR1, Reg, IR1, Reg, Reg, Reg, I…\n",
      "$ LandContour   \u001b[3m\u001b[90m<fct>\u001b[39m\u001b[23m Lvl, Lvl, Lvl, Lvl, Lvl, Lvl, Lvl, Lvl, Lvl, Lvl, Lvl, L…\n",
      "$ Utilities     \u001b[3m\u001b[90m<fct>\u001b[39m\u001b[23m AllPub, AllPub, AllPub, AllPub, AllPub, AllPub, AllPub, …\n",
      "$ LotConfig     \u001b[3m\u001b[90m<fct>\u001b[39m\u001b[23m Inside, FR2, Inside, Corner, FR2, Inside, Inside, Corner…\n",
      "$ LandSlope     \u001b[3m\u001b[90m<fct>\u001b[39m\u001b[23m Gtl, Gtl, Gtl, Gtl, Gtl, Gtl, Gtl, Gtl, Gtl, Gtl, Gtl, G…\n",
      "$ Neighborhood  \u001b[3m\u001b[90m<fct>\u001b[39m\u001b[23m CollgCr, Veenker, CollgCr, Crawfor, NoRidge, Mitchel, So…\n",
      "$ Condition1    \u001b[3m\u001b[90m<fct>\u001b[39m\u001b[23m Norm, Feedr, Norm, Norm, Norm, Norm, Norm, PosN, Artery,…\n",
      "$ Condition2    \u001b[3m\u001b[90m<fct>\u001b[39m\u001b[23m Norm, Norm, Norm, Norm, Norm, Norm, Norm, Norm, Norm, Ar…\n",
      "$ BldgType      \u001b[3m\u001b[90m<fct>\u001b[39m\u001b[23m 1Fam, 1Fam, 1Fam, 1Fam, 1Fam, 1Fam, 1Fam, 1Fam, 1Fam, 2f…\n",
      "$ HouseStyle    \u001b[3m\u001b[90m<fct>\u001b[39m\u001b[23m 2Story, 1Story, 2Story, 2Story, 2Story, 1.5Fin, 1Story, …\n",
      "$ OverallQual   \u001b[3m\u001b[90m<fct>\u001b[39m\u001b[23m 7, 6, 7, 7, 8, 5, 8, 7, 7, 5, 5, 9, 5, 7, 6, 7, 6, 4, 5,…\n",
      "$ OverallCond   \u001b[3m\u001b[90m<fct>\u001b[39m\u001b[23m 5, 8, 5, 5, 5, 5, 5, 6, 5, 6, 5, 5, 6, 5, 5, 8, 7, 5, 5,…\n",
      "$ YearBuilt     \u001b[3m\u001b[90m<dbl>\u001b[39m\u001b[23m 2003, 1976, 2001, 1915, 2000, 1993, 2004, 1973, 1931, 19…\n",
      "$ YearRemodAdd  \u001b[3m\u001b[90m<dbl>\u001b[39m\u001b[23m 2003, 1976, 2002, 1970, 2000, 1995, 2005, 1973, 1950, 19…\n",
      "$ RoofStyle     \u001b[3m\u001b[90m<fct>\u001b[39m\u001b[23m Gable, Gable, Gable, Gable, Gable, Gable, Gable, Gable, …\n",
      "$ RoofMatl      \u001b[3m\u001b[90m<fct>\u001b[39m\u001b[23m CompShg, CompShg, CompShg, CompShg, CompShg, CompShg, Co…\n",
      "$ Exterior1st   \u001b[3m\u001b[90m<fct>\u001b[39m\u001b[23m VinylSd, MetalSd, VinylSd, Wd Sdng, VinylSd, VinylSd, Vi…\n",
      "$ Exterior2nd   \u001b[3m\u001b[90m<fct>\u001b[39m\u001b[23m VinylSd, MetalSd, VinylSd, Wd Shng, VinylSd, VinylSd, Vi…\n",
      "$ MasVnrType    \u001b[3m\u001b[90m<fct>\u001b[39m\u001b[23m BrkFace, None, BrkFace, None, BrkFace, None, Stone, Ston…\n",
      "$ MasVnrArea    \u001b[3m\u001b[90m<dbl>\u001b[39m\u001b[23m 196, 0, 162, 0, 350, 0, 186, 240, 0, 0, 0, 286, 0, 306, …\n",
      "$ ExterQual     \u001b[3m\u001b[90m<fct>\u001b[39m\u001b[23m Gd, TA, Gd, TA, Gd, TA, Gd, TA, TA, TA, TA, Ex, TA, Gd, …\n",
      "$ ExterCond     \u001b[3m\u001b[90m<fct>\u001b[39m\u001b[23m TA, TA, TA, TA, TA, TA, TA, TA, TA, TA, TA, TA, TA, TA, …\n",
      "$ Foundation    \u001b[3m\u001b[90m<fct>\u001b[39m\u001b[23m PConc, CBlock, PConc, BrkTil, PConc, Wood, PConc, CBlock…\n",
      "$ BsmtQual      \u001b[3m\u001b[90m<fct>\u001b[39m\u001b[23m Gd, Gd, Gd, TA, Gd, Gd, Ex, Gd, TA, TA, TA, Ex, TA, Gd, …\n",
      "$ BsmtCond      \u001b[3m\u001b[90m<fct>\u001b[39m\u001b[23m TA, TA, TA, Gd, TA, TA, TA, TA, TA, TA, TA, TA, TA, TA, …\n",
      "$ BsmtExposure  \u001b[3m\u001b[90m<fct>\u001b[39m\u001b[23m No, Gd, Mn, No, Av, No, Av, Mn, No, No, No, No, No, Av, …\n",
      "$ BsmtFinType1  \u001b[3m\u001b[90m<fct>\u001b[39m\u001b[23m GLQ, ALQ, GLQ, ALQ, GLQ, GLQ, GLQ, ALQ, Unf, GLQ, Rec, G…\n",
      "$ BsmtFinSF1    \u001b[3m\u001b[90m<dbl>\u001b[39m\u001b[23m 706, 978, 486, 216, 655, 732, 1369, 859, 0, 851, 906, 99…\n",
      "$ BsmtFinType2  \u001b[3m\u001b[90m<fct>\u001b[39m\u001b[23m Unf, Unf, Unf, Unf, Unf, Unf, Unf, BLQ, Unf, Unf, Unf, U…\n",
      "$ BsmtFinSF2    \u001b[3m\u001b[90m<dbl>\u001b[39m\u001b[23m 0, 0, 0, 0, 0, 0, 0, 32, 0, 0, 0, 0, 0, 0, 0, 0, 0, 0, 0…\n",
      "$ BsmtUnfSF     \u001b[3m\u001b[90m<dbl>\u001b[39m\u001b[23m 150, 284, 434, 540, 490, 64, 317, 216, 952, 140, 134, 17…\n",
      "$ TotalBsmtSF   \u001b[3m\u001b[90m<dbl>\u001b[39m\u001b[23m 856, 1262, 920, 756, 1145, 796, 1686, 1107, 952, 991, 10…\n",
      "$ Heating       \u001b[3m\u001b[90m<fct>\u001b[39m\u001b[23m GasA, GasA, GasA, GasA, GasA, GasA, GasA, GasA, GasA, Ga…\n",
      "$ HeatingQC     \u001b[3m\u001b[90m<fct>\u001b[39m\u001b[23m Ex, Ex, Ex, Gd, Ex, Ex, Ex, Ex, Gd, Ex, Ex, Ex, TA, Ex, …\n",
      "$ CentralAir    \u001b[3m\u001b[90m<fct>\u001b[39m\u001b[23m Y, Y, Y, Y, Y, Y, Y, Y, Y, Y, Y, Y, Y, Y, Y, Y, Y, Y, Y,…\n",
      "$ Electrical    \u001b[3m\u001b[90m<fct>\u001b[39m\u001b[23m SBrkr, SBrkr, SBrkr, SBrkr, SBrkr, SBrkr, SBrkr, SBrkr, …\n",
      "$ `1stFlrSF`    \u001b[3m\u001b[90m<dbl>\u001b[39m\u001b[23m 856, 1262, 920, 961, 1145, 796, 1694, 1107, 1022, 1077, …\n",
      "$ `2ndFlrSF`    \u001b[3m\u001b[90m<dbl>\u001b[39m\u001b[23m 854, 0, 866, 756, 1053, 566, 0, 983, 752, 0, 0, 1142, 0,…\n",
      "$ LowQualFinSF  \u001b[3m\u001b[90m<dbl>\u001b[39m\u001b[23m 0, 0, 0, 0, 0, 0, 0, 0, 0, 0, 0, 0, 0, 0, 0, 0, 0, 0, 0,…\n",
      "$ GrLivArea     \u001b[3m\u001b[90m<dbl>\u001b[39m\u001b[23m 1710, 1262, 1786, 1717, 2198, 1362, 1694, 2090, 1774, 10…\n",
      "$ BsmtFullBath  \u001b[3m\u001b[90m<dbl>\u001b[39m\u001b[23m 1, 0, 1, 1, 1, 1, 1, 1, 0, 1, 1, 1, 1, 0, 1, 0, 1, 0, 1,…\n",
      "$ BsmtHalfBath  \u001b[3m\u001b[90m<dbl>\u001b[39m\u001b[23m 0, 1, 0, 0, 0, 0, 0, 0, 0, 0, 0, 0, 0, 0, 0, 0, 0, 0, 0,…\n",
      "$ FullBath      \u001b[3m\u001b[90m<dbl>\u001b[39m\u001b[23m 2, 2, 2, 1, 2, 1, 2, 2, 2, 1, 1, 3, 1, 2, 1, 1, 1, 2, 1,…\n",
      "$ HalfBath      \u001b[3m\u001b[90m<dbl>\u001b[39m\u001b[23m 1, 0, 1, 0, 1, 1, 0, 1, 0, 0, 0, 0, 0, 0, 1, 0, 0, 0, 1,…\n",
      "$ BedroomAbvGr  \u001b[3m\u001b[90m<dbl>\u001b[39m\u001b[23m 3, 3, 3, 3, 4, 1, 3, 3, 2, 2, 3, 4, 2, 3, 2, 2, 2, 2, 3,…\n",
      "$ KitchenAbvGr  \u001b[3m\u001b[90m<dbl>\u001b[39m\u001b[23m 1, 1, 1, 1, 1, 1, 1, 1, 2, 2, 1, 1, 1, 1, 1, 1, 1, 2, 1,…\n",
      "$ KitchenQual   \u001b[3m\u001b[90m<fct>\u001b[39m\u001b[23m Gd, TA, Gd, Gd, Gd, TA, Gd, TA, TA, TA, TA, Ex, TA, Gd, …\n",
      "$ TotRmsAbvGrd  \u001b[3m\u001b[90m<dbl>\u001b[39m\u001b[23m 8, 6, 6, 7, 9, 5, 7, 7, 8, 5, 5, 11, 4, 7, 5, 5, 5, 6, 6…\n",
      "$ Functional    \u001b[3m\u001b[90m<fct>\u001b[39m\u001b[23m Typ, Typ, Typ, Typ, Typ, Typ, Typ, Typ, Min1, Typ, Typ, …\n",
      "$ Fireplaces    \u001b[3m\u001b[90m<dbl>\u001b[39m\u001b[23m 0, 1, 1, 1, 1, 0, 1, 2, 2, 2, 0, 2, 0, 1, 1, 0, 1, 0, 0,…\n",
      "$ FireplaceQu   \u001b[3m\u001b[90m<fct>\u001b[39m\u001b[23m NA, TA, TA, Gd, TA, NA, Gd, TA, TA, TA, NA, Gd, NA, Gd, …\n",
      "$ GarageType    \u001b[3m\u001b[90m<fct>\u001b[39m\u001b[23m Attchd, Attchd, Attchd, Detchd, Attchd, Attchd, Attchd, …\n",
      "$ GarageYrBlt   \u001b[3m\u001b[90m<dbl>\u001b[39m\u001b[23m 2003, 1976, 2001, 1998, 2000, 1993, 2004, 1973, 1931, 19…\n",
      "$ GarageFinish  \u001b[3m\u001b[90m<fct>\u001b[39m\u001b[23m RFn, RFn, RFn, Unf, RFn, Unf, RFn, RFn, Unf, RFn, Unf, F…\n",
      "$ GarageCars    \u001b[3m\u001b[90m<dbl>\u001b[39m\u001b[23m 2, 2, 2, 3, 3, 2, 2, 2, 2, 1, 1, 3, 1, 3, 1, 2, 2, 2, 2,…\n",
      "$ GarageArea    \u001b[3m\u001b[90m<dbl>\u001b[39m\u001b[23m 548, 460, 608, 642, 836, 480, 636, 484, 468, 205, 384, 7…\n",
      "$ GarageQual    \u001b[3m\u001b[90m<fct>\u001b[39m\u001b[23m TA, TA, TA, TA, TA, TA, TA, TA, Fa, Gd, TA, TA, TA, TA, …\n",
      "$ GarageCond    \u001b[3m\u001b[90m<fct>\u001b[39m\u001b[23m TA, TA, TA, TA, TA, TA, TA, TA, TA, TA, TA, TA, TA, TA, …\n",
      "$ PavedDrive    \u001b[3m\u001b[90m<fct>\u001b[39m\u001b[23m Y, Y, Y, Y, Y, Y, Y, Y, Y, Y, Y, Y, Y, Y, Y, Y, Y, Y, Y,…\n",
      "$ WoodDeckSF    \u001b[3m\u001b[90m<dbl>\u001b[39m\u001b[23m 0, 298, 0, 0, 192, 40, 255, 235, 90, 0, 0, 147, 140, 160…\n",
      "$ OpenPorchSF   \u001b[3m\u001b[90m<dbl>\u001b[39m\u001b[23m 61, 0, 42, 35, 84, 30, 57, 204, 0, 4, 0, 21, 0, 33, 213,…\n",
      "$ EnclosedPorch \u001b[3m\u001b[90m<dbl>\u001b[39m\u001b[23m 0, 0, 0, 272, 0, 0, 0, 228, 205, 0, 0, 0, 0, 0, 176, 0, …\n",
      "$ `3SsnPorch`   \u001b[3m\u001b[90m<dbl>\u001b[39m\u001b[23m 0, 0, 0, 0, 0, 320, 0, 0, 0, 0, 0, 0, 0, 0, 0, 0, 0, 0, …\n",
      "$ ScreenPorch   \u001b[3m\u001b[90m<dbl>\u001b[39m\u001b[23m 0, 0, 0, 0, 0, 0, 0, 0, 0, 0, 0, 0, 176, 0, 0, 0, 0, 0, …\n",
      "$ PoolArea      \u001b[3m\u001b[90m<dbl>\u001b[39m\u001b[23m 0, 0, 0, 0, 0, 0, 0, 0, 0, 0, 0, 0, 0, 0, 0, 0, 0, 0, 0,…\n",
      "$ PoolQC        \u001b[3m\u001b[90m<fct>\u001b[39m\u001b[23m NA, NA, NA, NA, NA, NA, NA, NA, NA, NA, NA, NA, NA, NA, …\n",
      "$ Fence         \u001b[3m\u001b[90m<fct>\u001b[39m\u001b[23m NA, NA, NA, NA, NA, MnPrv, NA, NA, NA, NA, NA, NA, NA, N…\n",
      "$ MiscFeature   \u001b[3m\u001b[90m<fct>\u001b[39m\u001b[23m NA, NA, NA, NA, NA, Shed, NA, Shed, NA, NA, NA, NA, NA, …\n",
      "$ MiscVal       \u001b[3m\u001b[90m<dbl>\u001b[39m\u001b[23m 0, 0, 0, 0, 0, 700, 0, 350, 0, 0, 0, 0, 0, 0, 0, 0, 700,…\n",
      "$ MoSold        \u001b[3m\u001b[90m<dbl>\u001b[39m\u001b[23m 2, 5, 9, 2, 12, 10, 8, 11, 4, 1, 2, 7, 9, 8, 5, 7, 3, 10…\n",
      "$ YrSold        \u001b[3m\u001b[90m<dbl>\u001b[39m\u001b[23m 2008, 2007, 2008, 2006, 2008, 2009, 2007, 2009, 2008, 20…\n",
      "$ SaleType      \u001b[3m\u001b[90m<fct>\u001b[39m\u001b[23m WD, WD, WD, WD, WD, WD, WD, WD, WD, WD, WD, New, WD, New…\n",
      "$ SaleCondition \u001b[3m\u001b[90m<fct>\u001b[39m\u001b[23m Normal, Normal, Normal, Abnorml, Normal, Normal, Normal,…\n",
      "$ SalePrice     \u001b[3m\u001b[90m<dbl>\u001b[39m\u001b[23m 208500, 181500, 223500, 140000, 250000, 143000, 307000, …\n"
     ]
    }
   ],
   "source": [
    "# Convert all categorical features to factor\n",
    "train <- train %>%\n",
    "  mutate(across(all_of(categorical_features), as.factor))\n",
    "\n",
    "test <- test %>%\n",
    "  mutate(across(all_of(categorical_features), as.factor))\n",
    "\n",
    "glimpse(train)"
   ]
  },
  {
   "cell_type": "code",
   "execution_count": 6,
   "id": "25d9f6d2-f929-4996-9d11-02ba5a531ca0",
   "metadata": {
    "vscode": {
     "languageId": "r"
    }
   },
   "outputs": [],
   "source": [
    "# Define the variables where NA means \"None\"\n",
    "none_features <- c(\n",
    "  \"Alley\", \"BsmtQual\", \"BsmtCond\", \"BsmtExposure\",\n",
    "  \"BsmtFinType1\", \"BsmtFinType2\", \"FireplaceQu\", \"GarageType\",\n",
    "  \"GarageFinish\", \"GarageQual\", \"GarageCond\", \"PoolQC\",\n",
    "  \"Fence\", \"MiscFeature\"\n",
    ")"
   ]
  },
  {
   "cell_type": "markdown",
   "id": "d0e27e62-168f-4b25-887d-1fa05a18b186",
   "metadata": {},
   "source": [
    "According to the description in `data_description.txt`, `NA` in some features does not mean Missing Value, but means that the observation does not have the feature, such as `Alley`:\n",
    "\n",
    "```plaintext\n",
    "Alley: Type of alley access to property\n",
    "\n",
    "       Grvl\tGravel\n",
    "       Pave\tPaved\n",
    "       NA \tNo alley access\n",
    "```\n",
    "\n",
    "Therefore, the missing value filling treatment of these features should be different. I filtered out all similar features here to prepare for the missing value filling in the subsequent preprocessing."
   ]
  },
  {
   "cell_type": "code",
   "execution_count": 7,
   "id": "f1ac8732-b8bd-4d91-9776-aa66290408dd",
   "metadata": {
    "vscode": {
     "languageId": "r"
    }
   },
   "outputs": [
    {
     "data": {
      "text/plain": [
       "  Alley      BsmtQual   BsmtCond    BsmtExposure BsmtFinType1 BsmtFinType2\n",
       " None:1369   None: 37   None:  37   None: 38     None: 37     None:  38   \n",
       " Grvl:  50   Ex  :121   Fa  :  45   Av  :221     ALQ :220     ALQ :  19   \n",
       " Pave:  41   Fa  : 35   Gd  :  65   Gd  :134     BLQ :148     BLQ :  33   \n",
       "             Gd  :618   Po  :   2   Mn  :114     GLQ :418     GLQ :  14   \n",
       "             TA  :649   TA  :1311   No  :953     LwQ : 74     LwQ :  46   \n",
       "                                                 Rec :133     Rec :  54   \n",
       "                                                 Unf :430     Unf :1256   \n",
       " FireplaceQu   GarageType  GarageFinish GarageQual  GarageCond   PoolQC    \n",
       " None:690    None   : 81   None: 81     None:  81   None:  81   None:1453  \n",
       " Ex  : 24    2Types :  6   Fin :352     Ex  :   3   Ex  :   2   Ex  :   2  \n",
       " Fa  : 33    Attchd :870   RFn :422     Fa  :  48   Fa  :  35   Fa  :   2  \n",
       " Gd  :380    Basment: 19   Unf :605     Gd  :  14   Gd  :   9   Gd  :   3  \n",
       " Po  : 20    BuiltIn: 88                Po  :   3   Po  :   7              \n",
       " TA  :313    CarPort:  9                TA  :1311   TA  :1326              \n",
       "             Detchd :387                                                   \n",
       "   Fence      MiscFeature\n",
       " None :1179   None:1406  \n",
       " GdPrv:  59   Gar2:   2  \n",
       " GdWo :  54   Othr:   2  \n",
       " MnPrv: 157   Shed:  49  \n",
       " MnWw :  11   TenC:   1  \n",
       "                         \n",
       "                         "
      ]
     },
     "metadata": {},
     "output_type": "display_data"
    }
   ],
   "source": [
    "# Replace NA with \"None\" and ensure \"None\" is the lowest factor level\n",
    "train <- train %>%\n",
    "  mutate(\n",
    "    across(all_of(none_features), \n",
    "    ~ factor(\n",
    "        replace_na(as.character(.), \"None\"),  # fill NA by \"None\"\n",
    "        levels = c(\"None\", sort(unique(as.character(na.omit(.)))))  # redefine factor levels\n",
    "      )\n",
    "    )\n",
    "  )\n",
    "\n",
    "test <- test %>%\n",
    "  mutate(\n",
    "    across(\n",
    "      all_of(none_features), \n",
    "      ~ factor(\n",
    "          replace_na(as.character(.), \"None\"),  \n",
    "          levels = c(\"None\", sort(unique(as.character(na.omit(.)))))\n",
    "      )\n",
    "    )\n",
    "  )\n",
    "\n",
    "\n",
    "# Verify the changes\n",
    "summary(train[none_features])"
   ]
  },
  {
   "cell_type": "code",
   "execution_count": 8,
   "id": "04ac0c34-115f-4475-a993-fc2a51410918",
   "metadata": {
    "vscode": {
     "languageId": "r"
    }
   },
   "outputs": [],
   "source": [
    "ordinal_features <- c(\n",
    "    \"MSSubClass\", \"OverallQual\", \"OverallCond\", \"LotShape\", \"LandSlope\",\n",
    "    \"ExterQual\", \"ExterCond\", \"BsmtQual\", \"BsmtCond\", \"BsmtExposure\",\n",
    "    \"BsmtFinType1\", \"BsmtFinType2\", \"HeatingQC\", \"KitchenQual\",\n",
    "    \"Functional\", \"FireplaceQu\", \"GarageFinish\", \"GarageQual\", \"GarageCond\",\n",
    "    \"PavedDrive\", \"PoolQC\", \"Fence\"\n",
    ")\n",
    "\n",
    "nominal_features <- c(\n",
    "    \"MSZoning\", \"Street\", \"Alley\", \"LandContour\", \"Utilities\", \"LotConfig\",\n",
    "    \"Neighborhood\", \"Condition1\", \"Condition2\", \"BldgType\", \"HouseStyle\",\n",
    "    \"RoofStyle\", \"RoofMatl\", \"Exterior1st\", \"Exterior2nd\", \"MasVnrType\",\n",
    "    \"Foundation\", \"Heating\", \"CentralAir\", \"Electrical\", \"GarageType\",\n",
    "    \"MiscFeature\", \"SaleType\", \"SaleCondition\"\n",
    ")"
   ]
  },
  {
   "cell_type": "markdown",
   "id": "c0215c57-6b7f-409d-85b7-fccee827835c",
   "metadata": {},
   "source": [
    "Similarly, I also distinguish between `ordinal_features` and `nominal_features` here to facilitate subsequent preprocessing. The main difference between them is whether the variable values are ordered. The following are examples of an ordinal feature and a nominal feature respectively.\n",
    "\n",
    "```plaintext\n",
    "ExterQual: Evaluates the quality of the material on the exterior \n",
    "\t\t\n",
    "       Ex\tExcellent\n",
    "       Gd\tGood\n",
    "       TA\tAverage/Typical\n",
    "       Fa\tFair\n",
    "       Po\tPoor\n",
    "\n",
    "MSZoning: Identifies the general zoning classification of the sale.\n",
    "\t\t\n",
    "       A\tAgriculture\n",
    "       C\tCommercial\n",
    "       FV\tFloating Village Residential\n",
    "       I\tIndustrial\n",
    "       RH\tResidential High Density\n",
    "       RL\tResidential Low Density\n",
    "       RP\tResidential Low Density Park \n",
    "       RM\tResidential Medium Density\n",
    "```\n",
    "\n",
    "In the following preprocessing, ordinal features will be applied with Label Encoding, while nominal features will be applied with One-Hot Encoding."
   ]
  },
  {
   "cell_type": "markdown",
   "id": "e942e3a9-1e32-4477-9ab7-7e9ead4738d9",
   "metadata": {},
   "source": [
    "## EDA"
   ]
  },
  {
   "cell_type": "code",
   "execution_count": 9,
   "id": "7562e8fb-142e-418d-99b1-9cfdc4a470c8",
   "metadata": {
    "vscode": {
     "languageId": "r"
    }
   },
   "outputs": [
    {
     "data": {
      "text/plain": [
       "   Min. 1st Qu.  Median    Mean 3rd Qu.    Max. \n",
       "  34900  129975  163000  180921  214000  755000 "
      ]
     },
     "metadata": {},
     "output_type": "display_data"
    }
   ],
   "source": [
    "summary(train$SalePrice)"
   ]
  },
  {
   "cell_type": "code",
   "execution_count": 10,
   "id": "19dfef0d-9f59-462b-aad1-7f9c0633582f",
   "metadata": {
    "vscode": {
     "languageId": "r"
    }
   },
   "outputs": [
    {
     "data": {
      "image/png": "[encoded data removed]",
      "text/plain": [
       "plot without title"
      ]
     },
     "metadata": {
      "image/png": {
       "height": 480,
       "width": 600
      }
     },
     "output_type": "display_data"
    }
   ],
   "source": [
    "options(repr.plot.width = 10, repr.plot.height = 8)\n",
    "\n",
    "# Create a tibble with SalePrice\n",
    "train %>%\n",
    "  ggplot(aes(x = SalePrice)) +\n",
    "  geom_histogram(aes(fill = after_stat(count)), bins = 30, color = \"black\", alpha = 0.8) +\n",
    "  scale_fill_viridis_c(name = \"SalePrice\", option = \"plasma\") +\n",
    "  geom_vline(\n",
    "    aes(xintercept = mean(SalePrice, na.rm = TRUE)), \n",
    "    linetype = \"dashed\", linewidth = 1.2, color = \"red\"\n",
    "  ) +\n",
    "  scale_x_continuous(labels = comma_format()) +  # not use scientific notation\n",
    "  labs(\n",
    "    x = \"SalePrice\", \n",
    "    y = \"Count\",\n",
    "    title = \"SalePrice Distribution\",\n",
    "    caption = \"Histogram with Adjusted Density Plot\"\n",
    "  ) +\n",
    "  theme_minimal(base_size = 14)"
   ]
  },
  {
   "cell_type": "code",
   "execution_count": 11,
   "id": "500a848b-afe1-427d-b321-635670d749eb",
   "metadata": {
    "vscode": {
     "languageId": "r"
    }
   },
   "outputs": [
    {
     "name": "stdout",
     "output_type": "stream",
     "text": [
      "Skewness of SalePrice: 1.879009 \n",
      "Kurtosis of SalePrice: 6.496789 \n"
     ]
    }
   ],
   "source": [
    "# Calculate skewness and kurtosis\n",
    "skewness_value <- skewness(train$SalePrice, na.rm = TRUE)\n",
    "kurtosis_value <- kurtosis(train$SalePrice, na.rm = TRUE)\n",
    "\n",
    "# Print skewness and kurtosis\n",
    "cat(\"Skewness of SalePrice:\", skewness_value, \"\\n\")\n",
    "cat(\"Kurtosis of SalePrice:\", kurtosis_value, \"\\n\")"
   ]
  },
  {
   "cell_type": "markdown",
   "id": "97fc2ec9-85eb-4120-afc5-87240d6dde08",
   "metadata": {},
   "source": [
    "From the histogram and the calculated value of skewness (1.88), we can see that the distribution of `SalePrice` is right-skewed. This may have a negative impact on the training of the model. So we need a log transformation for `SalePrice`."
   ]
  },
  {
   "cell_type": "code",
   "execution_count": 12,
   "id": "0f2cf71a-62b0-401c-b33a-1a53d6c35150",
   "metadata": {
    "vscode": {
     "languageId": "r"
    }
   },
   "outputs": [],
   "source": [
    "# Log transformation of SalePrice\n",
    "train <- train %>%\n",
    "  mutate(SalePrice_log = log(SalePrice))"
   ]
  },
  {
   "cell_type": "code",
   "execution_count": 13,
   "id": "751fbb78-4761-4a3e-9a53-22d1a4c7bbaf",
   "metadata": {
    "vscode": {
     "languageId": "r"
    }
   },
   "outputs": [
    {
     "data": {
      "image/png": "[encoded data removed]",
      "text/plain": [
       "plot without title"
      ]
     },
     "metadata": {
      "image/png": {
       "height": 480,
       "width": 600
      }
     },
     "output_type": "display_data"
    }
   ],
   "source": [
    "# Plot the distribution of log-transformed SalePrice\n",
    "ggplot(train, aes(x = SalePrice_log)) +\n",
    "  geom_histogram(aes(fill = after_stat(count)), bins = 30, color = \"black\", alpha = 0.8) +\n",
    "  scale_fill_viridis_c(name = \"Log SalePrice\", option = \"plasma\") +\n",
    "  geom_vline(\n",
    "    aes(xintercept = mean(SalePrice_log, na.rm = TRUE)), \n",
    "    linetype = \"dashed\", linewidth = 1.2, color = \"red\"\n",
    "  ) +\n",
    "  scale_x_continuous(labels = comma_format()) +  # not use scientific notation\n",
    "  labs(\n",
    "    x = \"Log(SalePrice)\", \n",
    "    y = \"Count\",\n",
    "    title = \"Log-Transformed SalePrice Distribution\",\n",
    "    caption = \"Histogram of Log-Transformed SalePrice\"\n",
    "  ) +\n",
    "  theme_minimal(base_size = 14)"
   ]
  },
  {
   "cell_type": "code",
   "execution_count": 14,
   "id": "8ebf93ae-55e3-47d2-8387-1299039e8bc7",
   "metadata": {
    "vscode": {
     "languageId": "r"
    }
   },
   "outputs": [
    {
     "name": "stdout",
     "output_type": "stream",
     "text": [
      "Log-Transformed SalePrice_log Skewness: 0.1210859 \n",
      "Log-Transformed SalePrice_log Kurtosis: 0.7974482 \n"
     ]
    }
   ],
   "source": [
    "# Calculate skewness and kurtosis for log-transformed SalePrice\n",
    "skewness_log <- skewness(train$SalePrice_log, na.rm = TRUE)\n",
    "kurtosis_log <- kurtosis(train$SalePrice_log, na.rm = TRUE)\n",
    "\n",
    "# Print skewness and kurtosis\n",
    "cat(\"Log-Transformed SalePrice_log Skewness:\", skewness_log, \"\\n\")\n",
    "cat(\"Log-Transformed SalePrice_log Kurtosis:\", kurtosis_log, \"\\n\")"
   ]
  },
  {
   "cell_type": "markdown",
   "id": "8ff0f135-5909-482b-8aaf-4d21a6db5ad1",
   "metadata": {},
   "source": [
    "From the charts and statistics, we can see that after logarithmic transformation, the distribution of `SalePrice` is closer to normal distribution."
   ]
  },
  {
   "cell_type": "code",
   "execution_count": 15,
   "id": "51a951f9-7af8-4e15-a5b9-991ae0ae4f93",
   "metadata": {
    "vscode": {
     "languageId": "r"
    }
   },
   "outputs": [],
   "source": [
    "# Remove the original SalePrice column\n",
    "train <- train %>% select(-SalePrice)"
   ]
  },
  {
   "cell_type": "markdown",
   "id": "82e7813c-67a1-401e-a878-38146f9616bb",
   "metadata": {},
   "source": [
    "The following is the distribution of the remaining numerical features:"
   ]
  },
  {
   "cell_type": "code",
   "execution_count": 16,
   "id": "a2bae9b3-19c4-408b-acc9-749ad51aa181",
   "metadata": {
    "vscode": {
     "languageId": "r"
    }
   },
   "outputs": [
    {
     "data": {
      "image/png": "[encoded data removed]",
      "text/plain": [
       "plot without title"
      ]
     },
     "metadata": {
      "image/png": {
       "height": 900,
       "width": 900
      }
     },
     "output_type": "display_data"
    }
   ],
   "source": [
    "options(repr.plot.width = 15, repr.plot.height = 15)\n",
    "\n",
    "# Convert train dataset to long format and remove NA/Inf values\n",
    "train %>%\n",
    "  select(all_of(numerical_features)) %>%\n",
    "  pivot_longer(cols = everything(), names_to = \"Feature\", values_to = \"Value\") %>%\n",
    "  filter(!is.na(Value) & is.finite(Value)) %>%  # Remove NA and Inf values\n",
    "\n",
    "# Plot histograms for all numerical features\n",
    "ggplot(aes(x = Value)) +\n",
    "  geom_histogram(bins = 10, fill = \"blue\", color = \"black\", alpha = 0.7) +\n",
    "  facet_wrap(~ Feature, scales = \"free\") +  # Free scales to adjust for different ranges\n",
    "  labs(title = \"Distribution of Numerical Features\", x = \"Value\", y = \"Count\") +\n",
    "  theme_minimal(base_size = 14)"
   ]
  },
  {
   "cell_type": "markdown",
   "id": "392a2934-5678-46f4-aec4-ca7674ab7d59",
   "metadata": {},
   "source": [
    "## Feature Engineering"
   ]
  },
  {
   "cell_type": "code",
   "execution_count": 17,
   "id": "4fdf9c12-fdb0-402d-83bd-74aa020573b8",
   "metadata": {
    "vscode": {
     "languageId": "r"
    }
   },
   "outputs": [],
   "source": [
    "# Function to add features\n",
    "add_features <- function(data, create_interactions = TRUE, create_base_features = TRUE) {\n",
    "  # Create a new dataframe to store features\n",
    "  new_features <- data.frame(row.names = rownames(data))\n",
    "  \n",
    "  # Base features\n",
    "  if (create_base_features) {\n",
    "    new_features$HouseAge <- data$YrSold - data$YearBuilt\n",
    "    new_features$RemodelAge <- data$YrSold - data$YearRemodAdd\n",
    "    new_features$TotalSF <- data$`1stFlrSF` + data$`2ndFlrSF` + data$TotalBsmtSF\n",
    "  }\n",
    "  \n",
    "  # Merge new features into the original dataset\n",
    "  data <- cbind(data, new_features)\n",
    "  return(data)\n",
    "}"
   ]
  },
  {
   "cell_type": "code",
   "execution_count": 18,
   "id": "28462ba9-0613-4eca-a952-ed464d1d7447",
   "metadata": {
    "vscode": {
     "languageId": "r"
    }
   },
   "outputs": [],
   "source": [
    "# Apply feature engineering to train and test datasets\n",
    "train <- add_features(train)\n",
    "test <- add_features(test)\n",
    "\n",
    "# Define new features\n",
    "new_features <- c(\"HouseAge\", \"RemodelAge\", \"TotalSF\")\n",
    "\n",
    "# Update numerical_features list\n",
    "numerical_features <- c(numerical_features, new_features)"
   ]
  },
  {
   "cell_type": "code",
   "execution_count": 19,
   "id": "4bf88eea-7356-4472-b8ec-2eab751d969c",
   "metadata": {
    "vscode": {
     "languageId": "r"
    }
   },
   "outputs": [
    {
     "data": {
      "image/png": "[encoded data removed]",
      "text/plain": [
       "plot without title"
      ]
     },
     "metadata": {
      "image/png": {
       "height": 240,
       "width": 720
      }
     },
     "output_type": "display_data"
    }
   ],
   "source": [
    "options(repr.plot.width = 12, repr.plot.height = 4)\n",
    "\n",
    "# Plot histograms for new features\n",
    "train %>%\n",
    "  select(all_of(new_features)) %>%\n",
    "  pivot_longer(cols = everything(), names_to = \"Feature\", values_to = \"Value\") %>%\n",
    "  ggplot(aes(x = Value)) +\n",
    "  geom_histogram(bins = 10, fill = \"blue\", color = \"black\", alpha = 0.7) +\n",
    "  facet_wrap(~ Feature, scales = \"free\") +  \n",
    "  labs(title = \"Distribution of Newly Created Features\", x = \"Value\", y = \"Count\") +\n",
    "  theme_minimal(base_size = 14)"
   ]
  },
  {
   "cell_type": "markdown",
   "id": "c2c32137-6e9a-4b2c-999a-cb2eae85ae9d",
   "metadata": {},
   "source": [
    "## Preprocessing\n",
    "\n",
    "### Handling Missing Values"
   ]
  },
  {
   "cell_type": "code",
   "execution_count": 20,
   "id": "4c22941c-21cc-48e8-8200-02ee1a6fb2d0",
   "metadata": {
    "vscode": {
     "languageId": "r"
    }
   },
   "outputs": [
    {
     "name": "stdout",
     "output_type": "stream",
     "text": [
      "Missing Values in Train Dataset:\n",
      "            na_count\n",
      "LotFrontage      259\n",
      "GarageYrBlt       81\n",
      "MasVnrType         8\n",
      "MasVnrArea         8\n",
      "Electrical         1\n",
      "\n",
      "Missing Values in Test Dataset:\n",
      "             na_count\n",
      "LotFrontage       227\n",
      "GarageYrBlt        78\n",
      "MasVnrType         16\n",
      "MasVnrArea         15\n",
      "MSZoning            4\n",
      "Utilities           2\n",
      "BsmtFullBath        2\n",
      "BsmtHalfBath        2\n",
      "Functional          2\n",
      "Exterior1st         1\n",
      "Exterior2nd         1\n",
      "BsmtFinSF1          1\n",
      "BsmtFinSF2          1\n",
      "BsmtUnfSF           1\n",
      "TotalBsmtSF         1\n",
      "KitchenQual         1\n",
      "GarageCars          1\n",
      "GarageArea          1\n",
      "SaleType            1\n",
      "TotalSF             1\n"
     ]
    }
   ],
   "source": [
    "# Function to find columns with NA\n",
    "check_na <- function(data) {\n",
    "  na_count <- colSums(is.na(data))\n",
    "  na_count <- sort(na_count[na_count > 0], decreasing = TRUE)  # Only keep columns with NA\n",
    "  return(as.data.frame(na_count))\n",
    "}\n",
    "\n",
    "# Check missing values in train and test\n",
    "na_train <- check_na(train)\n",
    "na_test <- check_na(test)\n",
    "\n",
    "# Print missing value summary\n",
    "cat(\"Missing Values in Train Dataset:\\n\")\n",
    "print(na_train)\n",
    "\n",
    "cat(\"\\nMissing Values in Test Dataset:\\n\")\n",
    "print(na_test)"
   ]
  },
  {
   "cell_type": "markdown",
   "id": "b7fd3744-ddea-4514-aceb-d031500ab801",
   "metadata": {},
   "source": [
    "`NA` for these variables means the structure does not exist and should be filled with 0:\n",
    "\n",
    "- `GarageYrBlt` (year garage was built)\n",
    "- `MasVnrArea` (brick facing area)\n",
    "- `BsmtFinSF1`, `BsmtFinSF2`, `BsmtUnfSF` (basement area)\n",
    "- `TotalBsmtSF` (total basement area)\n",
    "- `GarageCars` (number of garage spaces)\n",
    "- `GarageArea` (garage area)\n",
    "- `TotalSF` (total area, usually equal to `1stFlrSF` + `2ndFlrSF` + `TotalBsmtSF`)"
   ]
  },
  {
   "cell_type": "code",
   "execution_count": 21,
   "id": "4208098a-34ea-4c47-b987-bb00f74b842f",
   "metadata": {
    "vscode": {
     "languageId": "r"
    }
   },
   "outputs": [],
   "source": [
    "zero_fill_features <- c(\"GarageYrBlt\", \"MasVnrArea\", \"BsmtFinSF1\", \n",
    "                        \"BsmtFinSF2\", \"BsmtUnfSF\", \"TotalBsmtSF\", \n",
    "                        \"GarageCars\", \"GarageArea\", \"TotalSF\")\n",
    "\n",
    "train[zero_fill_features] <- lapply(train[zero_fill_features], function(x) replace(x, is.na(x), 0))\n",
    "test[zero_fill_features] <- lapply(test[zero_fill_features], function(x) replace(x, is.na(x), 0))"
   ]
  },
  {
   "cell_type": "markdown",
   "id": "441207ee-2875-4fae-9bc8-e7d155d7dc56",
   "metadata": {},
   "source": [
    "`NA` for these variables may be missing data entries and should be filled with the most common category (Mode):\n",
    "\n",
    "- `MasVnrType` (brickwork finish type)\n",
    "- `Electrical` (electrical system)\n",
    "- `MSZoning` (land zoning)\n",
    "- `Utilities` (public facilities)\n",
    "- `Functional` (house function)\n",
    "- `Exterior1st`, `Exterior2nd` (exterior wall material)\n",
    "- `KitchenQual` (kitchen quality)\n",
    "- `SaleType` (sale type)"
   ]
  },
  {
   "cell_type": "code",
   "execution_count": 22,
   "id": "d771d120-cc31-4159-9125-e74e89c441ad",
   "metadata": {
    "vscode": {
     "languageId": "r"
    }
   },
   "outputs": [],
   "source": [
    "mode_fill_features <- c(\"MasVnrType\", \"Electrical\", \"MSZoning\", \n",
    "                        \"Utilities\", \"Functional\", \"Exterior1st\", \n",
    "                        \"Exterior2nd\", \"KitchenQual\", \"SaleType\")\n",
    "\n",
    "fill_mode <- function(x) {\n",
    "  mode_value <- names(sort(table(x), decreasing = TRUE))[1]  # get mode\n",
    "  replace(x, is.na(x), mode_value)\n",
    "}\n",
    "\n",
    "train[mode_fill_features] <- lapply(train[mode_fill_features], fill_mode)\n",
    "test[mode_fill_features] <- lapply(test[mode_fill_features], fill_mode)"
   ]
  },
  {
   "cell_type": "markdown",
   "id": "1ec89e25-0b4b-4d46-a838-7fbe4e2b3e0b",
   "metadata": {},
   "source": [
    "`NA` values for these variables may be missing values, and filling the median value can reduce the impact of outliers:\n",
    "\n",
    "- `LotFrontage` (street frontage length)"
   ]
  },
  {
   "cell_type": "code",
   "execution_count": 23,
   "id": "7052ce63-1291-4c4e-9a80-48a01d256576",
   "metadata": {
    "vscode": {
     "languageId": "r"
    }
   },
   "outputs": [],
   "source": [
    "train <- train %>%\n",
    "  group_by(Neighborhood) %>%\n",
    "  mutate(LotFrontage = ifelse(is.na(LotFrontage), median(LotFrontage, na.rm = TRUE), LotFrontage)) %>%\n",
    "  ungroup()\n",
    "\n",
    "test <- test %>%\n",
    "  group_by(Neighborhood) %>%\n",
    "  mutate(LotFrontage = ifelse(is.na(LotFrontage), median(LotFrontage, na.rm = TRUE), LotFrontage)) %>%\n",
    "  ungroup()"
   ]
  },
  {
   "cell_type": "markdown",
   "id": "f3013f55-18ee-411f-8101-6e18492c11be",
   "metadata": {},
   "source": [
    "Filled with 0 or 1 (integer feature)\n",
    "\n",
    "- `BsmtFullBath`, `BsmtHalfBath` (basement bathrooms)\n",
    "\n",
    "If there is no basement, the number of bathrooms should be 0."
   ]
  },
  {
   "cell_type": "code",
   "execution_count": 24,
   "id": "b61514c2-6326-43da-bf4a-066a12d0cb14",
   "metadata": {
    "vscode": {
     "languageId": "r"
    }
   },
   "outputs": [],
   "source": [
    "bath_fill_features <- c(\"BsmtFullBath\", \"BsmtHalfBath\")\n",
    "\n",
    "train[bath_fill_features] <- lapply(train[bath_fill_features], function(x) replace(x, is.na(x), 0))\n",
    "test[bath_fill_features] <- lapply(test[bath_fill_features], function(x) replace(x, is.na(x), 0))"
   ]
  },
  {
   "cell_type": "markdown",
   "id": "64defb13-fd9c-4cd6-833c-002a65f16a15",
   "metadata": {},
   "source": [
    "Recheck `NA`"
   ]
  },
  {
   "cell_type": "code",
   "execution_count": 25,
   "id": "ed2975e1-dee5-4421-bd81-d6c650f8f52d",
   "metadata": {
    "vscode": {
     "languageId": "r"
    }
   },
   "outputs": [
    {
     "name": "stdout",
     "output_type": "stream",
     "text": [
      "After processing, missing values in Train Dataset:\n",
      "[1] na_count\n",
      "<0 rows> (or 0-length row.names)\n",
      "\n",
      "After processing, missing values in Test Dataset:\n",
      "[1] na_count\n",
      "<0 rows> (or 0-length row.names)\n"
     ]
    }
   ],
   "source": [
    "na_train_after <- check_na(train)\n",
    "na_test_after <- check_na(test)\n",
    "\n",
    "cat(\"After processing, missing values in Train Dataset:\\n\")\n",
    "print(na_train_after)\n",
    "\n",
    "cat(\"\\nAfter processing, missing values in Test Dataset:\\n\")\n",
    "print(na_test_after)"
   ]
  },
  {
   "cell_type": "markdown",
   "id": "620b88e4-73f1-406e-8dd3-7d583d250179",
   "metadata": {},
   "source": [
    "### Encoding"
   ]
  },
  {
   "cell_type": "markdown",
   "id": "92781397-da73-4622-b57e-73eda8cf0b6b",
   "metadata": {},
   "source": [
    "#### Label Encoding\n",
    "\n",
    "Although we previously converted all features that type is `chr` to `fct`. However, when you convert a feature to a factor in R, the levels are automatically assigned based on lexicographic (alphabetical/numeric) order, unless specified otherwise. For example, the default order of `factor(c(\"Good\", \"Bad\", \"Excellent\"))` is: `Bad` → `Excellent` → `Good` (alphabetical). If our categorical feature represents a ranking (e.g., `Ex` > `Gd` > `TA` > `Fa` > `Po`), incorrect ordering will mislead models that rely on factor levels (e.g., linear regression, decision trees). Therefore, to be on the safe side, we need to perform manual Label Encoding at this time to confirm again that our preprocessing of `ordinal_features` is correct."
   ]
  },
  {
   "cell_type": "code",
   "execution_count": 26,
   "id": "c2409a26-f238-4be8-827a-63fa09345ca8",
   "metadata": {
    "vscode": {
     "languageId": "r"
    }
   },
   "outputs": [],
   "source": [
    "factor_levels <- list(\n",
    "  # Basement Quality (higher is better)\n",
    "  BsmtQual = c(\"None\", \"Po\", \"Fa\", \"TA\", \"Gd\", \"Ex\"),\n",
    "  \n",
    "  # Basement Condition (higher is better)\n",
    "  BsmtCond = c(\"None\", \"Po\", \"Fa\", \"TA\", \"Gd\", \"Ex\"),\n",
    "  \n",
    "  # Basement Exposure (higher means more exposure to outside)\n",
    "  BsmtExposure = c(\"None\", \"No\", \"Mn\", \"Av\", \"Gd\"),\n",
    "  \n",
    "  # Basement Finishing Type (higher is more finished)\n",
    "  BsmtFinType1 = c(\"None\", \"Unf\", \"LwQ\", \"Rec\", \"BLQ\", \"ALQ\", \"GLQ\"),\n",
    "  BsmtFinType2 = c(\"None\", \"Unf\", \"LwQ\", \"Rec\", \"BLQ\", \"ALQ\", \"GLQ\"),\n",
    "  \n",
    "  # Heating Quality (higher is better)\n",
    "  HeatingQC = c(\"Po\", \"Fa\", \"TA\", \"Gd\", \"Ex\"),\n",
    "  \n",
    "  # Kitchen Quality (higher is better)\n",
    "  KitchenQual = c(\"Po\", \"Fa\", \"TA\", \"Gd\", \"Ex\"),\n",
    "  \n",
    "  # Functional Condition of House\n",
    "  Functional = c(\"Sal\", \"Sev\", \"Maj2\", \"Maj1\", \"Mod\", \"Min2\", \"Min1\", \"Typ\"),\n",
    "  \n",
    "  # Fireplace Quality (higher is better)\n",
    "  FireplaceQu = c(\"None\", \"Po\", \"Fa\", \"TA\", \"Gd\", \"Ex\"),\n",
    "  \n",
    "  # Garage Finish (higher is more finished)\n",
    "  GarageFinish = c(\"None\", \"Unf\", \"RFn\", \"Fin\"),\n",
    "  \n",
    "  # Garage Quality (higher is better)\n",
    "  GarageQual = c(\"None\", \"Po\", \"Fa\", \"TA\", \"Gd\", \"Ex\"),\n",
    "  \n",
    "  # Garage Condition (higher is better)\n",
    "  GarageCond = c(\"None\", \"Po\", \"Fa\", \"TA\", \"Gd\", \"Ex\"),\n",
    "  \n",
    "  # Paved Driveway (Y = Paved, P = Partial, N = Dirt/Gravel)\n",
    "  PavedDrive = c(\"N\", \"P\", \"Y\"),\n",
    "  \n",
    "  # Pool Quality (higher is better)\n",
    "  PoolQC = c(\"None\", \"Fa\", \"TA\", \"Gd\", \"Ex\"),\n",
    "  \n",
    "  # Fence Quality (higher means better privacy/security)\n",
    "  Fence = c(\"None\", \"MnWw\", \"GdWo\", \"MnPrv\", \"GdPrv\"),\n",
    "  \n",
    "  # Sale Condition (Normal is typical)\n",
    "  SaleCondition = c(\"AdjLand\", \"Alloca\", \"Family\", \"Normal\", \"Abnorml\", \"Partial\"),\n",
    "  \n",
    "  # Lot Shape (Regular is the best)\n",
    "  LotShape = c(\"IR3\", \"IR2\", \"IR1\", \"Reg\"),\n",
    "  \n",
    "  # Land Slope (Gtl = gentle slope, best)\n",
    "  LandSlope = c(\"Sev\", \"Mod\", \"Gtl\"),\n",
    "  \n",
    "  # MSSubClass (Type of dwelling, as a categorical feature)\n",
    "  MSSubClass = c(\"20\", \"30\", \"40\", \"45\", \"50\", \"60\", \"70\", \"75\", \"80\", \"85\", \n",
    "                 \"90\", \"120\", \"150\", \"160\", \"180\", \"190\"),\n",
    "  \n",
    "  # Overall Quality (numeric but treated as an ordinal feature)\n",
    "  OverallQual = as.character(1:10),  # 1 (Worst) to 10 (Best)\n",
    "  \n",
    "  # Overall Condition (numeric but treated as an ordinal feature)\n",
    "  OverallCond = as.character(1:10)   # 1 (Poor) to 10 (Excellent)\n",
    ")"
   ]
  },
  {
   "cell_type": "code",
   "execution_count": 27,
   "id": "e6dcd756-8c14-4bc2-861a-98b9ca7ffea5",
   "metadata": {
    "vscode": {
     "languageId": "r"
    }
   },
   "outputs": [],
   "source": [
    "for (feature in names(factor_levels)) {\n",
    "  train[[feature]] <- factor(train[[feature]], levels = factor_levels[[feature]])\n",
    "  test[[feature]] <- factor(test[[feature]], levels = factor_levels[[feature]])\n",
    "}"
   ]
  },
  {
   "cell_type": "markdown",
   "id": "683cc68b-ea18-4bd7-b9a3-8fb081d7ad9c",
   "metadata": {},
   "source": [
    "Tree models such as Random Forest (RF), XGBoost, LightGBM, and CatBoost can directly process raw categorical data, so performance may be reduced due to unnecessary preprocessing."
   ]
  },
  {
   "cell_type": "code",
   "execution_count": 28,
   "id": "f7b5b199-8f61-41da-9461-c6d3e543f911",
   "metadata": {},
   "outputs": [],
   "source": [
    "tree_train <- as.data.frame(train)\n",
    "tree_test <- as.data.frame(test)"
   ]
  },
  {
   "cell_type": "markdown",
   "id": "7fc8672b-06e2-4e85-8b5a-4edd820ccbac",
   "metadata": {},
   "source": [
    "#### One-Hot Encoding"
   ]
  },
  {
   "cell_type": "code",
   "execution_count": 29,
   "id": "e40d49c3-580b-4867-a24f-430a789b28dc",
   "metadata": {
    "vscode": {
     "languageId": "r"
    }
   },
   "outputs": [
    {
     "name": "stdout",
     "output_type": "stream",
     "text": [
      "'data.frame':\t1460 obs. of  344 variables:\n",
      " $ LotFrontage          : num  65 80 68 60 84 85 75 80 51 50 ...\n",
      " $ LotArea              : num  8450 9600 11250 9550 14260 ...\n",
      " $ YearBuilt            : num  2003 1976 2001 1915 2000 ...\n",
      " $ YearRemodAdd         : num  2003 1976 2002 1970 2000 ...\n",
      " $ MasVnrArea           : num  196 0 162 0 350 0 186 240 0 0 ...\n",
      " $ BsmtFinSF1           : num  706 978 486 216 655 ...\n",
      " $ BsmtFinSF2           : num  0 0 0 0 0 0 0 32 0 0 ...\n",
      " $ BsmtUnfSF            : num  150 284 434 540 490 64 317 216 952 140 ...\n",
      " $ TotalBsmtSF          : num  856 1262 920 756 1145 ...\n",
      " $ 1stFlrSF             : num  856 1262 920 961 1145 ...\n",
      " $ 2ndFlrSF             : num  854 0 866 756 1053 ...\n",
      " $ LowQualFinSF         : num  0 0 0 0 0 0 0 0 0 0 ...\n",
      " $ GrLivArea            : num  1710 1262 1786 1717 2198 ...\n",
      " $ BsmtFullBath         : num  1 0 1 1 1 1 1 1 0 1 ...\n",
      " $ BsmtHalfBath         : num  0 1 0 0 0 0 0 0 0 0 ...\n",
      " $ FullBath             : num  2 2 2 1 2 1 2 2 2 1 ...\n",
      " $ HalfBath             : num  1 0 1 0 1 1 0 1 0 0 ...\n",
      " $ BedroomAbvGr         : num  3 3 3 3 4 1 3 3 2 2 ...\n",
      " $ KitchenAbvGr         : num  1 1 1 1 1 1 1 1 2 2 ...\n",
      " $ TotRmsAbvGrd         : num  8 6 6 7 9 5 7 7 8 5 ...\n",
      " $ Fireplaces           : num  0 1 1 1 1 0 1 2 2 2 ...\n",
      " $ GarageYrBlt          : num  2003 1976 2001 1998 2000 ...\n",
      " $ GarageCars           : num  2 2 2 3 3 2 2 2 2 1 ...\n",
      " $ GarageArea           : num  548 460 608 642 836 480 636 484 468 205 ...\n",
      " $ WoodDeckSF           : num  0 298 0 0 192 40 255 235 90 0 ...\n",
      " $ OpenPorchSF          : num  61 0 42 35 84 30 57 204 0 4 ...\n",
      " $ EnclosedPorch        : num  0 0 0 272 0 0 0 228 205 0 ...\n",
      " $ 3SsnPorch            : num  0 0 0 0 0 320 0 0 0 0 ...\n",
      " $ ScreenPorch          : num  0 0 0 0 0 0 0 0 0 0 ...\n",
      " $ PoolArea             : num  0 0 0 0 0 0 0 0 0 0 ...\n",
      " $ MiscVal              : num  0 0 0 0 0 700 0 350 0 0 ...\n",
      " $ MoSold               : num  2 5 9 2 12 10 8 11 4 1 ...\n",
      " $ YrSold               : num  2008 2007 2008 2006 2008 ...\n",
      " $ HouseAge             : num  5 31 7 91 8 16 3 36 77 69 ...\n",
      " $ RemodelAge           : num  5 31 6 36 8 14 2 36 58 58 ...\n",
      " $ TotalSF              : num  2566 2524 2706 2473 3343 ...\n",
      " $ MSSubClass.20        : num  0 1 0 0 0 0 1 0 0 0 ...\n",
      " $ MSSubClass.30        : num  0 0 0 0 0 0 0 0 0 0 ...\n",
      " $ MSSubClass.40        : num  0 0 0 0 0 0 0 0 0 0 ...\n",
      " $ MSSubClass.45        : num  0 0 0 0 0 0 0 0 0 0 ...\n",
      " $ MSSubClass.50        : num  0 0 0 0 0 1 0 0 1 0 ...\n",
      " $ MSSubClass.60        : num  1 0 1 0 1 0 0 1 0 0 ...\n",
      " $ MSSubClass.70        : num  0 0 0 1 0 0 0 0 0 0 ...\n",
      " $ MSSubClass.75        : num  0 0 0 0 0 0 0 0 0 0 ...\n",
      " $ MSSubClass.80        : num  0 0 0 0 0 0 0 0 0 0 ...\n",
      " $ MSSubClass.85        : num  0 0 0 0 0 0 0 0 0 0 ...\n",
      " $ MSSubClass.90        : num  0 0 0 0 0 0 0 0 0 0 ...\n",
      " $ MSSubClass.120       : num  0 0 0 0 0 0 0 0 0 0 ...\n",
      " $ MSSubClass.150       : num  0 0 0 0 0 0 0 0 0 0 ...\n",
      " $ MSSubClass.160       : num  0 0 0 0 0 0 0 0 0 0 ...\n",
      " $ MSSubClass.180       : num  0 0 0 0 0 0 0 0 0 0 ...\n",
      " $ MSSubClass.190       : num  0 0 0 0 0 0 0 0 0 1 ...\n",
      " $ MSZoning.C (all)     : num  0 0 0 0 0 0 0 0 0 0 ...\n",
      " $ MSZoning.FV          : num  0 0 0 0 0 0 0 0 0 0 ...\n",
      " $ MSZoning.RH          : num  0 0 0 0 0 0 0 0 0 0 ...\n",
      " $ MSZoning.RL          : num  1 1 1 1 1 1 1 1 0 1 ...\n",
      " $ MSZoning.RM          : num  0 0 0 0 0 0 0 0 1 0 ...\n",
      " $ Street.Grvl          : num  0 0 0 0 0 0 0 0 0 0 ...\n",
      " $ Street.Pave          : num  1 1 1 1 1 1 1 1 1 1 ...\n",
      " $ Alley.None           : num  1 1 1 1 1 1 1 1 1 1 ...\n",
      " $ Alley.Grvl           : num  0 0 0 0 0 0 0 0 0 0 ...\n",
      " $ Alley.Pave           : num  0 0 0 0 0 0 0 0 0 0 ...\n",
      " $ LotShape.IR3         : num  0 0 0 0 0 0 0 0 0 0 ...\n",
      " $ LotShape.IR2         : num  0 0 0 0 0 0 0 0 0 0 ...\n",
      " $ LotShape.IR1         : num  0 0 1 1 1 1 0 1 0 0 ...\n",
      " $ LotShape.Reg         : num  1 1 0 0 0 0 1 0 1 1 ...\n",
      " $ LandContour.Bnk      : num  0 0 0 0 0 0 0 0 0 0 ...\n",
      " $ LandContour.HLS      : num  0 0 0 0 0 0 0 0 0 0 ...\n",
      " $ LandContour.Low      : num  0 0 0 0 0 0 0 0 0 0 ...\n",
      " $ LandContour.Lvl      : num  1 1 1 1 1 1 1 1 1 1 ...\n",
      " $ Utilities.AllPub     : num  1 1 1 1 1 1 1 1 1 1 ...\n",
      " $ Utilities.NoSeWa     : num  0 0 0 0 0 0 0 0 0 0 ...\n",
      " $ LotConfig.Corner     : num  0 0 0 1 0 0 0 1 0 1 ...\n",
      " $ LotConfig.CulDSac    : num  0 0 0 0 0 0 0 0 0 0 ...\n",
      " $ LotConfig.FR2        : num  0 1 0 0 1 0 0 0 0 0 ...\n",
      " $ LotConfig.FR3        : num  0 0 0 0 0 0 0 0 0 0 ...\n",
      " $ LotConfig.Inside     : num  1 0 1 0 0 1 1 0 1 0 ...\n",
      " $ LandSlope.Sev        : num  0 0 0 0 0 0 0 0 0 0 ...\n",
      " $ LandSlope.Mod        : num  0 0 0 0 0 0 0 0 0 0 ...\n",
      " $ LandSlope.Gtl        : num  1 1 1 1 1 1 1 1 1 1 ...\n",
      " $ Neighborhood.Blmngtn : num  0 0 0 0 0 0 0 0 0 0 ...\n",
      " $ Neighborhood.Blueste : num  0 0 0 0 0 0 0 0 0 0 ...\n",
      " $ Neighborhood.BrDale  : num  0 0 0 0 0 0 0 0 0 0 ...\n",
      " $ Neighborhood.BrkSide : num  0 0 0 0 0 0 0 0 0 1 ...\n",
      " $ Neighborhood.ClearCr : num  0 0 0 0 0 0 0 0 0 0 ...\n",
      " $ Neighborhood.CollgCr : num  1 0 1 0 0 0 0 0 0 0 ...\n",
      " $ Neighborhood.Crawfor : num  0 0 0 1 0 0 0 0 0 0 ...\n",
      " $ Neighborhood.Edwards : num  0 0 0 0 0 0 0 0 0 0 ...\n",
      " $ Neighborhood.Gilbert : num  0 0 0 0 0 0 0 0 0 0 ...\n",
      " $ Neighborhood.IDOTRR  : num  0 0 0 0 0 0 0 0 0 0 ...\n",
      " $ Neighborhood.MeadowV : num  0 0 0 0 0 0 0 0 0 0 ...\n",
      " $ Neighborhood.Mitchel : num  0 0 0 0 0 1 0 0 0 0 ...\n",
      " $ Neighborhood.NAmes   : num  0 0 0 0 0 0 0 0 0 0 ...\n",
      " $ Neighborhood.NoRidge : num  0 0 0 0 1 0 0 0 0 0 ...\n",
      " $ Neighborhood.NPkVill : num  0 0 0 0 0 0 0 0 0 0 ...\n",
      " $ Neighborhood.NridgHt : num  0 0 0 0 0 0 0 0 0 0 ...\n",
      " $ Neighborhood.NWAmes  : num  0 0 0 0 0 0 0 1 0 0 ...\n",
      " $ Neighborhood.OldTown : num  0 0 0 0 0 0 0 0 1 0 ...\n",
      " $ Neighborhood.Sawyer  : num  0 0 0 0 0 0 0 0 0 0 ...\n",
      "  [list output truncated]\n"
     ]
    }
   ],
   "source": [
    "# Ensure test dataset has the same factor levels as train\n",
    "for (col in categorical_features) {\n",
    "  if (col %in% names(test)) {\n",
    "    test[[col]] <- factor(test[[col]], levels = levels(train[[col]])) \n",
    "  }\n",
    "}\n",
    "\n",
    "# Apply One-Hot Encoding using predefined categorical_features\n",
    "ohe <- dummyVars(~ ., data = train[, categorical_features])\n",
    "\n",
    "# Apply transformation to train and test sets\n",
    "train_ohe <- predict(ohe, train)\n",
    "test_ohe <- predict(ohe, test)\n",
    "\n",
    "# Merge transformed categorical features with numerical features\n",
    "train <- cbind(train[, numerical_features], train_ohe, SalePrice_log = train$SalePrice_log)\n",
    "test <- cbind(test[, numerical_features], test_ohe)\n",
    "\n",
    "# Ensure all variables are numeric\n",
    "str(train)"
   ]
  },
  {
   "cell_type": "code",
   "execution_count": 30,
   "id": "374b4ce7-a552-4e75-b553-85586d69071a",
   "metadata": {},
   "outputs": [
    {
     "name": "stdout",
     "output_type": "stream",
     "text": [
      "[1] \"MSSubClass.150\" \"BsmtQual.Po\"    \"BsmtCond.Ex\"    \"KitchenQual.Po\"\n",
      "[5] \"Functional.Sal\" \"PoolQC.TA\"      \"OverallCond.10\"\n"
     ]
    }
   ],
   "source": [
    "# Count the minimum and maximum values of each column\n",
    "zero_vars <- names(train)[sapply(train, function(col) all(col == 0))]\n",
    "\n",
    "# Print all columns that are all zeros\n",
    "print(zero_vars)"
   ]
  },
  {
   "cell_type": "code",
   "execution_count": 31,
   "id": "7b4a3f45-c537-4e5b-bf4f-3fc5a7e67bb6",
   "metadata": {},
   "outputs": [],
   "source": [
    "# If there are all zero columns, remove them\n",
    "if (length(zero_vars) > 0) {\n",
    "  train <- train %>% select(-all_of(zero_vars))\n",
    "  test <- test %>% select(-all_of(zero_vars))  # Make sure test is also synchronized\n",
    "}"
   ]
  },
  {
   "cell_type": "markdown",
   "id": "42014321-b3d8-4438-b127-84e82abf8ef5",
   "metadata": {},
   "source": [
    "### Normalize Data (Standard Scaling)"
   ]
  },
  {
   "cell_type": "code",
   "execution_count": 32,
   "id": "63eb713b-0b36-47d2-a609-968a18642a30",
   "metadata": {
    "vscode": {
     "languageId": "r"
    }
   },
   "outputs": [
    {
     "data": {
      "text/plain": [
       "  LotFrontage           LotArea          YearBuilt         YearRemodAdd    \n",
       " Min.   :-2.193290   Min.   :-0.9234   Min.   :-3.28670   Min.   :-1.6888  \n",
       " 1st Qu.:-0.454694   1st Qu.:-0.2969   1st Qu.:-0.57173   1st Qu.:-0.8654  \n",
       " Median :-0.008901   Median :-0.1040   Median : 0.05735   Median : 0.4424  \n",
       " Mean   : 0.000000   Mean   : 0.0000   Mean   : 0.00000   Mean   : 0.0000  \n",
       " 3rd Qu.: 0.436893   3rd Qu.: 0.1087   3rd Qu.: 0.95131   3rd Qu.: 0.9268  \n",
       " Max.   :10.823886   Max.   :20.5112   Max.   : 1.28240   Max.   : 1.2174  \n",
       "   MasVnrArea        BsmtFinSF1        BsmtFinSF2        BsmtUnfSF      \n",
       " Min.   :-0.5706   Min.   :-0.9727   Min.   :-0.2886   Min.   :-1.2837  \n",
       " 1st Qu.:-0.5706   1st Qu.:-0.9727   1st Qu.:-0.2886   1st Qu.:-0.7791  \n",
       " Median :-0.5706   Median :-0.1319   Median :-0.2886   Median :-0.2031  \n",
       " Mean   : 0.0000   Mean   : 0.0000   Mean   : 0.0000   Mean   : 0.0000  \n",
       " 3rd Qu.: 0.3383   3rd Qu.: 0.5889   3rd Qu.:-0.2886   3rd Qu.: 0.5449  \n",
       " Max.   : 8.2824   Max.   :11.4018   Max.   : 8.8486   Max.   : 4.0029  \n",
       "  TotalBsmtSF         1stFlrSF          2ndFlrSF        LowQualFinSF    \n",
       " Min.   :-2.4103   Min.   :-2.1434   Min.   :-0.7949   Min.   :-0.1202  \n",
       " 1st Qu.:-0.5965   1st Qu.:-0.7259   1st Qu.:-0.7949   1st Qu.:-0.1202  \n",
       " Median :-0.1503   Median :-0.1956   Median :-0.7949   Median :-0.1202  \n",
       " Mean   : 0.0000   Mean   : 0.0000   Mean   : 0.0000   Mean   : 0.0000  \n",
       " 3rd Qu.: 0.5489   3rd Qu.: 0.5914   3rd Qu.: 0.8728   3rd Qu.:-0.1202  \n",
       " Max.   :11.5170   Max.   : 9.1296   Max.   : 3.9356   Max.   :11.6438  \n",
       "   GrLivArea         BsmtFullBath      BsmtHalfBath       FullBath      \n",
       " Min.   :-2.24835   Min.   :-0.8197   Min.   :-0.241   Min.   :-2.8408  \n",
       " 1st Qu.:-0.73450   1st Qu.:-0.8197   1st Qu.:-0.241   1st Qu.:-1.0257  \n",
       " Median :-0.09794   Median :-0.8197   Median :-0.241   Median : 0.7895  \n",
       " Mean   : 0.00000   Mean   : 0.0000   Mean   : 0.000   Mean   : 0.0000  \n",
       " 3rd Qu.: 0.49723   3rd Qu.: 1.1074   3rd Qu.:-0.241   3rd Qu.: 0.7895  \n",
       " Max.   : 7.85288   Max.   : 4.9617   Max.   : 8.136   Max.   : 2.6046  \n",
       "    HalfBath        BedroomAbvGr      KitchenAbvGr      TotRmsAbvGrd    \n",
       " Min.   :-0.7614   Min.   :-3.5137   Min.   :-4.7499   Min.   :-2.7795  \n",
       " 1st Qu.:-0.7614   1st Qu.:-1.0621   1st Qu.:-0.2114   1st Qu.:-0.9338  \n",
       " Median :-0.7614   Median : 0.1637   Median :-0.2114   Median :-0.3186  \n",
       " Mean   : 0.0000   Mean   : 0.0000   Mean   : 0.0000   Mean   : 0.0000  \n",
       " 3rd Qu.: 1.2272   3rd Qu.: 0.1637   3rd Qu.:-0.2114   3rd Qu.: 0.2967  \n",
       " Max.   : 3.2157   Max.   : 6.2928   Max.   : 8.8656   Max.   : 4.6033  \n",
       "   Fireplaces       GarageYrBlt        GarageCars        GarageArea      \n",
       " Min.   :-0.9509   Min.   :-4.1189   Min.   :-2.3646   Min.   :-2.21220  \n",
       " 1st Qu.:-0.9509   1st Qu.: 0.1967   1st Qu.:-1.0265   1st Qu.:-0.64769  \n",
       " Median : 0.6003   Median : 0.2386   Median : 0.3116   Median : 0.03283  \n",
       " Mean   : 0.0000   Mean   : 0.0000   Mean   : 0.0000   Mean   : 0.00000  \n",
       " 3rd Qu.: 0.6003   3rd Qu.: 0.2915   3rd Qu.: 0.3116   3rd Qu.: 0.48184  \n",
       " Max.   : 3.7027   Max.   : 0.3114   Max.   : 2.9879   Max.   : 4.42001  \n",
       "   WoodDeckSF       OpenPorchSF      EnclosedPorch       3SsnPorch      \n",
       " Min.   :-0.7519   Min.   :-0.7042   Min.   :-0.3592   Min.   :-0.1163  \n",
       " 1st Qu.:-0.7519   1st Qu.:-0.7042   1st Qu.:-0.3592   1st Qu.:-0.1163  \n",
       " Median :-0.7519   Median :-0.3269   Median :-0.3592   Median :-0.1163  \n",
       " Mean   : 0.0000   Mean   : 0.0000   Mean   : 0.0000   Mean   : 0.0000  \n",
       " 3rd Qu.: 0.5884   3rd Qu.: 0.3221   3rd Qu.:-0.3592   3rd Qu.:-0.1163  \n",
       " Max.   : 6.0855   Max.   : 7.5516   Max.   : 8.6723   Max.   :17.2113  \n",
       "  ScreenPorch         PoolArea           MiscVal             MoSold       \n",
       " Min.   :-0.2701   Min.   :-0.06867   Min.   :-0.08766   Min.   :-1.9684  \n",
       " 1st Qu.:-0.2701   1st Qu.:-0.06867   1st Qu.:-0.08766   1st Qu.:-0.4889  \n",
       " Median :-0.2701   Median :-0.06867   Median :-0.08766   Median :-0.1191  \n",
       " Mean   : 0.0000   Mean   : 0.00000   Mean   : 0.00000   Mean   : 0.0000  \n",
       " 3rd Qu.:-0.2701   3rd Qu.:-0.06867   3rd Qu.:-0.08766   3rd Qu.: 0.6207  \n",
       " Max.   : 8.3386   Max.   :18.29991   Max.   :31.15459   Max.   : 2.1002  \n",
       "     YrSold           HouseAge          RemodelAge         TotalSF       \n",
       " Min.   :-1.3672   Min.   :-1.20819   Min.   :-1.1603   Min.   :-2.7175  \n",
       " 1st Qu.:-0.6142   1st Qu.:-0.94373   1st Qu.:-0.9181   1st Qu.:-0.6785  \n",
       " Median : 0.1387   Median :-0.05117   Median :-0.4336   Median :-0.1132  \n",
       " Mean   : 0.0000   Mean   : 0.00000   Mean   : 0.0000   Mean   : 0.0000  \n",
       " 3rd Qu.: 0.8917   3rd Qu.: 0.57693   3rd Qu.: 0.8745   3rd Qu.: 0.5318  \n",
       " Max.   : 1.6446   Max.   : 3.28765   Max.   : 1.7950   Max.   :11.1778  "
      ]
     },
     "metadata": {},
     "output_type": "display_data"
    }
   ],
   "source": [
    "# Apply Standard Scaling (Z-score normalization)\n",
    "scaler <- preProcess(train[, numerical_features], method = c(\"center\", \"scale\"))\n",
    "\n",
    "# Normalize train and test datasets\n",
    "train[, numerical_features] <- predict(scaler, train[, numerical_features])\n",
    "test[, numerical_features] <- predict(scaler, test[, numerical_features])\n",
    "\n",
    "# Check summary to confirm scaling\n",
    "summary(train[, numerical_features])"
   ]
  },
  {
   "cell_type": "markdown",
   "id": "91d2de84-e45b-4e8a-af89-593d91a509e5",
   "metadata": {},
   "source": [
    "## Modeling"
   ]
  },
  {
   "cell_type": "markdown",
   "id": "317c02bd-812a-434f-a196-57fed67aca6b",
   "metadata": {},
   "source": [
    "### kNN"
   ]
  },
  {
   "cell_type": "code",
   "execution_count": 33,
   "id": "0257362e-f5a1-4ab1-aac8-d5046679c438",
   "metadata": {
    "vscode": {
     "languageId": "r"
    }
   },
   "outputs": [],
   "source": [
    "# Define training control\n",
    "control <- trainControl(method = \"cv\", number = 5)\n",
    "\n",
    "# Train KNN model (search for best k from 3 to 20)\n",
    "set.seed(123)\n",
    "knn_model <- train(SalePrice_log ~ .,\n",
    "                   data = train,\n",
    "                   method = \"knn\",\n",
    "                   trControl = control,\n",
    "                   tuneGrid = expand.grid(k = seq(2, 20, by = 2)))"
   ]
  },
  {
   "cell_type": "code",
   "execution_count": 34,
   "id": "a6c044b4-82d3-49a8-bdec-e68f07acc7fd",
   "metadata": {
    "vscode": {
     "languageId": "r"
    }
   },
   "outputs": [
    {
     "data": {
      "text/plain": [
       "k-Nearest Neighbors \n",
       "\n",
       "1460 samples\n",
       " 336 predictor\n",
       "\n",
       "No pre-processing\n",
       "Resampling: Cross-Validated (5 fold) \n",
       "Summary of sample sizes: 1169, 1169, 1167, 1168, 1167 \n",
       "Resampling results across tuning parameters:\n",
       "\n",
       "  k   RMSE       Rsquared   MAE      \n",
       "   2  0.1845686  0.7900069  0.1276179\n",
       "   4  0.1792032  0.8048398  0.1211112\n",
       "   6  0.1758587  0.8133593  0.1193890\n",
       "   8  0.1755424  0.8161537  0.1199109\n",
       "  10  0.1743246  0.8207036  0.1192279\n",
       "  12  0.1732819  0.8249960  0.1188608\n",
       "  14  0.1733588  0.8257621  0.1195074\n",
       "  16  0.1735761  0.8261160  0.1197313\n",
       "  18  0.1740578  0.8256934  0.1201630\n",
       "  20  0.1741199  0.8273405  0.1204882\n",
       "\n",
       "RMSE was used to select the optimal model using the smallest value.\n",
       "The final value used for the model was k = 12."
      ]
     },
     "metadata": {},
     "output_type": "display_data"
    }
   ],
   "source": [
    "knn_model"
   ]
  },
  {
   "cell_type": "code",
   "execution_count": 35,
   "id": "be7e6a67-cdf2-4dcf-b206-d914de2a0e42",
   "metadata": {},
   "outputs": [
    {
     "data": {
      "image/png": "[encoded data removed]",
      "text/plain": [
       "plot without title"
      ]
     },
     "metadata": {
      "image/png": {
       "height": 480,
       "width": 720
      }
     },
     "output_type": "display_data"
    }
   ],
   "source": [
    "options(repr.plot.width = 12, repr.plot.height = 8)\n",
    "plot(knn_model,\n",
    "     cex = 1.25,\n",
    "     lwd = 1.75,\n",
    "     pch = 16)"
   ]
  },
  {
   "cell_type": "code",
   "execution_count": 36,
   "id": "2bf5bdba-1263-4cdf-8db7-ed08f6bc6c80",
   "metadata": {},
   "outputs": [],
   "source": [
    "knn_predictions <- predict(knn_model, newdata = test)\n",
    "knn_predictions <- exp(knn_predictions) # revert log-transform\n",
    "\n",
    "knn_submission <- data.frame(\n",
    "  Id = Id,\n",
    "  SalePrice = knn_predictions\n",
    ")\n",
    "\n",
    "save_dir <- file.path(\"data\", \"house-prices\", \"processed(r)\", \"knn(r).csv\")\n",
    "write.csv(knn_submission, save_dir, row.names = FALSE)"
   ]
  },
  {
   "cell_type": "markdown",
   "id": "4dfb4cbe-2353-49cd-aaf9-7322030410e2",
   "metadata": {},
   "source": [
    "### SVM"
   ]
  },
  {
   "cell_type": "code",
   "execution_count": 37,
   "id": "c3a34e50-2ae5-4e6c-8ecc-f73259aa3bad",
   "metadata": {
    "vscode": {
     "languageId": "r"
    }
   },
   "outputs": [],
   "source": [
    "# Train SVM model with radial basis function (RBF) kernel\n",
    "set.seed(123)\n",
    "svm_model <- train(SalePrice_log ~ ., \n",
    "                   data = train, \n",
    "                   method = \"svmRadial\", \n",
    "                   trControl = control, \n",
    "                   tuneLength = 10,  # Automatically searches for best parameters\n",
    "                   scale = FALSE)"
   ]
  },
  {
   "cell_type": "markdown",
   "id": "02e7fdb7-1ff4-4533-b74a-d3410a6e93a3",
   "metadata": {},
   "source": [
    "Here we set `scale = FALSE` because we have manually normalized `numerical_features` in the previous preprocessing stage. In order to avoid SVM to repeat the normalization of the extra columns generated by our one-hot encoding, we need to turn off its scale function here."
   ]
  },
  {
   "cell_type": "code",
   "execution_count": 38,
   "id": "fb9e9811-e9e8-42bf-9848-ccafb840a6fc",
   "metadata": {},
   "outputs": [
    {
     "data": {
      "text/plain": [
       "Support Vector Machines with Radial Basis Function Kernel \n",
       "\n",
       "1460 samples\n",
       " 336 predictor\n",
       "\n",
       "No pre-processing\n",
       "Resampling: Cross-Validated (5 fold) \n",
       "Summary of sample sizes: 1169, 1169, 1167, 1168, 1167 \n",
       "Resampling results across tuning parameters:\n",
       "\n",
       "  C       RMSE       Rsquared   MAE       \n",
       "    0.25  0.1400580  0.8793136  0.09348299\n",
       "    0.50  0.1332413  0.8900571  0.08837307\n",
       "    1.00  0.1290501  0.8962326  0.08551372\n",
       "    2.00  0.1262895  0.9005448  0.08413747\n",
       "    4.00  0.1250289  0.9023650  0.08437091\n",
       "    8.00  0.1267093  0.8999574  0.08680582\n",
       "   16.00  0.1295349  0.8962134  0.08979895\n",
       "   32.00  0.1332403  0.8906846  0.09331982\n",
       "   64.00  0.1367442  0.8850155  0.09608184\n",
       "  128.00  0.1374458  0.8838847  0.09664535\n",
       "\n",
       "Tuning parameter 'sigma' was held constant at a value of 0.002345221\n",
       "RMSE was used to select the optimal model using the smallest value.\n",
       "The final values used for the model were sigma = 0.002345221 and C = 4."
      ]
     },
     "metadata": {},
     "output_type": "display_data"
    }
   ],
   "source": [
    "svm_model"
   ]
  },
  {
   "cell_type": "code",
   "execution_count": 39,
   "id": "d9329bc4-0454-43dd-9a1f-7314c8e1b988",
   "metadata": {
    "vscode": {
     "languageId": "r"
    }
   },
   "outputs": [
    {
     "data": {
      "image/png": "[encoded data removed]",
      "text/plain": [
       "plot without title"
      ]
     },
     "metadata": {
      "image/png": {
       "height": 480,
       "width": 720
      }
     },
     "output_type": "display_data"
    }
   ],
   "source": [
    "plot(svm_model,\n",
    "     cex = 1.25,\n",
    "     lwd = 1.75,\n",
    "     pch = 16)"
   ]
  },
  {
   "cell_type": "code",
   "execution_count": 40,
   "id": "62993f99-34d3-4ec7-9a43-b1ae95e59dc2",
   "metadata": {},
   "outputs": [],
   "source": [
    "svm_predictions <- predict(svm_model, newdata = test)\n",
    "svm_predictions <- exp(svm_predictions) # revert log-transform\n",
    "\n",
    "svm_submission <- data.frame(\n",
    "  Id = Id,\n",
    "  SalePrice = svm_predictions\n",
    ")\n",
    "\n",
    "save_dir <- file.path(\"data\", \"house-prices\", \"processed(r)\", \"svm(r).csv\")\n",
    "write.csv(svm_submission, save_dir, row.names = FALSE)"
   ]
  },
  {
   "cell_type": "markdown",
   "id": "bd280981-a54a-496e-a452-09db2642c2ef",
   "metadata": {},
   "source": [
    "### Linear Regression"
   ]
  },
  {
   "cell_type": "code",
   "execution_count": 41,
   "id": "a2cac029-6835-4c20-9852-a3dcaf1ab1cf",
   "metadata": {
    "vscode": {
     "languageId": "r"
    }
   },
   "outputs": [
    {
     "name": "stderr",
     "output_type": "stream",
     "text": [
      "Warning message in predict.lm(modelFit, newdata):\n",
      "\"prediction from rank-deficient fit; attr(*, \"non-estim\") has doubtful cases\"\n",
      "Warning message in predict.lm(modelFit, newdata):\n",
      "\"prediction from rank-deficient fit; attr(*, \"non-estim\") has doubtful cases\"\n",
      "Warning message in predict.lm(modelFit, newdata):\n",
      "\"prediction from rank-deficient fit; attr(*, \"non-estim\") has doubtful cases\"\n",
      "Warning message in predict.lm(modelFit, newdata):\n",
      "\"prediction from rank-deficient fit; attr(*, \"non-estim\") has doubtful cases\"\n",
      "Warning message in predict.lm(modelFit, newdata):\n",
      "\"prediction from rank-deficient fit; attr(*, \"non-estim\") has doubtful cases\"\n"
     ]
    }
   ],
   "source": [
    "# Train Linear Regression model\n",
    "set.seed(123)\n",
    "lr_model <- train(SalePrice_log ~ ., \n",
    "                  data = train, \n",
    "                  method = \"lm\", \n",
    "                  trControl = control)"
   ]
  },
  {
   "cell_type": "code",
   "execution_count": 42,
   "id": "d54bc3fa-ea19-41d6-a871-9dc6feae779f",
   "metadata": {
    "vscode": {
     "languageId": "r"
    }
   },
   "outputs": [
    {
     "data": {
      "text/plain": [
       "Linear Regression \n",
       "\n",
       "1460 samples\n",
       " 336 predictor\n",
       "\n",
       "No pre-processing\n",
       "Resampling: Cross-Validated (5 fold) \n",
       "Summary of sample sizes: 1169, 1169, 1167, 1168, 1167 \n",
       "Resampling results:\n",
       "\n",
       "  RMSE       Rsquared   MAE       \n",
       "  0.1659552  0.8347659  0.09375622\n",
       "\n",
       "Tuning parameter 'intercept' was held constant at a value of TRUE"
      ]
     },
     "metadata": {},
     "output_type": "display_data"
    }
   ],
   "source": [
    "lr_model"
   ]
  },
  {
   "cell_type": "code",
   "execution_count": 43,
   "id": "204bc150-b9c9-4cc7-995a-84824983d782",
   "metadata": {},
   "outputs": [
    {
     "name": "stderr",
     "output_type": "stream",
     "text": [
      "Warning message in predict.lm(modelFit, newdata):\n",
      "\"prediction from rank-deficient fit; attr(*, \"non-estim\") has doubtful cases\"\n"
     ]
    }
   ],
   "source": [
    "lr_predictions <- predict(lr_model, newdata = test)\n",
    "lr_predictions <- exp(lr_predictions) # revert log-transform\n",
    "\n",
    "lr_submission <- data.frame(\n",
    "  Id = Id,\n",
    "  SalePrice = lr_predictions\n",
    ")\n",
    "\n",
    "save_dir <- file.path(\"data\", \"house-prices\", \"processed(r)\", \"lr(r).csv\")\n",
    "write.csv(lr_submission, save_dir, row.names = FALSE)"
   ]
  },
  {
   "cell_type": "markdown",
   "id": "e205cd9e-c884-4882-99e4-8a79284b6556",
   "metadata": {},
   "source": [
    "### Lasso"
   ]
  },
  {
   "cell_type": "code",
   "execution_count": 44,
   "id": "08086610-e637-4fb5-8494-9006919ebcad",
   "metadata": {
    "vscode": {
     "languageId": "r"
    }
   },
   "outputs": [],
   "source": [
    "# Convert train and test to matrices for glmnet\n",
    "x_train <- as.matrix(train %>% select(-SalePrice_log))\n",
    "y_train <- train$SalePrice_log\n",
    "x_test <- as.matrix(test)"
   ]
  },
  {
   "cell_type": "code",
   "execution_count": 45,
   "id": "a614da4e-4ecd-40be-b53b-13d40c244c2d",
   "metadata": {
    "vscode": {
     "languageId": "r"
    }
   },
   "outputs": [],
   "source": [
    "# Train Lasso Regression (alpha = 1)\n",
    "set.seed(123)\n",
    "lasso_model <- cv.glmnet(x_train, y_train, alpha = 1)"
   ]
  },
  {
   "cell_type": "code",
   "execution_count": 46,
   "id": "a8b92d2f-14d0-49f4-a706-abba42a45769",
   "metadata": {
    "vscode": {
     "languageId": "r"
    }
   },
   "outputs": [
    {
     "data": {
      "text/plain": [
       "\n",
       "Call:  cv.glmnet(x = x_train, y = y_train, alpha = 1) \n",
       "\n",
       "Measure: Mean-Squared Error \n",
       "\n",
       "      Lambda Index Measure       SE Nonzero\n",
       "min 0.005178    45 0.02198 0.005656     105\n",
       "1se 0.020902    30 0.02708 0.005587      39"
      ]
     },
     "metadata": {},
     "output_type": "display_data"
    }
   ],
   "source": [
    "lasso_model"
   ]
  },
  {
   "cell_type": "code",
   "execution_count": 47,
   "id": "f1cf445e-6893-41d0-b988-e92bd68784ba",
   "metadata": {
    "vscode": {
     "languageId": "r"
    }
   },
   "outputs": [
    {
     "data": {
      "image/png": "[encoded data removed]",
      "text/plain": [
       "plot without title"
      ]
     },
     "metadata": {
      "image/png": {
       "height": 480,
       "width": 720
      }
     },
     "output_type": "display_data"
    }
   ],
   "source": [
    "plot(lasso_model)"
   ]
  },
  {
   "cell_type": "code",
   "execution_count": 48,
   "id": "8e76d428-cd2e-4cd3-b649-90cd457f0902",
   "metadata": {},
   "outputs": [],
   "source": [
    "lasso_predictions <- predict(lasso_model, newx = x_test, s = \"lambda.min\")\n",
    "lasso_predictions <- exp(lasso_predictions) # revert log-transform\n",
    "\n",
    "lasso_submission <- data.frame(\n",
    "  Id = Id,\n",
    "  SalePrice = as.vector(lasso_predictions) # avoid including column names\n",
    ")\n",
    "\n",
    "save_dir <- file.path(\"data\", \"house-prices\", \"processed(r)\", \"lasso(r).csv\")\n",
    "write.csv(lasso_submission, save_dir, row.names = FALSE)"
   ]
  },
  {
   "cell_type": "markdown",
   "id": "bb970bb7-c6f7-49f0-914c-3949b6c90e41",
   "metadata": {},
   "source": [
    "### Ridge"
   ]
  },
  {
   "cell_type": "code",
   "execution_count": 49,
   "id": "e528db65-11f7-4a79-9070-6c751fa6a104",
   "metadata": {
    "vscode": {
     "languageId": "r"
    }
   },
   "outputs": [],
   "source": [
    "# Train Ridge Regression (alpha = 0)\n",
    "set.seed(123)\n",
    "ridge_model <- cv.glmnet(x_train, y_train, alpha = 0)"
   ]
  },
  {
   "cell_type": "code",
   "execution_count": 50,
   "id": "28e410df-4788-4b67-9cb3-4f5b5937fae7",
   "metadata": {
    "vscode": {
     "languageId": "r"
    }
   },
   "outputs": [
    {
     "data": {
      "text/plain": [
       "\n",
       "Call:  cv.glmnet(x = x_train, y = y_train, alpha = 0) \n",
       "\n",
       "Measure: Mean-Squared Error \n",
       "\n",
       "    Lambda Index Measure       SE Nonzero\n",
       "min 0.2403    78 0.02060 0.003955     336\n",
       "1se 1.0648    62 0.02413 0.002847     336"
      ]
     },
     "metadata": {},
     "output_type": "display_data"
    }
   ],
   "source": [
    "ridge_model"
   ]
  },
  {
   "cell_type": "code",
   "execution_count": 51,
   "id": "14f83abc-277a-4d33-b484-8c4b0050ee8b",
   "metadata": {
    "vscode": {
     "languageId": "r"
    }
   },
   "outputs": [
    {
     "data": {
      "image/png": "[encoded data removed]",
      "text/plain": [
       "plot without title"
      ]
     },
     "metadata": {
      "image/png": {
       "height": 480,
       "width": 720
      }
     },
     "output_type": "display_data"
    }
   ],
   "source": [
    "plot(ridge_model)"
   ]
  },
  {
   "cell_type": "code",
   "execution_count": 52,
   "id": "d593b684-00eb-475e-aeb1-fa5c4c68610b",
   "metadata": {},
   "outputs": [],
   "source": [
    "ridge_predictions <- predict(ridge_model, newx = x_test, s = \"lambda.min\")\n",
    "ridge_predictions <- exp(ridge_predictions) # revert log-transform\n",
    "\n",
    "ridge_submission <- data.frame(\n",
    "  Id = Id,\n",
    "  SalePrice = as.vector(ridge_predictions) # avoid including column names\n",
    ")\n",
    "\n",
    "save_dir <- file.path(\"data\", \"house-prices\", \"processed(r)\", \"ridge(r).csv\")\n",
    "write.csv(ridge_submission, save_dir, row.names = FALSE)"
   ]
  },
  {
   "cell_type": "markdown",
   "id": "62a7673b-b422-4b31-b73d-2f1f5f57e3d4",
   "metadata": {},
   "source": [
    "### ElasticNet"
   ]
  },
  {
   "cell_type": "code",
   "execution_count": 53,
   "id": "bafeffe6-a6dd-495b-b37b-0cb7f9ee5c01",
   "metadata": {
    "vscode": {
     "languageId": "r"
    }
   },
   "outputs": [],
   "source": [
    "# Train Elastic Net (alpha = 0.5)\n",
    "set.seed(123)\n",
    "elastic_model <- cv.glmnet(x_train, y_train, alpha = 0.5)"
   ]
  },
  {
   "cell_type": "code",
   "execution_count": 54,
   "id": "171364d1-e72f-45e8-86fd-dc33431e6f8e",
   "metadata": {
    "vscode": {
     "languageId": "r"
    }
   },
   "outputs": [
    {
     "data": {
      "text/plain": [
       "\n",
       "Call:  cv.glmnet(x = x_train, y = y_train, alpha = 0.5) \n",
       "\n",
       "Measure: Mean-Squared Error \n",
       "\n",
       "     Lambda Index Measure       SE Nonzero\n",
       "min 0.01136    44 0.02169 0.005466     108\n",
       "1se 0.04180    30 0.02646 0.005162      45"
      ]
     },
     "metadata": {},
     "output_type": "display_data"
    }
   ],
   "source": [
    "elastic_model"
   ]
  },
  {
   "cell_type": "code",
   "execution_count": 55,
   "id": "1bc8ec38-b1d4-436c-9fd3-f03b1c042973",
   "metadata": {
    "vscode": {
     "languageId": "r"
    }
   },
   "outputs": [
    {
     "data": {
      "image/png": "[encoded data removed]",
      "text/plain": [
       "plot without title"
      ]
     },
     "metadata": {
      "image/png": {
       "height": 480,
       "width": 720
      }
     },
     "output_type": "display_data"
    }
   ],
   "source": [
    "plot(elastic_model)"
   ]
  },
  {
   "cell_type": "code",
   "execution_count": 56,
   "id": "44ea7b34-4c41-44f1-99a7-599ced2e77c4",
   "metadata": {},
   "outputs": [],
   "source": [
    "elastic_predictions <- predict(elastic_model, newx = x_test, s = \"lambda.min\")\n",
    "elastic_predictions <- exp(elastic_predictions) # revert log-transform\n",
    "\n",
    "elastic_submission <- data.frame(\n",
    "  Id = Id,\n",
    "  SalePrice = as.vector(elastic_predictions) # avoid including column names\n",
    ")\n",
    "\n",
    "save_dir <- file.path(\"data\", \"house-prices\", \"processed(r)\", \"elastic(r).csv\")\n",
    "write.csv(elastic_submission, save_dir, row.names = FALSE)"
   ]
  },
  {
   "cell_type": "markdown",
   "id": "d867ce99-aaa5-41d0-ba27-29fcdc72442c",
   "metadata": {},
   "source": [
    "### Decision Tree"
   ]
  },
  {
   "cell_type": "code",
   "execution_count": 57,
   "id": "2b0f4672-3338-4800-bf3d-70f26d11f8f3",
   "metadata": {
    "vscode": {
     "languageId": "r"
    }
   },
   "outputs": [],
   "source": [
    "# Train Decision Tree\n",
    "set.seed(123)\n",
    "dt_model <- train(\n",
    "  x = tree_train %>% select(-SalePrice_log),\n",
    "  y = tree_train$SalePrice_log,\n",
    "  method = \"rpart\", \n",
    "  trControl = control,\n",
    "  tuneGrid = expand.grid(cp = seq(0.0001, 0.0005, length = 10)) # More detailed search\n",
    ")"
   ]
  },
  {
   "cell_type": "code",
   "execution_count": 58,
   "id": "47296ad3-d502-4c57-8223-a432077f7678",
   "metadata": {
    "vscode": {
     "languageId": "r"
    }
   },
   "outputs": [
    {
     "data": {
      "text/plain": [
       "CART \n",
       "\n",
       "1460 samples\n",
       "  82 predictor\n",
       "\n",
       "No pre-processing\n",
       "Resampling: Cross-Validated (5 fold) \n",
       "Summary of sample sizes: 1169, 1169, 1167, 1168, 1167 \n",
       "Resampling results across tuning parameters:\n",
       "\n",
       "  cp            RMSE       Rsquared   MAE      \n",
       "  0.0001000000  0.1776512  0.8045802  0.1284635\n",
       "  0.0001444444  0.1777805  0.8042541  0.1285073\n",
       "  0.0001888889  0.1779049  0.8039320  0.1285442\n",
       "  0.0002333333  0.1777713  0.8041841  0.1279156\n",
       "  0.0002777778  0.1779330  0.8037993  0.1282692\n",
       "  0.0003222222  0.1778216  0.8038857  0.1283249\n",
       "  0.0003666667  0.1777085  0.8041335  0.1280759\n",
       "  0.0004111111  0.1775049  0.8045104  0.1281117\n",
       "  0.0004555556  0.1775586  0.8043727  0.1283061\n",
       "  0.0005000000  0.1779052  0.8034988  0.1283916\n",
       "\n",
       "RMSE was used to select the optimal model using the smallest value.\n",
       "The final value used for the model was cp = 0.0004111111."
      ]
     },
     "metadata": {},
     "output_type": "display_data"
    }
   ],
   "source": [
    "dt_model"
   ]
  },
  {
   "cell_type": "code",
   "execution_count": 59,
   "id": "83870d47-51d5-4924-bde1-a5b5db954142",
   "metadata": {
    "vscode": {
     "languageId": "r"
    }
   },
   "outputs": [
    {
     "data": {
      "image/png": "[encoded data removed]",
      "text/plain": [
       "plot without title"
      ]
     },
     "metadata": {
      "image/png": {
       "height": 480,
       "width": 720
      }
     },
     "output_type": "display_data"
    }
   ],
   "source": [
    "plot(dt_model,\n",
    "     cex = 1.25,\n",
    "     lwd = 1.75,\n",
    "     pch = 16)"
   ]
  },
  {
   "cell_type": "code",
   "execution_count": 60,
   "id": "a99c972e-8970-4924-9c1b-32fb3de1dd4a",
   "metadata": {},
   "outputs": [],
   "source": [
    "dt_predictions <- predict(dt_model, newdata = tree_test)\n",
    "dt_predictions <- exp(dt_predictions) # revert log-transform\n",
    "\n",
    "dt_submission <- data.frame(\n",
    "  Id = Id,\n",
    "  SalePrice = dt_predictions\n",
    ")\n",
    "\n",
    "save_dir <- file.path(\"data\", \"house-prices\", \"processed(r)\", \"dt(r).csv\")\n",
    "write.csv(dt_submission, save_dir, row.names = FALSE)"
   ]
  },
  {
   "cell_type": "markdown",
   "id": "1cc354fe-cd7c-4df1-8f13-8624494b695b",
   "metadata": {},
   "source": [
    "### Bagging"
   ]
  },
  {
   "cell_type": "code",
   "execution_count": 61,
   "id": "2d882e57-afe5-40cc-b3b9-3f37a01dd8a9",
   "metadata": {
    "vscode": {
     "languageId": "r"
    }
   },
   "outputs": [],
   "source": [
    "# Train Bagging model (explicit feature selection)\n",
    "set.seed(123)\n",
    "bagging_model <- train(\n",
    "  x = tree_train %>% select(-SalePrice_log),\n",
    "  y = tree_train$SalePrice_log,\n",
    "  method = \"treebag\", \n",
    "  trControl = control\n",
    ")"
   ]
  },
  {
   "cell_type": "code",
   "execution_count": 62,
   "id": "31e6ecd4-0644-4d60-8034-d0c1fc03a107",
   "metadata": {
    "vscode": {
     "languageId": "r"
    }
   },
   "outputs": [
    {
     "data": {
      "text/plain": [
       "Bagged CART \n",
       "\n",
       "1460 samples\n",
       "  82 predictor\n",
       "\n",
       "No pre-processing\n",
       "Resampling: Cross-Validated (5 fold) \n",
       "Summary of sample sizes: 1169, 1169, 1167, 1168, 1167 \n",
       "Resampling results:\n",
       "\n",
       "  RMSE       Rsquared   MAE     \n",
       "  0.1731034  0.8162952  0.123942\n"
      ]
     },
     "metadata": {},
     "output_type": "display_data"
    }
   ],
   "source": [
    "bagging_model"
   ]
  },
  {
   "cell_type": "code",
   "execution_count": 63,
   "id": "41712551-c456-4112-9256-135d834ec042",
   "metadata": {},
   "outputs": [],
   "source": [
    "bagging_predictions <- predict(bagging_model, newdata = tree_test)\n",
    "bagging_predictions <- exp(bagging_predictions) # revert log-transform\n",
    "\n",
    "bagging_submission <- data.frame(\n",
    "  Id = Id,\n",
    "  SalePrice = bagging_predictions\n",
    ")\n",
    "\n",
    "save_dir <- file.path(\"data\", \"house-prices\", \"processed(r)\", \"bagging(r).csv\")\n",
    "write.csv(bagging_submission, save_dir, row.names = FALSE)"
   ]
  },
  {
   "cell_type": "markdown",
   "id": "403758a0-dffb-4c25-8937-6930ca71ef52",
   "metadata": {},
   "source": [
    "### Random Forest"
   ]
  },
  {
   "cell_type": "code",
   "execution_count": 64,
   "id": "a2db2d23-203d-414a-84d1-3d7e8c43a91e",
   "metadata": {
    "vscode": {
     "languageId": "r"
    }
   },
   "outputs": [],
   "source": [
    "# Train Random Forest model\n",
    "set.seed(123)\n",
    "rf_model <- train(SalePrice_log ~ ., \n",
    "                  data = tree_train, \n",
    "                  method = \"rf\", \n",
    "                  trControl = control,\n",
    "                  tuneGrid = expand.grid(mtry = c(2, 4, 8, 16, 32, 64)), \n",
    "                  ntree = 500)  # Optimize mtry and use 500 trees"
   ]
  },
  {
   "cell_type": "code",
   "execution_count": 65,
   "id": "43e0dde8-bbf4-4d32-8a07-17d4c81ddac1",
   "metadata": {
    "vscode": {
     "languageId": "r"
    }
   },
   "outputs": [
    {
     "data": {
      "text/plain": [
       "Random Forest \n",
       "\n",
       "1460 samples\n",
       "  82 predictor\n",
       "\n",
       "No pre-processing\n",
       "Resampling: Cross-Validated (5 fold) \n",
       "Summary of sample sizes: 1169, 1169, 1167, 1168, 1167 \n",
       "Resampling results across tuning parameters:\n",
       "\n",
       "  mtry  RMSE       Rsquared   MAE       \n",
       "   2    0.2249974  0.8100716  0.15743714\n",
       "   4    0.1770039  0.8484972  0.11895918\n",
       "   8    0.1544689  0.8719228  0.10174286\n",
       "  16    0.1462462  0.8785325  0.09590145\n",
       "  32    0.1427482  0.8800158  0.09394998\n",
       "  64    0.1418422  0.8785970  0.09393652\n",
       "\n",
       "RMSE was used to select the optimal model using the smallest value.\n",
       "The final value used for the model was mtry = 64."
      ]
     },
     "metadata": {},
     "output_type": "display_data"
    }
   ],
   "source": [
    "rf_model"
   ]
  },
  {
   "cell_type": "code",
   "execution_count": 66,
   "id": "9503c106-2c73-47e7-b9ae-3f5acaf2fa41",
   "metadata": {
    "vscode": {
     "languageId": "r"
    }
   },
   "outputs": [
    {
     "data": {
      "image/png": "[encoded data removed]",
      "text/plain": [
       "plot without title"
      ]
     },
     "metadata": {
      "image/png": {
       "height": 480,
       "width": 720
      }
     },
     "output_type": "display_data"
    }
   ],
   "source": [
    "plot(rf_model,\n",
    "     cex = 1.25,\n",
    "     lwd = 1.75,\n",
    "     pch = 16)"
   ]
  },
  {
   "cell_type": "code",
   "execution_count": 67,
   "id": "cda56f34-5605-45f4-bd91-65079323fcc3",
   "metadata": {},
   "outputs": [],
   "source": [
    "rf_predictions <- predict(rf_model, newdata = tree_test)\n",
    "rf_predictions <- exp(rf_predictions) # revert log-transform\n",
    "\n",
    "rf_submission <- data.frame(\n",
    "  Id = Id,\n",
    "  SalePrice = rf_predictions\n",
    ")\n",
    "\n",
    "save_dir <- file.path(\"data\", \"house-prices\", \"processed(r)\", \"rf(r).csv\")\n",
    "write.csv(rf_submission, save_dir, row.names = FALSE)"
   ]
  },
  {
   "cell_type": "markdown",
   "id": "b8d1e84e-c684-47c7-8b76-0b8461af41a6",
   "metadata": {},
   "source": [
    "### XGBoost"
   ]
  },
  {
   "cell_type": "code",
   "execution_count": 68,
   "id": "a15e233f-37cb-41bf-89d1-c133c0ec5c3e",
   "metadata": {
    "scrolled": true
   },
   "outputs": [],
   "source": [
    "# Define training control for cross-validation\n",
    "xgb_control <- trainControl(\n",
    "  method = \"cv\",        # Cross-validation\n",
    "  number = 5,           # 5-fold CV\n",
    "  verboseIter = FALSE,  # Don't show training progress\n",
    "  allowParallel = TRUE  # Enable parallel processing\n",
    ")\n",
    "\n",
    "# Define the tuning grid for hyperparameters\n",
    "xgb_grid <- expand.grid(\n",
    "  nrounds = seq(400, 500, 600),       # Number of boosting rounds\n",
    "  eta = c(0.01, 0.05),                # Learning rate\n",
    "  max_depth = c(2, 3, 4),             # Tree depth\n",
    "  gamma = c(0, 0.1),                  # Minimum loss reduction\n",
    "  colsample_bytree = c(0.8, 1),       # Feature sampling ratio\n",
    "  min_child_weight = c(1, 2),         # Minimum sum of instance weight\n",
    "  subsample = c(0.8, 1)               # Row sampling ratio\n",
    ")\n",
    "\n",
    "# Train the XGBoost model\n",
    "set.seed(123)\n",
    "xgb_model <- train(\n",
    "  SalePrice_log ~ ., \n",
    "  data = tree_train, \n",
    "  method = \"xgbTree\", \n",
    "  trControl = xgb_control,\n",
    "  tuneGrid = xgb_grid,\n",
    "  verbosity = 0,            # don't print training process\n",
    "  nthread = 18,             # Adjust based on CPU cores\n",
    "  metric = \"RMSE\",\n",
    "  maximize = FALSE\n",
    ")"
   ]
  },
  {
   "cell_type": "code",
   "execution_count": 69,
   "id": "16597112-e6fe-4a62-bba1-783c89b06061",
   "metadata": {
    "scrolled": true
   },
   "outputs": [
    {
     "data": {
      "text/plain": [
       "eXtreme Gradient Boosting \n",
       "\n",
       "1460 samples\n",
       "  82 predictor\n",
       "\n",
       "No pre-processing\n",
       "Resampling: Cross-Validated (5 fold) \n",
       "Summary of sample sizes: 1169, 1169, 1167, 1168, 1167 \n",
       "Resampling results across tuning parameters:\n",
       "\n",
       "  eta   max_depth  gamma  colsample_bytree  min_child_weight  subsample\n",
       "  0.01  2          0.0    0.8               1                 0.8      \n",
       "  0.01  2          0.0    0.8               1                 1.0      \n",
       "  0.01  2          0.0    0.8               2                 0.8      \n",
       "  0.01  2          0.0    0.8               2                 1.0      \n",
       "  0.01  2          0.0    1.0               1                 0.8      \n",
       "  0.01  2          0.0    1.0               1                 1.0      \n",
       "  0.01  2          0.0    1.0               2                 0.8      \n",
       "  0.01  2          0.0    1.0               2                 1.0      \n",
       "  0.01  2          0.1    0.8               1                 0.8      \n",
       "  0.01  2          0.1    0.8               1                 1.0      \n",
       "  0.01  2          0.1    0.8               2                 0.8      \n",
       "  0.01  2          0.1    0.8               2                 1.0      \n",
       "  0.01  2          0.1    1.0               1                 0.8      \n",
       "  0.01  2          0.1    1.0               1                 1.0      \n",
       "  0.01  2          0.1    1.0               2                 0.8      \n",
       "  0.01  2          0.1    1.0               2                 1.0      \n",
       "  0.01  3          0.0    0.8               1                 0.8      \n",
       "  0.01  3          0.0    0.8               1                 1.0      \n",
       "  0.01  3          0.0    0.8               2                 0.8      \n",
       "  0.01  3          0.0    0.8               2                 1.0      \n",
       "  0.01  3          0.0    1.0               1                 0.8      \n",
       "  0.01  3          0.0    1.0               1                 1.0      \n",
       "  0.01  3          0.0    1.0               2                 0.8      \n",
       "  0.01  3          0.0    1.0               2                 1.0      \n",
       "  0.01  3          0.1    0.8               1                 0.8      \n",
       "  0.01  3          0.1    0.8               1                 1.0      \n",
       "  0.01  3          0.1    0.8               2                 0.8      \n",
       "  0.01  3          0.1    0.8               2                 1.0      \n",
       "  0.01  3          0.1    1.0               1                 0.8      \n",
       "  0.01  3          0.1    1.0               1                 1.0      \n",
       "  0.01  3          0.1    1.0               2                 0.8      \n",
       "  0.01  3          0.1    1.0               2                 1.0      \n",
       "  0.01  4          0.0    0.8               1                 0.8      \n",
       "  0.01  4          0.0    0.8               1                 1.0      \n",
       "  0.01  4          0.0    0.8               2                 0.8      \n",
       "  0.01  4          0.0    0.8               2                 1.0      \n",
       "  0.01  4          0.0    1.0               1                 0.8      \n",
       "  0.01  4          0.0    1.0               1                 1.0      \n",
       "  0.01  4          0.0    1.0               2                 0.8      \n",
       "  0.01  4          0.0    1.0               2                 1.0      \n",
       "  0.01  4          0.1    0.8               1                 0.8      \n",
       "  0.01  4          0.1    0.8               1                 1.0      \n",
       "  0.01  4          0.1    0.8               2                 0.8      \n",
       "  0.01  4          0.1    0.8               2                 1.0      \n",
       "  0.01  4          0.1    1.0               1                 0.8      \n",
       "  0.01  4          0.1    1.0               1                 1.0      \n",
       "  0.01  4          0.1    1.0               2                 0.8      \n",
       "  0.01  4          0.1    1.0               2                 1.0      \n",
       "  0.05  2          0.0    0.8               1                 0.8      \n",
       "  0.05  2          0.0    0.8               1                 1.0      \n",
       "  0.05  2          0.0    0.8               2                 0.8      \n",
       "  0.05  2          0.0    0.8               2                 1.0      \n",
       "  0.05  2          0.0    1.0               1                 0.8      \n",
       "  0.05  2          0.0    1.0               1                 1.0      \n",
       "  0.05  2          0.0    1.0               2                 0.8      \n",
       "  0.05  2          0.0    1.0               2                 1.0      \n",
       "  0.05  2          0.1    0.8               1                 0.8      \n",
       "  0.05  2          0.1    0.8               1                 1.0      \n",
       "  0.05  2          0.1    0.8               2                 0.8      \n",
       "  0.05  2          0.1    0.8               2                 1.0      \n",
       "  0.05  2          0.1    1.0               1                 0.8      \n",
       "  0.05  2          0.1    1.0               1                 1.0      \n",
       "  0.05  2          0.1    1.0               2                 0.8      \n",
       "  0.05  2          0.1    1.0               2                 1.0      \n",
       "  0.05  3          0.0    0.8               1                 0.8      \n",
       "  0.05  3          0.0    0.8               1                 1.0      \n",
       "  0.05  3          0.0    0.8               2                 0.8      \n",
       "  0.05  3          0.0    0.8               2                 1.0      \n",
       "  0.05  3          0.0    1.0               1                 0.8      \n",
       "  0.05  3          0.0    1.0               1                 1.0      \n",
       "  0.05  3          0.0    1.0               2                 0.8      \n",
       "  0.05  3          0.0    1.0               2                 1.0      \n",
       "  0.05  3          0.1    0.8               1                 0.8      \n",
       "  0.05  3          0.1    0.8               1                 1.0      \n",
       "  0.05  3          0.1    0.8               2                 0.8      \n",
       "  0.05  3          0.1    0.8               2                 1.0      \n",
       "  0.05  3          0.1    1.0               1                 0.8      \n",
       "  0.05  3          0.1    1.0               1                 1.0      \n",
       "  0.05  3          0.1    1.0               2                 0.8      \n",
       "  0.05  3          0.1    1.0               2                 1.0      \n",
       "  0.05  4          0.0    0.8               1                 0.8      \n",
       "  0.05  4          0.0    0.8               1                 1.0      \n",
       "  0.05  4          0.0    0.8               2                 0.8      \n",
       "  0.05  4          0.0    0.8               2                 1.0      \n",
       "  0.05  4          0.0    1.0               1                 0.8      \n",
       "  0.05  4          0.0    1.0               1                 1.0      \n",
       "  0.05  4          0.0    1.0               2                 0.8      \n",
       "  0.05  4          0.0    1.0               2                 1.0      \n",
       "  0.05  4          0.1    0.8               1                 0.8      \n",
       "  0.05  4          0.1    0.8               1                 1.0      \n",
       "  0.05  4          0.1    0.8               2                 0.8      \n",
       "  0.05  4          0.1    0.8               2                 1.0      \n",
       "  0.05  4          0.1    1.0               1                 0.8      \n",
       "  0.05  4          0.1    1.0               1                 1.0      \n",
       "  0.05  4          0.1    1.0               2                 0.8      \n",
       "  0.05  4          0.1    1.0               2                 1.0      \n",
       "  RMSE       Rsquared   MAE       \n",
       "  0.2674426  0.8427061  0.23459442\n",
       "  0.2665025  0.8435777  0.23389561\n",
       "  0.2677552  0.8420158  0.23487203\n",
       "  0.2666581  0.8436973  0.23402377\n",
       "  0.2673682  0.8421636  0.23439542\n",
       "  0.2663729  0.8438931  0.23386450\n",
       "  0.2671335  0.8429491  0.23427391\n",
       "  0.2663047  0.8445997  0.23384919\n",
       "  0.2676488  0.8418476  0.23454578\n",
       "  0.2666718  0.8433375  0.23398229\n",
       "  0.2674658  0.8420859  0.23439216\n",
       "  0.2663977  0.8441113  0.23384652\n",
       "  0.2674369  0.8420214  0.23450497\n",
       "  0.2664955  0.8436680  0.23393618\n",
       "  0.2675489  0.8423303  0.23456927\n",
       "  0.2663613  0.8445533  0.23385743\n",
       "  0.2624078  0.8580467  0.23194906\n",
       "  0.2617033  0.8585858  0.23177669\n",
       "  0.2625388  0.8570844  0.23172941\n",
       "  0.2616960  0.8586496  0.23162674\n",
       "  0.2626995  0.8572430  0.23207201\n",
       "  0.2618082  0.8582050  0.23182066\n",
       "  0.2625111  0.8582894  0.23203975\n",
       "  0.2617648  0.8584586  0.23161683\n",
       "  0.2626191  0.8569038  0.23192935\n",
       "  0.2618372  0.8582525  0.23179081\n",
       "  0.2626499  0.8561484  0.23176740\n",
       "  0.2615355  0.8585311  0.23126732\n",
       "  0.2626204  0.8570590  0.23201030\n",
       "  0.2618337  0.8578479  0.23178995\n",
       "  0.2628234  0.8565929  0.23216312\n",
       "  0.2617571  0.8588351  0.23159877\n",
       "  0.2606377  0.8655160  0.23090431\n",
       "  0.2600518  0.8648643  0.23082648\n",
       "  0.2605597  0.8664500  0.23096934\n",
       "  0.2599090  0.8650757  0.23045348\n",
       "  0.2610646  0.8647910  0.23153417\n",
       "  0.2601972  0.8648333  0.23080260\n",
       "  0.2603953  0.8652052  0.23077552\n",
       "  0.2600749  0.8649822  0.23053299\n",
       "  0.2609384  0.8631836  0.23126733\n",
       "  0.2599903  0.8634732  0.23069477\n",
       "  0.2604561  0.8650215  0.23096952\n",
       "  0.2602902  0.8638525  0.23064996\n",
       "  0.2609973  0.8640400  0.23128405\n",
       "  0.2599727  0.8640398  0.23053968\n",
       "  0.2609179  0.8642933  0.23107640\n",
       "  0.2600315  0.8646526  0.23052310\n",
       "  0.1317881  0.8918497  0.08705925\n",
       "  0.1328718  0.8900443  0.08964776\n",
       "  0.1304375  0.8940294  0.08705810\n",
       "  0.1314973  0.8923925  0.08895901\n",
       "  0.1304682  0.8939120  0.08663787\n",
       "  0.1322679  0.8908917  0.08996039\n",
       "  0.1307059  0.8934723  0.08733899\n",
       "  0.1312586  0.8925804  0.08949422\n",
       "  0.1337954  0.8885581  0.08975669\n",
       "  0.1359362  0.8854774  0.09270269\n",
       "  0.1337471  0.8887607  0.08980617\n",
       "  0.1361690  0.8849986  0.09251612\n",
       "  0.1342147  0.8879668  0.08947439\n",
       "  0.1363596  0.8847613  0.09287078\n",
       "  0.1333915  0.8891499  0.08960885\n",
       "  0.1359700  0.8854499  0.09268589\n",
       "  0.1290224  0.8959769  0.08493457\n",
       "  0.1266440  0.8996855  0.08537632\n",
       "  0.1269220  0.8991915  0.08447927\n",
       "  0.1285390  0.8967898  0.08641749\n",
       "  0.1263128  0.9003197  0.08335503\n",
       "  0.1274231  0.8981546  0.08600511\n",
       "  0.1271342  0.8986386  0.08488650\n",
       "  0.1282467  0.8972557  0.08592856\n",
       "  0.1304566  0.8940208  0.08840227\n",
       "  0.1335931  0.8891449  0.09106910\n",
       "  0.1319498  0.8916188  0.08940726\n",
       "  0.1345240  0.8876467  0.09157519\n",
       "  0.1308307  0.8931915  0.08821965\n",
       "  0.1353757  0.8863153  0.09263494\n",
       "  0.1325931  0.8904917  0.08961553\n",
       "  0.1350417  0.8870217  0.09242410\n",
       "  0.1274684  0.8982670  0.08400865\n",
       "  0.1265582  0.8996254  0.08542955\n",
       "  0.1266545  0.8995481  0.08367745\n",
       "  0.1274532  0.8985573  0.08495362\n",
       "  0.1259326  0.9006082  0.08391668\n",
       "  0.1270658  0.8989115  0.08554302\n",
       "  0.1262197  0.9002912  0.08384277\n",
       "  0.1276361  0.8981920  0.08526380\n",
       "  0.1305978  0.8936195  0.08805463\n",
       "  0.1324574  0.8912089  0.09047717\n",
       "  0.1308349  0.8935777  0.08858110\n",
       "  0.1340192  0.8885791  0.09124193\n",
       "  0.1299655  0.8948461  0.08773780\n",
       "  0.1355903  0.8859485  0.09312126\n",
       "  0.1318776  0.8916703  0.08907883\n",
       "  0.1351936  0.8869130  0.09290608\n",
       "\n",
       "Tuning parameter 'nrounds' was held constant at a value of 400\n",
       "RMSE was used to select the optimal model using the smallest value.\n",
       "The final values used for the model were nrounds = 400, max_depth = 4, eta\n",
       " = 0.05, gamma = 0, colsample_bytree = 1, min_child_weight = 1 and subsample\n",
       " = 0.8."
      ]
     },
     "metadata": {},
     "output_type": "display_data"
    }
   ],
   "source": [
    "xgb_model"
   ]
  },
  {
   "cell_type": "code",
   "execution_count": 70,
   "id": "d8e68f44-4115-4419-9334-39a43e6c62ba",
   "metadata": {},
   "outputs": [
    {
     "data": {
      "image/png": "[encoded data removed]",
      "text/plain": [
       "plot without title"
      ]
     },
     "metadata": {
      "image/png": {
       "height": 480,
       "width": 720
      }
     },
     "output_type": "display_data"
    },
    {
     "data": {
      "image/png": "[encoded data removed]",
      "text/plain": [
       "plot without title"
      ]
     },
     "metadata": {
      "image/png": {
       "height": 480,
       "width": 720
      }
     },
     "output_type": "display_data"
    },
    {
     "data": {
      "image/png": "[encoded data removed]",
      "text/plain": [
       "plot without title"
      ]
     },
     "metadata": {
      "image/png": {
       "height": 480,
       "width": 720
      }
     },
     "output_type": "display_data"
    },
    {
     "data": {
      "image/png": "[encoded data removed]",
      "text/plain": [
       "plot without title"
      ]
     },
     "metadata": {
      "image/png": {
       "height": 480,
       "width": 720
      }
     },
     "output_type": "display_data"
    }
   ],
   "source": [
    "plot(xgb_model,\n",
    "     cex = 1.25,\n",
    "     lwd = 1.75,\n",
    "     pch = 16)"
   ]
  },
  {
   "cell_type": "code",
   "execution_count": 71,
   "id": "41521c33-77a1-427b-b610-ed337aa2c8c5",
   "metadata": {},
   "outputs": [],
   "source": [
    "# Predict final values using model\n",
    "xgb_predictions <- predict(xgb_model, newdata = tree_test)\n",
    "xgb_predictions <- exp(xgb_predictions) # revert log-transform\n",
    "\n",
    "# Prepare submission file\n",
    "xgb_submission <- data.frame(\n",
    "  Id = Id,\n",
    "  SalePrice = xgb_predictions\n",
    ")\n",
    "\n",
    "# Save submission file\n",
    "save_dir <- file.path(\"data\", \"house-prices\", \"processed(r)\", \"xgb(r).csv\")\n",
    "write.csv(xgb_submission, save_dir, row.names = FALSE)"
   ]
  },
  {
   "cell_type": "markdown",
   "id": "44ed0523-ed97-4e14-b9d3-741e01eea6d1",
   "metadata": {},
   "source": [
    "### Stacking"
   ]
  },
  {
   "cell_type": "code",
   "execution_count": 72,
   "id": "d2b6f022-36fc-4a4a-9036-7ac31dcd0666",
   "metadata": {},
   "outputs": [],
   "source": [
    "# Step 1: Get predictions from base models\n",
    "xgb_pred_train <- predict(xgb_model, newdata = tree_train)\n",
    "xgb_pred_test <- predict(xgb_model, newdata = tree_test)\n",
    "\n",
    "# Get the best lambda value from cross-validation\n",
    "ridge_lambda <- ridge_model$lambda.min  # Alternatively, use ridge_model$lambda.1se\n",
    "\n",
    "# Predict using the trained ridge regression model\n",
    "ridge_pred_train <- predict(ridge_model$glmnet.fit, newx = x_train, s = ridge_lambda)\n",
    "ridge_pred_test <- predict(ridge_model$glmnet.fit, newx = x_test, s = ridge_lambda)\n",
    "\n",
    "svm_pred_train <- predict(svm_model, newdata = train)\n",
    "svm_pred_test <- predict(svm_model, newdata = test)\n",
    "\n",
    "# Step 2: Construct Stacking Dataset\n",
    "stack_train <- data.frame(\n",
    "  XGB = xgb_pred_train, \n",
    "  Ridge = ridge_pred_train, \n",
    "  SVM = svm_pred_train, \n",
    "  SalePrice_log = y_train\n",
    ")\n",
    "\n",
    "stack_test <- data.frame(\n",
    "  XGB = xgb_pred_test, \n",
    "  Ridge = ridge_pred_test, \n",
    "  SVM = svm_pred_test\n",
    ")\n",
    "\n",
    "# Step 3: Train Meta-Learner (Using Ridge)\n",
    "set.seed(123)\n",
    "stack_model <- train(\n",
    "  SalePrice_log ~ ., \n",
    "  data = stack_train,\n",
    "  method = \"glmnet\",   # Using Ridge as meta-learner\n",
    "  trControl = trainControl(method = \"cv\", number = 5),\n",
    "  tuneGrid = expand.grid(alpha = 0, lambda = seq(0.0001, 0.1, length = 100)),\n",
    "  metric = \"RMSE\"\n",
    ")"
   ]
  },
  {
   "cell_type": "code",
   "execution_count": 73,
   "id": "0b524044-c86a-4da6-be37-f2ac778d1036",
   "metadata": {},
   "outputs": [
    {
     "data": {
      "text/plain": [
       "glmnet \n",
       "\n",
       "1460 samples\n",
       "   3 predictor\n",
       "\n",
       "No pre-processing\n",
       "Resampling: Cross-Validated (5 fold) \n",
       "Summary of sample sizes: 1169, 1169, 1167, 1168, 1167 \n",
       "Resampling results across tuning parameters:\n",
       "\n",
       "  lambda       RMSE        Rsquared   MAE       \n",
       "  0.000100000  0.06920248  0.9712447  0.05080970\n",
       "  0.001109091  0.06920248  0.9712447  0.05080970\n",
       "  0.002118182  0.06920248  0.9712447  0.05080970\n",
       "  0.003127273  0.06920248  0.9712447  0.05080970\n",
       "  0.004136364  0.06920248  0.9712447  0.05080970\n",
       "  0.005145455  0.06920248  0.9712447  0.05080970\n",
       "  0.006154545  0.06920248  0.9712447  0.05080970\n",
       "  0.007163636  0.06920248  0.9712447  0.05080970\n",
       "  0.008172727  0.06920248  0.9712447  0.05080970\n",
       "  0.009181818  0.06920248  0.9712447  0.05080970\n",
       "  0.010190909  0.06920248  0.9712447  0.05080970\n",
       "  0.011200000  0.06920248  0.9712447  0.05080970\n",
       "  0.012209091  0.06920248  0.9712447  0.05080970\n",
       "  0.013218182  0.06920248  0.9712447  0.05080970\n",
       "  0.014227273  0.06920248  0.9712447  0.05080970\n",
       "  0.015236364  0.06920248  0.9712447  0.05080970\n",
       "  0.016245455  0.06920248  0.9712447  0.05080970\n",
       "  0.017254545  0.06920248  0.9712447  0.05080970\n",
       "  0.018263636  0.06920248  0.9712447  0.05080970\n",
       "  0.019272727  0.06920248  0.9712447  0.05080970\n",
       "  0.020281818  0.06920248  0.9712447  0.05080970\n",
       "  0.021290909  0.06920248  0.9712447  0.05080970\n",
       "  0.022300000  0.06920248  0.9712447  0.05080970\n",
       "  0.023309091  0.06920248  0.9712447  0.05080970\n",
       "  0.024318182  0.06920248  0.9712447  0.05080970\n",
       "  0.025327273  0.06920248  0.9712447  0.05080970\n",
       "  0.026336364  0.06920248  0.9712447  0.05080970\n",
       "  0.027345455  0.06920248  0.9712447  0.05080970\n",
       "  0.028354545  0.06920248  0.9712447  0.05080970\n",
       "  0.029363636  0.06920248  0.9712447  0.05080970\n",
       "  0.030372727  0.06920248  0.9712447  0.05080970\n",
       "  0.031381818  0.06920248  0.9712447  0.05080970\n",
       "  0.032390909  0.06920248  0.9712447  0.05080970\n",
       "  0.033400000  0.06920248  0.9712447  0.05080970\n",
       "  0.034409091  0.06920248  0.9712447  0.05080970\n",
       "  0.035418182  0.06920248  0.9712447  0.05080970\n",
       "  0.036427273  0.06920248  0.9712447  0.05080970\n",
       "  0.037436364  0.06920248  0.9712447  0.05080970\n",
       "  0.038445455  0.06920248  0.9712447  0.05080970\n",
       "  0.039454545  0.06923313  0.9712287  0.05082905\n",
       "  0.040463636  0.06937357  0.9711465  0.05091653\n",
       "  0.041472727  0.06956622  0.9710309  0.05103645\n",
       "  0.042481818  0.06976022  0.9709146  0.05115911\n",
       "  0.043490909  0.06995150  0.9708012  0.05128140\n",
       "  0.044500000  0.07013157  0.9706984  0.05139659\n",
       "  0.045509091  0.07030972  0.9705980  0.05151029\n",
       "  0.046518182  0.07048914  0.9704972  0.05162472\n",
       "  0.047527273  0.07066635  0.9703987  0.05173732\n",
       "  0.048536364  0.07083584  0.9703078  0.05184512\n",
       "  0.049545455  0.07100077  0.9702217  0.05194948\n",
       "  0.050554545  0.07116689  0.9701353  0.05205444\n",
       "  0.051563636  0.07133350  0.9700491  0.05215954\n",
       "  0.052572727  0.07149832  0.9699652  0.05226330\n",
       "  0.053581818  0.07165521  0.9698892  0.05236164\n",
       "  0.054590909  0.07181169  0.9698143  0.05245916\n",
       "  0.055600000  0.07196931  0.9697392  0.05255705\n",
       "  0.056609091  0.07212720  0.9696645  0.05265457\n",
       "  0.057618182  0.07228372  0.9695917  0.05275052\n",
       "  0.058627273  0.07243319  0.9695259  0.05284224\n",
       "  0.059636364  0.07258188  0.9694616  0.05293430\n",
       "  0.060645455  0.07273166  0.9693971  0.05302806\n",
       "  0.061654545  0.07288252  0.9693324  0.05312241\n",
       "  0.062663636  0.07303221  0.9692694  0.05321531\n",
       "  0.063672727  0.07317972  0.9692089  0.05330636\n",
       "  0.064681818  0.07332201  0.9691539  0.05339481\n",
       "  0.065690909  0.07346507  0.9690990  0.05348354\n",
       "  0.066700000  0.07360915  0.9690439  0.05357251\n",
       "  0.067709091  0.07375427  0.9689886  0.05366209\n",
       "  0.068718182  0.07389835  0.9689349  0.05375123\n",
       "  0.069727273  0.07404163  0.9688826  0.05384009\n",
       "  0.070736364  0.07418000  0.9688354  0.05392562\n",
       "  0.071745455  0.07431875  0.9687887  0.05401078\n",
       "  0.072754545  0.07445848  0.9687419  0.05409597\n",
       "  0.073763636  0.07459919  0.9686949  0.05418213\n",
       "  0.074772727  0.07474020  0.9686483  0.05426877\n",
       "  0.075781818  0.07488067  0.9686028  0.05435484\n",
       "  0.076790909  0.07501922  0.9685597  0.05443918\n",
       "  0.077800000  0.07515565  0.9685192  0.05452271\n",
       "  0.078809091  0.07529295  0.9684786  0.05460752\n",
       "  0.079818182  0.07543118  0.9684380  0.05469333\n",
       "  0.080827273  0.07557034  0.9683972  0.05477985\n",
       "  0.081836364  0.07571018  0.9683565  0.05486657\n",
       "  0.082845455  0.07584907  0.9683172  0.05495237\n",
       "  0.083854545  0.07598771  0.9682788  0.05503829\n",
       "  0.084863636  0.07612216  0.9682446  0.05512334\n",
       "  0.085872727  0.07625636  0.9682114  0.05520811\n",
       "  0.086881818  0.07639144  0.9681781  0.05529287\n",
       "  0.087890909  0.07652739  0.9681446  0.05537764\n",
       "  0.088900000  0.07666422  0.9681111  0.05546289\n",
       "  0.089909091  0.07680158  0.9680778  0.05554891\n",
       "  0.090918182  0.07693860  0.9680453  0.05563521\n",
       "  0.091927273  0.07707571  0.9680133  0.05572193\n",
       "  0.092936364  0.07721019  0.9679839  0.05580700\n",
       "  0.093945455  0.07734451  0.9679553  0.05589165\n",
       "  0.094954545  0.07747966  0.9679266  0.05597654\n",
       "  0.095963636  0.07761563  0.9678979  0.05606194\n",
       "  0.096972727  0.07775242  0.9678691  0.05614964\n",
       "  0.097981818  0.07789003  0.9678402  0.05623880\n",
       "  0.098990909  0.07802758  0.9678119  0.05632857\n",
       "  0.100000000  0.07816523  0.9677842  0.05641875\n",
       "\n",
       "Tuning parameter 'alpha' was held constant at a value of 0\n",
       "RMSE was used to select the optimal model using the smallest value.\n",
       "The final values used for the model were alpha = 0 and lambda = 0.03844545."
      ]
     },
     "metadata": {},
     "output_type": "display_data"
    }
   ],
   "source": [
    "stack_model"
   ]
  },
  {
   "cell_type": "code",
   "execution_count": 74,
   "id": "fef628fb-2278-416a-8cc2-4e7991d21657",
   "metadata": {},
   "outputs": [
    {
     "data": {
      "image/png": "[encoded data removed]",
      "text/plain": [
       "plot without title"
      ]
     },
     "metadata": {
      "image/png": {
       "height": 480,
       "width": 720
      }
     },
     "output_type": "display_data"
    }
   ],
   "source": [
    "plot(stack_model,\n",
    "     cex = 0.75,\n",
    "     lwd = 1.75,\n",
    "     pch = 16)"
   ]
  },
  {
   "cell_type": "code",
   "execution_count": 75,
   "id": "0a770b6d-1b8b-42df-a53b-e6bb124de628",
   "metadata": {},
   "outputs": [],
   "source": [
    "# Step 4: Make final predictions\n",
    "stack_predictions <- predict(stack_model$finalModel, newx = as.matrix(stack_test), s = stack_model$bestTune$lambda)\n",
    "\n",
    "# Step 5: Convert predictions back to original scale\n",
    "stack_predictions <- exp(stack_predictions)  # Assuming log-transformed target\n",
    "\n",
    "# Prepare submission file\n",
    "stack_submission <- data.frame(\n",
    "  Id = Id,\n",
    "  SalePrice = as.vector(stack_predictions) # avoid including column names\n",
    ")\n",
    "\n",
    "# Save submission file\n",
    "save_dir <- file.path(\"data\", \"house-prices\", \"processed(r)\", \"stack(r).csv\")\n",
    "write.csv(stack_submission, save_dir, row.names = FALSE)"
   ]
  },
  {
   "cell_type": "markdown",
   "id": "1cb79034-55ec-429e-9f27-103b4e3f1eeb",
   "metadata": {},
   "source": [
    "## References\n",
    "\n",
    "- Kaggle Competition: https://www.kaggle.com/competitions/house-prices-advanced-regression-techniques/overview\n",
    "- Dataset Description: https://www.kaggle.com/competitions/house-prices-advanced-regression-techniques/data"
   ]
  }
 ],
 "metadata": {
  "kernelspec": {
   "display_name": "R",
   "language": "R",
   "name": "ir"
  },
  "language_info": {
   "codemirror_mode": "r",
   "file_extension": ".r",
   "mimetype": "text/x-r-source",
   "name": "R",
   "pygments_lexer": "r",
   "version": "4.4.1"
  }
 },
 "nbformat": 4,
 "nbformat_minor": 5
}
