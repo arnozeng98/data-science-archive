{
 "cells": [
  {
   "cell_type": "markdown",
   "id": "159ab59b-0e78-47e5-a144-6278230aebeb",
   "metadata": {},
   "source": [
    "# Coronary Heart Disease Study"
   ]
  }
 ],
 "metadata": {
  "kernelspec": {
   "display_name": "R",
   "language": "R",
   "name": "ir"
  },
  "language_info": {
   "codemirror_mode": "r",
   "file_extension": ".r",
   "mimetype": "text/x-r-source",
   "name": "R",
   "pygments_lexer": "r",
   "version": "4.4.1"
  }
 },
 "nbformat": 4,
 "nbformat_minor": 5
}