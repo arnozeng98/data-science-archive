{
 "cells": [
  {
   "cell_type": "markdown",
   "metadata": {},
   "source": [
    "# DSCI 563 Lab Assignment 3: Blogs"
   ]
  },
  {
   "cell_type": "markdown",
   "metadata": {},
   "source": [
    "## Assignment Objectives"
   ]
  },
  {
   "cell_type": "markdown",
   "metadata": {},
   "source": [
    "In this assignment you will\n",
    "- Convert a unlabeled blog corpus into a BOW representation\n",
    "- Test whether dimensionality reduction with SVD preserves corpus variation in the context of clustering \n",
    "- Explore the corpus using the topics produced by an LDA topic model"
   ]
  },
  {
   "cell_type": "markdown",
   "metadata": {},
   "source": [
    "### How does this relate to what we're doing in class?\n",
    "\n",
    "On Monday, we took a look at how we can represent a document with a bag-of-words representation, and how that doesn't really capture document similarities.  Part 1 will have you create a bag of words representation, and then condense it using SVD, performing clustering on the resulting vectors.\n",
    "\n",
    "On Wednesday, we will look at Latent Dirichlet Allocation as a way of clustering documents without an intermediate vector representation.  Part 2 has you create an LDA model for the same dataset you ran SVD on, so that you can compare and contrast the results."
   ]
  },
  {
   "cell_type": "markdown",
   "metadata": {},
   "source": [
    "## Getting Started"
   ]
  },
  {
   "cell_type": "markdown",
   "metadata": {},
   "source": [
    "Run the code below to access relevant modules (you can add to this as needed)"
   ]
  },
  {
   "cell_type": "code",
   "execution_count": 1,
   "metadata": {},
   "outputs": [],
   "source": [
    "import numpy as np\n",
    "from scipy.stats import zscore\n",
    "import matplotlib.pyplot as plt\n",
    "from sklearn.cluster import MiniBatchKMeans\n",
    "from sklearn.metrics import adjusted_rand_score\n",
    "from sklearn.decomposition import TruncatedSVD,LatentDirichletAllocation\n",
    "from sklearn.preprocessing import normalize\n",
    "import zipfile\n",
    "import re\n",
    "from nltk import word_tokenize\n",
    "from collections import Counter, defaultdict\n",
    "from sklearn.feature_extraction.text import CountVectorizer\n",
    "from random import seed\n",
    "\n",
    "# Reproducibility\n",
    "np.random.seed(0)\n",
    "seed(0)"
   ]
  },
  {
   "cell_type": "markdown",
   "metadata": {},
   "source": [
    "## Tidy Submission\n",
    "\n",
    "rubric={mechanics:1}"
   ]
  },
  {
   "cell_type": "markdown",
   "metadata": {},
   "source": [
    "To get the marks for tidy submission:\n",
    "\n",
    "- Submit the assignment by filling in this jupyter notebook with your answers embedded\n",
    "- Be sure to follow the [general lab instructions](https://ubc-mds.github.io/resources_pages/general_lab_instructions)\n",
    "- Except you should not put the data in your lab repo, instead define the `path_to_data` below\n",
    "- This is a *paired lab* - you should complete this lab with a partner (a small number of 3-person teams is also ok)."
   ]
  },
  {
   "cell_type": "markdown",
   "metadata": {},
   "source": [
    "### Part 0: Prepare the corpus\n",
    "\n",
    "#### Assignment 0.1\n",
    "rubric={accuracy:3,efficiency:1, quality:1}\n",
    "\n",
    "A zipped text file containing 8752 blog posts that we will use for this lab is provided in the data directory [here](https://github.ubc.ca/MDS-CL-2024-25/DSCI_563_unsup-learn_students/tree/master/data/blogposts.zip). Download the zip-file but **don't push the data to github** (when grading your lab, the TA will otherwise end up with hundreds of megabytes of unwanted data, when pulling all the student repos). Update the `PATH_TO_DATA` variable below:"
   ]
  },
  {
   "cell_type": "code",
   "execution_count": 2,
   "metadata": {},
   "outputs": [],
   "source": [
    "PATH_TO_DATA = r\"blogposts.zip\""
   ]
  },
  {
   "cell_type": "markdown",
   "metadata": {},
   "source": [
    "In order to read the data, you should initialize a `ZipFile` object provided in the [zipfile]() module. You should first initialize a `ZipFile` object for the `blogposts.zip`. You can then use the member function `ZipFile.open()` to open the file `blogposts.txt` which is part of the zip archive `blogposts.zip`. You can then the the data in the usual way using the `read()` member function of the file object. \n",
    "\n",
    "**Note** that `read()` will return a `bytes` object, not a string. You will need to [decode](https://stackabuse.com/convert-bytes-to-string-in-python/) the data into `utf-8`. Since the data in `blogposts.txt` is not entirely clean, you will need to use the option `errors=\"ignore\"`, when decoding. Otherwise, you'll get a `UnicodeDecodeError` error. \n",
    "\n",
    "Store the text in the file into a variable `data`. \n",
    "\n",
    "After reading the data, you should convert it into a scipy sparse matrix format (i.e. the output of Scikit Learn vectorizers - see practical work 5) where each row is a text and each column the count of words in the corpus. Each post is enclosed in an XML `<post>` tag which should not be included. For efficiency and quality, we strongly recommend you extract the individual text strings corresponding to each text using `re.finditer` and `MatchObject.group` methods.  As with all regexes, it's fine to take a look at the data before creating the regex - see what you're actually working with! \n",
    "\n",
    "Your final representation vectors should:\n",
    "\n",
    "- Be a bag of words\n",
    "- Be all lowercase\n",
    "- Have no punctuation\n",
    "- Have no words that appear in fewer than 10 different texts\n",
    "- Have no words that appear in more than 20% of the texts\n",
    "\n",
    "The Scikit-learn [CountVectorizer](https://scikit-learn.org/stable/modules/generated/sklearn.feature_extraction.text.CountVectorizer.html) is a good choice for doing this (it has options for all of the above), though you don't have to use it if you prefer to do something else. \n",
    "\n",
    "Store your vectorized blog posts as a matrix `post_X`."
   ]
  },
  {
   "cell_type": "code",
   "execution_count": 8,
   "metadata": {},
   "outputs": [],
   "source": [
    "# Reading the data from the zip file\n",
    "with zipfile.ZipFile(PATH_TO_DATA, 'r') as zf:\n",
    "    with zf.open('blogposts.txt') as file:\n",
    "        data = file.read().decode('utf-8', errors=\"ignore\")"
   ]
  },
  {
   "cell_type": "code",
   "execution_count": 11,
   "metadata": {},
   "outputs": [
    {
     "data": {
      "text/plain": [
       "'\\r\\n\\r\\n\\t \\r\\n      I recently lost my job. I sort of wanted to lose it actually. Kind of like a relationship that no longer works. Im looking for a job now that doesnt involve much responsibility. too bad the nearest hot topics is at least 2 hours away. I wouldnt have to dress up for the job interview. when no one else is at home I like to play \"setting sun\" by the chemical brothers thru one blown speaker really loud while I perfect my robot dance. it keeps my neighbours on theyre toes. Im convinced one of my neighbours is actually a pirate.he has a beard,swords and exotic birds.he\\'s an eyepatch away from pillaging the neighbourhood. I special ordered my monochrome black chuck taylor hi-tops, for job interviews and work.hard to find vegan work shoes. my new favorite band is The Shins, but Oh Inverted World! era, I didnt like Chutes Too Narrow as much as the critics. its BeachBoys-esque in a an updated indie rock way, Like another favorite band of mine, Dios. I started cutting my own hair again (and dying it heavy Blue-Black). recent purchases: violent femmes-rock!!! best of elvis costello Belly-sun ep PJ Harvey-rid of me romeo and julliet movie soundtrack rock music: a tribute to weezer (I got the dvd and I still need to get the blue album deluxe edition) Ozma-spending time on the Borderline Rufio-EP The Smiths-best of volume 2  next time Im going to write a thesis on the lyrical conten of the Sugarcubes \"lifes too good\" album. Gotta see The new Pixies DVD cant wait for the jandek film to come out on DVD too! (I played dome jandek this morning for my sis and her husband.he compared it to Jim Morrison\\'s poetry albums!)  oh and the pictures. the black-haired young man in the reggie and the full effect t shirt is of course me, and the little girl washing dishes is my niece when she was about 3. I love that pic, you can read into it on so many different levels. a heavily photoshopped version is going to be used in flyers and as a single sleeve. and the pic of me was taken in riverside CA in a motel before the NOFX show and before the Absinthe started to kick in. thats Joe X. seated behind me and an Absinthe bottle by my hand. marta,please send some raNdom pics for me to put on here.\\r\\n     \\r\\n\\r\\n    \\r\\n'"
      ]
     },
     "execution_count": 11,
     "metadata": {},
     "output_type": "execute_result"
    }
   ],
   "source": [
    "# Adjusting the regex to handle potential whitespace and newlines in <post> tags\n",
    "posts = [match.group(1) for match in re.finditer(r\"<post.*?>(.*?)</post>\", data, re.DOTALL)]\n",
    "\n",
    "# Check the first few extracted posts to ensure the regex works now\n",
    "posts[0]"
   ]
  },
  {
   "cell_type": "code",
   "execution_count": 12,
   "metadata": {},
   "outputs": [
    {
     "data": {
      "text/plain": [
       "'I recently lost my job. I sort of wanted to lose it actually. Kind of like a relationship that no longer works. Im looking for a job now that doesnt involve much responsibility. too bad the nearest hot topics is at least 2 hours away. I wouldnt have to dress up for the job interview. when no one else is at home I like to play \"setting sun\" by the chemical brothers thru one blown speaker really loud while I perfect my robot dance. it keeps my neighbours on theyre toes. Im convinced one of my neighbours is actually a pirate.he has a beard,swords and exotic birds.he\\'s an eyepatch away from pillaging the neighbourhood. I special ordered my monochrome black chuck taylor hi-tops, for job interviews and work.hard to find vegan work shoes. my new favorite band is The Shins, but Oh Inverted World! era, I didnt like Chutes Too Narrow as much as the critics. its BeachBoys-esque in a an updated indie rock way, Like another favorite band of mine, Dios. I started cutting my own hair again (and dying it heavy Blue-Black). recent purchases: violent femmes-rock!!! best of elvis costello Belly-sun ep PJ Harvey-rid of me romeo and julliet movie soundtrack rock music: a tribute to weezer (I got the dvd and I still need to get the blue album deluxe edition) Ozma-spending time on the Borderline Rufio-EP The Smiths-best of volume 2 next time Im going to write a thesis on the lyrical conten of the Sugarcubes \"lifes too good\" album. Gotta see The new Pixies DVD cant wait for the jandek film to come out on DVD too! (I played dome jandek this morning for my sis and her husband.he compared it to Jim Morrison\\'s poetry albums!) oh and the pictures. the black-haired young man in the reggie and the full effect t shirt is of course me, and the little girl washing dishes is my niece when she was about 3. I love that pic, you can read into it on so many different levels. a heavily photoshopped version is going to be used in flyers and as a single sleeve. and the pic of me was taken in riverside CA in a motel before the NOFX show and before the Absinthe started to kick in. thats Joe X. seated behind me and an Absinthe bottle by my hand. marta,please send some raNdom pics for me to put on here.'"
      ]
     },
     "execution_count": 12,
     "metadata": {},
     "output_type": "execute_result"
    }
   ],
   "source": [
    "# Preprocessing the extracted posts: removing extra whitespace, newlines, and leading/trailing spaces\n",
    "cleaned_posts = [re.sub(r'\\s+', ' ', post).strip() for post in posts]\n",
    "\n",
    "# Checking the first few cleaned posts to verify preprocessing\n",
    "cleaned_posts[0]"
   ]
  },
  {
   "cell_type": "code",
   "execution_count": 13,
   "metadata": {},
   "outputs": [
    {
     "data": {
      "text/plain": [
       "(8752, 14939)"
      ]
     },
     "execution_count": 13,
     "metadata": {},
     "output_type": "execute_result"
    }
   ],
   "source": [
    "from sklearn.feature_extraction.text import CountVectorizer\n",
    "\n",
    "# your code here\n",
    "\n",
    "# Vectorizing the cleaned posts\n",
    "vectorizer = CountVectorizer(\n",
    "    lowercase=True,\n",
    "    token_pattern=r'\\b\\w+\\b',  # Match words only\n",
    "    min_df=10,  # Appear in at least 10 texts\n",
    "    max_df=0.2  # Appear in at most 20% of texts\n",
    ")\n",
    "\n",
    "# Fitting and transforming the data to a sparse matrix\n",
    "post_X = vectorizer.fit_transform(cleaned_posts)\n",
    "\n",
    "# Output the shape of the resulting sparse matrix\n",
    "post_X.shape"
   ]
  },
  {
   "cell_type": "markdown",
   "metadata": {},
   "source": [
    "Print out the shape of your matrix when you're done. You should end up with a sparse matrix with 8752 rows and about 14911 columns (it is okay if the second number is not exactly the same, but it should be close!):"
   ]
  },
  {
   "cell_type": "code",
   "execution_count": 16,
   "metadata": {},
   "outputs": [
    {
     "name": "stdout",
     "output_type": "stream",
     "text": [
      "Success\n"
     ]
    }
   ],
   "source": [
    "assert post_X.shape[0] == 8752\n",
    "assert 14000 < post_X.shape[1] and post_X.shape[1] < 15000\n",
    "print(\"Success\")"
   ]
  },
  {
   "cell_type": "markdown",
   "metadata": {},
   "source": [
    "### Part 1: Clustering with dimensionality reduced vectors"
   ]
  },
  {
   "cell_type": "markdown",
   "metadata": {},
   "source": [
    "#### 1.1\n",
    "rubric={accuracy:1}\n",
    "\n",
    "L2 normalize the matrix `post_X` from Exercise 1 using [`sklearn.preprocessing.normalize`](https://scikit-learn.org/stable/modules/generated/sklearn.preprocessing.normalize.html). Make sure that you are normalizing w.r.t. to the correct axis. **Hint** there are 8752 blog posts. \n",
    "\n",
    "You should preserve the original count matrix for later, so don't overwrite it. Instead store the normalized matrix as `post_X_norm`."
   ]
  },
  {
   "cell_type": "code",
   "execution_count": 17,
   "metadata": {},
   "outputs": [],
   "source": [
    "from sklearn.preprocessing import normalize\n",
    "\n",
    "# your code here\n",
    "# use  `normalize` using `post_X`; \n",
    "\n",
    "# L2 normalize the matrix along the rows (axis=1)\n",
    "post_X_norm = normalize(post_X, axis=1, norm='l2')"
   ]
  },
  {
   "cell_type": "code",
   "execution_count": 18,
   "metadata": {},
   "outputs": [
    {
     "data": {
      "text/plain": [
       "(8752, 14939)"
      ]
     },
     "execution_count": 18,
     "metadata": {},
     "output_type": "execute_result"
    }
   ],
   "source": [
    "post_X_norm.shape"
   ]
  },
  {
   "cell_type": "markdown",
   "metadata": {},
   "source": [
    "Assertion to check your code:"
   ]
  },
  {
   "cell_type": "code",
   "execution_count": 28,
   "metadata": {},
   "outputs": [
    {
     "data": {
      "text/plain": [
       "<Compressed Sparse Row sparse matrix of dtype 'float64'\n",
       "\twith 146 stored elements and shape (1, 14939)>"
      ]
     },
     "execution_count": 28,
     "metadata": {},
     "output_type": "execute_result"
    }
   ],
   "source": [
    "post_X_norm[0]  # --> sparse matrix "
   ]
  },
  {
   "cell_type": "code",
   "execution_count": 29,
   "metadata": {},
   "outputs": [
    {
     "data": {
      "text/plain": [
       "array([[0., 0., 0., ..., 0., 0., 0.]])"
      ]
     },
     "execution_count": 29,
     "metadata": {},
     "output_type": "execute_result"
    }
   ],
   "source": [
    "# NOTE: a.toarray() or a.A \n",
    "post_X_norm[0].toarray()  # --> array([[0., 0., 0., ..., 0., 0., 0.]])"
   ]
  },
  {
   "cell_type": "code",
   "execution_count": 31,
   "metadata": {},
   "outputs": [
    {
     "data": {
      "text/plain": [
       "np.float64(0.9999999999999999)"
      ]
     },
     "execution_count": 31,
     "metadata": {},
     "output_type": "execute_result"
    }
   ],
   "source": [
    "np.linalg.norm(post_X_norm[0].toarray())  # --> return l2 norm by default"
   ]
  },
  {
   "cell_type": "code",
   "execution_count": 32,
   "metadata": {},
   "outputs": [
    {
     "name": "stdout",
     "output_type": "stream",
     "text": [
      "Success!\n"
     ]
    }
   ],
   "source": [
    "assert np.abs(np.linalg.norm(post_X_norm[0].toarray()) - 1) < 0.0001\n",
    "print(\"Success!\")"
   ]
  },
  {
   "cell_type": "markdown",
   "metadata": {},
   "source": [
    "#### 1.2\n",
    "\n",
    "rubric={accuracy:2,viz:1}\n",
    "\n",
    "Next, use the elbow method to identify a good *k* to cluster your blog data using k-means. With this much data, you will need to use [MiniBatchKMeans](https://scikit-learn.org/stable/modules/generated/sklearn.cluster.MiniBatchKMeans.html#sklearn.cluster.MiniBatchKMeans) instead of regular KMeans for this. You can increase the batch size to get a smoother curve, 500 should work well. You'll want to explore larger values of $k$ than the example in the clustering lecture, though don't go any higher than 100. You can use the code from the clustering lecture, with appropriate modifications.  Note - this can take a bit of time to cluster the data (it took about 2 minutes on my laptop)."
   ]
  },
  {
   "cell_type": "markdown",
   "metadata": {},
   "source": [
    "- `batch_size = 500`\n",
    "- `n_clusters = k` where $2 \\leq k\\leq 50$: `kmeanses = MiniBatchKMeans(n_clusters=k,batch_size=500,random_state=0).` \n",
    "- `inertia_` is defined as the sum of square distances of samples to their nearest neighbor: `kmeanses.inertia_`"
   ]
  },
  {
   "cell_type": "code",
   "execution_count": 36,
   "metadata": {},
   "outputs": [
    {
     "data": {
      "image/png": "[encoded data removed]",
      "text/plain": [
       "<Figure size 1000x600 with 1 Axes>"
      ]
     },
     "metadata": {},
     "output_type": "display_data"
    }
   ],
   "source": [
    "# your code here\n",
    "def plot_inertia(kmeanses, start, end):\n",
    "    '''plot the inertia of the provided set of k-means which should correspond to the range of\n",
    "    k values provided by start and end. No return value'''\n",
    "    ks = range(start, end)\n",
    "    inertias = [kmeans.inertia_ for kmeans in kmeanses]\n",
    "    \n",
    "    plt.figure(figsize=(10, 6))\n",
    "    plt.plot(ks, inertias, marker='o')\n",
    "    plt.xlabel('Number of Clusters (k)', fontsize=14)\n",
    "    plt.ylabel('Inertia', fontsize=14)\n",
    "    plt.title('Elbow Method for Optimal k', fontsize=16)\n",
    "    plt.xticks(fontsize=12)\n",
    "    plt.yticks(fontsize=12)\n",
    "    plt.grid(True)\n",
    "    plt.show()\n",
    "\n",
    "# Define the range for k\n",
    "start = 2\n",
    "end = 50\n",
    "    \n",
    "# List to store MiniBatchKMeans models\n",
    "kmeanses = []\n",
    "for k in range(start, end):\n",
    "    kmeans = MiniBatchKMeans(n_clusters=k, batch_size=500, random_state=0)\n",
    "    kmeans.fit(post_X_norm)\n",
    "    kmeanses.append(kmeans)\n",
    "\n",
    "# Plotting inertia values for the elbow method\n",
    "plot_inertia(kmeanses, start, end)"
   ]
  },
  {
   "cell_type": "markdown",
   "metadata": {},
   "source": [
    "#### 1.3\n",
    "rubric={accuracy:2,quality:1}\n",
    "\n",
    "In this exercise you're going to be comparing different clusterings of the dataset to see if they are consistent, using the [adjusted rand index](https://scikit-learn.org/stable/modules/generated/sklearn.metrics.adjusted_rand_score.html) (ARI).  Note that the ARI is not really comparable across different numbers of clusters, so you'll have to stick to a single $k$ for the rest of this exercise, based on what you saw in 1.2. The ARI will be negative if the proposed clusters are very different, and closer to 1.0 if they are nearly the same.  Depending on your elbow, among other factors, you could get wildly different mean ARIs, but it should be positive, at least - if it isn't, you may want to pick a different value of k.  In the next section, you'll have the opportunity to tune some of the other values.\n",
    "\n",
    "First, you're going to be looking at the consistency of clustering across different random iterations of k-means with the same data and parameters. You should run at least 10 different runs of k-means (again using MiniBatchKMeans), exhaustively calculate the pairwise ARI for the resulting label set, and print out an average. It would be a good idea to use a function here, especially since you'll need to do this again later."
   ]
  },
  {
   "cell_type": "markdown",
   "metadata": {},
   "source": [
    "In order to compare two different clusterings, you should feed in the `labels_` arrays from different clusterings to the `adjusted_rand_score` function.\n",
    "\n",
    "- using a single $k$\n",
    "- `labels_`: `MiniBatchKMeans(n_clusters=k, batch_size=50, max_no_improvement=50,random_state=i).fit(X).labels_`\n",
    "- at least 10 different runs of k-means, exhaustively calculate the *pairwise* ARI for the resulting label set: `adjusted_rand_score(r0,r1), adjusted_rand_score(r0,r2), adjusted_rand_score(r0,r3), ..., adjusted_rand_score(r2,r3), adjusted_rand_score(r2,r4), ..., adjusted_rand_score(r7,r8), ..., adjusted_rand_score(r8,r9)`\n",
    "- print out an average\n",
    "\n",
    "\n",
    "*The Rand index or Rand measure (named after William M. Rand) in statistics is a measure of the similarity between two data clusterings.* (source: https://en.wikipedia.org/wiki/Rand_index)\n",
    "\n",
    "\n",
    "ARI is a symmetric measure: `adjusted_rand_score(a, b) == adjusted_rand_score(b, a)`"
   ]
  },
  {
   "cell_type": "code",
   "execution_count": 39,
   "metadata": {},
   "outputs": [
    {
     "name": "stdout",
     "output_type": "stream",
     "text": [
      "Mean ARI: 0.4960327673380925\n"
     ]
    }
   ],
   "source": [
    "from sklearn.metrics import adjusted_rand_score\n",
    "\n",
    "K = 30 # number of cluster (you can decide the different number)\n",
    "\n",
    "# your code here\n",
    "def get_ari(n, X):\n",
    "\n",
    "    # 1. Perform clustering n times\n",
    "    kmeanses = []\n",
    "    for i in range(n):\n",
    "        kmeans = MiniBatchKMeans(\n",
    "            n_clusters=k, batch_size=50, max_no_improvement=50, random_state=i\n",
    "        ).fit(X)\n",
    "        kmeanses.append(kmeans)\n",
    "\n",
    "    # 2. Compute pairwise ARIs\n",
    "    aris = []\n",
    "    for i in range(n):\n",
    "        for j in range(i + 1, n):\n",
    "            ari = adjusted_rand_score(kmeanses[i].labels_, kmeanses[j].labels_)\n",
    "            aris.append(ari)\n",
    "\n",
    "    # 3. Return mean ARI\n",
    "    return sum(aris) / len(aris)\n",
    "\n",
    "print(\"Mean ARI:\", get_ari(10, post_X_norm)) # 10 = random state; (1..10)"
   ]
  },
  {
   "cell_type": "markdown",
   "metadata": {},
   "source": [
    "#### 1.4 (Optional)\n",
    "rubric={reasoning:1}\n",
    "\n",
    "There are a few hyperparameters for [`MiniBatchKMeans`](https://scikit-learn.org/stable/modules/generated/sklearn.cluster.MiniBatchKMeans.html#sklearn.cluster.MiniBatchKMeans) which will influence clustering performance: e.g. `max_no_improvement`.\n",
    "\n",
    "Test a few of the parameters of the $k$-means (other than $k$), trying to improve the consistency calculations from 1.3 (you should get to `> 0.4`) and discuss any major effects in the markdown box below. Keep the best scoring parameters in your final version; you'll be using them for the result of this exercise."
   ]
  },
  {
   "cell_type": "raw",
   "metadata": {},
   "source": [
    "YOUR ANSWER HERE\n"
   ]
  },
  {
   "cell_type": "markdown",
   "metadata": {},
   "source": [
    "#### 1.5 (Optional)\n",
    "rubric= {reasoning:1}\n",
    "\n",
    "Write a function that gives you lists of posts for a given clustering of the data. Using the parameters you choose above, do a run of k-means, select a cluster of medium size (it shouldn't be the largest or the smallest), print out the list of post ids, and inspect texts from that cluster (at least 5) until you can identify some commonality among posts in the cluster. If you can't make any sense of the cluster, try another one; it might also help to compare the cluster you pick with another. Write your conclusion in the box below, providing some examples of the language from different posts."
   ]
  },
  {
   "cell_type": "code",
   "execution_count": null,
   "metadata": {},
   "outputs": [],
   "source": [
    "### Your code here"
   ]
  },
  {
   "cell_type": "raw",
   "metadata": {},
   "source": [
    "YOUR ANSWER HERE"
   ]
  },
  {
   "cell_type": "markdown",
   "metadata": {},
   "source": [
    "#### 1.6\n",
    "rubric= {accuracy:1}\n",
    "\n",
    "Now use truncated singular value decomposition to lower the dimensionality of the dataset, with k=500. You should use the original data matrix `post_X` here. Store the resulting `np.array` as `post_X_500`."
   ]
  },
  {
   "cell_type": "markdown",
   "metadata": {},
   "source": [
    "`TruncatedSVD` https://scikit-learn.org/stable/modules/generated/sklearn.decomposition.TruncatedSVD.html: `n_components = 500`\n",
    "\n",
    "<!-- Desired dimensionality of output data. Must be strictly less than the number of features. The default value is useful for visualisation. For LSA, a value of 100 is recommended. -->"
   ]
  },
  {
   "cell_type": "code",
   "execution_count": 40,
   "metadata": {},
   "outputs": [
    {
     "data": {
      "text/plain": [
       "(8752, 500)"
      ]
     },
     "execution_count": 40,
     "metadata": {},
     "output_type": "execute_result"
    }
   ],
   "source": [
    "# your code here\n",
    "\n",
    "# Using TruncatedSVD to lower the dimensionality of the dataset\n",
    "svd = TruncatedSVD(n_components=500, random_state=0)\n",
    "\n",
    "# Applying fit_transform on the original data matrix post_X\n",
    "post_X_500 = svd.fit_transform(post_X)\n",
    "\n",
    "# Displaying the shape of the reduced matrix\n",
    "post_X_500.shape"
   ]
  },
  {
   "cell_type": "markdown",
   "metadata": {},
   "source": [
    "#### 1.7\n",
    "rubric= {accuracy:1}\n",
    "\n",
    "Plot the singular values of `post_X_500`, and pick a sensible new dimensionality, n, n < k, based on what you see (using again the elbow method)"
   ]
  },
  {
   "cell_type": "markdown",
   "metadata": {},
   "source": [
    "- plot the singular values (`singular_values_`) where $k=500$\n",
    "- pick a sensible new dimensionality $n$ where  $n < k$\n",
    "\n",
    "**The singular value decomposition (SVD) of an $m \\times n$ matrix $\\mathbf{M}$ is a factorization of the form  ${\\displaystyle \\mathbf {U\\Sigma V^{*}} }$, \n",
    "where the diagonal entries ${\\displaystyle \\sigma _{i}=\\Sigma _{ii}}$ of $\\mathbf{\\Sigma}$ are known as the singular values of $\\mathbf {M}$**"
   ]
  },
  {
   "cell_type": "code",
   "execution_count": 41,
   "metadata": {},
   "outputs": [
    {
     "data": {
      "image/png": "[encoded data removed]",
      "text/plain": [
       "<Figure size 1000x600 with 1 Axes>"
      ]
     },
     "metadata": {},
     "output_type": "display_data"
    }
   ],
   "source": [
    "# your code here\n",
    "\n",
    "# svd.singular_values_\n",
    "def plot_svd(svd):\n",
    "    plt.figure(figsize=(10, 6))\n",
    "    plt.plot(range(len(svd.singular_values_)), svd.singular_values_, '-o')\n",
    "    plt.xlabel('Component Index', fontsize=14)\n",
    "    plt.ylabel('Singular Value', fontsize=14)\n",
    "    plt.title('Singular Values of Post_X (k=500)', fontsize=16)\n",
    "    plt.grid(True)\n",
    "    plt.show()\n",
    "\n",
    "plot_svd(svd)"
   ]
  },
  {
   "cell_type": "markdown",
   "metadata": {},
   "source": [
    "#### 1.8\n",
    "rubric= {accuracy:3,quality:1, efficiency:1}\n",
    "\n",
    "At this point, you have two matrix representations of the data:\n",
    "\n",
    "1. Original BOW representation (`post_X_norm`)\n",
    "2. SVD with k=500 (`post_X_500`)\n",
    "\n",
    "You will now create two more matrix representations of the data:\n",
    "\n",
    "3. SVD with k=n, where $n$ is based on your elbow analysis from 1.7 (this will have $n$ columns)\n",
    "4. SVD version using the columns between $n$ and 500. (this will have 500 - $n$ columns)\n",
    "\n",
    "You can create 3 and 4 just by slicing `post_X_500`; you don't need to run TruncatedSVD again.\n",
    "\n",
    "Then, do the same kind of consistency analysis you did in 1.3, but this time using each of matrices 2, 3, and 4. Again, you are creating 10 clusterings for each, and then exhaustively pairing those 10 with each other and checking their consistency using the adjusted rand score.\n",
    "\n",
    "Your final experiment here will involve testing the clustering label consistency between 1 (the original dataset) and each of the three other matrices. Instead of exhaustively pairing a list of clusterings derived from a single representation (as you did in 1.3 and directly above) to check how consistent the clusterings are, you will be exhaustively pairing two lists of 10 clusterings, one list of clusterings derived using Matrix 1 (i.e. the original representation), and one of clusterings from one of the other three matrices (in 1.3 you were doing comparisons analogous to \"pdist\", whereas here you are doing something analogous to \"cdist\"). \n",
    "\n",
    "This should result in 3 average consistency values, one for each of matrices 2, 3, and 4, which you should take as a measure of how well each representation is able to preserve the information in the original for the purposes of clustering. With the results for 2, 3, and 4 for the internal consistency testing, you should be displaying a total of 6 numbers here, make sure you clearly identify which is which! For full points, use functions, and try to avoid redoing the same clustering again and again."
   ]
  },
  {
   "cell_type": "code",
   "execution_count": 46,
   "metadata": {
    "scrolled": true
   },
   "outputs": [],
   "source": [
    "# your code here\n",
    "\n",
    "def get_pairwise_ari(n, X1, X2):\n",
    "    \n",
    "    # 1. Initialize Lists for Clustering Results\n",
    "    kmeanses1 = []\n",
    "    kmeanses2 = []\n",
    "\n",
    "    # 2. Run MiniBatchKMeans on X1 and X2\n",
    "    for i in range(n):\n",
    "        kmeans1 = MiniBatchKMeans(n_clusters=30, batch_size=50, max_no_improvement=50, random_state=i).fit(X1)\n",
    "        kmeans2 = MiniBatchKMeans(n_clusters=30, batch_size=50, max_no_improvement=50, random_state=i).fit(X2)\n",
    "        kmeanses1.append(kmeans1.labels_)\n",
    "        kmeanses2.append(kmeans2.labels_)\n",
    "\n",
    "    # 3. Compute Pairwise ARIs\n",
    "    aris = []\n",
    "    for i in range(n):\n",
    "        for j in range(i+1, n):\n",
    "            aris.append(adjusted_rand_score(kmeanses1[i], kmeanses2[j]))\n",
    "\n",
    "    # 4. Return the average ARI\n",
    "    return sum(aris)/len(aris)"
   ]
  },
  {
   "cell_type": "code",
   "execution_count": 47,
   "metadata": {},
   "outputs": [
    {
     "name": "stdout",
     "output_type": "stream",
     "text": [
      "Internal consistency:\n",
      "Mean ARI 0-500: 0.3596024353099056\n",
      "Mean ARI 0-50: 0.3889865101892922\n",
      "Mean ARI 50-500: 0.05494705192554139\n",
      "\n",
      "Consistency with original matrix X_norm:\n",
      "Mean pairwise ARI 0-500: 0.3937042505895092\n",
      "Mean pairwise ARI 0-50: 0.03612607689321647\n",
      "Mean pairwise ARI 50-500: 0.0002734238307480625\n",
      "\n"
     ]
    }
   ],
   "source": [
    "# Prepare `post_X_500` using TruncatedSVD\n",
    "svd = TruncatedSVD(n_components=500, random_state=0)\n",
    "post_X_500 = svd.fit_transform(post_X_norm)\n",
    "\n",
    "# Determine `n` based on elbow method\n",
    "n = 50\n",
    "\n",
    "# Prepare `post_X_0_to_50` and `post_X_50_to_500`\n",
    "post_X_0_to_50 = post_X_500[:, :n]\n",
    "post_X_50_to_500 = post_X_500[:, n:500]\n",
    "\n",
    "print(\"Internal consistency:\")\n",
    "print(\"Mean ARI 0-500:\", get_ari(10, post_X_500))\n",
    "print(\"Mean ARI 0-50:\", get_ari(10, post_X_0_to_50))\n",
    "print(\"Mean ARI 50-500:\", get_ari(10, post_X_50_to_500))\n",
    "print()\n",
    "\n",
    "print(\"Consistency with original matrix X_norm:\")\n",
    "print(\"Mean pairwise ARI 0-500:\", get_pairwise_ari(10, post_X_500, post_X_norm))\n",
    "print(\"Mean pairwise ARI 0-50:\", get_pairwise_ari(10, post_X_0_to_50, post_X_norm))\n",
    "print(\"Mean pairwise ARI 50-500:\", get_pairwise_ari(10, post_X_50_to_500, post_X_norm))\n",
    "print()"
   ]
  },
  {
   "cell_type": "markdown",
   "metadata": {},
   "source": [
    "#### 1.9\n",
    "rubric= {reasoning:2}\n",
    "\n",
    "Interpret the relative performance of the three vector representations based on what you understand about SVD. In particular, you should discuss whether your choice of k from 1.7 (using the elbow method) seems to be a good one, in terms of preserving the information contained in the original document representation."
   ]
  },
  {
   "cell_type": "markdown",
   "metadata": {},
   "source": [
    "**Answer:**\n",
    "\n",
    "From the results, we can see that the first 50 principal components (0-50) of SVD can capture the core features of the data well, have high internal consistency (0.39), and achieve a good balance between dimensionality reduction efficiency and information retention. The subsequent principal components (50-500) mainly contain low-variance features or noise, and their consistency and information retention effects are extremely low (0.05 and close to 0). Overall, it is reasonable to choose a dimension of `k=30` based on the elbow rule, which not only effectively reduces the dimension but also retains enough information for clustering, but may lose some consistency with the details of the original matrix."
   ]
  },
  {
   "cell_type": "markdown",
   "metadata": {},
   "source": [
    "### Part 2: Topic modelling\n",
    "\n",
    "\n",
    "#### 2.1\n",
    "rubric={accuracy:1}\n",
    "\n",
    "Using the blog data, build an LDA model with 100 topics. Use online learning, and set the verbosity option to 2 and evaluate_every to 1, so the you can see the process of training and the perplexity after each iteration. Increase the total number of iterations and run again if perplexity has not converged (you can say it has coveraged if there is less than a 5 point drop in perplexity in the final iteration). This will take a while (probably at least half an hour), so work on something else while you wait....  It may also make sense after you get it working to dump the results to a file, so you don't have to run this every time you start up the kernel..."
   ]
  },
  {
   "cell_type": "markdown",
   "metadata": {},
   "source": [
    "Blei, D. M., Ng, A. Y., & Jordan, M. I. (2003). Latent Dirichlet Allocation. *Journal of Machine Learning Research*, 3(4–5), 993–1022.\n",
    "\n",
    "For `post_X`:\n",
    "- `LatentDirichletAllocation`: https://scikit-learn.org/stable/modules/generated/sklearn.decomposition.LatentDirichletAllocation.html\n",
    "- 100 topics `n_components`,\n",
    "- use `\"online\"` as a `learning_method`\n",
    "- `verbosity` option = **0**, otherwise, it prints A LOT. \n",
    "- `evaluate_every` = 1"
   ]
  },
  {
   "cell_type": "code",
   "execution_count": 48,
   "metadata": {},
   "outputs": [
    {
     "data": {
      "text/plain": [
       "np.float64(4668.053048781353)"
      ]
     },
     "execution_count": 48,
     "metadata": {},
     "output_type": "execute_result"
    }
   ],
   "source": [
    "# your code here, takes time to run... (>13min)\n",
    "\n",
    "# Building the LDA model with 100 topics\n",
    "lda = LatentDirichletAllocation(\n",
    "    n_components=100,          # Number of topics\n",
    "    learning_method=\"online\",  # Use online learning\n",
    "    max_iter=50,               # Start with 50 iterations\n",
    "    random_state=0,            # Reproducibility\n",
    "    evaluate_every=1,          # Evaluate perplexity after each iteration\n",
    "    verbose=0\n",
    ")\n",
    "\n",
    "# Fit the LDA model to the original post_X data\n",
    "lda.fit(post_X)\n",
    "\n",
    "# Output perplexity after the final iteration\n",
    "final_perplexity = lda.perplexity(post_X)\n",
    "final_perplexity"
   ]
  },
  {
   "cell_type": "markdown",
   "metadata": {},
   "source": [
    "#### 2.2\n",
    "rubric={accuracy:3}\n",
    "\n",
    "For each topic in the model, print out the topic number (0 to 99), the sum of the corresponding row of components_ (the total psuedo counts for that topic), and the 15 words which have the highest number of psuedocounts (in components_) for that topic, high count word first. **Hint:** the CountVectorizer that you built in Part 0 will be needed here, because you can use it to translate feature index numbers into words. \n",
    "\n",
    "You should exclude topic words which have a psuedocount of less than 5. It's possible that some topics end up with an empty list of words after filtering filter step, but that's okay."
   ]
  },
  {
   "cell_type": "code",
   "execution_count": 50,
   "metadata": {},
   "outputs": [],
   "source": [
    "# Your code here\n",
    "\n",
    "def print_topics(lda_model, vectorizer, top_n=15, min_count=5):\n",
    "    \"\"\"\n",
    "    Print topics from an LDA model with top words and their pseudocounts.\n",
    "\n",
    "    Parameters:\n",
    "    - lda_model: Trained LDA model (LatentDirichletAllocation).\n",
    "    - vectorizer: Fitted CountVectorizer to map indices to words.\n",
    "    - top_n: Number of top words to display for each topic (default=15).\n",
    "    - min_count: Minimum pseudocount to include a word in the topic (default=5).\n",
    "    \"\"\"\n",
    "    feature_names = vectorizer.get_feature_names_out()\n",
    "    for topic_idx, topic in enumerate(lda_model.components_):\n",
    "        # Calculate the total pseudocounts for the topic\n",
    "        topic_sum = topic.sum()\n",
    "\n",
    "        # Filter and sort words based on pseudocounts\n",
    "        filtered_words = [\n",
    "            (feature_names[i], topic[i])\n",
    "            for i in topic.argsort()[::-1]  # Sort by descending pseudocounts\n",
    "            if topic[i] >= min_count\n",
    "        ]\n",
    "\n",
    "        # Extract the top N words\n",
    "        top_words = filtered_words[:top_n]\n",
    "\n",
    "        # Display topic information\n",
    "        print(f\"Topic number: {topic_idx}, {topic_sum}\")\n",
    "        if top_words:\n",
    "            print([word for word, count in top_words])\n",
    "        else:\n",
    "            print(\"[]\")\n",
    "        print()"
   ]
  },
  {
   "cell_type": "code",
   "execution_count": 51,
   "metadata": {
    "scrolled": true
   },
   "outputs": [
    {
     "name": "stdout",
     "output_type": "stream",
     "text": [
      "Topic number: 0, 3244.333642148209\n",
      "['da', 'de', 'angel', 'y', 'que', 'el', 'kate', 'max', 'se', 'un', 'sharon', 'te', 'bald', 'ü', 'har']\n",
      "\n",
      "Topic number: 1, 320555.25304718333\n",
      "['car', 'morning', 'week', 'decided', 'hours', 'finally', 'hour', 'minutes', 'asked', 'wasn', 'weekend', 'bit', 'saw', '10', '30']\n",
      "\n",
      "Topic number: 2, 17762.535713104662\n",
      "['music', 'song', 'band', 'songs', 'cd', 'rock', 'guitar', 'concert', 'play', 'sing', 'album', 'singing', 'listening', 'listen', 'played']\n",
      "\n",
      "Topic number: 3, 6511.197909348428\n",
      "['beach', 'ride', 'trip', 'hotel', 'road', 'river', 'park', 'island', 'tour', 'fireworks', 'miles', 'swimming', 'headed', 'sea', 'beautiful']\n",
      "\n",
      "Topic number: 4, 149.39000000017614\n",
      "[]\n",
      "\n",
      "Topic number: 5, 3636.3156605642985\n",
      "['room', 'living', 'walls', 'bedroom', 'paint', 'wood', 'closet', 'painted', 'yard', 'fridge', 'furniture', 'carpet', 'storage', 'curtains', 'project']\n",
      "\n",
      "Topic number: 6, 1843.7387188342286\n",
      "['player', 'canada', 'canadian', 'russian', 'canadians', 'russia', 'stack', 'chess', 'eddie', 'referee', 'val', 'dope', 'shouts', 'flush', 'conveniently']\n",
      "\n",
      "Topic number: 7, 149.39000000017555\n",
      "[]\n",
      "\n",
      "Topic number: 8, 149.39000000017205\n",
      "[]\n",
      "\n",
      "Topic number: 9, 16175.571435644915\n",
      "['haha', 'lol', 'hehe', 'hahaha', 'nite', 'ppl', 'wit', 'soo', 'ok', 'cuz', 'hmm', 'wen', 'cute', 'bout', 'ive']\n",
      "\n",
      "Topic number: 10, 106740.90017790193\n",
      "['god', 'heart', 'church', 'jesus', 'believe', 'fear', 'lord', 'words', 'others', 'human', 'faith', 'must', 'pain', 'child', 'lives']\n",
      "\n",
      "Topic number: 11, 2780.125324874297\n",
      "['sex', 'girls', 'sexual', 'sexy', 'brittany', 'christine', 'toys', 'chem', 'horny', 'attracted', 'predator', 'freinds', 'engaging', 'sn', 'erica']\n",
      "\n",
      "Topic number: 12, 149.39000000017677\n",
      "[]\n",
      "\n",
      "Topic number: 13, 13816.24454382213\n",
      "['e', 'b', 'c', 'o', 'pm', 'p', 'w', 'r', 'l', 'h', 'f', 'v', 'n', 'k', 'g']\n",
      "\n",
      "Topic number: 14, 24424.09791611095\n",
      "['movie', 'book', 'read', 'story', 'books', 'film', 'reading', 'character', 'harry', 'characters', 'king', 'series', 'writing', 'interesting', 'stories']\n",
      "\n",
      "Topic number: 15, 1126.5884516073227\n",
      "['shake', 'pig', 'sons', 'cage', 'victims', 'farmer', 'aunty', 'myth', 'prisoners', 'thanking', 'oprah', 'mice', 'expectation', 'tainted', 'explicit']\n",
      "\n",
      "Topic number: 16, 51063.35646672304\n",
      "['children', 'state', 'law', 'states', 'government', 'religion', 'society', 'against', 'marriage', 'united', 'human', 'rights', 'power', 'christian', 'culture']\n",
      "\n",
      "Topic number: 17, 23008.648990169306\n",
      "['computer', 'internet', 'use', '0', 'email', 'mail', 'software', 'web', 'windows', 'system', 'microsoft', 'file', 'using', 'e', 'data']\n",
      "\n",
      "Topic number: 18, 77907.0162989226\n",
      "['lol', 'yeah', 'guys', 'cool', 'bored', 'gonna', 'funny', 'girl', 'awesome', 'anyways', 'mom', 'kinda', 'talked', 'movie', 'ok']\n",
      "\n",
      "Topic number: 19, 1468.4451717921252\n",
      "['pay', 'depend', 'loan', 'absent', 'weirdo', 'proposals', 'sow', 'equate', 'negotiating']\n",
      "\n",
      "Topic number: 20, 447.96091806614083\n",
      "['sam', 'coordinator']\n",
      "\n",
      "Topic number: 21, 86133.94493372922\n",
      "['eyes', 'head', 'face', 'water', 'cold', 'inside', 'dream', 'light', 'side', 'hear', 'door', 'rain', 'open', 'run', 'walk']\n",
      "\n",
      "Topic number: 22, 149.39000000018586\n",
      "[]\n",
      "\n",
      "Topic number: 23, 7784.603713185883\n",
      "['chicken', 'milk', 'eat', 'cheese', 'bread', 'cream', 'sugar', 'pizza', 'cup', 'cook', 'oil', 'juice', 'meat', 'add', 'butter']\n",
      "\n",
      "Topic number: 24, 149.3900000001909\n",
      "[]\n",
      "\n",
      "Topic number: 25, 178.5701769382119\n",
      "['dishwasher', 'glenn']\n",
      "\n",
      "Topic number: 26, 149.39000000018382\n",
      "[]\n",
      "\n",
      "Topic number: 27, 149.39000000018342\n",
      "[]\n",
      "\n",
      "Topic number: 28, 302.6439638885669\n",
      "['lance', 'melanie', 'missy', 'armstrong', 'alli']\n",
      "\n",
      "Topic number: 29, 3018.413704324361\n",
      "['hate', 'burn', 'ain', 'burning', 'ooh', 'oooh', 'ooo', 'party', 'used', 'side', 'courtney', 'body', 'bruise', 'might', 'feeling']\n",
      "\n",
      "Topic number: 30, 25673.700169180513\n",
      "['8', '10', '6', '7', '11', '9', '12', '143', '16', '14', '15', '22', '13', '20', '19']\n",
      "\n",
      "Topic number: 31, 5456.378612563189\n",
      "['camp', 'brian', 'dr', 'pregnant', 'meeting', 'dear', 'pregnancy', 'male', 'death', 'anthony', 'cus', 'assistant', 'production', 'babies', 'yu']\n",
      "\n",
      "Topic number: 32, 7218.54610625151\n",
      "['na', 'sa', 'ko', 'ang', 'ng', 'ako', 'pa', 'mo', 'lang', 'si', 'hindi', 'ka', 'mga', 'pero', 'naman']\n",
      "\n",
      "Topic number: 33, 20128.899154253057\n",
      "['yes', 'name', 'hair', 'favorite', 'color', 'number', 'nope', 'blue', 'brown', 'chocolate', 'drink', 'current', 'yeah', 'smoke', 'black']\n",
      "\n",
      "Topic number: 34, 1677.2659465823517\n",
      "['south', 'corn', 'michigan', 'virginia', 'fifteen', 'carolina', 'kansas', 'illinois', 'iowa', 'minnesota', 'indiana', 'georgia', 'ski', 'billion', 'dakota']\n",
      "\n",
      "Topic number: 35, 149.39000000016284\n",
      "[]\n",
      "\n",
      "Topic number: 36, 7394.686687745279\n",
      "['2004', 'james', 'june', '2003', 'august', 'members', 'jake', 'sound', 'base', 'jim', 'ship', 'moon', '2002', 'black', 'event']\n",
      "\n",
      "Topic number: 37, 11973.770753063636\n",
      "['urllink', 'website', 'version', 'download', 'battery', 'os', 'mac', 'laptop', 'apple', 'machine', 'vs', 'brought', 'install', 'mp3', 'fan']\n",
      "\n",
      "Topic number: 38, 2061.594341766781\n",
      "['coffee', 'sox', 'boston', 'starbucks', 'nomar', 'goddamn', 'signal', 'yankees', 'borrowed', 'goth', 'gw', 'mug', 'damon', 'dodgeball', 'vacations']\n",
      "\n",
      "Topic number: 39, 3833.1590595569487\n",
      "['says', 'blah', 'daddy', 'tha', 'jo', 'rick', 'ken', 'stead', 'meds', 'clark', 'shit', 'pagan', 'cunt', 'hiv', 'walks']\n",
      "\n",
      "Topic number: 40, 777.5281496022642\n",
      "['paul', 'hong', 'kong', 'lorz', 'aussie', 'censored', 'underway', 'fancied', 'storming']\n",
      "\n",
      "Topic number: 41, 149.39000000016563\n",
      "[]\n",
      "\n",
      "Topic number: 42, 15322.721011276042\n",
      "['game', 'play', 'team', 'games', 'played', 'playing', 'ball', 'win', 'players', 'won', 'match', 'football', 'season', 'soccer', 'second']\n",
      "\n",
      "Topic number: 43, 479.89073951465207\n",
      "['prince', 'newsletter', 'kayaking', 'skilled', 'edinburgh', 'homo', 'empathy', 'su', 'uneven', 'survivors', 'fireplace', 'edged', 'lash']\n",
      "\n",
      "Topic number: 44, 391540.08987149934\n",
      "['doesn', 'thinking', 'sometimes', 'makes', 'anyone', 'probably', 'happy', 'kind', 'care', 'might', 'girl', 'point', 'live', 'seems', 'fact']\n",
      "\n",
      "Topic number: 45, 4935.668873881275\n",
      "['show', 'tv', 'shows', 'watching', 'sara', 'television', 'series', 'actors', 'emily', 'screen', 'karen', 'tara', 'cast', 'episodes', 'doom']\n",
      "\n",
      "Topic number: 46, 149.39000000016247\n",
      "[]\n",
      "\n",
      "Topic number: 47, 284.1108938431322\n",
      "['priest', 'sobbing', 'priests', 'invaded', 'initiation']\n",
      "\n",
      "Topic number: 48, 149.3900000001818\n",
      "[]\n",
      "\n",
      "Topic number: 49, 171.71315970618116\n",
      "['explanations']\n",
      "\n",
      "Topic number: 50, 42470.219342535886\n",
      "['war', 'bush', 'president', 'country', 'american', 'kerry', 'america', 'news', 'iraq', 'political', 'john', 'vote', 'george', 'moore', 'military']\n",
      "\n",
      "Topic number: 51, 11952.24446582784\n",
      "['dad', 'mom', 'family', 'kids', 'mother', 'father', 'cousin', 'uncle', 'daughter', 'aunt', 'grandma', 'cousins', 'boat', 'lake', 'tht']\n",
      "\n",
      "Topic number: 52, 48587.81672987819\n",
      "['n', 'den', 'dun', 'tt', 'coz', 'mi', 'cos', 'la', 'wif', 'wat', 'abt', 'juz', 'tat', 'u', 'noe']\n",
      "\n",
      "Topic number: 53, 149.39000000017097\n",
      "[]\n",
      "\n",
      "Topic number: 54, 20113.72807450721\n",
      "['u', 'ur', 'cause', 'wanna', 'ya', 'gonna', 'miss', 'n', 'cuz', 'gotta', 'ppl', 'r', 'goin', 'y', 'chorus']\n",
      "\n",
      "Topic number: 55, 11078.755004728431\n",
      "['la', 'bar', 'beer', 'dance', 'dancing', 'drink', 'drinking', 'club', 'party', 'charlie', 'drunk', 'san', 'men', 'ben', 'teh']\n",
      "\n",
      "Topic number: 56, 483.3788709217529\n",
      "['existed', 'mummy', 'samantha', 'newton', 'clique', 'alyssa', 'societies', 'savage']\n",
      "\n",
      "Topic number: 57, 149.3900000001712\n",
      "[]\n",
      "\n",
      "Topic number: 58, 2844.4207637713603\n",
      "['yang', 'aku', 'ni', 'fire', 'mama', 'wo', 'die', 'abuse', 'di', 'medicine', 'nak', 'chi', 'tak', 'jill', 'prophet']\n",
      "\n",
      "Topic number: 59, 379.960623778909\n",
      "['tiger', 'woot', 'cali', 'tri', 'carey', 'dynamite', 'connie', 'desparate']\n",
      "\n",
      "Topic number: 60, 56301.551809079625\n",
      "['class', 'fucking', 'teacher', 'shit', 'fuck', 'ok', 'hell', 'damn', 'bitch', 'mr', 'stupid', 'ass', 'group', 'classes', 'test']\n",
      "\n",
      "Topic number: 61, 149.39000000016944\n",
      "[]\n",
      "\n",
      "Topic number: 62, 149.39000000018194\n",
      "[]\n",
      "\n",
      "Topic number: 63, 1634.5986445812887\n",
      "['green', 'garden', 'italian', 'plant', 'plants', 'tomato', 'tomatoes', 'basil', 'nursery', 'peppers', 'herbs', 'harvest', 'ninth', 'mop', 'gardening']\n",
      "\n",
      "Topic number: 64, 149.39000000017563\n",
      "[]\n",
      "\n",
      "Topic number: 65, 149.39000000017285\n",
      "[]\n",
      "\n",
      "Topic number: 66, 3328.1694468055207\n",
      "['city', 'english', 'chinese', 'country', 'japanese', 'british', 'japan', 'asian', 'korean', 'toronto', 'queen', 'stores', 'korea', 'bookstore', 'store']\n",
      "\n",
      "Topic number: 67, 473.0629421754564\n",
      "['washing', 'xd', 'calculus', 'docs', 'loo', 'manic', 'o_o', 'alarmed', 'jerome']\n",
      "\n",
      "Topic number: 68, 278.0577384527791\n",
      "['ga', 'liner', 'keke', 'outskirts', 'doh']\n",
      "\n",
      "Topic number: 69, 30532.558325747472\n",
      "['bag', 'looked', 'black', 'white', 'red', 'car', 'wearing', 'hair', 'shirt', 'hand', 'shoes', 'boy', 'hands', 'door', 'walked']\n",
      "\n",
      "Topic number: 70, 101217.84618554576\n",
      "['information', 'however', 'working', 'use', 'able', 'order', 'project', 'etc', 'experience', 'college', 'research', 'future', 'number', 'each', 'level']\n",
      "\n",
      "Topic number: 71, 149.39000000018586\n",
      "[]\n",
      "\n",
      "Topic number: 72, 236.8859208476377\n",
      "['kris', 'slit', 'apologizing']\n",
      "\n",
      "Topic number: 73, 16885.19418859067\n",
      "['im', 'dont', 'didnt', 'thats', 'cant', 'yea', 'doesnt', 'ill', 'shes', 'wasnt', 'hes', 'alot', 'havent', 'theres', 'whats']\n",
      "\n",
      "Topic number: 74, 149.39000000016284\n",
      "[]\n",
      "\n",
      "Topic number: 75, 17711.82344076571\n",
      "['women', 'dog', 'baby', 'weight', 'food', 'eat', 'body', 'water', 'men', 'fat', 'woman', 'dogs', 'eating', 'fish', 'doctor']\n",
      "\n",
      "Topic number: 76, 6411.3643158366385\n",
      "['police', 'christmas', 'london', 'round', 'run', 'track', 'cable', 'hat', 'station', 'socks', 'bike', 'black', 'crime', 'pattern', 'officers']\n",
      "\n",
      "Topic number: 77, 3860.035652368774\n",
      "['mary', 'gold', 'bf', 'olympics', 'shell', 'greek', 'grace', 'spider', 'subjects', 'valley', 'greece', 'halo', 'olympic', 'angela', 'jacob']\n",
      "\n",
      "Topic number: 78, 171.84398134146315\n",
      "['brandy']\n",
      "\n",
      "Topic number: 79, 327.83838992665864\n",
      "['corps', 'eugene', 'shaving', 'lotion', 'charley', 'inflatable', 'oily']\n",
      "\n",
      "Topic number: 80, 149.39000000016262\n",
      "[]\n",
      "\n",
      "Topic number: 81, 226.04332339269493\n",
      "['eden', 'dancers', 'workshops']\n",
      "\n",
      "Topic number: 82, 5606.900221673937\n",
      "['art', 'camera', 'photo', 'pictures', 'video', 'photos', 'image', 'digital', 'images', 'creative', 'raw', 'print', 'studio', 'frame', 'pics']\n",
      "\n",
      "Topic number: 83, 4238.557510596486\n",
      "['x', '_', 'fred', 'slow', 'cows', 'er', 'stones', 'lion', 'melody', 'scent', 'warmth', 'triple', 'waves', 'theatre', 'invest']\n",
      "\n",
      "Topic number: 84, 26874.115446548403\n",
      "['money', 'job', 'company', 'business', 'service', 'customer', 'market', 'price', 'phone', '000', 'cost', 'card', 'paid', 'companies', 'sell']\n",
      "\n",
      "Topic number: 85, 149.39000000016955\n",
      "[]\n",
      "\n",
      "Topic number: 86, 250.9868197093545\n",
      "['eu', 'washroom', 'whitney', 'epiphany']\n",
      "\n",
      "Topic number: 87, 149.39000000017205\n",
      "[]\n",
      "\n",
      "Topic number: 88, 387.3686718449052\n",
      "['tank', 'tanks', 'overcoming', 'imperfect', 'lofty', 'refering']\n",
      "\n",
      "Topic number: 89, 1169.9189315592025\n",
      "['virus', 'robot', 'celebrity', 'noah', 'taylor', 'fever', 'thesis', 'theyre', 'chuck', 'infected', 'motel', 'province', 'pj', 'nile', 'mosquitoes']\n",
      "\n",
      "Topic number: 90, 149.39000000018223\n",
      "[]\n",
      "\n",
      "Topic number: 91, 4136.808723585296\n",
      "['tree', 'bridge', 'animals', 'trees', 'zoo', 'forest', 'los', 'susan', 'tower', 'dallas', 'humans', 'wild', 'angeles', 'diana', 'visitors']\n",
      "\n",
      "Topic number: 92, 282.8960272138839\n",
      "['rome', 'elbow', 'sculpture', 'freedoms']\n",
      "\n",
      "Topic number: 93, 1630.140103946474\n",
      "['singapore', 'ho', 'sub', 'jump', 'steak', 'malaysia', 'audition', 'lai', 'customs', 'kl', 'au', 'pas', 'hari', 'sap', 'malaysian']\n",
      "\n",
      "Topic number: 94, 149.39000000018706\n",
      "[]\n",
      "\n",
      "Topic number: 95, 3237.7362429434625\n",
      "['al', 'attack', 'ryan', 'security', 'clinton', 'attacks', 'bin', 'ad', 'terrorist', 'attacked', 'terrorists', 'ads', 'et', 'laden', 'terrorism']\n",
      "\n",
      "Topic number: 96, 176.1881871937792\n",
      "['wrists']\n",
      "\n",
      "Topic number: 97, 12334.034452927634\n",
      "['blog', 'com', 'site', 'www', 'http', 'post', 'read', 'blogs', 'comments', 'blogger', 'name', 'link', 'page', 'write', 'list']\n",
      "\n",
      "Topic number: 98, 149.390000000175\n",
      "[]\n",
      "\n",
      "Topic number: 99, 5478.585012047613\n",
      "['bus', 'students', 'lisa', 'drivers', 'high', 'poetry', 'employees', 'employee', 'tub', 'workers', 'buses', 'phoenix', 'overtime', 'madness', 'eric']\n",
      "\n"
     ]
    }
   ],
   "source": [
    "print_topics(lda, vectorizer)"
   ]
  },
  {
   "cell_type": "markdown",
   "metadata": {},
   "source": [
    "#### 2.3\n",
    "rubric={raw:2}\n",
    "\n",
    "Next, pick an appropriate topic label for those topics from the list you just created that you judge to be a \"good\" topic. Look for topics where you can identify a clear theme in their words (it is okay if there a few words that don't make sense - remember, this is still unsupervised!), and where the sum of psuedocounts is fairly high but not too high (There are always a few \"kitchen sink\" garbage topics). You should create a dictionary which maps from the label to the index: e.g. \n",
    "\n",
    "`topic_dict = {\"animals\":0, \"geography\":1, ...}`"
   ]
  },
  {
   "cell_type": "code",
   "execution_count": 62,
   "metadata": {},
   "outputs": [],
   "source": [
    "# Your code here to make your dict \"manually\"\n",
    "\n",
    "# Manually selected topic labels based on the earlier analysis\n",
    "topic_dict = {\n",
    "    # Social and personal life\n",
    "    \"daily_life\": 1,            # Words about daily activities and time (e.g., 'morning', 'week', 'hour')\n",
    "    \"music\": 2,                 # Words about music and bands (e.g., 'music', 'song', 'band')\n",
    "    \"travel\": 3,                # Words about travel and locations (e.g., 'beach', 'trip', 'hotel')\n",
    "    \"home_and_decor\": 5,        # Words about home and interior design (e.g., 'room', 'walls', 'paint')\n",
    "\n",
    "    # Arts, culture, and media\n",
    "    \"religion_and_beliefs\": 10, # Words about religion and spirituality (e.g., 'god', 'church', 'faith')\n",
    "    \"books_and_movies\": 14,     # Words about literature and films (e.g., 'movie', 'book', 'reading')\n",
    "    \"art_and_photography\": 82,  # Words about creative arts and photography (e.g., 'art', 'camera', 'photos')\n",
    "\n",
    "    # Sports and games\n",
    "    \"sports\": 42,               # Words about sports and games (e.g., 'game', 'team', 'match')\n",
    "\n",
    "    # Food and drinks\n",
    "    \"food\": 23,                 # Words about food and cooking (e.g., 'chicken', 'milk', 'bread')\n",
    "\n",
    "    # Technology and the internet\n",
    "    \"technology\": 17,           # Words about computers and the web (e.g., 'computer', 'internet', 'use')\n",
    "\n",
    "    # Politics and society\n",
    "    \"politics\": 50,             # Words about politics and war (e.g., 'war', 'president', 'america')\n",
    "    \"family_and_relationships\": 51, # Words about family life (e.g., 'dad', 'mom', 'kids')\n",
    "    \"finance\": 84,              # Words about money and business (e.g., 'money', 'job', 'market')\n",
    "\n",
    "    # Education\n",
    "    \"education\": 99,            # Words about education and students (e.g., 'students', 'bus', 'drivers')\n",
    "}"
   ]
  },
  {
   "cell_type": "markdown",
   "metadata": {},
   "source": [
    "#### 2.4\n",
    "rubric={accuracy:3,quality:1}\n",
    "\n",
    "Build a retrieval system which takes a list of topics like `[\"technology\", \"food\"]` (i.e. a query) and displays documents from your corpus which contain the desired set of topics. \n",
    "\n",
    "Your (main) function should take a list of topics, and the number of top-ranked matches you want to see. You should only display texts whose topic proportions are 2 standard deviations above the topic proportion mean, that is, a z-score greater than 2 for all topics in the query. Your function should return the count of all texts which meet this bar in addition to the actual results. \n",
    "\n",
    "The ranking of the displayed documents should be based on the z-score among the topics asked for, i.e. a higher z-score is better. When there are multiple topics in the same query, you should use the *lowest* z-score among the topic z-scores for comparison. E.g. let's say the query contains the topics `[\"technology\", \"food\"]`, and the z-score of `doc1` is 2.1 for `\"tecnhology\"` and 3.5 for `\"food\"`, and the z-score for `doc2` is 2.2 for `\"technology\"` and 2.3 for `\"food\"`. Then, `doc2` should be ranked higher in the results.\n",
    "\n",
    "Print out a few examples that show that your retreival system is working, including at least one case with multiple topics.\n",
    "\n",
    "**Hint:** [scipy.stats.zscore](https://docs.scipy.org/doc/scipy/reference/generated/scipy.stats.zscore.html), note that you should specify the axis or flatten your data into a 1-dimensional array."
   ]
  },
  {
   "cell_type": "code",
   "execution_count": 63,
   "metadata": {},
   "outputs": [],
   "source": [
    "from scipy.stats import zscore\n",
    "# A z-score measures exactly how many standard deviations above or below the mean a data point is.\n",
    "\n",
    "MIN_Z_SCORE = 2\n",
    "\n",
    "# your code here\n",
    "def get_topics(post_X, data, topic_list, n_texts, topic_dict):\n",
    "    \"\"\"\n",
    "    Retrieve documents matching the given topics.\n",
    "\n",
    "    Parameters:\n",
    "    - post_X: Document-topic matrix (output of LDA.transform).\n",
    "    - data: Original document texts (list of strings).\n",
    "    - topic_list: List of topic labels to search for.\n",
    "    - n_texts: Number of top-ranked matches to display.\n",
    "    - topic_dict: Dictionary mapping topic labels to topic indices.\n",
    "\n",
    "    Returns:\n",
    "    - Total count of matching documents.\n",
    "    - List of top `n_texts` matching documents.\n",
    "    \"\"\"\n",
    "    # Get the topic indices for the query\n",
    "    topic_indices = [topic_dict[t] for t in topic_list]\n",
    "\n",
    "    # Transform the document matrix to topic proportions\n",
    "    topic_proportions = lda.transform(post_X)\n",
    "\n",
    "    # Calculate z-scores for each topic\n",
    "    zscores = zscore(topic_proportions, axis=0)\n",
    "\n",
    "    matches = []  # List to store matches (min z-score, document)\n",
    "\n",
    "    for post, doc_zscores in zip(data, zscores):\n",
    "        # Check if all query topics have z-scores >= MIN_Z_SCORE\n",
    "        if all(doc_zscores[topic_idx] >= MIN_Z_SCORE for topic_idx in topic_indices):\n",
    "            # Use the lowest z-score among the query topics for ranking\n",
    "            min_zscore = min(doc_zscores[topic_idx] for topic_idx in topic_indices)\n",
    "            matches.append((min_zscore, post))\n",
    "\n",
    "    # Sort matches by the minimum z-score in descending order\n",
    "    matches.sort(reverse=True, key=lambda x: x[0])\n",
    "\n",
    "    # Return total count and top `n_texts` matches\n",
    "    return len(matches), [match[1] for match in matches[:n_texts]]"
   ]
  },
  {
   "cell_type": "code",
   "execution_count": 64,
   "metadata": {},
   "outputs": [
    {
     "data": {
      "text/plain": [
       "(1,\n",
       " [\"\\r\\n\\r\\n\\t \\r\\n      The loonies in Kulitibank have been trying to pry my PHMNL password from me for weeks since I resigned. I have no idea what PHMNL means but giving access to it is practically like handing over a gun to someone who wants to assassinate me.   Why they want to get it is beyond me. The only thing remotely related to incriminating evidence they will find in my corporate email inbox are my work-related angsts, my pictures and my MP3s. Name one person in Kulitibank who doesn�t have any of the three in his PC and I will gladly write William Hung�s name using my butt.    Operation: Get Password  was carried out by Cruella de Ville, Oilve Oyl's sneaky and manipulative sidekick. Cruella is officially the �Junior IC� (a.k.a.  alalay ) but more often than not, she�s Olive Oyl�s hatchet woman.    Attempt No. 1  (On my cellphone)  Cruella: Heeeey, you know what, I can�t access the files in the laptop you surrendered�  Glenville: Naturally, Cruella. That�s because you don�t have my password.  Cruella: Yah, I know. But I just wanted to delete your files like what I did for Rose when she resigned.  Para clean siya .  Glenville: You can have it reformatted by the IT people. Everything�s gonna be wiped out.  Cruella: But�  Glenville: At this point, I really don�t want to give anyone my password. I am accountable for it and giving it to another employee is tantamount to violating the policy that I am not supposed to let anyone know of my password. (Capiche? Besides, I know who sent you. Go back to kissing Olive Oyl�s ass!)  Cruella: Ok.   Attempt No. 2  (A week later)  Cruella: Hi there! The IT guys can�t crack the PHMNL access. They can�t reformat your laptop either.  Glenville: Really? What if I forgot my password, then the laptop is useless? The IT people have administrator functions. They should be able to access and reformat my laptop even without my password. I guess the IT guys should be working as call center agents� (I am not a techie but I am not a dum-dum either)  Cruella: Oh, ok.   Attempt No. 3  (The truth unravels�)  Cruella calls me up on a Sunday evening warning me of Olive Oyl�s evil intentions  kuno .  Cruella: Hello, I just wanted to warn you.  Glenville: Warn me of what? (That your brain cells are actually working?)  Cruella: No, it�s just that I think Olive Oyl wants to snoop around your files. She told me that she wanted to look for something she can pin you down with.  Glenville: But why? I resigned already. Isn�t she happy?  Cruella: I think she wants to cover her tracks.  Glenville: Because she�s in a hot seat?  Cruella: I guess so. Three new hirees have resigned for the past 6 months, including you. A senior IC asked to be transferred to another department and another semi-senior IC has just resigned to join another bank. I think she can justify the others� moves but not yours. So she�s looking for a justifiable reason for your resignation in your files.  Glenville: Oh, I see. She wants to look for something she can blame me with so that it will look like her hands are totally clean.  Cruella: You should really give me your password so that I can delete your files before Olive Oyl gets to them. I really want to help you. (Warning bells! It�s not really in Cruella�s nature to help)  Glenville: No, thanks. I have nothing to hide anyway. Let Olive Oyl try to access my files. I think I even forgot what my password was already.  Cruella: You sure about that?  Glenville: Yep, thanks anyway.  For the record, all my files have been deleted, purged, emptied. I never told Cruella because I wanted her and Olive Oyl to go nuts trying to find a way to get my password. In the meantime, I am getting gas at holding in my laughter. Loonies.  \\r\\n     \\r\\n    \\r\\n\"])"
      ]
     },
     "execution_count": 64,
     "metadata": {},
     "output_type": "execute_result"
    }
   ],
   "source": [
    "get_topics(post_X, posts, \"food technology\".split(), 3, topic_dict)"
   ]
  },
  {
   "cell_type": "markdown",
   "metadata": {},
   "source": [
    "#### 2.5 (Optional)\n",
    "rubric={accuracy:1}\n",
    "\n",
    "Modify your code above to print out the top 5 ranked words for each topic in the query for each result, and rerun your examples.\n",
    "\n",
    "**Hint:** the CountVectorizer that you built in Part 0 will be needed here, because you can use it to translate feature index numbers into words. "
   ]
  },
  {
   "cell_type": "code",
   "execution_count": null,
   "metadata": {},
   "outputs": [],
   "source": [
    "# your code here\n",
    "\n"
   ]
  },
  {
   "cell_type": "markdown",
   "metadata": {},
   "source": [
    "#### 2.6 (Optional)\n",
    "rubric={reasoning:1}\n",
    "\n",
    "Play around with your topic search engine using a diversity of topic combinations, and print out two results lists that you find which have at least one correct and one incorrect result (incorrect meaning that at least one of the topics cannot be applied properly to the passage). Explain why you think the incorrect results happened, with reference to the limitations of the LDA model or perhaps errors in your topic naming."
   ]
  },
  {
   "cell_type": "code",
   "execution_count": null,
   "metadata": {},
   "outputs": [],
   "source": [
    "topic_dict"
   ]
  },
  {
   "cell_type": "code",
   "execution_count": null,
   "metadata": {},
   "outputs": [],
   "source": [
    "# your code here\n"
   ]
  },
  {
   "cell_type": "raw",
   "metadata": {},
   "source": [
    "YOUR ANSWER HERE\n"
   ]
  },
  {
   "cell_type": "markdown",
   "metadata": {},
   "source": [
    "### Exercise 3: Report\n",
    "rubric={reasoning:3, writing:1}\n",
    "\n",
    "After you have finished your lab, look back, and determine which methods were most successful, and which were not.  Does one method take more time than another?  Does one take more tuning of hyperparameters?  Is it worth the extra time / effort?  Write at least 2 paragraphs describing how these unsupervised methods compare with the supervised methods you've seen in your other classes. Finally, think about how you might be able to incorporate semi-supervised learning into topic-modeling.  It doesn't have to be state-of-the-art - I just want you to think about how you might go about it.\n",
    "\n",
    "Furthermore, as always, report which members of the team were responsible for which sections of the lab.  Did you do team coding, or did you assign certain parts of the lab to each other?  How did you arrive at this decision?  "
   ]
  },
  {
   "cell_type": "markdown",
   "metadata": {},
   "source": [
    "**Answer:**\n",
    "\n",
    "This lab explored topic modeling and cluster analysis of text data through unsupervised learning methods such as K-means and LDA. The K-means method is efficient and suitable for quickly exploring data distribution, but it is sensitive to initial parameters and requires dimensionality reduction to improve the performance of high-dimensional data; although LDA topic modeling takes a long time to train and requires more hyperparameter adjustments, it can generate more semantically interpretable topics and is suitable for text analysis tasks. Compared with supervised methods, unsupervised methods do not require labels but the results are more difficult to verify. They are suitable for exploring unknown patterns or providing inspiration for supervised learning. In the future, the model effect can be further improved by combining semi-supervised learning (such as introducing some known labels), reducing the cost of parameter adjustment and training while improving the accuracy of topic modeling.\n",
    "\n",
    "I (Yi) and Lingsong worked together this lab. Lingsong mainly responsible for the first part while I mainly responsible for the second part. After each one of us finished our own part, we firstly go through our code and logic of solving questions to the each other. This guaranteed each of us fully comprehend the whole lab. After we done each part, we push to our own branch and let the other one to confirm the pull request on github. "
   ]
  }
 ],
 "metadata": {
  "kernelspec": {
   "display_name": "Python 3 (ipykernel)",
   "language": "python",
   "name": "python3"
  },
  "language_info": {
   "codemirror_mode": {
    "name": "ipython",
    "version": 3
   },
   "file_extension": ".py",
   "mimetype": "text/x-python",
   "name": "python",
   "nbconvert_exporter": "python",
   "pygments_lexer": "ipython3",
   "version": "3.12.7"
  }
 },
 "nbformat": 4,
 "nbformat_minor": 4
}